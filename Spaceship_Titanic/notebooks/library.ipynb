{
 "cells": [
  {
   "cell_type": "code",
   "execution_count": 1,
   "id": "9d27dff7-9c7b-49e0-bbaf-cff9f41e628e",
   "metadata": {},
   "outputs": [
    {
     "name": "stdout",
     "output_type": "stream",
     "text": [
      "Collecting lightgbm\n",
      "  Using cached lightgbm-4.5.0-py3-none-win_amd64.whl.metadata (17 kB)\n",
      "Collecting catboost\n",
      "  Downloading catboost-1.2.7-cp312-cp312-win_amd64.whl.metadata (1.2 kB)\n",
      "Collecting xgboost\n",
      "  Using cached xgboost-2.1.2-py3-none-win_amd64.whl.metadata (2.1 kB)\n",
      "Requirement already satisfied: numpy>=1.17.0 in c:\\users\\molsz\\anaconda3\\lib\\site-packages (from lightgbm) (1.26.4)\n",
      "Requirement already satisfied: scipy in c:\\users\\molsz\\anaconda3\\lib\\site-packages (from lightgbm) (1.13.1)\n",
      "Collecting graphviz (from catboost)\n",
      "  Downloading graphviz-0.20.3-py3-none-any.whl.metadata (12 kB)\n",
      "Requirement already satisfied: matplotlib in c:\\users\\molsz\\anaconda3\\lib\\site-packages (from catboost) (3.9.2)\n",
      "Requirement already satisfied: pandas>=0.24 in c:\\users\\molsz\\anaconda3\\lib\\site-packages (from catboost) (2.2.2)\n",
      "Requirement already satisfied: plotly in c:\\users\\molsz\\anaconda3\\lib\\site-packages (from catboost) (5.24.1)\n",
      "Requirement already satisfied: six in c:\\users\\molsz\\anaconda3\\lib\\site-packages (from catboost) (1.16.0)\n",
      "Requirement already satisfied: python-dateutil>=2.8.2 in c:\\users\\molsz\\anaconda3\\lib\\site-packages (from pandas>=0.24->catboost) (2.9.0.post0)\n",
      "Requirement already satisfied: pytz>=2020.1 in c:\\users\\molsz\\anaconda3\\lib\\site-packages (from pandas>=0.24->catboost) (2024.1)\n",
      "Requirement already satisfied: tzdata>=2022.7 in c:\\users\\molsz\\anaconda3\\lib\\site-packages (from pandas>=0.24->catboost) (2023.3)\n",
      "Requirement already satisfied: contourpy>=1.0.1 in c:\\users\\molsz\\anaconda3\\lib\\site-packages (from matplotlib->catboost) (1.2.0)\n",
      "Requirement already satisfied: cycler>=0.10 in c:\\users\\molsz\\anaconda3\\lib\\site-packages (from matplotlib->catboost) (0.11.0)\n",
      "Requirement already satisfied: fonttools>=4.22.0 in c:\\users\\molsz\\anaconda3\\lib\\site-packages (from matplotlib->catboost) (4.51.0)\n",
      "Requirement already satisfied: kiwisolver>=1.3.1 in c:\\users\\molsz\\anaconda3\\lib\\site-packages (from matplotlib->catboost) (1.4.4)\n",
      "Requirement already satisfied: packaging>=20.0 in c:\\users\\molsz\\anaconda3\\lib\\site-packages (from matplotlib->catboost) (24.1)\n",
      "Requirement already satisfied: pillow>=8 in c:\\users\\molsz\\anaconda3\\lib\\site-packages (from matplotlib->catboost) (10.4.0)\n",
      "Requirement already satisfied: pyparsing>=2.3.1 in c:\\users\\molsz\\anaconda3\\lib\\site-packages (from matplotlib->catboost) (3.1.2)\n",
      "Requirement already satisfied: tenacity>=6.2.0 in c:\\users\\molsz\\anaconda3\\lib\\site-packages (from plotly->catboost) (8.2.3)\n",
      "Using cached lightgbm-4.5.0-py3-none-win_amd64.whl (1.4 MB)\n",
      "Downloading catboost-1.2.7-cp312-cp312-win_amd64.whl (101.7 MB)\n",
      "   ---------------------------------------- 0.0/101.7 MB ? eta -:--:--\n",
      "   ---------------------------------------- 0.5/101.7 MB 4.2 MB/s eta 0:00:24\n",
      "   -- ------------------------------------- 7.1/101.7 MB 24.3 MB/s eta 0:00:04\n",
      "   ----- ---------------------------------- 13.9/101.7 MB 31.2 MB/s eta 0:00:03\n",
      "   --------- ------------------------------ 23.1/101.7 MB 32.4 MB/s eta 0:00:03\n",
      "   ----------- ---------------------------- 29.6/101.7 MB 31.8 MB/s eta 0:00:03\n",
      "   -------------- ------------------------- 36.7/101.7 MB 32.9 MB/s eta 0:00:02\n",
      "   -------------- ------------------------- 37.0/101.7 MB 28.6 MB/s eta 0:00:03\n",
      "   --------------- ------------------------ 39.1/101.7 MB 24.8 MB/s eta 0:00:03\n",
      "   ------------------ --------------------- 46.1/101.7 MB 25.8 MB/s eta 0:00:03\n",
      "   --------------------- ------------------ 54.5/101.7 MB 27.1 MB/s eta 0:00:02\n",
      "   ------------------------ --------------- 62.9/101.7 MB 28.2 MB/s eta 0:00:02\n",
      "   ----------------------------- ---------- 73.9/101.7 MB 29.5 MB/s eta 0:00:01\n",
      "   -------------------------------- ------- 83.1/101.7 MB 30.5 MB/s eta 0:00:01\n",
      "   ------------------------------------ --- 91.8/101.7 MB 31.2 MB/s eta 0:00:01\n",
      "   ---------------------------------------  99.6/101.7 MB 31.6 MB/s eta 0:00:01\n",
      "   --------------------------------------  101.7/101.7 MB 31.1 MB/s eta 0:00:01\n",
      "   --------------------------------------  101.7/101.7 MB 31.1 MB/s eta 0:00:01\n",
      "   --------------------------------------  101.7/101.7 MB 31.1 MB/s eta 0:00:01\n",
      "   --------------------------------------- 101.7/101.7 MB 26.3 MB/s eta 0:00:00\n",
      "Using cached xgboost-2.1.2-py3-none-win_amd64.whl (124.9 MB)\n",
      "Downloading graphviz-0.20.3-py3-none-any.whl (47 kB)\n",
      "Installing collected packages: graphviz, xgboost, lightgbm, catboost\n",
      "Successfully installed catboost-1.2.7 graphviz-0.20.3 lightgbm-4.5.0 xgboost-2.1.2\n",
      "Note: you may need to restart the kernel to use updated packages.\n"
     ]
    }
   ],
   "source": [
    "pip install lightgbm catboost xgboost"
   ]
  },
  {
   "cell_type": "code",
   "execution_count": 1,
   "id": "1aa06a7b-98ce-440d-90b9-5b8e4416cd89",
   "metadata": {},
   "outputs": [
    {
     "name": "stdout",
     "output_type": "stream",
     "text": [
      "Collecting catboost\n",
      "  Downloading catboost-1.2.7-cp38-cp38-win_amd64.whl.metadata (1.2 kB)\n",
      "Collecting graphviz (from catboost)\n",
      "  Using cached graphviz-0.20.3-py3-none-any.whl.metadata (12 kB)\n",
      "Requirement already satisfied: matplotlib in c:\\users\\molsz\\anaconda3\\envs\\tf_env\\lib\\site-packages (from catboost) (3.6.2)\n",
      "Requirement already satisfied: numpy<2.0,>=1.16.0 in c:\\users\\molsz\\anaconda3\\envs\\tf_env\\lib\\site-packages (from catboost) (1.22.4)\n",
      "Requirement already satisfied: pandas>=0.24 in c:\\users\\molsz\\anaconda3\\envs\\tf_env\\lib\\site-packages (from catboost) (1.4.4)\n",
      "Requirement already satisfied: scipy in c:\\users\\molsz\\anaconda3\\envs\\tf_env\\lib\\site-packages (from catboost) (1.6.2)\n",
      "Collecting plotly (from catboost)\n",
      "  Downloading plotly-5.24.1-py3-none-any.whl.metadata (7.3 kB)\n",
      "Requirement already satisfied: six in c:\\users\\molsz\\anaconda3\\envs\\tf_env\\lib\\site-packages (from catboost) (1.16.0)\n",
      "Requirement already satisfied: python-dateutil>=2.8.1 in c:\\users\\molsz\\anaconda3\\envs\\tf_env\\lib\\site-packages (from pandas>=0.24->catboost) (2.9.0.post0)\n",
      "Requirement already satisfied: pytz>=2020.1 in c:\\users\\molsz\\anaconda3\\envs\\tf_env\\lib\\site-packages (from pandas>=0.24->catboost) (2024.1)\n",
      "Requirement already satisfied: contourpy>=1.0.1 in c:\\users\\molsz\\anaconda3\\envs\\tf_env\\lib\\site-packages (from matplotlib->catboost) (1.0.5)\n",
      "Requirement already satisfied: cycler>=0.10 in c:\\users\\molsz\\anaconda3\\envs\\tf_env\\lib\\site-packages (from matplotlib->catboost) (0.11.0)\n",
      "Requirement already satisfied: fonttools>=4.22.0 in c:\\users\\molsz\\anaconda3\\envs\\tf_env\\lib\\site-packages (from matplotlib->catboost) (4.51.0)\n",
      "Requirement already satisfied: kiwisolver>=1.0.1 in c:\\users\\molsz\\anaconda3\\envs\\tf_env\\lib\\site-packages (from matplotlib->catboost) (1.4.4)\n",
      "Requirement already satisfied: packaging>=20.0 in c:\\users\\molsz\\anaconda3\\envs\\tf_env\\lib\\site-packages (from matplotlib->catboost) (24.1)\n",
      "Requirement already satisfied: pillow>=6.2.0 in c:\\users\\molsz\\anaconda3\\envs\\tf_env\\lib\\site-packages (from matplotlib->catboost) (10.4.0)\n",
      "Requirement already satisfied: pyparsing>=2.2.1 in c:\\users\\molsz\\anaconda3\\envs\\tf_env\\lib\\site-packages (from matplotlib->catboost) (3.1.2)\n",
      "Collecting tenacity>=6.2.0 (from plotly->catboost)\n",
      "  Downloading tenacity-9.0.0-py3-none-any.whl.metadata (1.2 kB)\n",
      "Downloading catboost-1.2.7-cp38-cp38-win_amd64.whl (101.8 MB)\n",
      "   ---------------------------------------- 0.0/101.8 MB ? eta -:--:--\n",
      "   ---------------------------------------- 0.5/101.8 MB 4.2 MB/s eta 0:00:25\n",
      "   - -------------------------------------- 3.1/101.8 MB 10.8 MB/s eta 0:00:10\n",
      "   -- ------------------------------------- 5.2/101.8 MB 10.0 MB/s eta 0:00:10\n",
      "   -- ------------------------------------- 7.1/101.8 MB 9.7 MB/s eta 0:00:10\n",
      "   --- ------------------------------------ 9.4/101.8 MB 10.0 MB/s eta 0:00:10\n",
      "   ---- ----------------------------------- 10.5/101.8 MB 9.8 MB/s eta 0:00:10\n",
      "   ---- ----------------------------------- 11.3/101.8 MB 8.2 MB/s eta 0:00:12\n",
      "   ------ --------------------------------- 15.7/101.8 MB 9.9 MB/s eta 0:00:09\n",
      "   ------ --------------------------------- 17.0/101.8 MB 9.4 MB/s eta 0:00:10\n",
      "   ------- -------------------------------- 18.9/101.8 MB 9.8 MB/s eta 0:00:09\n",
      "   -------- ------------------------------- 21.0/101.8 MB 9.4 MB/s eta 0:00:09\n",
      "   -------- ------------------------------- 22.0/101.8 MB 9.4 MB/s eta 0:00:09\n",
      "   -------- ------------------------------- 22.0/101.8 MB 9.4 MB/s eta 0:00:09\n",
      "   --------- ------------------------------ 24.1/101.8 MB 8.4 MB/s eta 0:00:10\n",
      "   --------- ------------------------------ 25.2/101.8 MB 8.3 MB/s eta 0:00:10\n",
      "   ---------- ----------------------------- 27.3/101.8 MB 8.3 MB/s eta 0:00:09\n",
      "   ----------- ---------------------------- 30.4/101.8 MB 8.7 MB/s eta 0:00:09\n",
      "   ------------ --------------------------- 32.5/101.8 MB 8.7 MB/s eta 0:00:08\n",
      "   ------------- -------------------------- 34.6/101.8 MB 8.8 MB/s eta 0:00:08\n",
      "   -------------- ------------------------- 36.7/101.8 MB 8.8 MB/s eta 0:00:08\n",
      "   --------------- ------------------------ 38.8/101.8 MB 8.9 MB/s eta 0:00:08\n",
      "   ---------------- ----------------------- 40.9/101.8 MB 8.9 MB/s eta 0:00:07\n",
      "   ---------------- ----------------------- 43.0/101.8 MB 8.9 MB/s eta 0:00:07\n",
      "   ----------------- ---------------------- 44.0/101.8 MB 8.8 MB/s eta 0:00:07\n",
      "   ----------------- ---------------------- 45.1/101.8 MB 8.6 MB/s eta 0:00:07\n",
      "   ------------------ --------------------- 48.2/101.8 MB 8.8 MB/s eta 0:00:07\n",
      "   ------------------- -------------------- 49.3/101.8 MB 8.9 MB/s eta 0:00:06\n",
      "   ------------------- -------------------- 49.3/101.8 MB 8.9 MB/s eta 0:00:06\n",
      "   ------------------- -------------------- 49.3/101.8 MB 8.9 MB/s eta 0:00:06\n",
      "   -------------------- ------------------- 51.4/101.8 MB 8.2 MB/s eta 0:00:07\n",
      "   --------------------- ------------------ 53.5/101.8 MB 8.2 MB/s eta 0:00:06\n",
      "   --------------------- ------------------ 55.6/101.8 MB 8.3 MB/s eta 0:00:06\n",
      "   ---------------------- ----------------- 57.7/101.8 MB 8.3 MB/s eta 0:00:06\n",
      "   ----------------------- ---------------- 59.0/101.8 MB 8.3 MB/s eta 0:00:06\n",
      "   ------------------------ --------------- 61.9/101.8 MB 8.4 MB/s eta 0:00:05\n",
      "   ------------------------- -------------- 64.0/101.8 MB 8.5 MB/s eta 0:00:05\n",
      "   ------------------------- -------------- 65.8/101.8 MB 8.5 MB/s eta 0:00:05\n",
      "   -------------------------- ------------- 67.9/101.8 MB 8.5 MB/s eta 0:00:04\n",
      "   --------------------------- ------------ 69.7/101.8 MB 8.5 MB/s eta 0:00:04\n",
      "   ---------------------------- ----------- 71.8/101.8 MB 8.5 MB/s eta 0:00:04\n",
      "   ----------------------------- ---------- 74.2/101.8 MB 8.6 MB/s eta 0:00:04\n",
      "   ----------------------------- ---------- 74.4/101.8 MB 8.6 MB/s eta 0:00:04\n",
      "   ----------------------------- ---------- 74.7/101.8 MB 8.2 MB/s eta 0:00:04\n",
      "   ----------------------------- ---------- 75.5/101.8 MB 8.2 MB/s eta 0:00:04\n",
      "   ------------------------------ --------- 78.1/101.8 MB 8.2 MB/s eta 0:00:03\n",
      "   ------------------------------- -------- 81.0/101.8 MB 8.3 MB/s eta 0:00:03\n",
      "   -------------------------------- ------- 82.8/101.8 MB 8.3 MB/s eta 0:00:03\n",
      "   --------------------------------- ------ 84.9/101.8 MB 8.4 MB/s eta 0:00:03\n",
      "   --------------------------------- ------ 86.5/101.8 MB 8.3 MB/s eta 0:00:02\n",
      "   ---------------------------------- ----- 88.3/101.8 MB 8.3 MB/s eta 0:00:02\n",
      "   ----------------------------------- ---- 90.2/101.8 MB 8.4 MB/s eta 0:00:02\n",
      "   ------------------------------------ --- 92.3/101.8 MB 8.4 MB/s eta 0:00:02\n",
      "   ------------------------------------- -- 94.4/101.8 MB 8.4 MB/s eta 0:00:01\n",
      "   ------------------------------------- -- 96.5/101.8 MB 8.4 MB/s eta 0:00:01\n",
      "   -------------------------------------- - 98.6/101.8 MB 8.5 MB/s eta 0:00:01\n",
      "   ---------------------------------------  99.6/101.8 MB 8.5 MB/s eta 0:00:01\n",
      "   ---------------------------------------  101.7/101.8 MB 8.4 MB/s eta 0:00:01\n",
      "   ---------------------------------------  101.7/101.8 MB 8.4 MB/s eta 0:00:01\n",
      "   ---------------------------------------  101.7/101.8 MB 8.4 MB/s eta 0:00:01\n",
      "   ---------------------------------------- 101.8/101.8 MB 8.1 MB/s eta 0:00:00\n",
      "Using cached graphviz-0.20.3-py3-none-any.whl (47 kB)\n",
      "Downloading plotly-5.24.1-py3-none-any.whl (19.1 MB)\n",
      "   ---------------------------------------- 0.0/19.1 MB ? eta -:--:--\n",
      "   ---- ----------------------------------- 2.1/19.1 MB 14.7 MB/s eta 0:00:02\n",
      "   ----- ---------------------------------- 2.6/19.1 MB 8.4 MB/s eta 0:00:02\n",
      "   ---------- ----------------------------- 5.0/19.1 MB 8.2 MB/s eta 0:00:02\n",
      "   --------------- ------------------------ 7.3/19.1 MB 8.9 MB/s eta 0:00:02\n",
      "   -------------------- ------------------- 9.7/19.1 MB 9.4 MB/s eta 0:00:01\n",
      "   ------------------------- -------------- 12.1/19.1 MB 9.8 MB/s eta 0:00:01\n",
      "   ------------------------------ --------- 14.7/19.1 MB 10.0 MB/s eta 0:00:01\n",
      "   ---------------------------------- ----- 16.5/19.1 MB 9.9 MB/s eta 0:00:01\n",
      "   ---------------------------------------  18.9/19.1 MB 10.2 MB/s eta 0:00:01\n",
      "   ---------------------------------------- 19.1/19.1 MB 9.7 MB/s eta 0:00:00\n",
      "Downloading tenacity-9.0.0-py3-none-any.whl (28 kB)\n",
      "Installing collected packages: tenacity, graphviz, plotly, catboost\n",
      "Successfully installed catboost-1.2.7 graphviz-0.20.3 plotly-5.24.1 tenacity-9.0.0\n",
      "Note: you may need to restart the kernel to use updated packages.\n"
     ]
    }
   ],
   "source": [
    "pip install catboost"
   ]
  },
  {
   "cell_type": "code",
   "execution_count": 2,
   "id": "63b97794-bfe7-4abf-9bfa-0cdf63f46db9",
   "metadata": {},
   "outputs": [
    {
     "name": "stdout",
     "output_type": "stream",
     "text": [
      "Requirement already satisfied: joblib in c:\\users\\molsz\\anaconda3\\envs\\tf_env\\lib\\site-packages (1.4.2)\n",
      "Note: you may need to restart the kernel to use updated packages.\n"
     ]
    }
   ],
   "source": [
    "pip install joblib"
   ]
  },
  {
   "cell_type": "code",
   "execution_count": 1,
   "id": "44eec509-15e7-462c-ba3d-04f2d2d88591",
   "metadata": {},
   "outputs": [
    {
     "name": "stdout",
     "output_type": "stream",
     "text": [
      "Collecting scikit-plot\n",
      "  Downloading scikit_plot-0.3.7-py3-none-any.whl.metadata (7.1 kB)\n",
      "Requirement already satisfied: matplotlib>=1.4.0 in c:\\users\\molsz\\anaconda3\\envs\\tf_env\\lib\\site-packages (from scikit-plot) (3.6.2)\n",
      "Requirement already satisfied: scikit-learn>=0.18 in c:\\users\\molsz\\anaconda3\\envs\\tf_env\\lib\\site-packages (from scikit-plot) (1.2.1)\n",
      "Requirement already satisfied: scipy>=0.9 in c:\\users\\molsz\\anaconda3\\envs\\tf_env\\lib\\site-packages (from scikit-plot) (1.6.2)\n",
      "Requirement already satisfied: joblib>=0.10 in c:\\users\\molsz\\anaconda3\\envs\\tf_env\\lib\\site-packages (from scikit-plot) (1.4.2)\n",
      "Requirement already satisfied: contourpy>=1.0.1 in c:\\users\\molsz\\anaconda3\\envs\\tf_env\\lib\\site-packages (from matplotlib>=1.4.0->scikit-plot) (1.0.5)\n",
      "Requirement already satisfied: cycler>=0.10 in c:\\users\\molsz\\anaconda3\\envs\\tf_env\\lib\\site-packages (from matplotlib>=1.4.0->scikit-plot) (0.11.0)\n",
      "Requirement already satisfied: fonttools>=4.22.0 in c:\\users\\molsz\\anaconda3\\envs\\tf_env\\lib\\site-packages (from matplotlib>=1.4.0->scikit-plot) (4.51.0)\n",
      "Requirement already satisfied: kiwisolver>=1.0.1 in c:\\users\\molsz\\anaconda3\\envs\\tf_env\\lib\\site-packages (from matplotlib>=1.4.0->scikit-plot) (1.4.4)\n",
      "Requirement already satisfied: numpy>=1.19 in c:\\users\\molsz\\anaconda3\\envs\\tf_env\\lib\\site-packages (from matplotlib>=1.4.0->scikit-plot) (1.22.4)\n",
      "Requirement already satisfied: packaging>=20.0 in c:\\users\\molsz\\anaconda3\\envs\\tf_env\\lib\\site-packages (from matplotlib>=1.4.0->scikit-plot) (24.1)\n",
      "Requirement already satisfied: pillow>=6.2.0 in c:\\users\\molsz\\anaconda3\\envs\\tf_env\\lib\\site-packages (from matplotlib>=1.4.0->scikit-plot) (10.4.0)\n",
      "Requirement already satisfied: pyparsing>=2.2.1 in c:\\users\\molsz\\anaconda3\\envs\\tf_env\\lib\\site-packages (from matplotlib>=1.4.0->scikit-plot) (3.1.2)\n",
      "Requirement already satisfied: python-dateutil>=2.7 in c:\\users\\molsz\\anaconda3\\envs\\tf_env\\lib\\site-packages (from matplotlib>=1.4.0->scikit-plot) (2.9.0.post0)\n",
      "Requirement already satisfied: threadpoolctl>=2.0.0 in c:\\users\\molsz\\anaconda3\\envs\\tf_env\\lib\\site-packages (from scikit-learn>=0.18->scikit-plot) (3.5.0)\n",
      "Requirement already satisfied: six>=1.5 in c:\\users\\molsz\\anaconda3\\envs\\tf_env\\lib\\site-packages (from python-dateutil>=2.7->matplotlib>=1.4.0->scikit-plot) (1.16.0)\n",
      "Downloading scikit_plot-0.3.7-py3-none-any.whl (33 kB)\n",
      "Installing collected packages: scikit-plot\n",
      "Successfully installed scikit-plot-0.3.7\n",
      "Note: you may need to restart the kernel to use updated packages.\n"
     ]
    }
   ],
   "source": [
    "pip install scikit-plot"
   ]
  },
  {
   "cell_type": "code",
   "execution_count": null,
   "id": "b825ffed-1a86-4ec7-a2dd-4df1777c5c88",
   "metadata": {},
   "outputs": [],
   "source": []
  }
 ],
 "metadata": {
  "kernelspec": {
   "display_name": "Python 3 (ipykernel)",
   "language": "python",
   "name": "python3"
  },
  "language_info": {
   "codemirror_mode": {
    "name": "ipython",
    "version": 3
   },
   "file_extension": ".py",
   "mimetype": "text/x-python",
   "name": "python",
   "nbconvert_exporter": "python",
   "pygments_lexer": "ipython3",
   "version": "3.8.20"
  }
 },
 "nbformat": 4,
 "nbformat_minor": 5
}
