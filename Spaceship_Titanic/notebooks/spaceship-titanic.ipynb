{
 "cells": [
  {
   "cell_type": "markdown",
   "id": "92f12cf4-9ae1-4714-a241-f0133996d976",
   "metadata": {},
   "source": [
    "## Spaceship titanic"
   ]
  },
  {
   "cell_type": "markdown",
   "id": "53a14c99-ee55-4374-b8e4-e4228c23a6cd",
   "metadata": {},
   "source": [
    "### Analiza Zadania\n",
    "Zadaniem jest przewidziec czy pasażerowie zostali przetransportowani \n",
    "Mam do czynienia z uczeniem nadzorowanym w którym wykorzystujemy dane wejsciowe z etykietami aby nauczyc model przewiwywac wynik dla nowych danych\n",
    "Zadanie to jest przykładem klasyfikacji binarnej która przewiduje jedna z dwóch klas "
   ]
  },
  {
   "cell_type": "code",
   "execution_count": 1,
   "id": "21f22550-5a87-479f-b27c-e424a7420ec7",
   "metadata": {},
   "outputs": [],
   "source": [
    "import pandas as pd\n",
    "import numpy as np\n",
    "import matplotlib.pyplot as plt\n",
    "import seaborn as sns"
   ]
  },
  {
   "cell_type": "markdown",
   "id": "15205ef5-3866-4b73-b48b-88420eb061d9",
   "metadata": {},
   "source": [
    "### Analiza danych"
   ]
  },
  {
   "cell_type": "code",
   "execution_count": 2,
   "id": "6c5f1d7c-1382-4c16-a594-475dcce64eb5",
   "metadata": {},
   "outputs": [],
   "source": [
    "train = pd.read_csv(\"https://raw.githubusercontent.com/marti0001/M_Olszewski-projects-portfolio/refs/heads/master/Spaceship_Titanic/input/train.csv\")\n",
    "test = pd.read_csv(\"https://raw.githubusercontent.com/marti0001/M_Olszewski-projects-portfolio/refs/heads/master/Spaceship_Titanic/input/test.csv\")\n",
    "sample_submission = pd.read_csv(\"https://raw.githubusercontent.com/marti0001/M_Olszewski-projects-portfolio/refs/heads/master/Spaceship_Titanic/input/sample_submission.csv\")"
   ]
  },
  {
   "cell_type": "code",
   "execution_count": 3,
   "id": "002ef09d-7a76-4a1b-8eee-066c3fe2e082",
   "metadata": {},
   "outputs": [
    {
     "data": {
      "text/html": [
       "<div>\n",
       "<style scoped>\n",
       "    .dataframe tbody tr th:only-of-type {\n",
       "        vertical-align: middle;\n",
       "    }\n",
       "\n",
       "    .dataframe tbody tr th {\n",
       "        vertical-align: top;\n",
       "    }\n",
       "\n",
       "    .dataframe thead th {\n",
       "        text-align: right;\n",
       "    }\n",
       "</style>\n",
       "<table border=\"1\" class=\"dataframe\">\n",
       "  <thead>\n",
       "    <tr style=\"text-align: right;\">\n",
       "      <th></th>\n",
       "      <th>PassengerId</th>\n",
       "      <th>HomePlanet</th>\n",
       "      <th>CryoSleep</th>\n",
       "      <th>Cabin</th>\n",
       "      <th>Destination</th>\n",
       "      <th>Age</th>\n",
       "      <th>VIP</th>\n",
       "      <th>RoomService</th>\n",
       "      <th>FoodCourt</th>\n",
       "      <th>ShoppingMall</th>\n",
       "      <th>Spa</th>\n",
       "      <th>VRDeck</th>\n",
       "      <th>Name</th>\n",
       "      <th>Transported</th>\n",
       "    </tr>\n",
       "  </thead>\n",
       "  <tbody>\n",
       "    <tr>\n",
       "      <th>8630</th>\n",
       "      <td>9205_03</td>\n",
       "      <td>Europa</td>\n",
       "      <td>True</td>\n",
       "      <td>B/300/P</td>\n",
       "      <td>TRAPPIST-1e</td>\n",
       "      <td>52.0</td>\n",
       "      <td>NaN</td>\n",
       "      <td>0.0</td>\n",
       "      <td>0.0</td>\n",
       "      <td>0.0</td>\n",
       "      <td>0.0</td>\n",
       "      <td>0.0</td>\n",
       "      <td>Propent Brakeng</td>\n",
       "      <td>True</td>\n",
       "    </tr>\n",
       "  </tbody>\n",
       "</table>\n",
       "</div>"
      ],
      "text/plain": [
       "     PassengerId HomePlanet CryoSleep    Cabin  Destination   Age  VIP  \\\n",
       "8630     9205_03     Europa      True  B/300/P  TRAPPIST-1e  52.0  NaN   \n",
       "\n",
       "      RoomService  FoodCourt  ShoppingMall  Spa  VRDeck             Name  \\\n",
       "8630          0.0        0.0           0.0  0.0     0.0  Propent Brakeng   \n",
       "\n",
       "      Transported  \n",
       "8630         True  "
      ]
     },
     "execution_count": 3,
     "metadata": {},
     "output_type": "execute_result"
    }
   ],
   "source": [
    "train.sample(1)"
   ]
  },
  {
   "cell_type": "code",
   "execution_count": 4,
   "id": "b4f16917-81b7-4f08-bd7d-bb53586a98b8",
   "metadata": {},
   "outputs": [
    {
     "data": {
      "text/plain": [
       "(8693, 14)"
      ]
     },
     "execution_count": 4,
     "metadata": {},
     "output_type": "execute_result"
    }
   ],
   "source": [
    "train.shape"
   ]
  },
  {
   "cell_type": "code",
   "execution_count": 5,
   "id": "9feb8f48-0c57-4726-ba82-ef49e7592b47",
   "metadata": {},
   "outputs": [
    {
     "name": "stdout",
     "output_type": "stream",
     "text": [
      "<class 'pandas.core.frame.DataFrame'>\n",
      "RangeIndex: 8693 entries, 0 to 8692\n",
      "Data columns (total 14 columns):\n",
      " #   Column        Non-Null Count  Dtype  \n",
      "---  ------        --------------  -----  \n",
      " 0   PassengerId   8693 non-null   object \n",
      " 1   HomePlanet    8492 non-null   object \n",
      " 2   CryoSleep     8476 non-null   object \n",
      " 3   Cabin         8494 non-null   object \n",
      " 4   Destination   8511 non-null   object \n",
      " 5   Age           8514 non-null   float64\n",
      " 6   VIP           8490 non-null   object \n",
      " 7   RoomService   8512 non-null   float64\n",
      " 8   FoodCourt     8510 non-null   float64\n",
      " 9   ShoppingMall  8485 non-null   float64\n",
      " 10  Spa           8510 non-null   float64\n",
      " 11  VRDeck        8505 non-null   float64\n",
      " 12  Name          8493 non-null   object \n",
      " 13  Transported   8693 non-null   bool   \n",
      "dtypes: bool(1), float64(6), object(7)\n",
      "memory usage: 891.5+ KB\n"
     ]
    }
   ],
   "source": [
    "train.info()"
   ]
  },
  {
   "cell_type": "code",
   "execution_count": 6,
   "id": "a896ad5a-0858-4e89-a3dd-37975c4186e9",
   "metadata": {},
   "outputs": [
    {
     "data": {
      "text/html": [
       "<div>\n",
       "<style scoped>\n",
       "    .dataframe tbody tr th:only-of-type {\n",
       "        vertical-align: middle;\n",
       "    }\n",
       "\n",
       "    .dataframe tbody tr th {\n",
       "        vertical-align: top;\n",
       "    }\n",
       "\n",
       "    .dataframe thead th {\n",
       "        text-align: right;\n",
       "    }\n",
       "</style>\n",
       "<table border=\"1\" class=\"dataframe\">\n",
       "  <thead>\n",
       "    <tr style=\"text-align: right;\">\n",
       "      <th></th>\n",
       "      <th>Age</th>\n",
       "      <th>RoomService</th>\n",
       "      <th>FoodCourt</th>\n",
       "      <th>ShoppingMall</th>\n",
       "      <th>Spa</th>\n",
       "      <th>VRDeck</th>\n",
       "    </tr>\n",
       "  </thead>\n",
       "  <tbody>\n",
       "    <tr>\n",
       "      <th>count</th>\n",
       "      <td>8514.000000</td>\n",
       "      <td>8512.000000</td>\n",
       "      <td>8510.000000</td>\n",
       "      <td>8485.000000</td>\n",
       "      <td>8510.000000</td>\n",
       "      <td>8505.000000</td>\n",
       "    </tr>\n",
       "    <tr>\n",
       "      <th>mean</th>\n",
       "      <td>28.827930</td>\n",
       "      <td>224.687617</td>\n",
       "      <td>458.077203</td>\n",
       "      <td>173.729169</td>\n",
       "      <td>311.138778</td>\n",
       "      <td>304.854791</td>\n",
       "    </tr>\n",
       "    <tr>\n",
       "      <th>std</th>\n",
       "      <td>14.489021</td>\n",
       "      <td>666.717663</td>\n",
       "      <td>1611.489240</td>\n",
       "      <td>604.696458</td>\n",
       "      <td>1136.705535</td>\n",
       "      <td>1145.717189</td>\n",
       "    </tr>\n",
       "    <tr>\n",
       "      <th>min</th>\n",
       "      <td>0.000000</td>\n",
       "      <td>0.000000</td>\n",
       "      <td>0.000000</td>\n",
       "      <td>0.000000</td>\n",
       "      <td>0.000000</td>\n",
       "      <td>0.000000</td>\n",
       "    </tr>\n",
       "    <tr>\n",
       "      <th>25%</th>\n",
       "      <td>19.000000</td>\n",
       "      <td>0.000000</td>\n",
       "      <td>0.000000</td>\n",
       "      <td>0.000000</td>\n",
       "      <td>0.000000</td>\n",
       "      <td>0.000000</td>\n",
       "    </tr>\n",
       "    <tr>\n",
       "      <th>50%</th>\n",
       "      <td>27.000000</td>\n",
       "      <td>0.000000</td>\n",
       "      <td>0.000000</td>\n",
       "      <td>0.000000</td>\n",
       "      <td>0.000000</td>\n",
       "      <td>0.000000</td>\n",
       "    </tr>\n",
       "    <tr>\n",
       "      <th>75%</th>\n",
       "      <td>38.000000</td>\n",
       "      <td>47.000000</td>\n",
       "      <td>76.000000</td>\n",
       "      <td>27.000000</td>\n",
       "      <td>59.000000</td>\n",
       "      <td>46.000000</td>\n",
       "    </tr>\n",
       "    <tr>\n",
       "      <th>max</th>\n",
       "      <td>79.000000</td>\n",
       "      <td>14327.000000</td>\n",
       "      <td>29813.000000</td>\n",
       "      <td>23492.000000</td>\n",
       "      <td>22408.000000</td>\n",
       "      <td>24133.000000</td>\n",
       "    </tr>\n",
       "  </tbody>\n",
       "</table>\n",
       "</div>"
      ],
      "text/plain": [
       "               Age   RoomService     FoodCourt  ShoppingMall           Spa  \\\n",
       "count  8514.000000   8512.000000   8510.000000   8485.000000   8510.000000   \n",
       "mean     28.827930    224.687617    458.077203    173.729169    311.138778   \n",
       "std      14.489021    666.717663   1611.489240    604.696458   1136.705535   \n",
       "min       0.000000      0.000000      0.000000      0.000000      0.000000   \n",
       "25%      19.000000      0.000000      0.000000      0.000000      0.000000   \n",
       "50%      27.000000      0.000000      0.000000      0.000000      0.000000   \n",
       "75%      38.000000     47.000000     76.000000     27.000000     59.000000   \n",
       "max      79.000000  14327.000000  29813.000000  23492.000000  22408.000000   \n",
       "\n",
       "             VRDeck  \n",
       "count   8505.000000  \n",
       "mean     304.854791  \n",
       "std     1145.717189  \n",
       "min        0.000000  \n",
       "25%        0.000000  \n",
       "50%        0.000000  \n",
       "75%       46.000000  \n",
       "max    24133.000000  "
      ]
     },
     "execution_count": 6,
     "metadata": {},
     "output_type": "execute_result"
    }
   ],
   "source": [
    "train.describe()"
   ]
  },
  {
   "cell_type": "code",
   "execution_count": 7,
   "id": "88998cdd-a8a8-4558-8d6d-4909c2ff3dac",
   "metadata": {},
   "outputs": [
    {
     "data": {
      "text/plain": [
       "PassengerId       0\n",
       "HomePlanet      201\n",
       "CryoSleep       217\n",
       "Cabin           199\n",
       "Destination     182\n",
       "Age             179\n",
       "VIP             203\n",
       "RoomService     181\n",
       "FoodCourt       183\n",
       "ShoppingMall    208\n",
       "Spa             183\n",
       "VRDeck          188\n",
       "Name            200\n",
       "Transported       0\n",
       "dtype: int64"
      ]
     },
     "execution_count": 7,
     "metadata": {},
     "output_type": "execute_result"
    }
   ],
   "source": [
    "train.isnull().sum()"
   ]
  },
  {
   "cell_type": "markdown",
   "id": "d72b9e5d-76f5-4f26-86fa-90a98ab106d4",
   "metadata": {},
   "source": [
    "### Wnioski z analizy\n",
    "Dane zawierają 14 kolumn i 8693 wierszy\n",
    "Dane sa zróznicowane z pod kątem typów:\n",
    "- 7 kolumn zawiera ty tanych 'object' który moze zawierac dowolna wartosc, pop przejrzeniu przykłądowych danych sa to napisy\n",
    "- 6 cech to watosci zmienno przecinkowe\n",
    "- 1 cecha to wartosc boolowska (true/false)\n",
    "\n",
    "Duzo wartosc jest pustych \n",
    "\n",
    "Wartoscii kategoryczne znajduja sie w kolumnach:\n",
    "- HomePlanet (Earth,Europa,Mars)\n",
    "- CryoSleep znajduje sie True/False\n",
    "- Destination (TRAPPIST-1e, 55 Cancri e, PSO J318.5-22)\n",
    "- VIP  znajduje sie True/Flase)\n",
    "\n",
    "Cecha PassengerId to unikalny identyfikator każdego pasażera. Każdy identyfikator ma formę gggg_pp, gdzie gggg oznacza grupę, z którą podróżuje pasażer, a pp to jego numer w grupie. Osoby w grupie są często członkami rodziny, ale nie zawsze."
   ]
  },
  {
   "cell_type": "markdown",
   "id": "6f75964d-3086-466e-b05a-63d221c21481",
   "metadata": {},
   "source": [
    "### Wizualizacja danych"
   ]
  },
  {
   "cell_type": "code",
   "execution_count": 8,
   "id": "166620a2-5e3f-45f5-984f-a8abc500922e",
   "metadata": {},
   "outputs": [
    {
     "data": {
      "image/png": "[encoded data removed]",
      "text/plain": [
       "<Figure size 1200x800 with 6 Axes>"
      ]
     },
     "metadata": {},
     "output_type": "display_data"
    }
   ],
   "source": [
    "train.hist(bins = 50, figsize = (12,8))\n",
    "plt.show()"
   ]
  },
  {
   "cell_type": "code",
   "execution_count": 9,
   "id": "d6ad7264-8448-46c2-a3d0-c0ba8ab6d63f",
   "metadata": {},
   "outputs": [
    {
     "data": {
      "image/png": "[encoded data removed]",
      "text/plain": [
       "<Figure size 640x480 with 1 Axes>"
      ]
     },
     "metadata": {},
     "output_type": "display_data"
    }
   ],
   "source": [
    "sns.histplot(train['Age'].dropna(), bins=30)\n",
    "plt.title('Rozkład wieku pasażerów')\n",
    "plt.show()"
   ]
  },
  {
   "cell_type": "code",
   "execution_count": 10,
   "id": "298d7bae-8c0c-48de-9919-0153ad3c4e9c",
   "metadata": {},
   "outputs": [
    {
     "data": {
      "image/png": "[encoded data removed]",
      "text/plain": [
       "<Figure size 640x480 with 1 Axes>"
      ]
     },
     "metadata": {},
     "output_type": "display_data"
    }
   ],
   "source": [
    "sns.countplot(x='HomePlanet', hue='Transported', data=train)\n",
    "plt.title('Przetransportowanie w zależności od Planety')\n",
    "plt.show()"
   ]
  },
  {
   "cell_type": "code",
   "execution_count": 11,
   "id": "f6859c43-a507-4f5c-a946-2c8b7077c043",
   "metadata": {},
   "outputs": [
    {
     "data": {
      "image/png": "[encoded data removed]",
      "text/plain": [
       "<Figure size 640x480 with 1 Axes>"
      ]
     },
     "metadata": {},
     "output_type": "display_data"
    }
   ],
   "source": [
    "sns.countplot(x='HomePlanet', hue='Age', data=train)\n",
    "plt.title('Przetransportowanie w zależności od Planety')\n",
    "plt.show()"
   ]
  },
  {
   "cell_type": "code",
   "execution_count": 12,
   "id": "d5376439-9fa9-4881-b391-ccd62c038ab4",
   "metadata": {},
   "outputs": [
    {
     "data": {
      "image/png": "[encoded data removed]",
      "text/plain": [
       "<Figure size 640x480 with 1 Axes>"
      ]
     },
     "metadata": {},
     "output_type": "display_data"
    }
   ],
   "source": [
    "sns.countplot(x='Destination', hue='Transported', data=train)\n",
    "plt.title('Przetransportowanie w zależności od Planety')\n",
    "plt.show()"
   ]
  },
  {
   "cell_type": "markdown",
   "id": "6158d122-1dd4-4a39-975c-999b40948fc8",
   "metadata": {},
   "source": [
    "### Wnioski z Wizualizacji"
   ]
  },
  {
   "cell_type": "markdown",
   "id": "66cb75ae-4f2d-45be-afbd-93995292f3f1",
   "metadata": {},
   "source": [
    "### Zamiana danych kategorycznych na numeryczne i wypełnienie danych\n",
    "\n",
    "Dane które bedzmiemy kowertowac musza byc zmienione dla dataset train i test\n",
    "\n",
    "Moim plane jest:\n",
    "- Ceche PassengerId nie trzeba uzupełniac ale rozdzile ja bo sa w niej zawarte grupy\n",
    "- Ceche CryoSleep - wypełnic puste waartosci danymi z udogodnien na statki poniewa jezeli ktos spi to nie moze wydawac pieniedzy na statku\n",
    "- Ceche Cabin - rozbije na poszczegolne sektory poniewaz zawartosc to prawdopodobnie pokład/numer kabiny/strona statku(prawa/lewa burta) i wypełnie modą\n",
    "- Ceche Destination - wypełnie je używajac grup,moim założeniem jest ze pasażerowie z tej samej grupy maja ten sam cel podrózy, a jezeli nie napewno znajduja sie na tym samym pokładzie \n",
    "- Ceche Age - wypełnie moda\n",
    "- Ceche VIP - wypełnie wartośćia False\n",
    "- Ceche RoomService - wypełnie 0\n",
    "- Ceche FoodCourt - wypełnie 0\n",
    "- Ceche ShoppingMall - wypełnie 0\n",
    "- Ceche Spa - wypełnie 0\n",
    "- Ceche VRDeck - wypełnie 0\n",
    "- Ceche Name - usune poniewaz nie beda przydatne  \n",
    "- Ceche Transported - jest to target"
   ]
  },
  {
   "cell_type": "code",
   "execution_count": 13,
   "id": "1e098434-9b26-446a-a585-10f939a96b09",
   "metadata": {},
   "outputs": [
    {
     "data": {
      "text/plain": [
       "PassengerId       0\n",
       "HomePlanet      201\n",
       "CryoSleep       217\n",
       "Cabin           199\n",
       "Destination     182\n",
       "Age             179\n",
       "VIP             203\n",
       "RoomService     181\n",
       "FoodCourt       183\n",
       "ShoppingMall    208\n",
       "Spa             183\n",
       "VRDeck          188\n",
       "Name            200\n",
       "Transported       0\n",
       "dtype: int64"
      ]
     },
     "execution_count": 13,
     "metadata": {},
     "output_type": "execute_result"
    }
   ],
   "source": [
    "train.isnull().sum()\n"
   ]
  },
  {
   "cell_type": "code",
   "execution_count": 14,
   "id": "eb23efe7",
   "metadata": {},
   "outputs": [],
   "source": [
    "train['GroupID']= train['PassengerId'].map(lambda x: x.split('_')[0]).astype(int)\n",
    "test['GroupID']= test['PassengerId'].map(lambda x: x.split('_')[0]).astype(int)\n"
   ]
  },
  {
   "cell_type": "code",
   "execution_count": 15,
   "id": "598e58a8-88aa-4c75-ac48-025716d27df3",
   "metadata": {},
   "outputs": [],
   "source": [
    "train['GroupSize'] = train.groupby('GroupID')['PassengerId'].transform('count')\n",
    "test['GroupSize'] = test.groupby('GroupID')['PassengerId'].transform('count')\n"
   ]
  },
  {
   "cell_type": "code",
   "execution_count": 16,
   "id": "234d948a-1609-4a80-ab5a-1de011a91746",
   "metadata": {},
   "outputs": [],
   "source": [
    "def sleep(row):\n",
    "    if row['RoomService'] > 0 : return False\n",
    "    if row['FoodCourt'] > 0 : return False\n",
    "    if row['ShoppingMall'] > 0 : return False\n",
    "    if row['Spa'] > 0 : return False\n",
    "    if row['VRDeck'] > 0 : return False\n",
    "    return True\n",
    "\n",
    "train.loc[train['CryoSleep'].isnull(),'CryoSleep'] = train.apply(sleep, axis = 1)\n",
    "test.loc[test['CryoSleep'].isnull(),'CryoSleep'] = test.apply(sleep, axis = 1)\n"
   ]
  },
  {
   "cell_type": "code",
   "execution_count": 17,
   "id": "d4f28a15-2e21-4264-92f3-6b65cf82e207",
   "metadata": {},
   "outputs": [],
   "source": [
    "train['cabin_first_label'] = train[\"Cabin\"].map(lambda x: x.split(\"/\")[0] if isinstance(x, str) and len(x.split(\"/\")) > 0 else None)\n",
    "train['cabin_secound_label'] = train[\"Cabin\"].map(lambda x: x.split(\"/\")[1] if isinstance(x, str) and len(x.split(\"/\")) > 1 else None)\n",
    "train['cabin_third_label'] = train[\"Cabin\"].map(lambda x: x.split(\"/\")[2] if isinstance(x, str) and len(x.split(\"/\")) > 1 else None)\n"
   ]
  },
  {
   "cell_type": "code",
   "execution_count": 25,
   "id": "61047a18",
   "metadata": {},
   "outputs": [
    {
     "name": "stdout",
     "output_type": "stream",
     "text": [
      "Pozostałe brakujące wartości w 'FilledDestination': 2\n"
     ]
    }
   ],
   "source": [
    "# Grupujemy wartosci z Destination według GroupID, \n",
    "most_common_destination = train.groupby(\"GroupID\")[\"Destination\"].agg(lambda x: x.mode().iloc[0] if not x.mode().empty else None)\n",
    "\n",
    "# Wypełnienie brakujących wartości 'Destination' na podstawie 'GroupID'\n",
    "train['FilledDestination'] = train.apply(\n",
    "    lambda row: most_common_destination[row['GroupID']] if pd.isna(row['Destination']) else row['Destination'],\n",
    "    axis=1\n",
    ")\n",
    "\n",
    "# Krok 2: Wypełnienie na podstawie najczęstszej destynacji dla 'cabin_first_label', jeśli nadal są braki\n",
    "most_common_by_deck = train.groupby('cabin_first_label')['FilledDestination'].apply(lambda x: x.mode().iloc[0] if not x.mode().empty else None)\n",
    "\n",
    "# Uzupełnianie pozostałych braków na podstawie 'cabin_first_label'\n",
    "train['FilledDestination'] = train.apply(\n",
    "    lambda row: most_common_by_deck[row['cabin_first_label']] \n",
    "    if pd.isna(row['FilledDestination']) and row['cabin_first_label'] in most_common_by_deck \n",
    "    else row['FilledDestination'],\n",
    "    axis=1\n",
    ")\n",
    "\n",
    "# Wyświetlenie liczby pozostałych brakujących wartości\n",
    "print(\"Pozostałe brakujące wartości w 'FilledDestination':\", train['FilledDestination'].isna().sum())\n"
   ]
  },
  {
   "cell_type": "code",
   "execution_count": 33,
   "id": "e60ef707-72fd-4142-b7e8-4efb4a2cc572",
   "metadata": {},
   "outputs": [
    {
     "data": {
      "text/plain": [
       "GroupID\n",
       "1                             TRAPPIST-1e\n",
       "2                             TRAPPIST-1e\n",
       "3                  TRAPPIST-1eTRAPPIST-1e\n",
       "4                             TRAPPIST-1e\n",
       "5                           PSO J318.5-22\n",
       "                      ...                \n",
       "9275    TRAPPIST-1eTRAPPIST-1eTRAPPIST-1e\n",
       "9276                          55 Cancri e\n",
       "9278                        PSO J318.5-22\n",
       "9279                          TRAPPIST-1e\n",
       "9280               55 Cancri eTRAPPIST-1e\n",
       "Name: Destination, Length: 6217, dtype: object"
      ]
     },
     "execution_count": 33,
     "metadata": {},
     "output_type": "execute_result"
    }
   ],
   "source": [
    "train.groupby(\"GroupID\")[\"Destination\"].sum()"
   ]
  },
  {
   "cell_type": "code",
   "execution_count": 26,
   "id": "d561d157-f3c3-4860-a2a4-0b322c52002a",
   "metadata": {},
   "outputs": [
    {
     "data": {
      "text/html": [
       "<div>\n",
       "<style scoped>\n",
       "    .dataframe tbody tr th:only-of-type {\n",
       "        vertical-align: middle;\n",
       "    }\n",
       "\n",
       "    .dataframe tbody tr th {\n",
       "        vertical-align: top;\n",
       "    }\n",
       "\n",
       "    .dataframe thead th {\n",
       "        text-align: right;\n",
       "    }\n",
       "</style>\n",
       "<table border=\"1\" class=\"dataframe\">\n",
       "  <thead>\n",
       "    <tr style=\"text-align: right;\">\n",
       "      <th></th>\n",
       "      <th>PassengerId</th>\n",
       "      <th>HomePlanet</th>\n",
       "      <th>CryoSleep</th>\n",
       "      <th>Cabin</th>\n",
       "      <th>Destination</th>\n",
       "      <th>Age</th>\n",
       "      <th>VIP</th>\n",
       "      <th>RoomService</th>\n",
       "      <th>FoodCourt</th>\n",
       "      <th>ShoppingMall</th>\n",
       "      <th>Spa</th>\n",
       "      <th>VRDeck</th>\n",
       "      <th>Name</th>\n",
       "      <th>Transported</th>\n",
       "      <th>GroupID</th>\n",
       "      <th>GroupSize</th>\n",
       "      <th>cabin_first_label</th>\n",
       "      <th>cabin_secound_label</th>\n",
       "      <th>cabin_third_label</th>\n",
       "      <th>FilledDestination</th>\n",
       "    </tr>\n",
       "  </thead>\n",
       "  <tbody>\n",
       "    <tr>\n",
       "      <th>5710</th>\n",
       "      <td>6048_01</td>\n",
       "      <td>Mars</td>\n",
       "      <td>True</td>\n",
       "      <td>NaN</td>\n",
       "      <td>NaN</td>\n",
       "      <td>25.0</td>\n",
       "      <td>False</td>\n",
       "      <td>0.0</td>\n",
       "      <td>0.0</td>\n",
       "      <td>0.0</td>\n",
       "      <td>0.0</td>\n",
       "      <td>0.0</td>\n",
       "      <td>Mele Clake</td>\n",
       "      <td>False</td>\n",
       "      <td>6048</td>\n",
       "      <td>1</td>\n",
       "      <td>None</td>\n",
       "      <td>None</td>\n",
       "      <td>None</td>\n",
       "      <td>None</td>\n",
       "    </tr>\n",
       "    <tr>\n",
       "      <th>6112</th>\n",
       "      <td>6451_01</td>\n",
       "      <td>Mars</td>\n",
       "      <td>False</td>\n",
       "      <td>NaN</td>\n",
       "      <td>NaN</td>\n",
       "      <td>37.0</td>\n",
       "      <td>False</td>\n",
       "      <td>610.0</td>\n",
       "      <td>NaN</td>\n",
       "      <td>410.0</td>\n",
       "      <td>148.0</td>\n",
       "      <td>14.0</td>\n",
       "      <td>Carkes Panad</td>\n",
       "      <td>False</td>\n",
       "      <td>6451</td>\n",
       "      <td>1</td>\n",
       "      <td>None</td>\n",
       "      <td>None</td>\n",
       "      <td>None</td>\n",
       "      <td>None</td>\n",
       "    </tr>\n",
       "  </tbody>\n",
       "</table>\n",
       "</div>"
      ],
      "text/plain": [
       "     PassengerId HomePlanet CryoSleep Cabin Destination   Age    VIP  \\\n",
       "5710     6048_01       Mars      True   NaN         NaN  25.0  False   \n",
       "6112     6451_01       Mars     False   NaN         NaN  37.0  False   \n",
       "\n",
       "      RoomService  FoodCourt  ShoppingMall    Spa  VRDeck          Name  \\\n",
       "5710          0.0        0.0           0.0    0.0     0.0    Mele Clake   \n",
       "6112        610.0        NaN         410.0  148.0    14.0  Carkes Panad   \n",
       "\n",
       "      Transported  GroupID  GroupSize cabin_first_label cabin_secound_label  \\\n",
       "5710        False     6048          1              None                None   \n",
       "6112        False     6451          1              None                None   \n",
       "\n",
       "     cabin_third_label FilledDestination  \n",
       "5710              None              None  \n",
       "6112              None              None  "
      ]
     },
     "execution_count": 26,
     "metadata": {},
     "output_type": "execute_result"
    }
   ],
   "source": [
    "train[train['FilledDestination'].isnull()]"
   ]
  },
  {
   "cell_type": "code",
   "execution_count": null,
   "id": "c7eff3b1-9521-493e-8230-fd84985e5030",
   "metadata": {},
   "outputs": [],
   "source": []
  },
  {
   "cell_type": "code",
   "execution_count": 36,
   "id": "1048b550-e660-47fd-8adb-89e7c708300c",
   "metadata": {
    "scrolled": true
   },
   "outputs": [
    {
     "data": {
      "text/html": [
       "<div>\n",
       "<style scoped>\n",
       "    .dataframe tbody tr th:only-of-type {\n",
       "        vertical-align: middle;\n",
       "    }\n",
       "\n",
       "    .dataframe tbody tr th {\n",
       "        vertical-align: top;\n",
       "    }\n",
       "\n",
       "    .dataframe thead th {\n",
       "        text-align: right;\n",
       "    }\n",
       "</style>\n",
       "<table border=\"1\" class=\"dataframe\">\n",
       "  <thead>\n",
       "    <tr style=\"text-align: right;\">\n",
       "      <th></th>\n",
       "      <th>cabin_first_label</th>\n",
       "      <th>cabin_secound_label</th>\n",
       "      <th>cabin_third_label</th>\n",
       "      <th>Cabin</th>\n",
       "    </tr>\n",
       "  </thead>\n",
       "  <tbody>\n",
       "    <tr>\n",
       "      <th>5218</th>\n",
       "      <td>E</td>\n",
       "      <td>349</td>\n",
       "      <td>P</td>\n",
       "      <td>E/349/P</td>\n",
       "    </tr>\n",
       "    <tr>\n",
       "      <th>3233</th>\n",
       "      <td>G</td>\n",
       "      <td>571</td>\n",
       "      <td>P</td>\n",
       "      <td>G/571/P</td>\n",
       "    </tr>\n",
       "    <tr>\n",
       "      <th>6424</th>\n",
       "      <td>G</td>\n",
       "      <td>1102</td>\n",
       "      <td>S</td>\n",
       "      <td>G/1102/S</td>\n",
       "    </tr>\n",
       "    <tr>\n",
       "      <th>54</th>\n",
       "      <td>A</td>\n",
       "      <td>1</td>\n",
       "      <td>S</td>\n",
       "      <td>A/1/S</td>\n",
       "    </tr>\n",
       "    <tr>\n",
       "      <th>7280</th>\n",
       "      <td>G</td>\n",
       "      <td>1261</td>\n",
       "      <td>S</td>\n",
       "      <td>G/1261/S</td>\n",
       "    </tr>\n",
       "  </tbody>\n",
       "</table>\n",
       "</div>"
      ],
      "text/plain": [
       "     cabin_first_label cabin_secound_label cabin_third_label     Cabin\n",
       "5218                 E                 349                 P   E/349/P\n",
       "3233                 G                 571                 P   G/571/P\n",
       "6424                 G                1102                 S  G/1102/S\n",
       "54                   A                   1                 S     A/1/S\n",
       "7280                 G                1261                 S  G/1261/S"
      ]
     },
     "execution_count": 36,
     "metadata": {},
     "output_type": "execute_result"
    }
   ],
   "source": [
    "train[['cabin_first_label', 'cabin_secound_label', 'cabin_third_label', 'Cabin']].sample(5)\n"
   ]
  },
  {
   "cell_type": "code",
   "execution_count": 37,
   "id": "4a0ba386-894e-4e8a-a42b-e1cdc6adcfd6",
   "metadata": {},
   "outputs": [
    {
     "ename": "TypeError",
     "evalue": "int() argument must be a string, a bytes-like object or a real number, not 'NoneType'",
     "output_type": "error",
     "traceback": [
      "\u001b[1;31m---------------------------------------------------------------------------\u001b[0m",
      "\u001b[1;31mTypeError\u001b[0m                                 Traceback (most recent call last)",
      "Cell \u001b[1;32mIn[37], line 1\u001b[0m\n\u001b[1;32m----> 1\u001b[0m train[\u001b[38;5;124m'\u001b[39m\u001b[38;5;124mcabin_secound_label\u001b[39m\u001b[38;5;124m'\u001b[39m] \u001b[38;5;241m=\u001b[39m train[\u001b[38;5;124m'\u001b[39m\u001b[38;5;124mcabin_secound_label\u001b[39m\u001b[38;5;124m'\u001b[39m]\u001b[38;5;241m.\u001b[39mastype(\u001b[38;5;124m'\u001b[39m\u001b[38;5;124mint\u001b[39m\u001b[38;5;124m'\u001b[39m)\n",
      "File \u001b[1;32mD:\\Programy\\Anaconda3\\Lib\\site-packages\\pandas\\core\\generic.py:6324\u001b[0m, in \u001b[0;36mNDFrame.astype\u001b[1;34m(self, dtype, copy, errors)\u001b[0m\n\u001b[0;32m   6317\u001b[0m     results \u001b[38;5;241m=\u001b[39m [\n\u001b[0;32m   6318\u001b[0m         \u001b[38;5;28mself\u001b[39m\u001b[38;5;241m.\u001b[39miloc[:, i]\u001b[38;5;241m.\u001b[39mastype(dtype, copy\u001b[38;5;241m=\u001b[39mcopy)\n\u001b[0;32m   6319\u001b[0m         \u001b[38;5;28;01mfor\u001b[39;00m i \u001b[38;5;129;01min\u001b[39;00m \u001b[38;5;28mrange\u001b[39m(\u001b[38;5;28mlen\u001b[39m(\u001b[38;5;28mself\u001b[39m\u001b[38;5;241m.\u001b[39mcolumns))\n\u001b[0;32m   6320\u001b[0m     ]\n\u001b[0;32m   6322\u001b[0m \u001b[38;5;28;01melse\u001b[39;00m:\n\u001b[0;32m   6323\u001b[0m     \u001b[38;5;66;03m# else, only a single dtype is given\u001b[39;00m\n\u001b[1;32m-> 6324\u001b[0m     new_data \u001b[38;5;241m=\u001b[39m \u001b[38;5;28mself\u001b[39m\u001b[38;5;241m.\u001b[39m_mgr\u001b[38;5;241m.\u001b[39mastype(dtype\u001b[38;5;241m=\u001b[39mdtype, copy\u001b[38;5;241m=\u001b[39mcopy, errors\u001b[38;5;241m=\u001b[39merrors)\n\u001b[0;32m   6325\u001b[0m     \u001b[38;5;28;01mreturn\u001b[39;00m \u001b[38;5;28mself\u001b[39m\u001b[38;5;241m.\u001b[39m_constructor(new_data)\u001b[38;5;241m.\u001b[39m__finalize__(\u001b[38;5;28mself\u001b[39m, method\u001b[38;5;241m=\u001b[39m\u001b[38;5;124m\"\u001b[39m\u001b[38;5;124mastype\u001b[39m\u001b[38;5;124m\"\u001b[39m)\n\u001b[0;32m   6327\u001b[0m \u001b[38;5;66;03m# GH 33113: handle empty frame or series\u001b[39;00m\n",
      "File \u001b[1;32mD:\\Programy\\Anaconda3\\Lib\\site-packages\\pandas\\core\\internals\\managers.py:451\u001b[0m, in \u001b[0;36mBaseBlockManager.astype\u001b[1;34m(self, dtype, copy, errors)\u001b[0m\n\u001b[0;32m    448\u001b[0m \u001b[38;5;28;01melif\u001b[39;00m using_copy_on_write():\n\u001b[0;32m    449\u001b[0m     copy \u001b[38;5;241m=\u001b[39m \u001b[38;5;28;01mFalse\u001b[39;00m\n\u001b[1;32m--> 451\u001b[0m \u001b[38;5;28;01mreturn\u001b[39;00m \u001b[38;5;28mself\u001b[39m\u001b[38;5;241m.\u001b[39mapply(\n\u001b[0;32m    452\u001b[0m     \u001b[38;5;124m\"\u001b[39m\u001b[38;5;124mastype\u001b[39m\u001b[38;5;124m\"\u001b[39m,\n\u001b[0;32m    453\u001b[0m     dtype\u001b[38;5;241m=\u001b[39mdtype,\n\u001b[0;32m    454\u001b[0m     copy\u001b[38;5;241m=\u001b[39mcopy,\n\u001b[0;32m    455\u001b[0m     errors\u001b[38;5;241m=\u001b[39merrors,\n\u001b[0;32m    456\u001b[0m     using_cow\u001b[38;5;241m=\u001b[39musing_copy_on_write(),\n\u001b[0;32m    457\u001b[0m )\n",
      "File \u001b[1;32mD:\\Programy\\Anaconda3\\Lib\\site-packages\\pandas\\core\\internals\\managers.py:352\u001b[0m, in \u001b[0;36mBaseBlockManager.apply\u001b[1;34m(self, f, align_keys, **kwargs)\u001b[0m\n\u001b[0;32m    350\u001b[0m         applied \u001b[38;5;241m=\u001b[39m b\u001b[38;5;241m.\u001b[39mapply(f, \u001b[38;5;241m*\u001b[39m\u001b[38;5;241m*\u001b[39mkwargs)\n\u001b[0;32m    351\u001b[0m     \u001b[38;5;28;01melse\u001b[39;00m:\n\u001b[1;32m--> 352\u001b[0m         applied \u001b[38;5;241m=\u001b[39m \u001b[38;5;28mgetattr\u001b[39m(b, f)(\u001b[38;5;241m*\u001b[39m\u001b[38;5;241m*\u001b[39mkwargs)\n\u001b[0;32m    353\u001b[0m     result_blocks \u001b[38;5;241m=\u001b[39m extend_blocks(applied, result_blocks)\n\u001b[0;32m    355\u001b[0m out \u001b[38;5;241m=\u001b[39m \u001b[38;5;28mtype\u001b[39m(\u001b[38;5;28mself\u001b[39m)\u001b[38;5;241m.\u001b[39mfrom_blocks(result_blocks, \u001b[38;5;28mself\u001b[39m\u001b[38;5;241m.\u001b[39maxes)\n",
      "File \u001b[1;32mD:\\Programy\\Anaconda3\\Lib\\site-packages\\pandas\\core\\internals\\blocks.py:511\u001b[0m, in \u001b[0;36mBlock.astype\u001b[1;34m(self, dtype, copy, errors, using_cow)\u001b[0m\n\u001b[0;32m    491\u001b[0m \u001b[38;5;250m\u001b[39m\u001b[38;5;124;03m\"\"\"\u001b[39;00m\n\u001b[0;32m    492\u001b[0m \u001b[38;5;124;03mCoerce to the new dtype.\u001b[39;00m\n\u001b[0;32m    493\u001b[0m \n\u001b[1;32m   (...)\u001b[0m\n\u001b[0;32m    507\u001b[0m \u001b[38;5;124;03mBlock\u001b[39;00m\n\u001b[0;32m    508\u001b[0m \u001b[38;5;124;03m\"\"\"\u001b[39;00m\n\u001b[0;32m    509\u001b[0m values \u001b[38;5;241m=\u001b[39m \u001b[38;5;28mself\u001b[39m\u001b[38;5;241m.\u001b[39mvalues\n\u001b[1;32m--> 511\u001b[0m new_values \u001b[38;5;241m=\u001b[39m astype_array_safe(values, dtype, copy\u001b[38;5;241m=\u001b[39mcopy, errors\u001b[38;5;241m=\u001b[39merrors)\n\u001b[0;32m    513\u001b[0m new_values \u001b[38;5;241m=\u001b[39m maybe_coerce_values(new_values)\n\u001b[0;32m    515\u001b[0m refs \u001b[38;5;241m=\u001b[39m \u001b[38;5;28;01mNone\u001b[39;00m\n",
      "File \u001b[1;32mD:\\Programy\\Anaconda3\\Lib\\site-packages\\pandas\\core\\dtypes\\astype.py:242\u001b[0m, in \u001b[0;36mastype_array_safe\u001b[1;34m(values, dtype, copy, errors)\u001b[0m\n\u001b[0;32m    239\u001b[0m     dtype \u001b[38;5;241m=\u001b[39m dtype\u001b[38;5;241m.\u001b[39mnumpy_dtype\n\u001b[0;32m    241\u001b[0m \u001b[38;5;28;01mtry\u001b[39;00m:\n\u001b[1;32m--> 242\u001b[0m     new_values \u001b[38;5;241m=\u001b[39m astype_array(values, dtype, copy\u001b[38;5;241m=\u001b[39mcopy)\n\u001b[0;32m    243\u001b[0m \u001b[38;5;28;01mexcept\u001b[39;00m (\u001b[38;5;167;01mValueError\u001b[39;00m, \u001b[38;5;167;01mTypeError\u001b[39;00m):\n\u001b[0;32m    244\u001b[0m     \u001b[38;5;66;03m# e.g. _astype_nansafe can fail on object-dtype of strings\u001b[39;00m\n\u001b[0;32m    245\u001b[0m     \u001b[38;5;66;03m#  trying to convert to float\u001b[39;00m\n\u001b[0;32m    246\u001b[0m     \u001b[38;5;28;01mif\u001b[39;00m errors \u001b[38;5;241m==\u001b[39m \u001b[38;5;124m\"\u001b[39m\u001b[38;5;124mignore\u001b[39m\u001b[38;5;124m\"\u001b[39m:\n",
      "File \u001b[1;32mD:\\Programy\\Anaconda3\\Lib\\site-packages\\pandas\\core\\dtypes\\astype.py:187\u001b[0m, in \u001b[0;36mastype_array\u001b[1;34m(values, dtype, copy)\u001b[0m\n\u001b[0;32m    184\u001b[0m     values \u001b[38;5;241m=\u001b[39m values\u001b[38;5;241m.\u001b[39mastype(dtype, copy\u001b[38;5;241m=\u001b[39mcopy)\n\u001b[0;32m    186\u001b[0m \u001b[38;5;28;01melse\u001b[39;00m:\n\u001b[1;32m--> 187\u001b[0m     values \u001b[38;5;241m=\u001b[39m _astype_nansafe(values, dtype, copy\u001b[38;5;241m=\u001b[39mcopy)\n\u001b[0;32m    189\u001b[0m \u001b[38;5;66;03m# in pandas we don't store numpy str dtypes, so convert to object\u001b[39;00m\n\u001b[0;32m    190\u001b[0m \u001b[38;5;28;01mif\u001b[39;00m \u001b[38;5;28misinstance\u001b[39m(dtype, np\u001b[38;5;241m.\u001b[39mdtype) \u001b[38;5;129;01mand\u001b[39;00m \u001b[38;5;28missubclass\u001b[39m(values\u001b[38;5;241m.\u001b[39mdtype\u001b[38;5;241m.\u001b[39mtype, \u001b[38;5;28mstr\u001b[39m):\n",
      "File \u001b[1;32mD:\\Programy\\Anaconda3\\Lib\\site-packages\\pandas\\core\\dtypes\\astype.py:138\u001b[0m, in \u001b[0;36m_astype_nansafe\u001b[1;34m(arr, dtype, copy, skipna)\u001b[0m\n\u001b[0;32m    134\u001b[0m     \u001b[38;5;28;01mraise\u001b[39;00m \u001b[38;5;167;01mValueError\u001b[39;00m(msg)\n\u001b[0;32m    136\u001b[0m \u001b[38;5;28;01mif\u001b[39;00m copy \u001b[38;5;129;01mor\u001b[39;00m is_object_dtype(arr\u001b[38;5;241m.\u001b[39mdtype) \u001b[38;5;129;01mor\u001b[39;00m is_object_dtype(dtype):\n\u001b[0;32m    137\u001b[0m     \u001b[38;5;66;03m# Explicit copy, or required since NumPy can't view from / to object.\u001b[39;00m\n\u001b[1;32m--> 138\u001b[0m     \u001b[38;5;28;01mreturn\u001b[39;00m arr\u001b[38;5;241m.\u001b[39mastype(dtype, copy\u001b[38;5;241m=\u001b[39m\u001b[38;5;28;01mTrue\u001b[39;00m)\n\u001b[0;32m    140\u001b[0m \u001b[38;5;28;01mreturn\u001b[39;00m arr\u001b[38;5;241m.\u001b[39mastype(dtype, copy\u001b[38;5;241m=\u001b[39mcopy)\n",
      "\u001b[1;31mTypeError\u001b[0m: int() argument must be a string, a bytes-like object or a real number, not 'NoneType'"
     ]
    }
   ],
   "source": [
    "train['cabin_secound_label'] = train['cabin_secound_label'].astype('int') "
   ]
  },
  {
   "cell_type": "code",
   "execution_count": null,
   "id": "d35c33b4-7589-4b87-919c-671cf36dd597",
   "metadata": {},
   "outputs": [],
   "source": [
    "cabin_first_label_dict = {\n",
    "    'A':1,'B':2, 'C':3, 'D':4, 'E':5, 'F':6, 'G':7, 'T':8\n",
    "}\n",
    "train['cabin_first_label'] = train['cabin_first_label'].map(cabin_first_label_dict)"
   ]
  },
  {
   "cell_type": "code",
   "execution_count": null,
   "id": "f569c614-889b-4bcf-bb5c-e070e1415014",
   "metadata": {},
   "outputs": [],
   "source": [
    "cabin_first_label_dict = {'S':1,'P':2}\n",
    "train['cabin_third_label'] = train['cabin_third_label'].map(cabin_first_label_dict)"
   ]
  },
  {
   "cell_type": "code",
   "execution_count": null,
   "id": "6339ee41",
   "metadata": {},
   "outputs": [],
   "source": []
  },
  {
   "cell_type": "code",
   "execution_count": null,
   "id": "a539c0e1",
   "metadata": {},
   "outputs": [],
   "source": []
  },
  {
   "cell_type": "code",
   "execution_count": null,
   "id": "bf8b18cf",
   "metadata": {},
   "outputs": [],
   "source": []
  },
  {
   "cell_type": "code",
   "execution_count": null,
   "id": "3e1ceaea",
   "metadata": {},
   "outputs": [],
   "source": []
  },
  {
   "cell_type": "code",
   "execution_count": 15,
   "id": "17c7aec7-4d8f-4b2d-8443-afd335542722",
   "metadata": {},
   "outputs": [
    {
     "name": "stdout",
     "output_type": "stream",
     "text": [
      "Destination  55 Cancri e  PSO J318.5-22  TRAPPIST-1e\n",
      "Group                                               \n",
      "0001                   0              0            1\n",
      "0002                   0              0            1\n",
      "0003                   0              0            2\n",
      "0004                   0              0            1\n",
      "0005                   0              1            0\n",
      "...                  ...            ...          ...\n",
      "9275                   0              0            3\n",
      "9276                   1              0            0\n",
      "9278                   0              1            0\n",
      "9279                   0              0            1\n",
      "9280                   1              0            1\n",
      "\n",
      "[6114 rows x 3 columns]\n"
     ]
    }
   ],
   "source": [
    "# Grupowanie pasażerów na podstawie kolumny 'Group' (np. numer rezerwacji)\n",
    "# Jeśli taka kolumna nie istnieje, stwórz ją na podstawie innych cech (np. nazwiska lub kabiny)\n",
    "train['Group'] = train['PassengerId'].str.split('_').str[0]  # Zakładając, że PassengerId zawiera informację o grupie\n",
    "\n",
    "# Tworzenie tabeli przestawnej pokazującej liczbę pasażerów na różnych 'Destination' w każdej grupie\n",
    "destination_group_table = train.pivot_table(index='Group', columns='Destination', aggfunc='size', fill_value=0)\n",
    "\n",
    "# Wyświetlenie tabeli\n",
    "print(destination_group_table)"
   ]
  },
  {
   "cell_type": "markdown",
   "id": "8b08f187-c6c3-44ea-8d03-e57cfb908208",
   "metadata": {},
   "source": [
    "- HomePlanet      201\n",
    "9\n",
    "Destination     1- 82\n",
    "Age             179\n",
    "VIP        policze srednia wydanych pieniedzy na statku da osób nie bedacych vipem, jezli jest powyzej to bedzie to vip -  203\n",
    "Room Servicwypłn -   181\n",
    "Fo odCourtwypełn -    183\n",
    " Shoppingwypełnl-     208\n",
    "Spa    wypełnn -      1 83\n",
    "VRDeckwypełn       188\n",
    "Name usun rted       0"
   ]
  },
  {
   "cell_type": "code",
   "execution_count": null,
   "id": "074d72f6-34b8-492e-af63-6d93203cac53",
   "metadata": {},
   "outputs": [],
   "source": [
    "# Wypełnianie brakujących wartości dla zmiennych kategorycznych\n",
    "train['HomePlanet'] = train['HomePlanet'].fillna(train['HomePlanet'].mode()[0])\n",
    "train['Cabin'] = train['Cabin'].fillna('-1')\n",
    "train['cabin_first_label'] = train['cabin_first_label'].fillna(train['cabin_first_label'].mode()[0])\n",
    "train['cabin_secound_label'] = train['cabin_secound_label'].fillna(train['cabin_secound_label'].mode()[0])\n",
    "train['cabin_third_label']  = train['cabin_third_label'] .fillna(train['cabin_third_label'].mode()[0])\n",
    "\n",
    "\n",
    "train['Destination'] = train['Destination'].fillna(train['Destination'].mode()[0])\n",
    "\n",
    "test['HomePlanet'] = test['HomePlanet'].fillna(test['HomePlanet'].mode()[0])\n",
    "test['Cabin'] = test['Cabin'].fillna('Unknown')\n",
    "test['VIP'] = test['VIP'].fillna(False)\n",
    "\n",
    "test['Destination'] = test['Destination'].fillna(test['Destination'].mode()[0])\n",
    "\n",
    "# Wypełnianie brakujących wartości dla zmiennej 'Age'\n",
    "train['Age'] = train['Age'].fillna(train['Age'].median())\n",
    "test['Age'] = test['Age'].fillna(test['Age'].median())"
   ]
  },
  {
   "cell_type": "code",
   "execution_count": null,
   "id": "cd088dd7-4734-45c7-a4c9-58299ecc11a8",
   "metadata": {},
   "outputs": [],
   "source": []
  },
  {
   "cell_type": "code",
   "execution_count": 24,
   "id": "0f2712ec-01df-44e5-9131-c3c81c6a96f9",
   "metadata": {},
   "outputs": [],
   "source": [
    "from sklearn.preprocessing import LabelEncoder\n",
    "le = LabelEncoder() \n",
    "\n",
    "categorial_col = ['HomePlanet', 'Destination','CryoSleep','VIP' ]\n",
    "\n",
    "train['Transported'] = le.fit_transform(train['Transported'])\n",
    "\n",
    "for col in categorial_col:\n",
    "    train[col] = le.fit_transform(train[col])\n",
    "    test[col] = le.fit_transform(test[col])\n",
    "    \n",
    "\n"
   ]
  },
  {
   "cell_type": "markdown",
   "id": "b058a495-0b94-447e-849c-e35c48c136d2",
   "metadata": {},
   "source": [
    "### Model bazowy"
   ]
  },
  {
   "cell_type": "code",
   "execution_count": 25,
   "id": "ecb3756c-aed9-4eea-a6f4-d3e6822f56c4",
   "metadata": {},
   "outputs": [
    {
     "data": {
      "text/plain": [
       "0.49453589916827195"
      ]
     },
     "execution_count": 25,
     "metadata": {},
     "output_type": "execute_result"
    }
   ],
   "source": [
    "from sklearn.dummy import DummyClassifier\n",
    "from sklearn.ensemble import RandomForestClassifier \n",
    "from sklearn.tree import DecisionTreeClassifier\n",
    "\n",
    "\n",
    "from sklearn.model_selection import cross_val_score\n",
    "\n",
    "X  = train.drop(['Cabin','Name','Transported','cabin_secound_label'], axis = 1)\n",
    "y = train['Transported']\n",
    "\n",
    "cross_val_score(DummyClassifier(strategy='stratified', random_state=42),X,y, cv = 5).mean()"
   ]
  },
  {
   "cell_type": "code",
   "execution_count": 26,
   "id": "516baeac-50db-471f-beb5-217ad6ccf723",
   "metadata": {},
   "outputs": [
    {
     "data": {
      "text/plain": [
       "0.6909153111684757"
      ]
     },
     "execution_count": 26,
     "metadata": {},
     "output_type": "execute_result"
    }
   ],
   "source": [
    "cross_val_score(DecisionTreeClassifier(max_depth=3, random_state=42), X, y, scoring='accuracy', cv=5).mean()"
   ]
  },
  {
   "cell_type": "code",
   "execution_count": 27,
   "id": "56fd43b9-8320-4c89-bb76-5a52e52e29e1",
   "metadata": {},
   "outputs": [
    {
     "data": {
      "text/plain": [
       "0.7405992359668632"
      ]
     },
     "execution_count": 27,
     "metadata": {},
     "output_type": "execute_result"
    }
   ],
   "source": [
    "cross_val_score(RandomForestClassifier(max_depth=3, n_estimators=100, random_state=42), X, y, scoring='accuracy', cv=5).mean()"
   ]
  },
  {
   "cell_type": "code",
   "execution_count": 28,
   "id": "4a099909-d199-4a49-ab24-608199b392ea",
   "metadata": {},
   "outputs": [
    {
     "name": "stdout",
     "output_type": "stream",
     "text": [
      "Średnia dokładność: 0.7949\n"
     ]
    }
   ],
   "source": [
    "from sklearn.metrics import accuracy_score\n",
    "from sklearn.model_selection import StratifiedKFold\n",
    "\n",
    "skf = StratifiedKFold(n_splits=5, shuffle= True, random_state = 42)\n",
    "\n",
    "accuracies = []\n",
    "                      \n",
    "for train_index, val_index in skf.split(X,y):\n",
    "    X_train, X_val = X.iloc[train_index], X.iloc[val_index]\n",
    "    y_train, y_val = y.iloc[train_index], y.iloc[val_index]\n",
    "    model = RandomForestClassifier(n_estimators=100, max_depth=7, random_state=42)\n",
    "    model.fit(X_train, y_train)\n",
    "    y_pred = model.predict(X_val)\n",
    "\n",
    "    accuracy = accuracy_score(y_val,y_pred)\n",
    "    accuracies.append(accuracy)\n",
    "    \n",
    "print(f'Średnia dokładność: {sum(accuracies)/len(accuracies):.4f}')\n"
   ]
  },
  {
   "cell_type": "code",
   "execution_count": 31,
   "id": "5f8910b2-6572-4681-809e-784a2028f49b",
   "metadata": {},
   "outputs": [],
   "source": [
    "train['is_alone'] = train['GroupID'].map(lambda x: 1 if x == 1 else 0)\n",
    "test['is_alone'] = test['GroupID'].map(lambda x: 1 if x == 1 else 0)\n"
   ]
  },
  {
   "cell_type": "code",
   "execution_count": 32,
   "id": "2d05a807-4cc7-485f-b1e1-9d1b62378ac2",
   "metadata": {},
   "outputs": [
    {
     "name": "stdout",
     "output_type": "stream",
     "text": [
      "Średnia dokładność: 0.7936\n"
     ]
    }
   ],
   "source": [
    "X = train.drop(columns=['Transported', 'PassengerId', 'Name', 'Cabin', 'GroupID','cabin_secound_label'])  # Usuwamy zbędne kolumny\n",
    "y = train['Transported']  # Etykieta do przewidywania\n",
    "\n",
    "skf = StratifiedKFold(n_splits=5, shuffle= True, random_state = 42)\n",
    "\n",
    "# Przechowujemy wyniki dokładności z każdej iteracji\n",
    "accuracies = []\n",
    "\n",
    "# Modelowanie za pomocą StratifiedKFold\n",
    "for train_index, val_index in skf.split(X, y):\n",
    "    X_train, X_val = X.iloc[train_index], X.iloc[val_index]\n",
    "    y_train, y_val = y.iloc[train_index], y.iloc[val_index]\n",
    "\n",
    "    # Tworzymy model (Random Forest w tym przypadku)\n",
    "    model = RandomForestClassifier(n_estimators=100, max_depth=7, random_state=42)\n",
    "    \n",
    "    # Trenowanie modelu\n",
    "    model.fit(X_train, y_train)\n",
    "    \n",
    "    # Przewidywania na zbiorze walidacyjnym\n",
    "    y_pred = model.predict(X_val)\n",
    "    \n",
    "    # Obliczanie dokładności\n",
    "    accuracy = accuracy_score(y_val, y_pred)\n",
    "    accuracies.append(accuracy)\n",
    "\n",
    "# Średnia dokładność z 5-fold stratified cross-validation\n",
    "print(f'Średnia dokładność: {sum(accuracies)/len(accuracies):.4f}')"
   ]
  },
  {
   "cell_type": "code",
   "execution_count": 36,
   "id": "7c789d2f-a63c-4f17-b609-fe9a5f28a8ad",
   "metadata": {},
   "outputs": [
    {
     "name": "stdout",
     "output_type": "stream",
     "text": [
      "Średnia dokładność: 0.8026\n"
     ]
    }
   ],
   "source": [
    "import xgboost as xgb\n",
    "\n",
    "\n",
    "accuracies = []\n",
    "\n",
    "# Modelowanie za pomocą StratifiedKFold\n",
    "for train_index, val_index in skf.split(X, y):\n",
    "    X_train, X_val = X.iloc[train_index], X.iloc[val_index]\n",
    "    y_train, y_val = y.iloc[train_index], y.iloc[val_index]\n",
    "\n",
    "    # Tworzymy model (Random Forest w tym przypadku)\n",
    "    xgb_model = xgb.XGBClassifier(\n",
    "    random_state=42,\n",
    "    n_estimators=500,\n",
    "    learning_rate=0.01\n",
    ")\n",
    "\n",
    "    \n",
    "    # Trenowanie modelu\n",
    "    xgb_model.fit(X_train, y_train)\n",
    "    \n",
    "    # Przewidywania na zbiorze walidacyjnym\n",
    "    y_pred = xgb_model.predict(X_val)\n",
    "    \n",
    "    # Obliczanie dokładności\n",
    "    accuracy = accuracy_score(y_val, y_pred)\n",
    "    accuracies.append(accuracy)\n",
    "\n",
    "# Średnia dokładność z 5-fold stratified cross-validation\n",
    "print(f'Średnia dokładność: {sum(accuracies)/len(accuracies):.4f}')"
   ]
  },
  {
   "cell_type": "code",
   "execution_count": 37,
   "id": "31c3670d-0107-4133-a40f-39a6d21ddd18",
   "metadata": {},
   "outputs": [
    {
     "name": "stdout",
     "output_type": "stream",
     "text": [
      "Najlepsze parametry: {'subsample': 0.6, 'reg_lambda': 2, 'reg_alpha': 0.01, 'n_estimators': 1000, 'min_child_weight': 5, 'max_depth': 5, 'learning_rate': 0.01, 'colsample_bytree': 0.6}\n",
      "Najlepsza dokładność: 0.8023005032350827\n"
     ]
    }
   ],
   "source": [
    "from sklearn.model_selection import RandomizedSearchCV\n",
    "import xgboost as xgb\n",
    "\n",
    "param_grid = {\n",
    "    'n_estimators': [100, 500, 1000],\n",
    "    'learning_rate': [0.01, 0.05, 0.1],\n",
    "    'max_depth': [3, 5, 7],\n",
    "    'min_child_weight': [1, 3, 5],\n",
    "    'subsample': [0.6, 0.8, 1.0],\n",
    "    'colsample_bytree': [0.6, 0.8, 1.0],\n",
    "    'reg_alpha': [0, 0.01, 0.1],\n",
    "    'reg_lambda': [1, 1.5, 2]\n",
    "}\n",
    "\n",
    "for train_index, val_index in skf.split(X, y):\n",
    "    X_train, X_val = X.iloc[train_index], X.iloc[val_index]\n",
    "    y_train, y_val = y.iloc[train_index], y.iloc[val_index]\n",
    "\n",
    "    xgb_model = xgb.XGBClassifier(random_state=42)\n",
    "\n",
    "    random_search = RandomizedSearchCV(\n",
    "        estimator=xgb_model,\n",
    "        param_distributions=param_grid,\n",
    "        n_iter=50,\n",
    "        scoring='accuracy',\n",
    "        random_state=42,\n",
    "        n_jobs=-1\n",
    "    )\n",
    "\n",
    "    random_search.fit(X_train, y_train)\n",
    "\n",
    "print(\"Najlepsze parametry:\", random_search.best_params_)\n",
    "print(\"Najlepsza dokładność:\", random_search.best_score_)\n"
   ]
  },
  {
   "cell_type": "code",
   "execution_count": null,
   "id": "ceff4158-3fb9-46bd-bba6-a90b73e7715a",
   "metadata": {},
   "outputs": [],
   "source": []
  }
 ],
 "metadata": {
  "kernelspec": {
   "display_name": "Python 3 (ipykernel)",
   "language": "python",
   "name": "python3"
  },
  "language_info": {
   "codemirror_mode": {
    "name": "ipython",
    "version": 3
   },
   "file_extension": ".py",
   "mimetype": "text/x-python",
   "name": "python",
   "nbconvert_exporter": "python",
   "pygments_lexer": "ipython3",
   "version": "3.12.4"
  }
 },
 "nbformat": 4,
 "nbformat_minor": 5
}
