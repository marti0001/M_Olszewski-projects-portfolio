{
 "cells": [
  {
   "cell_type": "markdown",
   "id": "92f12cf4-9ae1-4714-a241-f0133996d976",
   "metadata": {},
   "source": [
    "## Spaceship titanic"
   ]
  },
  {
   "cell_type": "markdown",
   "id": "53a14c99-ee55-4374-b8e4-e4228c23a6cd",
   "metadata": {},
   "source": [
    "### Analiza Zadania\n",
    "Zadaniem jest przewidziec czy pasażerowie zostali przetransportowani \n",
    "Mam do czynienia z uczeniem nadzorowanym w którym wykorzystujemy dane wejsciowe z etykietami aby nauczyc model przewiwywac wynik dla nowych danych\n",
    "Zadanie to jest przykładem klasyfikacji binarnej która przewiduje jedna z dwóch klas "
   ]
  },
  {
   "cell_type": "code",
   "execution_count": 1,
   "id": "90233a90-38ed-4ab5-bd07-c3f270c0ee26",
   "metadata": {},
   "outputs": [],
   "source": [
    "import pandas as pd\n",
    "import numpy as np\n",
    "import matplotlib.pyplot as plt\n",
    "import seaborn as sns"
   ]
  },
  {
   "cell_type": "code",
   "execution_count": 2,
   "id": "6c5f1d7c-1382-4c16-a594-475dcce64eb5",
   "metadata": {},
   "outputs": [],
   "source": [
    "train = pd.read_csv(\"../input/train.csv\")\n",
    "test = pd.read_csv(\"../input/test.csv\")\n",
    "sample_submission = pd.read_csv(\"../input/sample_submission.csv\")"
   ]
  },
  {
   "cell_type": "markdown",
   "id": "15205ef5-3866-4b73-b48b-88420eb061d9",
   "metadata": {
    "jp-MarkdownHeadingCollapsed": true
   },
   "source": [
    "## Analiza danych"
   ]
  },
  {
   "cell_type": "code",
   "execution_count": 3,
   "id": "002ef09d-7a76-4a1b-8eee-066c3fe2e082",
   "metadata": {},
   "outputs": [
    {
     "data": {
      "text/html": [
       "<div>\n",
       "<style scoped>\n",
       "    .dataframe tbody tr th:only-of-type {\n",
       "        vertical-align: middle;\n",
       "    }\n",
       "\n",
       "    .dataframe tbody tr th {\n",
       "        vertical-align: top;\n",
       "    }\n",
       "\n",
       "    .dataframe thead th {\n",
       "        text-align: right;\n",
       "    }\n",
       "</style>\n",
       "<table border=\"1\" class=\"dataframe\">\n",
       "  <thead>\n",
       "    <tr style=\"text-align: right;\">\n",
       "      <th></th>\n",
       "      <th>PassengerId</th>\n",
       "      <th>HomePlanet</th>\n",
       "      <th>CryoSleep</th>\n",
       "      <th>Cabin</th>\n",
       "      <th>Destination</th>\n",
       "      <th>Age</th>\n",
       "      <th>VIP</th>\n",
       "      <th>RoomService</th>\n",
       "      <th>FoodCourt</th>\n",
       "      <th>ShoppingMall</th>\n",
       "      <th>Spa</th>\n",
       "      <th>VRDeck</th>\n",
       "      <th>Name</th>\n",
       "      <th>Transported</th>\n",
       "    </tr>\n",
       "  </thead>\n",
       "  <tbody>\n",
       "    <tr>\n",
       "      <th>7017</th>\n",
       "      <td>7462_01</td>\n",
       "      <td>Earth</td>\n",
       "      <td>True</td>\n",
       "      <td>G/1206/P</td>\n",
       "      <td>PSO J318.5-22</td>\n",
       "      <td>13.0</td>\n",
       "      <td>False</td>\n",
       "      <td>0.0</td>\n",
       "      <td>0.0</td>\n",
       "      <td>0.0</td>\n",
       "      <td>0.0</td>\n",
       "      <td>0.0</td>\n",
       "      <td>Hilia Mckinn</td>\n",
       "      <td>True</td>\n",
       "    </tr>\n",
       "  </tbody>\n",
       "</table>\n",
       "</div>"
      ],
      "text/plain": [
       "     PassengerId HomePlanet CryoSleep     Cabin    Destination   Age    VIP  \\\n",
       "7017     7462_01      Earth      True  G/1206/P  PSO J318.5-22  13.0  False   \n",
       "\n",
       "      RoomService  FoodCourt  ShoppingMall  Spa  VRDeck          Name  \\\n",
       "7017          0.0        0.0           0.0  0.0     0.0  Hilia Mckinn   \n",
       "\n",
       "      Transported  \n",
       "7017         True  "
      ]
     },
     "execution_count": 3,
     "metadata": {},
     "output_type": "execute_result"
    }
   ],
   "source": [
    "train.sample(1)"
   ]
  },
  {
   "cell_type": "code",
   "execution_count": 4,
   "id": "b4f16917-81b7-4f08-bd7d-bb53586a98b8",
   "metadata": {},
   "outputs": [
    {
     "data": {
      "text/plain": [
       "(8693, 14)"
      ]
     },
     "execution_count": 4,
     "metadata": {},
     "output_type": "execute_result"
    }
   ],
   "source": [
    "train.shape"
   ]
  },
  {
   "cell_type": "code",
   "execution_count": 5,
   "id": "9feb8f48-0c57-4726-ba82-ef49e7592b47",
   "metadata": {},
   "outputs": [
    {
     "name": "stdout",
     "output_type": "stream",
     "text": [
      "<class 'pandas.core.frame.DataFrame'>\n",
      "RangeIndex: 8693 entries, 0 to 8692\n",
      "Data columns (total 14 columns):\n",
      " #   Column        Non-Null Count  Dtype  \n",
      "---  ------        --------------  -----  \n",
      " 0   PassengerId   8693 non-null   object \n",
      " 1   HomePlanet    8492 non-null   object \n",
      " 2   CryoSleep     8476 non-null   object \n",
      " 3   Cabin         8494 non-null   object \n",
      " 4   Destination   8511 non-null   object \n",
      " 5   Age           8514 non-null   float64\n",
      " 6   VIP           8490 non-null   object \n",
      " 7   RoomService   8512 non-null   float64\n",
      " 8   FoodCourt     8510 non-null   float64\n",
      " 9   ShoppingMall  8485 non-null   float64\n",
      " 10  Spa           8510 non-null   float64\n",
      " 11  VRDeck        8505 non-null   float64\n",
      " 12  Name          8493 non-null   object \n",
      " 13  Transported   8693 non-null   bool   \n",
      "dtypes: bool(1), float64(6), object(7)\n",
      "memory usage: 891.5+ KB\n"
     ]
    }
   ],
   "source": [
    "train.info()"
   ]
  },
  {
   "cell_type": "code",
   "execution_count": 6,
   "id": "a896ad5a-0858-4e89-a3dd-37975c4186e9",
   "metadata": {},
   "outputs": [
    {
     "data": {
      "text/html": [
       "<div>\n",
       "<style scoped>\n",
       "    .dataframe tbody tr th:only-of-type {\n",
       "        vertical-align: middle;\n",
       "    }\n",
       "\n",
       "    .dataframe tbody tr th {\n",
       "        vertical-align: top;\n",
       "    }\n",
       "\n",
       "    .dataframe thead th {\n",
       "        text-align: right;\n",
       "    }\n",
       "</style>\n",
       "<table border=\"1\" class=\"dataframe\">\n",
       "  <thead>\n",
       "    <tr style=\"text-align: right;\">\n",
       "      <th></th>\n",
       "      <th>Age</th>\n",
       "      <th>RoomService</th>\n",
       "      <th>FoodCourt</th>\n",
       "      <th>ShoppingMall</th>\n",
       "      <th>Spa</th>\n",
       "      <th>VRDeck</th>\n",
       "    </tr>\n",
       "  </thead>\n",
       "  <tbody>\n",
       "    <tr>\n",
       "      <th>count</th>\n",
       "      <td>8514.000000</td>\n",
       "      <td>8512.000000</td>\n",
       "      <td>8510.000000</td>\n",
       "      <td>8485.000000</td>\n",
       "      <td>8510.000000</td>\n",
       "      <td>8505.000000</td>\n",
       "    </tr>\n",
       "    <tr>\n",
       "      <th>mean</th>\n",
       "      <td>28.827930</td>\n",
       "      <td>224.687617</td>\n",
       "      <td>458.077203</td>\n",
       "      <td>173.729169</td>\n",
       "      <td>311.138778</td>\n",
       "      <td>304.854791</td>\n",
       "    </tr>\n",
       "    <tr>\n",
       "      <th>std</th>\n",
       "      <td>14.489021</td>\n",
       "      <td>666.717663</td>\n",
       "      <td>1611.489240</td>\n",
       "      <td>604.696458</td>\n",
       "      <td>1136.705535</td>\n",
       "      <td>1145.717189</td>\n",
       "    </tr>\n",
       "    <tr>\n",
       "      <th>min</th>\n",
       "      <td>0.000000</td>\n",
       "      <td>0.000000</td>\n",
       "      <td>0.000000</td>\n",
       "      <td>0.000000</td>\n",
       "      <td>0.000000</td>\n",
       "      <td>0.000000</td>\n",
       "    </tr>\n",
       "    <tr>\n",
       "      <th>25%</th>\n",
       "      <td>19.000000</td>\n",
       "      <td>0.000000</td>\n",
       "      <td>0.000000</td>\n",
       "      <td>0.000000</td>\n",
       "      <td>0.000000</td>\n",
       "      <td>0.000000</td>\n",
       "    </tr>\n",
       "    <tr>\n",
       "      <th>50%</th>\n",
       "      <td>27.000000</td>\n",
       "      <td>0.000000</td>\n",
       "      <td>0.000000</td>\n",
       "      <td>0.000000</td>\n",
       "      <td>0.000000</td>\n",
       "      <td>0.000000</td>\n",
       "    </tr>\n",
       "    <tr>\n",
       "      <th>75%</th>\n",
       "      <td>38.000000</td>\n",
       "      <td>47.000000</td>\n",
       "      <td>76.000000</td>\n",
       "      <td>27.000000</td>\n",
       "      <td>59.000000</td>\n",
       "      <td>46.000000</td>\n",
       "    </tr>\n",
       "    <tr>\n",
       "      <th>max</th>\n",
       "      <td>79.000000</td>\n",
       "      <td>14327.000000</td>\n",
       "      <td>29813.000000</td>\n",
       "      <td>23492.000000</td>\n",
       "      <td>22408.000000</td>\n",
       "      <td>24133.000000</td>\n",
       "    </tr>\n",
       "  </tbody>\n",
       "</table>\n",
       "</div>"
      ],
      "text/plain": [
       "               Age   RoomService     FoodCourt  ShoppingMall           Spa  \\\n",
       "count  8514.000000   8512.000000   8510.000000   8485.000000   8510.000000   \n",
       "mean     28.827930    224.687617    458.077203    173.729169    311.138778   \n",
       "std      14.489021    666.717663   1611.489240    604.696458   1136.705535   \n",
       "min       0.000000      0.000000      0.000000      0.000000      0.000000   \n",
       "25%      19.000000      0.000000      0.000000      0.000000      0.000000   \n",
       "50%      27.000000      0.000000      0.000000      0.000000      0.000000   \n",
       "75%      38.000000     47.000000     76.000000     27.000000     59.000000   \n",
       "max      79.000000  14327.000000  29813.000000  23492.000000  22408.000000   \n",
       "\n",
       "             VRDeck  \n",
       "count   8505.000000  \n",
       "mean     304.854791  \n",
       "std     1145.717189  \n",
       "min        0.000000  \n",
       "25%        0.000000  \n",
       "50%        0.000000  \n",
       "75%       46.000000  \n",
       "max    24133.000000  "
      ]
     },
     "execution_count": 6,
     "metadata": {},
     "output_type": "execute_result"
    }
   ],
   "source": [
    "train.describe()"
   ]
  },
  {
   "cell_type": "code",
   "execution_count": 7,
   "id": "88998cdd-a8a8-4558-8d6d-4909c2ff3dac",
   "metadata": {},
   "outputs": [
    {
     "data": {
      "text/plain": [
       "PassengerId       0\n",
       "HomePlanet      201\n",
       "CryoSleep       217\n",
       "Cabin           199\n",
       "Destination     182\n",
       "Age             179\n",
       "VIP             203\n",
       "RoomService     181\n",
       "FoodCourt       183\n",
       "ShoppingMall    208\n",
       "Spa             183\n",
       "VRDeck          188\n",
       "Name            200\n",
       "Transported       0\n",
       "dtype: int64"
      ]
     },
     "execution_count": 7,
     "metadata": {},
     "output_type": "execute_result"
    }
   ],
   "source": [
    "train.isnull().sum()"
   ]
  },
  {
   "cell_type": "code",
   "execution_count": 8,
   "id": "e69625e5-88a8-4bde-8737-5aa53989afc2",
   "metadata": {},
   "outputs": [
    {
     "name": "stdout",
     "output_type": "stream",
     "text": [
      "<class 'pandas.core.frame.DataFrame'>\n",
      "RangeIndex: 4277 entries, 0 to 4276\n",
      "Data columns (total 13 columns):\n",
      " #   Column        Non-Null Count  Dtype  \n",
      "---  ------        --------------  -----  \n",
      " 0   PassengerId   4277 non-null   object \n",
      " 1   HomePlanet    4190 non-null   object \n",
      " 2   CryoSleep     4184 non-null   object \n",
      " 3   Cabin         4177 non-null   object \n",
      " 4   Destination   4185 non-null   object \n",
      " 5   Age           4186 non-null   float64\n",
      " 6   VIP           4184 non-null   object \n",
      " 7   RoomService   4195 non-null   float64\n",
      " 8   FoodCourt     4171 non-null   float64\n",
      " 9   ShoppingMall  4179 non-null   float64\n",
      " 10  Spa           4176 non-null   float64\n",
      " 11  VRDeck        4197 non-null   float64\n",
      " 12  Name          4183 non-null   object \n",
      "dtypes: float64(6), object(7)\n",
      "memory usage: 434.5+ KB\n"
     ]
    }
   ],
   "source": [
    "test.info()"
   ]
  },
  {
   "cell_type": "code",
   "execution_count": 9,
   "id": "aff1aa64-ba06-408a-817f-76839ccd23f2",
   "metadata": {},
   "outputs": [
    {
     "data": {
      "text/html": [
       "<div>\n",
       "<style scoped>\n",
       "    .dataframe tbody tr th:only-of-type {\n",
       "        vertical-align: middle;\n",
       "    }\n",
       "\n",
       "    .dataframe tbody tr th {\n",
       "        vertical-align: top;\n",
       "    }\n",
       "\n",
       "    .dataframe thead th {\n",
       "        text-align: right;\n",
       "    }\n",
       "</style>\n",
       "<table border=\"1\" class=\"dataframe\">\n",
       "  <thead>\n",
       "    <tr style=\"text-align: right;\">\n",
       "      <th></th>\n",
       "      <th>PassengerId</th>\n",
       "      <th>HomePlanet</th>\n",
       "      <th>CryoSleep</th>\n",
       "      <th>Cabin</th>\n",
       "      <th>Destination</th>\n",
       "      <th>Age</th>\n",
       "      <th>VIP</th>\n",
       "      <th>RoomService</th>\n",
       "      <th>FoodCourt</th>\n",
       "      <th>ShoppingMall</th>\n",
       "      <th>Spa</th>\n",
       "      <th>VRDeck</th>\n",
       "      <th>Name</th>\n",
       "    </tr>\n",
       "  </thead>\n",
       "  <tbody>\n",
       "    <tr>\n",
       "      <th>407</th>\n",
       "      <td>0856_01</td>\n",
       "      <td>Earth</td>\n",
       "      <td>False</td>\n",
       "      <td>F/177/P</td>\n",
       "      <td>TRAPPIST-1e</td>\n",
       "      <td>28.0</td>\n",
       "      <td>False</td>\n",
       "      <td>869.0</td>\n",
       "      <td>0.0</td>\n",
       "      <td>2.0</td>\n",
       "      <td>0.0</td>\n",
       "      <td>0.0</td>\n",
       "      <td>Rica Floways</td>\n",
       "    </tr>\n",
       "    <tr>\n",
       "      <th>1273</th>\n",
       "      <td>2715_01</td>\n",
       "      <td>Mars</td>\n",
       "      <td>False</td>\n",
       "      <td>E/162/P</td>\n",
       "      <td>TRAPPIST-1e</td>\n",
       "      <td>24.0</td>\n",
       "      <td>False</td>\n",
       "      <td>671.0</td>\n",
       "      <td>0.0</td>\n",
       "      <td>344.0</td>\n",
       "      <td>0.0</td>\n",
       "      <td>6.0</td>\n",
       "      <td>Fex Gerry</td>\n",
       "    </tr>\n",
       "    <tr>\n",
       "      <th>3211</th>\n",
       "      <td>7046_01</td>\n",
       "      <td>Europa</td>\n",
       "      <td>False</td>\n",
       "      <td>T/3/S</td>\n",
       "      <td>55 Cancri e</td>\n",
       "      <td>27.0</td>\n",
       "      <td>NaN</td>\n",
       "      <td>6.0</td>\n",
       "      <td>400.0</td>\n",
       "      <td>0.0</td>\n",
       "      <td>6472.0</td>\n",
       "      <td>0.0</td>\n",
       "      <td>Tope Ativeezy</td>\n",
       "    </tr>\n",
       "    <tr>\n",
       "      <th>3802</th>\n",
       "      <td>8325_02</td>\n",
       "      <td>Earth</td>\n",
       "      <td>False</td>\n",
       "      <td>F/1599/S</td>\n",
       "      <td>TRAPPIST-1e</td>\n",
       "      <td>33.0</td>\n",
       "      <td>False</td>\n",
       "      <td>0.0</td>\n",
       "      <td>441.0</td>\n",
       "      <td>0.0</td>\n",
       "      <td>0.0</td>\n",
       "      <td>1113.0</td>\n",
       "      <td>Gerly Horners</td>\n",
       "    </tr>\n",
       "    <tr>\n",
       "      <th>1701</th>\n",
       "      <td>3646_01</td>\n",
       "      <td>Europa</td>\n",
       "      <td>False</td>\n",
       "      <td>C/131/S</td>\n",
       "      <td>TRAPPIST-1e</td>\n",
       "      <td>16.0</td>\n",
       "      <td>False</td>\n",
       "      <td>7.0</td>\n",
       "      <td>1879.0</td>\n",
       "      <td>0.0</td>\n",
       "      <td>28.0</td>\n",
       "      <td>2186.0</td>\n",
       "      <td>Alcorix Drelcate</td>\n",
       "    </tr>\n",
       "  </tbody>\n",
       "</table>\n",
       "</div>"
      ],
      "text/plain": [
       "     PassengerId HomePlanet CryoSleep     Cabin  Destination   Age    VIP  \\\n",
       "407      0856_01      Earth     False   F/177/P  TRAPPIST-1e  28.0  False   \n",
       "1273     2715_01       Mars     False   E/162/P  TRAPPIST-1e  24.0  False   \n",
       "3211     7046_01     Europa     False     T/3/S  55 Cancri e  27.0    NaN   \n",
       "3802     8325_02      Earth     False  F/1599/S  TRAPPIST-1e  33.0  False   \n",
       "1701     3646_01     Europa     False   C/131/S  TRAPPIST-1e  16.0  False   \n",
       "\n",
       "      RoomService  FoodCourt  ShoppingMall     Spa  VRDeck              Name  \n",
       "407         869.0        0.0           2.0     0.0     0.0      Rica Floways  \n",
       "1273        671.0        0.0         344.0     0.0     6.0         Fex Gerry  \n",
       "3211          6.0      400.0           0.0  6472.0     0.0     Tope Ativeezy  \n",
       "3802          0.0      441.0           0.0     0.0  1113.0     Gerly Horners  \n",
       "1701          7.0     1879.0           0.0    28.0  2186.0  Alcorix Drelcate  "
      ]
     },
     "execution_count": 9,
     "metadata": {},
     "output_type": "execute_result"
    }
   ],
   "source": [
    "test.sample(5)"
   ]
  },
  {
   "cell_type": "code",
   "execution_count": 10,
   "id": "154dbf03-f292-44c8-b830-a676acd09ed8",
   "metadata": {},
   "outputs": [
    {
     "data": {
      "text/plain": [
       "PassengerId       0\n",
       "HomePlanet      201\n",
       "CryoSleep       217\n",
       "Cabin           199\n",
       "Destination     182\n",
       "Age             179\n",
       "VIP             203\n",
       "RoomService     181\n",
       "FoodCourt       183\n",
       "ShoppingMall    208\n",
       "Spa             183\n",
       "VRDeck          188\n",
       "Name            200\n",
       "Transported       0\n",
       "dtype: int64"
      ]
     },
     "execution_count": 10,
     "metadata": {},
     "output_type": "execute_result"
    }
   ],
   "source": [
    "train.isnull().sum()"
   ]
  },
  {
   "cell_type": "markdown",
   "id": "d72b9e5d-76f5-4f26-86fa-90a98ab106d4",
   "metadata": {
    "jp-MarkdownHeadingCollapsed": true
   },
   "source": [
    "#### Wnioski z analizy\n",
    "Dane zawierają 14 kolumn i 8693 wierszy\n",
    "Dane sa zróznicowane z pod kątem typów:\n",
    "- 7 kolumn zawiera ty tanych 'object' który moze zawierac dowolna wartosc, pop przejrzeniu przykłądowych danych sa to napisy\n",
    "- 6 cech to watosci zmienno przecinkowe\n",
    "- 1 cecha to wartosc boolowska (true/false)\n",
    "\n",
    "Duzo wartosc jest pustych \n",
    "\n",
    "Wartoscii kategoryczne znajduja sie w kolumnach:\n",
    "- HomePlanet (Earth,Europa,Mars)\n",
    "- CryoSleep znajduje sie True/False\n",
    "- Destination (TRAPPIST-1e, 55 Cancri e, PSO J318.5-22)\n",
    "- VIP  znajduje sie True/Flase)\n",
    "\n",
    "Cecha PassengerId to unikalny identyfikator każdego pasażera. Każdy identyfikator ma formę gggg_pp, gdzie gggg oznacza grupę, z którą podróżuje pasażer, a pp to jego numer w grupie. Osoby w grupie są często członkami rodziny, ale nie zawsze."
   ]
  },
  {
   "cell_type": "markdown",
   "id": "6f75964d-3086-466e-b05a-63d221c21481",
   "metadata": {},
   "source": [
    "### Wizualizacja danych"
   ]
  },
  {
   "cell_type": "code",
   "execution_count": 11,
   "id": "166620a2-5e3f-45f5-984f-a8abc500922e",
   "metadata": {},
   "outputs": [
    {
     "data": {
      "image/png": "[encoded data removed]",
      "text/plain": [
       "<Figure size 1200x800 with 6 Axes>"
      ]
     },
     "metadata": {},
     "output_type": "display_data"
    }
   ],
   "source": [
    "train.hist(bins = 50, figsize = (12,8))\n",
    "plt.show()"
   ]
  },
  {
   "cell_type": "code",
   "execution_count": 12,
   "id": "d6ad7264-8448-46c2-a3d0-c0ba8ab6d63f",
   "metadata": {},
   "outputs": [
    {
     "data": {
      "image/png": "[encoded data removed]",
      "text/plain": [
       "<Figure size 640x480 with 1 Axes>"
      ]
     },
     "metadata": {},
     "output_type": "display_data"
    }
   ],
   "source": [
    "sns.histplot(train['Age'].dropna(), bins=30)\n",
    "plt.title('Rozkład wieku pasażerów')\n",
    "plt.show()"
   ]
  },
  {
   "cell_type": "code",
   "execution_count": 13,
   "id": "298d7bae-8c0c-48de-9919-0153ad3c4e9c",
   "metadata": {},
   "outputs": [
    {
     "data": {
      "image/png": "[encoded data removed]",
      "text/plain": [
       "<Figure size 640x480 with 1 Axes>"
      ]
     },
     "metadata": {},
     "output_type": "display_data"
    }
   ],
   "source": [
    "sns.countplot(x='HomePlanet', hue='Transported', data=train)\n",
    "plt.title('Przetransportowanie w zależności od Planety')\n",
    "plt.show()"
   ]
  },
  {
   "cell_type": "code",
   "execution_count": 14,
   "id": "f6859c43-a507-4f5c-a946-2c8b7077c043",
   "metadata": {},
   "outputs": [
    {
     "data": {
      "image/png": "[encoded data removed]",
      "text/plain": [
       "<Figure size 640x480 with 1 Axes>"
      ]
     },
     "metadata": {},
     "output_type": "display_data"
    }
   ],
   "source": [
    "sns.countplot(x='HomePlanet', hue='Transported', data=train)\n",
    "plt.title('Przetransportowanie w zależności od Planety')\n",
    "plt.show()"
   ]
  },
  {
   "cell_type": "code",
   "execution_count": 15,
   "id": "d5376439-9fa9-4881-b391-ccd62c038ab4",
   "metadata": {},
   "outputs": [
    {
     "data": {
      "image/png": "[encoded data removed]",
      "text/plain": [
       "<Figure size 640x480 with 1 Axes>"
      ]
     },
     "metadata": {},
     "output_type": "display_data"
    }
   ],
   "source": [
    "sns.countplot(x='Destination', hue='Transported', data=train)\n",
    "plt.title('Przetransportowanie w zależności od Planety')\n",
    "plt.show()"
   ]
  },
  {
   "cell_type": "markdown",
   "id": "41c47e24-7d1a-43ad-a34a-96471f935f18",
   "metadata": {
    "jp-MarkdownHeadingCollapsed": true
   },
   "source": [
    "## Przygotowanie danych"
   ]
  },
  {
   "cell_type": "code",
   "execution_count": 16,
   "id": "9c27d8fd-ceda-475f-abf9-a8e5fb263846",
   "metadata": {},
   "outputs": [
    {
     "name": "stdout",
     "output_type": "stream",
     "text": [
      "<class 'pandas.core.frame.DataFrame'>\n",
      "RangeIndex: 8693 entries, 0 to 8692\n",
      "Data columns (total 14 columns):\n",
      " #   Column        Non-Null Count  Dtype  \n",
      "---  ------        --------------  -----  \n",
      " 0   PassengerId   8693 non-null   object \n",
      " 1   HomePlanet    8492 non-null   object \n",
      " 2   CryoSleep     8476 non-null   object \n",
      " 3   Cabin         8494 non-null   object \n",
      " 4   Destination   8511 non-null   object \n",
      " 5   Age           8514 non-null   float64\n",
      " 6   VIP           8490 non-null   object \n",
      " 7   RoomService   8512 non-null   float64\n",
      " 8   FoodCourt     8510 non-null   float64\n",
      " 9   ShoppingMall  8485 non-null   float64\n",
      " 10  Spa           8510 non-null   float64\n",
      " 11  VRDeck        8505 non-null   float64\n",
      " 12  Name          8493 non-null   object \n",
      " 13  Transported   8693 non-null   bool   \n",
      "dtypes: bool(1), float64(6), object(7)\n",
      "memory usage: 891.5+ KB\n"
     ]
    }
   ],
   "source": [
    "train.info()"
   ]
  },
  {
   "cell_type": "markdown",
   "id": "2867eb8f-94a1-4a6a-b3ef-bb5b5942c202",
   "metadata": {
    "jp-MarkdownHeadingCollapsed": true
   },
   "source": [
    "### Kolumna PassengerId   "
   ]
  },
  {
   "cell_type": "markdown",
   "id": "1b8b69cb-de7f-4e93-82ac-93d63253f496",
   "metadata": {},
   "source": [
    "- Ceche PassengerId nie trzeba uzupełniac ale rozdzile ja bo sa w niej zawarte grupy\n"
   ]
  },
  {
   "cell_type": "code",
   "execution_count": 17,
   "id": "7396fe6d-8e7a-4949-b84c-f979c1db2282",
   "metadata": {},
   "outputs": [
    {
     "data": {
      "text/plain": [
       "0"
      ]
     },
     "execution_count": 17,
     "metadata": {},
     "output_type": "execute_result"
    }
   ],
   "source": [
    "train['PassengerId'].isnull().sum()"
   ]
  },
  {
   "cell_type": "code",
   "execution_count": 18,
   "id": "08046255-55b6-4a6a-852e-a7ee5a2faf30",
   "metadata": {},
   "outputs": [
    {
     "data": {
      "text/plain": [
       "0    0001_01\n",
       "1    0002_01\n",
       "2    0003_01\n",
       "3    0003_02\n",
       "4    0004_01\n",
       "Name: PassengerId, dtype: object"
      ]
     },
     "execution_count": 18,
     "metadata": {},
     "output_type": "execute_result"
    }
   ],
   "source": [
    "train['PassengerId'].head()"
   ]
  },
  {
   "cell_type": "code",
   "execution_count": 19,
   "id": "eb23efe7",
   "metadata": {},
   "outputs": [],
   "source": [
    "train['GroupID']= train['PassengerId'].map(lambda x: x.split('_')[0]).astype(int)\n",
    "test['GroupID']= test['PassengerId'].map(lambda x: x.split('_')[0]).astype(int)\n"
   ]
  },
  {
   "cell_type": "code",
   "execution_count": 20,
   "id": "598e58a8-88aa-4c75-ac48-025716d27df3",
   "metadata": {},
   "outputs": [],
   "source": [
    "train['GroupSize'] = train.groupby('GroupID')['PassengerId'].transform('count')\n",
    "test['GroupSize'] = test.groupby('GroupID')['PassengerId'].transform('count')\n"
   ]
  },
  {
   "cell_type": "markdown",
   "id": "615d2c4b-fbe7-4d8c-9ec9-e53e34a2959a",
   "metadata": {
    "jp-MarkdownHeadingCollapsed": true
   },
   "source": [
    "### Kolumna HomePlanet    \n",
    "- użyje One Hot Encoder"
   ]
  },
  {
   "cell_type": "code",
   "execution_count": 21,
   "id": "e438bd9a-6091-4010-adbb-f227da94ee63",
   "metadata": {},
   "outputs": [
    {
     "data": {
      "text/plain": [
       "201"
      ]
     },
     "execution_count": 21,
     "metadata": {},
     "output_type": "execute_result"
    }
   ],
   "source": [
    "train['HomePlanet'].isnull().sum()"
   ]
  },
  {
   "cell_type": "code",
   "execution_count": 22,
   "id": "00c6b2bc-673e-4ce9-aa46-5bd0dccb2b76",
   "metadata": {},
   "outputs": [
    {
     "data": {
      "text/html": [
       "<div>\n",
       "<style scoped>\n",
       "    .dataframe tbody tr th:only-of-type {\n",
       "        vertical-align: middle;\n",
       "    }\n",
       "\n",
       "    .dataframe tbody tr th {\n",
       "        vertical-align: top;\n",
       "    }\n",
       "\n",
       "    .dataframe thead th {\n",
       "        text-align: right;\n",
       "    }\n",
       "</style>\n",
       "<table border=\"1\" class=\"dataframe\">\n",
       "  <thead>\n",
       "    <tr style=\"text-align: right;\">\n",
       "      <th></th>\n",
       "      <th>PassengerId</th>\n",
       "      <th>HomePlanet</th>\n",
       "      <th>CryoSleep</th>\n",
       "      <th>Cabin</th>\n",
       "      <th>Destination</th>\n",
       "      <th>Age</th>\n",
       "      <th>VIP</th>\n",
       "      <th>RoomService</th>\n",
       "      <th>FoodCourt</th>\n",
       "      <th>ShoppingMall</th>\n",
       "      <th>Spa</th>\n",
       "      <th>VRDeck</th>\n",
       "      <th>Name</th>\n",
       "      <th>Transported</th>\n",
       "      <th>GroupID</th>\n",
       "      <th>GroupSize</th>\n",
       "    </tr>\n",
       "  </thead>\n",
       "  <tbody>\n",
       "    <tr>\n",
       "      <th>59</th>\n",
       "      <td>0064_02</td>\n",
       "      <td>NaN</td>\n",
       "      <td>True</td>\n",
       "      <td>E/3/S</td>\n",
       "      <td>TRAPPIST-1e</td>\n",
       "      <td>33.0</td>\n",
       "      <td>False</td>\n",
       "      <td>0.0</td>\n",
       "      <td>0.0</td>\n",
       "      <td>NaN</td>\n",
       "      <td>0.0</td>\n",
       "      <td>0.0</td>\n",
       "      <td>Colatz Keen</td>\n",
       "      <td>True</td>\n",
       "      <td>64</td>\n",
       "      <td>2</td>\n",
       "    </tr>\n",
       "    <tr>\n",
       "      <th>113</th>\n",
       "      <td>0119_01</td>\n",
       "      <td>NaN</td>\n",
       "      <td>False</td>\n",
       "      <td>A/0/P</td>\n",
       "      <td>TRAPPIST-1e</td>\n",
       "      <td>39.0</td>\n",
       "      <td>False</td>\n",
       "      <td>0.0</td>\n",
       "      <td>2344.0</td>\n",
       "      <td>0.0</td>\n",
       "      <td>65.0</td>\n",
       "      <td>6898.0</td>\n",
       "      <td>Batan Coning</td>\n",
       "      <td>False</td>\n",
       "      <td>119</td>\n",
       "      <td>2</td>\n",
       "    </tr>\n",
       "    <tr>\n",
       "      <th>186</th>\n",
       "      <td>0210_01</td>\n",
       "      <td>NaN</td>\n",
       "      <td>True</td>\n",
       "      <td>D/6/P</td>\n",
       "      <td>55 Cancri e</td>\n",
       "      <td>24.0</td>\n",
       "      <td>False</td>\n",
       "      <td>0.0</td>\n",
       "      <td>0.0</td>\n",
       "      <td>NaN</td>\n",
       "      <td>0.0</td>\n",
       "      <td>0.0</td>\n",
       "      <td>Arraid Inicont</td>\n",
       "      <td>True</td>\n",
       "      <td>210</td>\n",
       "      <td>1</td>\n",
       "    </tr>\n",
       "    <tr>\n",
       "      <th>225</th>\n",
       "      <td>0242_01</td>\n",
       "      <td>NaN</td>\n",
       "      <td>False</td>\n",
       "      <td>F/46/S</td>\n",
       "      <td>TRAPPIST-1e</td>\n",
       "      <td>18.0</td>\n",
       "      <td>False</td>\n",
       "      <td>313.0</td>\n",
       "      <td>1.0</td>\n",
       "      <td>691.0</td>\n",
       "      <td>283.0</td>\n",
       "      <td>0.0</td>\n",
       "      <td>Almone Sté</td>\n",
       "      <td>False</td>\n",
       "      <td>242</td>\n",
       "      <td>1</td>\n",
       "    </tr>\n",
       "    <tr>\n",
       "      <th>234</th>\n",
       "      <td>0251_01</td>\n",
       "      <td>NaN</td>\n",
       "      <td>True</td>\n",
       "      <td>C/11/S</td>\n",
       "      <td>55 Cancri e</td>\n",
       "      <td>54.0</td>\n",
       "      <td>False</td>\n",
       "      <td>0.0</td>\n",
       "      <td>0.0</td>\n",
       "      <td>0.0</td>\n",
       "      <td>0.0</td>\n",
       "      <td>0.0</td>\n",
       "      <td>Diphah Amsive</td>\n",
       "      <td>True</td>\n",
       "      <td>251</td>\n",
       "      <td>1</td>\n",
       "    </tr>\n",
       "    <tr>\n",
       "      <th>...</th>\n",
       "      <td>...</td>\n",
       "      <td>...</td>\n",
       "      <td>...</td>\n",
       "      <td>...</td>\n",
       "      <td>...</td>\n",
       "      <td>...</td>\n",
       "      <td>...</td>\n",
       "      <td>...</td>\n",
       "      <td>...</td>\n",
       "      <td>...</td>\n",
       "      <td>...</td>\n",
       "      <td>...</td>\n",
       "      <td>...</td>\n",
       "      <td>...</td>\n",
       "      <td>...</td>\n",
       "      <td>...</td>\n",
       "    </tr>\n",
       "    <tr>\n",
       "      <th>8515</th>\n",
       "      <td>9084_01</td>\n",
       "      <td>NaN</td>\n",
       "      <td>False</td>\n",
       "      <td>E/582/P</td>\n",
       "      <td>TRAPPIST-1e</td>\n",
       "      <td>25.0</td>\n",
       "      <td>False</td>\n",
       "      <td>1258.0</td>\n",
       "      <td>0.0</td>\n",
       "      <td>22.0</td>\n",
       "      <td>19.0</td>\n",
       "      <td>0.0</td>\n",
       "      <td>Jurs Mone</td>\n",
       "      <td>False</td>\n",
       "      <td>9084</td>\n",
       "      <td>1</td>\n",
       "    </tr>\n",
       "    <tr>\n",
       "      <th>8613</th>\n",
       "      <td>9194_01</td>\n",
       "      <td>NaN</td>\n",
       "      <td>False</td>\n",
       "      <td>E/603/S</td>\n",
       "      <td>55 Cancri e</td>\n",
       "      <td>53.0</td>\n",
       "      <td>False</td>\n",
       "      <td>0.0</td>\n",
       "      <td>4017.0</td>\n",
       "      <td>0.0</td>\n",
       "      <td>13.0</td>\n",
       "      <td>3147.0</td>\n",
       "      <td>NaN</td>\n",
       "      <td>False</td>\n",
       "      <td>9194</td>\n",
       "      <td>2</td>\n",
       "    </tr>\n",
       "    <tr>\n",
       "      <th>8666</th>\n",
       "      <td>9248_01</td>\n",
       "      <td>NaN</td>\n",
       "      <td>False</td>\n",
       "      <td>F/1792/S</td>\n",
       "      <td>55 Cancri e</td>\n",
       "      <td>38.0</td>\n",
       "      <td>NaN</td>\n",
       "      <td>28.0</td>\n",
       "      <td>1208.0</td>\n",
       "      <td>973.0</td>\n",
       "      <td>207.0</td>\n",
       "      <td>0.0</td>\n",
       "      <td>Gian Perle</td>\n",
       "      <td>True</td>\n",
       "      <td>9248</td>\n",
       "      <td>1</td>\n",
       "    </tr>\n",
       "    <tr>\n",
       "      <th>8674</th>\n",
       "      <td>9257_01</td>\n",
       "      <td>NaN</td>\n",
       "      <td>False</td>\n",
       "      <td>F/1892/P</td>\n",
       "      <td>TRAPPIST-1e</td>\n",
       "      <td>13.0</td>\n",
       "      <td>False</td>\n",
       "      <td>39.0</td>\n",
       "      <td>0.0</td>\n",
       "      <td>1085.0</td>\n",
       "      <td>24.0</td>\n",
       "      <td>0.0</td>\n",
       "      <td>Ties Apple</td>\n",
       "      <td>False</td>\n",
       "      <td>9257</td>\n",
       "      <td>1</td>\n",
       "    </tr>\n",
       "    <tr>\n",
       "      <th>8684</th>\n",
       "      <td>9274_01</td>\n",
       "      <td>NaN</td>\n",
       "      <td>True</td>\n",
       "      <td>G/1508/P</td>\n",
       "      <td>TRAPPIST-1e</td>\n",
       "      <td>23.0</td>\n",
       "      <td>False</td>\n",
       "      <td>0.0</td>\n",
       "      <td>0.0</td>\n",
       "      <td>0.0</td>\n",
       "      <td>0.0</td>\n",
       "      <td>0.0</td>\n",
       "      <td>Chelsa Bullisey</td>\n",
       "      <td>True</td>\n",
       "      <td>9274</td>\n",
       "      <td>1</td>\n",
       "    </tr>\n",
       "  </tbody>\n",
       "</table>\n",
       "<p>201 rows × 16 columns</p>\n",
       "</div>"
      ],
      "text/plain": [
       "     PassengerId HomePlanet CryoSleep     Cabin  Destination   Age    VIP  \\\n",
       "59       0064_02        NaN      True     E/3/S  TRAPPIST-1e  33.0  False   \n",
       "113      0119_01        NaN     False     A/0/P  TRAPPIST-1e  39.0  False   \n",
       "186      0210_01        NaN      True     D/6/P  55 Cancri e  24.0  False   \n",
       "225      0242_01        NaN     False    F/46/S  TRAPPIST-1e  18.0  False   \n",
       "234      0251_01        NaN      True    C/11/S  55 Cancri e  54.0  False   \n",
       "...          ...        ...       ...       ...          ...   ...    ...   \n",
       "8515     9084_01        NaN     False   E/582/P  TRAPPIST-1e  25.0  False   \n",
       "8613     9194_01        NaN     False   E/603/S  55 Cancri e  53.0  False   \n",
       "8666     9248_01        NaN     False  F/1792/S  55 Cancri e  38.0    NaN   \n",
       "8674     9257_01        NaN     False  F/1892/P  TRAPPIST-1e  13.0  False   \n",
       "8684     9274_01        NaN      True  G/1508/P  TRAPPIST-1e  23.0  False   \n",
       "\n",
       "      RoomService  FoodCourt  ShoppingMall    Spa  VRDeck             Name  \\\n",
       "59            0.0        0.0           NaN    0.0     0.0      Colatz Keen   \n",
       "113           0.0     2344.0           0.0   65.0  6898.0     Batan Coning   \n",
       "186           0.0        0.0           NaN    0.0     0.0   Arraid Inicont   \n",
       "225         313.0        1.0         691.0  283.0     0.0       Almone Sté   \n",
       "234           0.0        0.0           0.0    0.0     0.0    Diphah Amsive   \n",
       "...           ...        ...           ...    ...     ...              ...   \n",
       "8515       1258.0        0.0          22.0   19.0     0.0        Jurs Mone   \n",
       "8613          0.0     4017.0           0.0   13.0  3147.0              NaN   \n",
       "8666         28.0     1208.0         973.0  207.0     0.0       Gian Perle   \n",
       "8674         39.0        0.0        1085.0   24.0     0.0       Ties Apple   \n",
       "8684          0.0        0.0           0.0    0.0     0.0  Chelsa Bullisey   \n",
       "\n",
       "      Transported  GroupID  GroupSize  \n",
       "59           True       64          2  \n",
       "113         False      119          2  \n",
       "186          True      210          1  \n",
       "225         False      242          1  \n",
       "234          True      251          1  \n",
       "...           ...      ...        ...  \n",
       "8515        False     9084          1  \n",
       "8613        False     9194          2  \n",
       "8666         True     9248          1  \n",
       "8674        False     9257          1  \n",
       "8684         True     9274          1  \n",
       "\n",
       "[201 rows x 16 columns]"
      ]
     },
     "execution_count": 22,
     "metadata": {},
     "output_type": "execute_result"
    }
   ],
   "source": [
    "train[train['HomePlanet'].isnull()]"
   ]
  },
  {
   "cell_type": "code",
   "execution_count": 23,
   "id": "9214e9a8-e90f-4b35-83c4-53892e71f8c4",
   "metadata": {},
   "outputs": [],
   "source": [
    "train['HomePlanet'] = train['HomePlanet'].fillna('None')"
   ]
  },
  {
   "cell_type": "code",
   "execution_count": 24,
   "id": "03e10c1e-e0de-430c-a150-ec5a98259f10",
   "metadata": {},
   "outputs": [
    {
     "data": {
      "image/png": "[encoded data removed]",
      "text/plain": [
       "<Figure size 640x480 with 1 Axes>"
      ]
     },
     "metadata": {},
     "output_type": "display_data"
    }
   ],
   "source": [
    "train.groupby('HomePlanet')['Transported'].mean().plot(kind= 'bar');"
   ]
  },
  {
   "cell_type": "markdown",
   "id": "89c05089-b398-4d87-9873-e56b0cab1a72",
   "metadata": {
    "jp-MarkdownHeadingCollapsed": true
   },
   "source": [
    "### Kolumna CryoSleep"
   ]
  },
  {
   "cell_type": "code",
   "execution_count": 25,
   "id": "f29ac525-9106-415b-91c3-1f80bd9e5a8f",
   "metadata": {},
   "outputs": [
    {
     "data": {
      "text/plain": [
       "217"
      ]
     },
     "execution_count": 25,
     "metadata": {},
     "output_type": "execute_result"
    }
   ],
   "source": [
    "train['CryoSleep'].isnull().sum()"
   ]
  },
  {
   "cell_type": "code",
   "execution_count": 26,
   "id": "4e7129bf-36be-497a-b1bf-5d98506bfbe9",
   "metadata": {},
   "outputs": [
    {
     "data": {
      "text/plain": [
       "CryoSleep\n",
       "False    5439\n",
       "True     3037\n",
       "Name: count, dtype: int64"
      ]
     },
     "execution_count": 26,
     "metadata": {},
     "output_type": "execute_result"
    }
   ],
   "source": [
    "train['CryoSleep'].value_counts()"
   ]
  },
  {
   "cell_type": "markdown",
   "id": "14df3c67-7330-4ac1-bd77-0c7eb42b4534",
   "metadata": {},
   "source": [
    "- Ceche CryoSleep - wypełnic puste waartosci danymi z udogodnien na statki poniewa jezeli ktos spi to nie moze wydawac pieniedzy na statku\n"
   ]
  },
  {
   "cell_type": "code",
   "execution_count": 27,
   "id": "234d948a-1609-4a80-ab5a-1de011a91746",
   "metadata": {},
   "outputs": [],
   "source": [
    "def sleep(row):\n",
    "    if row['RoomService'] > 0 : return False\n",
    "    if row['FoodCourt'] > 0 : return False\n",
    "    if row['ShoppingMall'] > 0 : return False\n",
    "    if row['Spa'] > 0 : return False\n",
    "    if row['VRDeck'] > 0 : return False\n",
    "    return True\n",
    "\n",
    "train.loc[train['CryoSleep'].isnull(),'CryoSleep'] = train.apply(sleep, axis = 1)\n",
    "test.loc[test['CryoSleep'].isnull(),'CryoSleep'] = test.apply(sleep, axis = 1)\n"
   ]
  },
  {
   "cell_type": "code",
   "execution_count": null,
   "id": "da658537-9fc7-4711-92cc-f2efaa045479",
   "metadata": {},
   "outputs": [],
   "source": []
  },
  {
   "cell_type": "markdown",
   "id": "5d6f30e1-bfb9-4601-af1f-bd5e02f0e7b4",
   "metadata": {
    "jp-MarkdownHeadingCollapsed": true
   },
   "source": [
    "### Kolumna Cabin         "
   ]
  },
  {
   "cell_type": "markdown",
   "id": "cb938f6b-171d-4cc5-8702-a1eb49e1e403",
   "metadata": {},
   "source": [
    "- Ceche Cabin - rozbije na poszczegolne sektory poniewaz zawartosc to prawdopodobnie pokład/numer kabiny/strona statku(prawa/lewa burta) i wypełnie modą"
   ]
  },
  {
   "cell_type": "code",
   "execution_count": 28,
   "id": "3b2b441f-e61f-4b63-9505-efffca4c2831",
   "metadata": {},
   "outputs": [
    {
     "data": {
      "text/plain": [
       "0    B/0/P\n",
       "1    F/0/S\n",
       "2    A/0/S\n",
       "3    A/0/S\n",
       "4    F/1/S\n",
       "Name: Cabin, dtype: object"
      ]
     },
     "execution_count": 28,
     "metadata": {},
     "output_type": "execute_result"
    }
   ],
   "source": [
    "train['Cabin'].head()"
   ]
  },
  {
   "cell_type": "code",
   "execution_count": 29,
   "id": "558e2fb4-57ab-436d-b34d-7384cf73a9b8",
   "metadata": {},
   "outputs": [
    {
     "data": {
      "text/plain": [
       "199"
      ]
     },
     "execution_count": 29,
     "metadata": {},
     "output_type": "execute_result"
    }
   ],
   "source": [
    "train['Cabin'].isnull().sum()"
   ]
  },
  {
   "cell_type": "code",
   "execution_count": 30,
   "id": "32aca490-d8f0-4a8d-89d0-b6fada2b7595",
   "metadata": {},
   "outputs": [],
   "source": [
    "train['Cabin'] = train['Cabin'].fillna('None')"
   ]
  },
  {
   "cell_type": "code",
   "execution_count": 31,
   "id": "d4f28a15-2e21-4264-92f3-6b65cf82e207",
   "metadata": {},
   "outputs": [],
   "source": [
    "train['cabin_first_label'] = train[\"Cabin\"].map(lambda x: x.split(\"/\")[0] if isinstance(x, str) and len(x.split(\"/\")) > 0 else None)\n",
    "train['cabin_secound_label'] = train[\"Cabin\"].map(lambda x: x.split(\"/\")[1] if isinstance(x, str) and len(x.split(\"/\")) > 1 else None)\n",
    "train['cabin_third_label'] = train[\"Cabin\"].map(lambda x: x.split(\"/\")[2] if isinstance(x, str) and len(x.split(\"/\")) > 1 else None)\n",
    "\n",
    "test['cabin_first_label'] = test[\"Cabin\"].map(lambda x: x.split(\"/\")[0] if isinstance(x, str) and len(x.split(\"/\")) > 0 else None)\n",
    "test['cabin_secound_label'] = test[\"Cabin\"].map(lambda x: x.split(\"/\")[1] if isinstance(x, str) and len(x.split(\"/\")) > 1 else None)\n",
    "test['cabin_third_label'] = test[\"Cabin\"].map(lambda x: x.split(\"/\")[2] if isinstance(x, str) and len(x.split(\"/\")) > 1 else None)\n",
    "\n",
    "train['cabin_third_label'] = train['cabin_third_label'].fillna('None')\n",
    "train['cabin_secound_label'] = train['cabin_secound_label'].fillna('None')\n",
    "\n",
    "test['cabin_secound_label'] = test['cabin_secound_label'].fillna('None')\n",
    "test['cabin_third_label'] = test['cabin_third_label'].fillna('None')"
   ]
  },
  {
   "cell_type": "code",
   "execution_count": 32,
   "id": "b6b47cb8-c733-462e-af8c-3120bc3f1262",
   "metadata": {},
   "outputs": [
    {
     "data": {
      "image/png": "[encoded data removed]",
      "text/plain": [
       "<Figure size 640x480 with 1 Axes>"
      ]
     },
     "metadata": {},
     "output_type": "display_data"
    }
   ],
   "source": [
    "train.groupby('cabin_first_label')['Transported'].mean().plot(kind= 'bar');"
   ]
  },
  {
   "cell_type": "code",
   "execution_count": 33,
   "id": "19b18365-c026-457c-b9d1-7ad4ccd4ea5d",
   "metadata": {},
   "outputs": [
    {
     "data": {
      "image/png": "[encoded data removed]",
      "text/plain": [
       "<Figure size 640x480 with 1 Axes>"
      ]
     },
     "metadata": {},
     "output_type": "display_data"
    }
   ],
   "source": [
    "train.groupby('cabin_third_label')['Transported'].mean().plot(kind= 'bar');"
   ]
  },
  {
   "cell_type": "markdown",
   "id": "aacb3c92-f2b0-47d2-8df1-91518f311273",
   "metadata": {
    "jp-MarkdownHeadingCollapsed": true
   },
   "source": [
    "### Kolumna Destination "
   ]
  },
  {
   "cell_type": "markdown",
   "id": "d1e66a70-2e3c-4703-81df-b78ca122bba9",
   "metadata": {},
   "source": [
    "- Ceche Destination - wypełnie je używajac grup,moim założeniem jest ze pasażerowie z tej samej grupy maja ten sam cel podrózy, a jezeli nie napewno znajduja sie na tym samym pokładzie \n"
   ]
  },
  {
   "cell_type": "code",
   "execution_count": 34,
   "id": "61047a18",
   "metadata": {},
   "outputs": [],
   "source": [
    "# Grupuje wartosci z Destination według GroupID, jesli wiersz nie jest pusty wybieramy z kazdej grupyid pierwszy element mody w innym przypadku none  \n",
    "most_common_destination = train.groupby(\"GroupID\")[\"Destination\"].agg(lambda x: x.mode().iloc[0] if not x.mode().empty else None)\n",
    "\n",
    "# jesli wiersz w kolumnie destination jest pusty wypełniam go zmienna wyzej w innym przypadku przepisuje wartosc\n",
    "train['Destination'] = train.apply(\n",
    "    lambda row: most_common_destination[row['GroupID']] if pd.isna(row['Destination']) else row['Destination'],\n",
    "    axis=1\n",
    ")\n",
    "\n",
    "# Grupuje wartosci z destination według cabin_first_label jesli nie jest moda pusta to wybierz pierwszy element mody w innym przypadku None\n",
    "most_common_by_deck = train.groupby('cabin_first_label')['Destination'].apply(lambda x: x.mode().iloc[0] if not x.mode().empty else None)\n",
    "\n",
    "# jesli wiersz w kolumnie destination jest pusty i jesli wartosc cabin_first_label jest w most_common_by_deck zwraca mode z poprzedniej zmiennej\n",
    "train['Destination'] = train.apply(lambda row: most_common_by_deck[row['cabin_first_label']] \n",
    "                                   if pd.isna(row['Destination']) and row['cabin_first_label'] in most_common_by_deck \n",
    "                                   else row['Destination'],axis=1\n",
    "                                  )\n",
    "\n",
    "\n",
    "most_common_destination = test.groupby(\"GroupID\")[\"Destination\"].agg(lambda x: x.mode().iloc[0] if not x.mode().empty else None)\n",
    "\n",
    "# jesli wiersz w kolumnie destination jest pusty wypełniam go zmienna wyzej w innym przypadku przepisuje wartosc\n",
    "test['Destination'] = test.apply(\n",
    "    lambda row: most_common_destination[row['GroupID']] if pd.isna(row['Destination']) else row['Destination'],\n",
    "    axis=1\n",
    ")\n",
    "\n",
    "# Grupuje wartosci z destination według cabin_first_label jesli nie jest moda pusta to wybierz pierwszy element mody w innym przypadku None\n",
    "most_common_by_deck = test.groupby('cabin_first_label')['Destination'].apply(lambda x: x.mode().iloc[0] if not x.mode().empty else None)\n",
    "\n",
    "# jesli wiersz w kolumnie destination jest pusty i jesli wartosc cabin_first_label jest w most_common_by_deck zwraca mode z poprzedniej zmiennej\n",
    "test['Destination'] = test.apply(lambda row: most_common_by_deck[row['cabin_first_label']] \n",
    "                                   if pd.isna(row['Destination']) and row['cabin_first_label'] in most_common_by_deck \n",
    "                                   else row['Destination'],axis=1\n",
    "                                  )\n",
    "\n",
    "\n"
   ]
  },
  {
   "cell_type": "code",
   "execution_count": 35,
   "id": "2846f093-ee45-44ab-9690-fd1f7d33f2e1",
   "metadata": {},
   "outputs": [
    {
     "data": {
      "text/plain": [
       "0"
      ]
     },
     "execution_count": 35,
     "metadata": {},
     "output_type": "execute_result"
    }
   ],
   "source": [
    "train['Destination'].isnull().sum()"
   ]
  },
  {
   "cell_type": "code",
   "execution_count": 36,
   "id": "b984c54b-f970-4624-90fb-6a0deffb7510",
   "metadata": {},
   "outputs": [
    {
     "data": {
      "text/plain": [
       "Destination\n",
       "TRAPPIST-1e      6072\n",
       "55 Cancri e      1816\n",
       "PSO J318.5-22     805\n",
       "Name: count, dtype: int64"
      ]
     },
     "execution_count": 36,
     "metadata": {},
     "output_type": "execute_result"
    }
   ],
   "source": [
    "train['Destination'].value_counts()"
   ]
  },
  {
   "cell_type": "code",
   "execution_count": 37,
   "id": "08882329-8ab4-4582-85e9-bb06f0ecc3c8",
   "metadata": {},
   "outputs": [],
   "source": [
    "train['Destination'] = train['Destination'].fillna('None')"
   ]
  },
  {
   "cell_type": "code",
   "execution_count": 38,
   "id": "862edeb8-decf-46db-b534-ba2bfbe7b5c6",
   "metadata": {},
   "outputs": [
    {
     "data": {
      "image/png": "[encoded data removed]",
      "text/plain": [
       "<Figure size 640x480 with 1 Axes>"
      ]
     },
     "metadata": {},
     "output_type": "display_data"
    }
   ],
   "source": [
    "train.groupby('Destination')['Transported'].mean().plot(kind= 'bar');"
   ]
  },
  {
   "cell_type": "markdown",
   "id": "ade76eb7-d467-43ce-8c62-78d4915fc64a",
   "metadata": {
    "jp-MarkdownHeadingCollapsed": true
   },
   "source": [
    "### Kolumna Age"
   ]
  },
  {
   "cell_type": "markdown",
   "id": "421b22cd-4290-4805-9132-8206e919d143",
   "metadata": {},
   "source": [
    "- Ceche Age - wypełnie -1"
   ]
  },
  {
   "cell_type": "code",
   "execution_count": 39,
   "id": "c6335667-e17c-4faf-8fea-09fe3114c6e0",
   "metadata": {},
   "outputs": [
    {
     "data": {
      "text/plain": [
       "179"
      ]
     },
     "execution_count": 39,
     "metadata": {},
     "output_type": "execute_result"
    }
   ],
   "source": [
    "train['Age'].isnull().sum()"
   ]
  },
  {
   "cell_type": "code",
   "execution_count": 40,
   "id": "00875e6a-80c2-45b1-a688-cdede99002c3",
   "metadata": {},
   "outputs": [],
   "source": [
    "train['Age'] = train['Age'].fillna(-1)"
   ]
  },
  {
   "cell_type": "code",
   "execution_count": 41,
   "id": "dacd99ef-6de9-4b50-a597-e04860bb5ba6",
   "metadata": {},
   "outputs": [
    {
     "data": {
      "image/png": "[encoded data removed]",
      "text/plain": [
       "<Figure size 640x480 with 1 Axes>"
      ]
     },
     "metadata": {},
     "output_type": "display_data"
    }
   ],
   "source": [
    "sns.histplot(train['Age'], bins=30)\n",
    "plt.title('Rozkład wieku pasażerów')\n",
    "plt.show()"
   ]
  },
  {
   "cell_type": "markdown",
   "id": "f1b05541-f6d9-4c85-8b45-0afa058cb2ef",
   "metadata": {
    "jp-MarkdownHeadingCollapsed": true
   },
   "source": [
    "### Kolumna VIP"
   ]
  },
  {
   "cell_type": "markdown",
   "id": "d7d144f1-3504-4dea-b26a-0e5401a19663",
   "metadata": {},
   "source": [
    "- Ceche VIP - wypełnie wartościami 0\n"
   ]
  },
  {
   "cell_type": "code",
   "execution_count": 42,
   "id": "1dcbe482-668f-4e16-93ae-459c18df6662",
   "metadata": {},
   "outputs": [
    {
     "data": {
      "image/png": "[encoded data removed]",
      "text/plain": [
       "<Figure size 640x480 with 1 Axes>"
      ]
     },
     "metadata": {},
     "output_type": "display_data"
    }
   ],
   "source": [
    "train.groupby('VIP')['Transported'].mean().plot(kind= 'bar');"
   ]
  },
  {
   "cell_type": "code",
   "execution_count": 43,
   "id": "92fe94d9-9560-4be1-ab7e-548a8784f1a7",
   "metadata": {},
   "outputs": [],
   "source": [
    "train['VIP'] = train['VIP'].fillna('None')\n",
    "test['VIP'] = test['VIP'].fillna('None')"
   ]
  },
  {
   "cell_type": "code",
   "execution_count": 44,
   "id": "057543ee-12ab-42cc-b93f-8ba139f02fed",
   "metadata": {},
   "outputs": [
    {
     "data": {
      "text/plain": [
       "0"
      ]
     },
     "execution_count": 44,
     "metadata": {},
     "output_type": "execute_result"
    }
   ],
   "source": [
    "train['VIP'].isnull().sum()"
   ]
  },
  {
   "cell_type": "code",
   "execution_count": 45,
   "id": "7b87023f-2035-4202-8097-2fe000ecbbaf",
   "metadata": {},
   "outputs": [],
   "source": [
    "mapping_vip = {True:1, False:0, 'None':0}\n",
    "train['VIP'] = train['VIP'].map(mapping_vip)"
   ]
  },
  {
   "cell_type": "code",
   "execution_count": 46,
   "id": "961264ca-5281-4ee5-b0b3-4e26a9716a3a",
   "metadata": {},
   "outputs": [
    {
     "data": {
      "text/plain": [
       "VIP\n",
       "0    8494\n",
       "1     199\n",
       "Name: count, dtype: int64"
      ]
     },
     "execution_count": 46,
     "metadata": {},
     "output_type": "execute_result"
    }
   ],
   "source": [
    "train['VIP'].value_counts()"
   ]
  },
  {
   "cell_type": "markdown",
   "id": "b87d4cb8-af69-411e-a2a3-906af1c3462a",
   "metadata": {
    "jp-MarkdownHeadingCollapsed": true
   },
   "source": [
    "### Kolumna RoomService    "
   ]
  },
  {
   "cell_type": "markdown",
   "id": "6b6a485a-ee63-4018-8acf-59479ef4f758",
   "metadata": {},
   "source": [
    "- Ceche RoomService - wypełnie 0"
   ]
  },
  {
   "cell_type": "code",
   "execution_count": 47,
   "id": "41524c7f-db1f-46c4-8bd0-d8598a3b9268",
   "metadata": {},
   "outputs": [],
   "source": [
    "train['RoomService'] = train['RoomService'].fillna(0)\n",
    "test['RoomService'] = train['RoomService'].fillna(0)"
   ]
  },
  {
   "cell_type": "markdown",
   "id": "31e577c7-4933-4756-a459-85147c9413ee",
   "metadata": {
    "jp-MarkdownHeadingCollapsed": true
   },
   "source": [
    "### Kolumna FoodCourt               "
   ]
  },
  {
   "cell_type": "markdown",
   "id": "eed17d19-1800-470b-b1a9-0911f7bb2428",
   "metadata": {},
   "source": [
    "- Ceche FoodCourt - wypełnie 0\n"
   ]
  },
  {
   "cell_type": "code",
   "execution_count": 48,
   "id": "00935e0e-718d-4260-a644-4575ea3cd914",
   "metadata": {},
   "outputs": [],
   "source": [
    "train['FoodCourt'] = train['FoodCourt'].fillna(0)\n",
    "test['FoodCourt'] = train['FoodCourt'].fillna(0)"
   ]
  },
  {
   "cell_type": "markdown",
   "id": "b18dd459-c343-4f10-a49d-1ef6ddfa66c3",
   "metadata": {
    "jp-MarkdownHeadingCollapsed": true
   },
   "source": [
    "### Kolumna ShoppingMall       "
   ]
  },
  {
   "cell_type": "markdown",
   "id": "cdae6654-5670-4d38-a17b-1fd02c027ad7",
   "metadata": {},
   "source": [
    "- Ceche ShoppingMall - wypełnie 0\n"
   ]
  },
  {
   "cell_type": "code",
   "execution_count": 49,
   "id": "597006f0-efbe-4873-a486-c06178b1a6e5",
   "metadata": {},
   "outputs": [],
   "source": [
    "train['ShoppingMall'] = train['ShoppingMall'].fillna(0)\n",
    "test['ShoppingMall'] = train['ShoppingMall'].fillna(0)"
   ]
  },
  {
   "cell_type": "markdown",
   "id": "1d6f7013-426e-485b-a8b0-1f945afeb728",
   "metadata": {
    "jp-MarkdownHeadingCollapsed": true
   },
   "source": [
    "### Kolumna Spa"
   ]
  },
  {
   "cell_type": "markdown",
   "id": "7166a042-3f17-4e5f-ba05-22a04d54eaa4",
   "metadata": {},
   "source": [
    "- Ceche Spa - wypełnie 0\n"
   ]
  },
  {
   "cell_type": "code",
   "execution_count": 50,
   "id": "7fed6e58-76d0-45af-806c-0d083a3b24cb",
   "metadata": {},
   "outputs": [],
   "source": [
    "train['Spa'] = train['Spa'].fillna(0)\n",
    "test['Spa'] = train['Spa'].fillna(0)"
   ]
  },
  {
   "cell_type": "markdown",
   "id": "c6875ae5-386b-454c-8d92-f1b23b0a93fb",
   "metadata": {
    "jp-MarkdownHeadingCollapsed": true
   },
   "source": [
    "### Kolumna VRDeck"
   ]
  },
  {
   "cell_type": "markdown",
   "id": "4a1de574-029a-4f5e-aea8-f83280ddb4ad",
   "metadata": {},
   "source": [
    "- Ceche VRDeck - wypełnie 0\n"
   ]
  },
  {
   "cell_type": "code",
   "execution_count": 51,
   "id": "1a4468c8-0c37-47f9-aec3-9a2ccf3599e9",
   "metadata": {},
   "outputs": [],
   "source": [
    "train['VRDeck'] = train['VRDeck'].fillna(0)\n",
    "test['VRDeck'] = train['VRDeck'].fillna(0)"
   ]
  },
  {
   "cell_type": "markdown",
   "id": "e9a3014e-de83-4d9d-bf3d-ff11eee56984",
   "metadata": {
    "jp-MarkdownHeadingCollapsed": true
   },
   "source": [
    "### Kolumna Name          "
   ]
  },
  {
   "cell_type": "markdown",
   "id": "1c361bd1-39e4-403e-b1b8-48393373176b",
   "metadata": {},
   "source": [
    "- Ceche Name - usune poniewaz nie beda przydatne  \n"
   ]
  },
  {
   "cell_type": "code",
   "execution_count": 52,
   "id": "13b63e7e-405e-4e78-af7a-41514fd70945",
   "metadata": {},
   "outputs": [
    {
     "data": {
      "text/plain": [
       "200"
      ]
     },
     "execution_count": 52,
     "metadata": {},
     "output_type": "execute_result"
    }
   ],
   "source": [
    "train['Name'].isnull().sum()"
   ]
  },
  {
   "cell_type": "code",
   "execution_count": 53,
   "id": "cb57a9c3-e52c-407d-9ab9-1deeb5641098",
   "metadata": {},
   "outputs": [],
   "source": [
    "train['Name'] = train['Name'].fillna('None')\n",
    "test['Name'] = test['Name'].fillna('None')"
   ]
  },
  {
   "cell_type": "markdown",
   "id": "66cb75ae-4f2d-45be-afbd-93995292f3f1",
   "metadata": {},
   "source": [
    "## Zamiana danych kategorycznych na numeryczne i wypełnienie danych\n",
    "\n",
    "Dane które bedzmiemy kowertowac musza byc zmienione dla dataset train i test"
   ]
  },
  {
   "cell_type": "code",
   "execution_count": 54,
   "id": "1e098434-9b26-446a-a585-10f939a96b09",
   "metadata": {},
   "outputs": [
    {
     "data": {
      "text/plain": [
       "PassengerId            0\n",
       "HomePlanet             0\n",
       "CryoSleep              0\n",
       "Cabin                  0\n",
       "Destination            0\n",
       "Age                    0\n",
       "VIP                    0\n",
       "RoomService            0\n",
       "FoodCourt              0\n",
       "ShoppingMall           0\n",
       "Spa                    0\n",
       "VRDeck                 0\n",
       "Name                   0\n",
       "Transported            0\n",
       "GroupID                0\n",
       "GroupSize              0\n",
       "cabin_first_label      0\n",
       "cabin_secound_label    0\n",
       "cabin_third_label      0\n",
       "dtype: int64"
      ]
     },
     "execution_count": 54,
     "metadata": {},
     "output_type": "execute_result"
    }
   ],
   "source": [
    "train.isnull().sum()\n"
   ]
  },
  {
   "cell_type": "markdown",
   "id": "c2271906-7d3a-4e83-b2db-93b3986ac026",
   "metadata": {},
   "source": [
    "## Feature Engineering"
   ]
  },
  {
   "cell_type": "code",
   "execution_count": 55,
   "id": "5f8910b2-6572-4681-809e-784a2028f49b",
   "metadata": {},
   "outputs": [],
   "source": [
    "train['is_alone'] = train['GroupID'].map(lambda x: 1 if x == 1 else 0)\n",
    "test['is_alone'] = test['GroupID'].map(lambda x: 1 if x == 1 else 0)\n"
   ]
  },
  {
   "cell_type": "code",
   "execution_count": 56,
   "id": "468ea0c0-2ec7-459f-86a5-099ef6c9f422",
   "metadata": {},
   "outputs": [
    {
     "name": "stdout",
     "output_type": "stream",
     "text": [
      "<class 'pandas.core.frame.DataFrame'>\n",
      "RangeIndex: 8693 entries, 0 to 8692\n",
      "Data columns (total 20 columns):\n",
      " #   Column               Non-Null Count  Dtype  \n",
      "---  ------               --------------  -----  \n",
      " 0   PassengerId          8693 non-null   object \n",
      " 1   HomePlanet           8693 non-null   object \n",
      " 2   CryoSleep            8693 non-null   object \n",
      " 3   Cabin                8693 non-null   object \n",
      " 4   Destination          8693 non-null   object \n",
      " 5   Age                  8693 non-null   float64\n",
      " 6   VIP                  8693 non-null   int64  \n",
      " 7   RoomService          8693 non-null   float64\n",
      " 8   FoodCourt            8693 non-null   float64\n",
      " 9   ShoppingMall         8693 non-null   float64\n",
      " 10  Spa                  8693 non-null   float64\n",
      " 11  VRDeck               8693 non-null   float64\n",
      " 12  Name                 8693 non-null   object \n",
      " 13  Transported          8693 non-null   bool   \n",
      " 14  GroupID              8693 non-null   int32  \n",
      " 15  GroupSize            8693 non-null   int64  \n",
      " 16  cabin_first_label    8693 non-null   object \n",
      " 17  cabin_secound_label  8693 non-null   object \n",
      " 18  cabin_third_label    8693 non-null   object \n",
      " 19  is_alone             8693 non-null   int64  \n",
      "dtypes: bool(1), float64(6), int32(1), int64(3), object(9)\n",
      "memory usage: 1.2+ MB\n"
     ]
    }
   ],
   "source": [
    "train.info()"
   ]
  },
  {
   "cell_type": "markdown",
   "id": "ea66245f-921e-4b1d-b68a-2ac0b4d811c9",
   "metadata": {},
   "source": [
    "## Standaryzacja i One Hot Encoding\n"
   ]
  },
  {
   "cell_type": "code",
   "execution_count": 87,
   "id": "98c08ce2-f2b9-4355-9234-e1833caf27e1",
   "metadata": {},
   "outputs": [],
   "source": [
    "from sklearn.preprocessing import OneHotEncoder, StandardScaler\n",
    "from sklearn.pipeline import make_pipeline, Pipeline\n",
    "\n",
    "attribs_one_hot = ['Destination','HomePlanet','CryoSleep','cabin_first_label','cabin_third_label','is_alone','VIP','GroupSize']\n",
    "attribs_num= ['Age','RoomService','FoodCourt','ShoppingMall','Spa','VRDeck']\n",
    "attribs_delete = ['PassengerId','Cabin','GroupID','cabin_secound_label']"
   ]
  },
  {
   "cell_type": "code",
   "execution_count": 88,
   "id": "e2dc74ab-70b4-4853-bde6-b5e3d022a3ed",
   "metadata": {},
   "outputs": [
    {
     "data": {
      "text/html": [
       "<div>\n",
       "<style scoped>\n",
       "    .dataframe tbody tr th:only-of-type {\n",
       "        vertical-align: middle;\n",
       "    }\n",
       "\n",
       "    .dataframe tbody tr th {\n",
       "        vertical-align: top;\n",
       "    }\n",
       "\n",
       "    .dataframe thead th {\n",
       "        text-align: right;\n",
       "    }\n",
       "</style>\n",
       "<table border=\"1\" class=\"dataframe\">\n",
       "  <thead>\n",
       "    <tr style=\"text-align: right;\">\n",
       "      <th></th>\n",
       "      <th>Age</th>\n",
       "      <th>RoomService</th>\n",
       "      <th>FoodCourt</th>\n",
       "      <th>ShoppingMall</th>\n",
       "      <th>Spa</th>\n",
       "      <th>VRDeck</th>\n",
       "    </tr>\n",
       "  </thead>\n",
       "  <tbody>\n",
       "    <tr>\n",
       "      <th>0</th>\n",
       "      <td>39.0</td>\n",
       "      <td>0.0</td>\n",
       "      <td>0.0</td>\n",
       "      <td>0.0</td>\n",
       "      <td>0.0</td>\n",
       "      <td>0.0</td>\n",
       "    </tr>\n",
       "    <tr>\n",
       "      <th>1</th>\n",
       "      <td>24.0</td>\n",
       "      <td>109.0</td>\n",
       "      <td>9.0</td>\n",
       "      <td>25.0</td>\n",
       "      <td>549.0</td>\n",
       "      <td>44.0</td>\n",
       "    </tr>\n",
       "    <tr>\n",
       "      <th>2</th>\n",
       "      <td>58.0</td>\n",
       "      <td>43.0</td>\n",
       "      <td>3576.0</td>\n",
       "      <td>0.0</td>\n",
       "      <td>6715.0</td>\n",
       "      <td>49.0</td>\n",
       "    </tr>\n",
       "    <tr>\n",
       "      <th>3</th>\n",
       "      <td>33.0</td>\n",
       "      <td>0.0</td>\n",
       "      <td>1283.0</td>\n",
       "      <td>371.0</td>\n",
       "      <td>3329.0</td>\n",
       "      <td>193.0</td>\n",
       "    </tr>\n",
       "    <tr>\n",
       "      <th>4</th>\n",
       "      <td>16.0</td>\n",
       "      <td>303.0</td>\n",
       "      <td>70.0</td>\n",
       "      <td>151.0</td>\n",
       "      <td>565.0</td>\n",
       "      <td>2.0</td>\n",
       "    </tr>\n",
       "    <tr>\n",
       "      <th>...</th>\n",
       "      <td>...</td>\n",
       "      <td>...</td>\n",
       "      <td>...</td>\n",
       "      <td>...</td>\n",
       "      <td>...</td>\n",
       "      <td>...</td>\n",
       "    </tr>\n",
       "    <tr>\n",
       "      <th>8688</th>\n",
       "      <td>41.0</td>\n",
       "      <td>0.0</td>\n",
       "      <td>6819.0</td>\n",
       "      <td>0.0</td>\n",
       "      <td>1643.0</td>\n",
       "      <td>74.0</td>\n",
       "    </tr>\n",
       "    <tr>\n",
       "      <th>8689</th>\n",
       "      <td>18.0</td>\n",
       "      <td>0.0</td>\n",
       "      <td>0.0</td>\n",
       "      <td>0.0</td>\n",
       "      <td>0.0</td>\n",
       "      <td>0.0</td>\n",
       "    </tr>\n",
       "    <tr>\n",
       "      <th>8690</th>\n",
       "      <td>26.0</td>\n",
       "      <td>0.0</td>\n",
       "      <td>0.0</td>\n",
       "      <td>1872.0</td>\n",
       "      <td>1.0</td>\n",
       "      <td>0.0</td>\n",
       "    </tr>\n",
       "    <tr>\n",
       "      <th>8691</th>\n",
       "      <td>32.0</td>\n",
       "      <td>0.0</td>\n",
       "      <td>1049.0</td>\n",
       "      <td>0.0</td>\n",
       "      <td>353.0</td>\n",
       "      <td>3235.0</td>\n",
       "    </tr>\n",
       "    <tr>\n",
       "      <th>8692</th>\n",
       "      <td>44.0</td>\n",
       "      <td>126.0</td>\n",
       "      <td>4688.0</td>\n",
       "      <td>0.0</td>\n",
       "      <td>0.0</td>\n",
       "      <td>12.0</td>\n",
       "    </tr>\n",
       "  </tbody>\n",
       "</table>\n",
       "<p>8693 rows × 6 columns</p>\n",
       "</div>"
      ],
      "text/plain": [
       "       Age  RoomService  FoodCourt  ShoppingMall     Spa  VRDeck\n",
       "0     39.0          0.0        0.0           0.0     0.0     0.0\n",
       "1     24.0        109.0        9.0          25.0   549.0    44.0\n",
       "2     58.0         43.0     3576.0           0.0  6715.0    49.0\n",
       "3     33.0          0.0     1283.0         371.0  3329.0   193.0\n",
       "4     16.0        303.0       70.0         151.0   565.0     2.0\n",
       "...    ...          ...        ...           ...     ...     ...\n",
       "8688  41.0          0.0     6819.0           0.0  1643.0    74.0\n",
       "8689  18.0          0.0        0.0           0.0     0.0     0.0\n",
       "8690  26.0          0.0        0.0        1872.0     1.0     0.0\n",
       "8691  32.0          0.0     1049.0           0.0   353.0  3235.0\n",
       "8692  44.0        126.0     4688.0           0.0     0.0    12.0\n",
       "\n",
       "[8693 rows x 6 columns]"
      ]
     },
     "execution_count": 88,
     "metadata": {},
     "output_type": "execute_result"
    }
   ],
   "source": [
    "train[attribs_num]"
   ]
  },
  {
   "cell_type": "code",
   "execution_count": 89,
   "id": "fc92a2ac-ad6b-4ad6-9a9c-98e36bd73b33",
   "metadata": {},
   "outputs": [],
   "source": [
    "from sklearn.preprocessing import OneHotEncoder, StandardScaler\n",
    "\n",
    "scaler = StandardScaler()\n",
    "\n",
    "train_scaled = scaler.fit_transform(train[attribs_num])\n",
    "test_scaled =  scaler.transform(test[attribs_num])\n",
    "\n",
    "train_scaled = pd.DataFrame(train_scaled, columns = attribs_num, index = train.index)\n",
    "test_scaled = pd.DataFrame(test_scaled, columns= attribs_num, index=test.index)\n",
    "\n",
    "\n",
    "\n",
    "encoder = OneHotEncoder(sparse_output=False, handle_unknown='ignore')\n",
    "\n",
    "train_encoded = encoder.fit_transform(train[attribs_one_hot])\n",
    "test_encoded = encoder.transform(test[attribs_one_hot])\n",
    "\n",
    "#pobieranie nazw zakodowanyck kolumn\n",
    "encoded_column = encoder.get_feature_names_out(attribs_one_hot)\n",
    "\n",
    "# Zamiana na dataframe z odpowienimi nazwami kolumn\n",
    "train_encoded = pd.DataFrame(train_encoded, columns= encoded_column, index= train.index)\n",
    "test_encoded = pd.DataFrame(test_encoded, columns= encoded_column, index= test.index)"
   ]
  },
  {
   "cell_type": "code",
   "execution_count": 90,
   "id": "6454b8ac-7e77-4c24-8c5f-fda5929caba2",
   "metadata": {},
   "outputs": [
    {
     "name": "stdout",
     "output_type": "stream",
     "text": [
      "(8693, 39)\n",
      "(4277, 39)\n"
     ]
    }
   ],
   "source": [
    "train_final = pd.concat([train_scaled,train_encoded],axis = 1)\n",
    "test_final = pd.concat([test_scaled, test_encoded], axis=1)\n",
    "\n",
    "print(train_final.shape)\n",
    "print(test_final.shape)"
   ]
  },
  {
   "cell_type": "markdown",
   "id": "b058a495-0b94-447e-849c-e35c48c136d2",
   "metadata": {},
   "source": [
    "### Tworzenie Modelu"
   ]
  },
  {
   "cell_type": "code",
   "execution_count": 91,
   "id": "ecb3756c-aed9-4eea-a6f4-d3e6822f56c4",
   "metadata": {},
   "outputs": [
    {
     "data": {
      "text/plain": [
       "0.49453589916827195"
      ]
     },
     "execution_count": 91,
     "metadata": {},
     "output_type": "execute_result"
    }
   ],
   "source": [
    "from sklearn.dummy import DummyClassifier\n",
    "from sklearn.ensemble import RandomForestClassifier \n",
    "from sklearn.tree import DecisionTreeClassifier\n",
    "from sklearn.model_selection import cross_val_score\n",
    "\n",
    "from scikitplot.estimators import plot_learning_curve\n",
    "\n",
    "X  = train_final\n",
    "y = train['Transported']\n",
    "\n",
    "cross_val_score(DummyClassifier(strategy='stratified', random_state=42),X,y, cv = 5).mean()"
   ]
  },
  {
   "cell_type": "code",
   "execution_count": 92,
   "id": "578103bd-fb20-467c-a0f1-cb28cb03dce4",
   "metadata": {},
   "outputs": [
    {
     "name": "stdout",
     "output_type": "stream",
     "text": [
      "<class 'pandas.core.frame.DataFrame'>\n",
      "RangeIndex: 8693 entries, 0 to 8692\n",
      "Data columns (total 39 columns):\n",
      " #   Column                     Non-Null Count  Dtype  \n",
      "---  ------                     --------------  -----  \n",
      " 0   Age                        8693 non-null   float64\n",
      " 1   RoomService                8693 non-null   float64\n",
      " 2   FoodCourt                  8693 non-null   float64\n",
      " 3   ShoppingMall               8693 non-null   float64\n",
      " 4   Spa                        8693 non-null   float64\n",
      " 5   VRDeck                     8693 non-null   float64\n",
      " 6   Destination_55 Cancri e    8693 non-null   float64\n",
      " 7   Destination_PSO J318.5-22  8693 non-null   float64\n",
      " 8   Destination_TRAPPIST-1e    8693 non-null   float64\n",
      " 9   HomePlanet_Earth           8693 non-null   float64\n",
      " 10  HomePlanet_Europa          8693 non-null   float64\n",
      " 11  HomePlanet_Mars            8693 non-null   float64\n",
      " 12  HomePlanet_None            8693 non-null   float64\n",
      " 13  CryoSleep_False            8693 non-null   float64\n",
      " 14  CryoSleep_True             8693 non-null   float64\n",
      " 15  cabin_first_label_A        8693 non-null   float64\n",
      " 16  cabin_first_label_B        8693 non-null   float64\n",
      " 17  cabin_first_label_C        8693 non-null   float64\n",
      " 18  cabin_first_label_D        8693 non-null   float64\n",
      " 19  cabin_first_label_E        8693 non-null   float64\n",
      " 20  cabin_first_label_F        8693 non-null   float64\n",
      " 21  cabin_first_label_G        8693 non-null   float64\n",
      " 22  cabin_first_label_None     8693 non-null   float64\n",
      " 23  cabin_first_label_T        8693 non-null   float64\n",
      " 24  cabin_third_label_None     8693 non-null   float64\n",
      " 25  cabin_third_label_P        8693 non-null   float64\n",
      " 26  cabin_third_label_S        8693 non-null   float64\n",
      " 27  is_alone_0                 8693 non-null   float64\n",
      " 28  is_alone_1                 8693 non-null   float64\n",
      " 29  VIP_0                      8693 non-null   float64\n",
      " 30  VIP_1                      8693 non-null   float64\n",
      " 31  GroupSize_1                8693 non-null   float64\n",
      " 32  GroupSize_2                8693 non-null   float64\n",
      " 33  GroupSize_3                8693 non-null   float64\n",
      " 34  GroupSize_4                8693 non-null   float64\n",
      " 35  GroupSize_5                8693 non-null   float64\n",
      " 36  GroupSize_6                8693 non-null   float64\n",
      " 37  GroupSize_7                8693 non-null   float64\n",
      " 38  GroupSize_8                8693 non-null   float64\n",
      "dtypes: float64(39)\n",
      "memory usage: 2.6 MB\n"
     ]
    }
   ],
   "source": [
    "X.info()"
   ]
  },
  {
   "cell_type": "code",
   "execution_count": 93,
   "id": "516baeac-50db-471f-beb5-217ad6ccf723",
   "metadata": {},
   "outputs": [
    {
     "data": {
      "text/plain": [
       "0.7318581833798639"
      ]
     },
     "execution_count": 93,
     "metadata": {},
     "output_type": "execute_result"
    }
   ],
   "source": [
    "cross_val_score(DecisionTreeClassifier(max_depth=3, random_state=42), X, y, scoring='accuracy', cv=5).mean()"
   ]
  },
  {
   "cell_type": "code",
   "execution_count": 94,
   "id": "56fd43b9-8320-4c89-bb76-5a52e52e29e1",
   "metadata": {},
   "outputs": [
    {
     "data": {
      "text/plain": [
       "0.7407127887871222"
      ]
     },
     "execution_count": 94,
     "metadata": {},
     "output_type": "execute_result"
    }
   ],
   "source": [
    "cross_val_score(RandomForestClassifier(max_depth=3, n_estimators=100, random_state=42), X, y, scoring='accuracy', cv=5).mean()"
   ]
  },
  {
   "cell_type": "markdown",
   "id": "bb518e99-a517-476f-a709-363784ab8e31",
   "metadata": {},
   "source": [
    "### Walidacja z podziałem na grupy"
   ]
  },
  {
   "cell_type": "code",
   "execution_count": 95,
   "id": "c249b20b-dd85-4411-9d27-244e5c5cc692",
   "metadata": {},
   "outputs": [],
   "source": [
    "from sklearn.model_selection import GroupKFold, cross_val_score\n",
    "from sklearn.ensemble import ExtraTreesClassifier\n",
    "import xgboost as xgb\n"
   ]
  },
  {
   "cell_type": "code",
   "execution_count": 96,
   "id": "e83fb39d-c081-43de-b942-7d56384323cd",
   "metadata": {
    "scrolled": true
   },
   "outputs": [
    {
     "data": {
      "text/plain": [
       "0.7407105389060681"
      ]
     },
     "execution_count": 96,
     "metadata": {},
     "output_type": "execute_result"
    }
   ],
   "source": [
    "groups = train['GroupID']\n",
    "\n",
    "gkf = GroupKFold(n_splits=5)\n",
    "\n",
    "cross_val_score(RandomForestClassifier(max_depth=3, n_estimators=500, random_state=42), X, y, scoring='accuracy', cv=gkf, groups = groups).mean()"
   ]
  },
  {
   "cell_type": "code",
   "execution_count": 97,
   "id": "efa8a582-9db8-40b8-a431-4b8e59f6cf09",
   "metadata": {},
   "outputs": [
    {
     "data": {
      "text/plain": [
       "0.7270207405946699"
      ]
     },
     "execution_count": 97,
     "metadata": {},
     "output_type": "execute_result"
    }
   ],
   "source": [
    "cross_val_score(ExtraTreesClassifier(max_depth=3, n_estimators=500, random_state=42), X, y, scoring='accuracy', cv=gkf, groups = groups).mean()"
   ]
  },
  {
   "cell_type": "markdown",
   "id": "c7431e27-2203-405a-8e65-ac14f83d4f89",
   "metadata": {},
   "source": [
    "#### Model XGBoost (extreme Gradient Boosting)\n",
    "Zaawansowana metoda uczenia maszynowego oparta na algorytmie gradient boostingu"
   ]
  },
  {
   "cell_type": "code",
   "execution_count": 98,
   "id": "7810498b-2f82-4272-81b9-6a0e73318453",
   "metadata": {},
   "outputs": [
    {
     "data": {
      "text/plain": [
       "0.8009887565502971"
      ]
     },
     "execution_count": 98,
     "metadata": {},
     "output_type": "execute_result"
    }
   ],
   "source": [
    "cross_val_score(xgb.XGBClassifier(random_state=42, n_estimators=500, learning_rate=0.01), X, y, scoring='accuracy', cv=gkf, groups = groups).mean()"
   ]
  },
  {
   "cell_type": "markdown",
   "id": "6f184671-f284-45ad-b133-bbc23f52b24a",
   "metadata": {},
   "source": [
    "### Walidacja stratyfikowana\n",
    "\n",
    "- Dzieli odpowiednio dane\n",
    "- jest odpowiednia dal klasyfikacji"
   ]
  },
  {
   "cell_type": "code",
   "execution_count": 69,
   "id": "4a099909-d199-4a49-ab24-608199b392ea",
   "metadata": {},
   "outputs": [
    {
     "name": "stdout",
     "output_type": "stream",
     "text": [
      "Średnia dokładność: 0.7881\n"
     ]
    },
    {
     "data": {
      "text/plain": [
       "<Axes: title={'center': 'Learning Curve'}, xlabel='Training examples', ylabel='Score'>"
      ]
     },
     "execution_count": 69,
     "metadata": {},
     "output_type": "execute_result"
    },
    {
     "data": {
      "image/png": "[encoded data removed]",
      "text/plain": [
       "<Figure size 640x480 with 1 Axes>"
      ]
     },
     "metadata": {},
     "output_type": "display_data"
    }
   ],
   "source": [
    "from sklearn.metrics import accuracy_score\n",
    "from sklearn.model_selection import StratifiedKFold\n",
    "\n",
    "skf = StratifiedKFold(n_splits=5, shuffle= True, random_state = 42)\n",
    "model = RandomForestClassifier(n_estimators=1000, max_depth=7, random_state=42,n_jobs=-1)\n",
    "\n",
    "accuracies = []\n",
    "                      \n",
    "for train_index, val_index in skf.split(X,y):\n",
    "    X_train, X_val = X.iloc[train_index], X.iloc[val_index]\n",
    "    y_train, y_val = y.iloc[train_index], y.iloc[val_index]\n",
    "    model.fit(X_train, y_train)\n",
    "    y_pred = model.predict(X_val)\n",
    "\n",
    "    accuracy = accuracy_score(y_val,y_pred)\n",
    "    accuracies.append(accuracy)\n",
    "    \n",
    "print(f'Średnia dokładność: {sum(accuracies)/len(accuracies):.4f}')\n",
    "plot_learning_curve(model, X, y, cv=skf)\n"
   ]
  },
  {
   "cell_type": "markdown",
   "id": "644dff76-4534-4c94-b5df-41684f4d19ad",
   "metadata": {},
   "source": [
    "- Podczas szkolenia sie modelu wynik treningowy spada ale stabilizuje sie w okolicach 0.81 poniewaz wiecej danych utrudnia dopasowanie \n",
    "- W miare wzrostu danych treningowych wynik nieznacznie poprawia sie "
   ]
  },
  {
   "cell_type": "code",
   "execution_count": 70,
   "id": "7c789d2f-a63c-4f17-b609-fe9a5f28a8ad",
   "metadata": {},
   "outputs": [
    {
     "name": "stdout",
     "output_type": "stream",
     "text": [
      "Średnia dokładność: 0.8067\n"
     ]
    },
    {
     "data": {
      "text/plain": [
       "<Axes: title={'center': 'Learning Curve'}, xlabel='Training examples', ylabel='Score'>"
      ]
     },
     "execution_count": 70,
     "metadata": {},
     "output_type": "execute_result"
    },
    {
     "data": {
      "image/png": "[encoded data removed]",
      "text/plain": [
       "<Figure size 640x480 with 1 Axes>"
      ]
     },
     "metadata": {},
     "output_type": "display_data"
    }
   ],
   "source": [
    "accuracies_xgb = []\n",
    "xgb_model = xgb.XGBClassifier(random_state=42,n_estimators=1000,learning_rate=0.01,n_jobs=-1)\n",
    "\n",
    "# Modelowanie za pomocą StratifiedKFold\n",
    "for train_index, val_index in skf.split(X, y):\n",
    "    X_train, X_val = X.iloc[train_index], X.iloc[val_index]\n",
    "    y_train, y_val = y.iloc[train_index], y.iloc[val_index]\n",
    "\n",
    "    xgb_model.fit(X_train, y_train)\n",
    "    \n",
    "    # Przewidywania na zbiorze walidacyjnym\n",
    "    y_pred = xgb_model.predict(X_val)\n",
    "    \n",
    "    # Obliczanie dokładności\n",
    "    accuracy = accuracy_score(y_val, y_pred)\n",
    "    accuracies_xgb.append(accuracy)\n",
    "\n",
    "# Średnia dokładność z 5-fold stratified cross-validation\n",
    "print(f'Średnia dokładność: {sum(accuracies_xgb)/len(accuracies_xgb):.4f}')\n",
    "plot_learning_curve(xgb_model, X, y, cv=skf)"
   ]
  },
  {
   "cell_type": "markdown",
   "id": "8a9e829b-75a4-485d-9dc7-9c08c3ba543f",
   "metadata": {},
   "source": [
    "Podczas szkolenia sie modelu wynik treningowy spada ale stabilizuje sie w okolicach "
   ]
  },
  {
   "cell_type": "markdown",
   "id": "a73ffcfd-1bc9-4807-954a-df64b1494570",
   "metadata": {
    "jp-MarkdownHeadingCollapsed": true
   },
   "source": [
    "### Zastosowanie RandomizedSearchCV\n",
    "\n",
    "Wyrałem ten mechanizm przeszukiwania w którym nie sa sprawdzane wszystkie mozliwe kombinacje, lecz nastepuje ewaluacja stałej liczby losowych kombinacji poprzez dobór lowoej wartosci hiperparametru w kazdym przebiegu.\n",
    "\n",
    "GridSearchCV testuje kazda mozliwa kombinacje wartosci hiperparametrów jest to czasochłonny proces.\n",
    "RandomizedSearchCV  losowo wybiera okreslona liczbe kombinacji do przetestowania, poprzez zdefiniowanie ilosci kombinacji (n_iter)\n",
    "\n",
    "Ustawiamy granice dolna i górna wybranych hiperparametow, "
   ]
  },
  {
   "cell_type": "code",
   "execution_count": 78,
   "id": "29fc03f4-d38c-42aa-a0ce-2dc2c86da225",
   "metadata": {},
   "outputs": [
    {
     "name": "stderr",
     "output_type": "stream",
     "text": [
      "C:\\Users\\MOlsz\\anaconda3\\envs\\tensorflow-gpu\\lib\\site-packages\\numpy\\ma\\core.py:2820: RuntimeWarning: invalid value encountered in cast\n",
      "  _data = np.array(data, dtype=dtype, copy=copy,\n"
     ]
    },
    {
     "name": "stdout",
     "output_type": "stream",
     "text": [
      "Najlepsze parametry: {'colsample_bytree': 0.9865669543465629, 'learning_rate': 0.0657708826250044, 'max_depth': 3, 'min_child_weight': 1, 'n_estimators': 613, 'reg_alpha': 0.05829844261646025, 'reg_lambda': 1, 'subsample': 0.9998855216623657}\n",
      "Najlepsza dokładność: 0.8104960460100645\n"
     ]
    },
    {
     "data": {
      "text/plain": [
       "<Axes: title={'center': 'Learning Curve'}, xlabel='Training examples', ylabel='Score'>"
      ]
     },
     "execution_count": 78,
     "metadata": {},
     "output_type": "execute_result"
    },
    {
     "data": {
      "image/png": "[encoded data removed]",
      "text/plain": [
       "<Figure size 640x480 with 1 Axes>"
      ]
     },
     "metadata": {},
     "output_type": "display_data"
    }
   ],
   "source": [
    "from sklearn.model_selection import RandomizedSearchCV\n",
    "from scipy.stats import randint, uniform\n",
    "\n",
    "param_grid_xgb = {\n",
    "    'n_estimators': randint(low =10, high = 1000), # oznacza ilosc drzew\n",
    "    'learning_rate': uniform(0.01, 0.1), # krok uczenia sie(tempo uczenia sie mniejsza wartosc oznacza wolniejsze ale bardziej stabilne uczenie)\n",
    "    'max_depth': randint(low =1 , high = 7), # maksymalna głebokosc każdego drzewa wartosc None oznacza brak oganiczenia \n",
    "    'min_child_weight': randint(low =1, high = 5), #minimalna waga obserwacji dla danego węzła\n",
    "    'subsample': uniform(0.6, 0.4), # podzbiór na którym model uczy sie (wtedy jak jest overfitting, zmniejsz z 1.0 do 0.8 czy nawet do 0.6).\n",
    "    'colsample_bytree': uniform(0.6, 0.4), # podobnie jak sample, tylko na kolumnach (cechach). Zmniejsz wtedy gdy pojawia sie overfitting\n",
    "    'reg_alpha': uniform(0, 0.1),\n",
    "    'reg_lambda': randint(low =1, high = 2)\n",
    "}\n",
    "\n",
    "xgb_model_rand = xgb.XGBClassifier(random_state=42,verbosity = 0)\n",
    "\n",
    "random_search_xgb = RandomizedSearchCV(\n",
    "    estimator=xgb_model_rand, #model który bedzie optymalizowany \n",
    "    param_distributions=param_grid_xgb, #przestrzen hiperparametrów do przeszukania \n",
    "    n_iter=1000, #liczba losowy kombinacji parametrów do przetestowania \n",
    "    scoring='accuracy', # kryterium oceny modelu\n",
    "    random_state=42, # ziarno dla powtarzalnych wyników\n",
    "#    n_jobs=-1, # pozwala na uzycie wszystkich dostepnych procesów do równoległego przetwarzania\n",
    "    cv = skf # walidacja stratyfikowana \n",
    ")\n",
    "\n",
    "random_search_xgb.fit(X_train, y_train)\n",
    "\n",
    "best_params_xgb = random_search_xgb.best_params_\n",
    "best_score_xgb = random_search_xgb.best_score_\n",
    "print(\"Najlepsze parametry:\", best_params_xgb)\n",
    "print(\"Najlepsza dokładność:\", best_score_xgb)\n",
    "\n",
    "#Robie wykres uczenia sie najlepszego modelu jaki został wytrenowany\n",
    "plot_learning_curve(random_search_xgb.best_estimator_, X, y, cv=skf)\n"
   ]
  },
  {
   "cell_type": "code",
   "execution_count": null,
   "id": "1b683c78-2add-446d-b7c0-2e1c6fe55e76",
   "metadata": {},
   "outputs": [],
   "source": [
    "import lightgbm as lgb\n",
    "\n",
    "# Inicjalizacja modelu LightGBM\n",
    "lgb_model = lgb.LGBMClassifier(random_state=42, verbosity = 0)\n",
    "\n",
    "# RandomizedSearchCV na całym zbiorze treningowym\n",
    "random_search_lgb = RandomizedSearchCV(\n",
    "    estimator=lgb_model,\n",
    "    param_distributions=param_grid_xgb,\n",
    "    n_iter=100, \n",
    "    scoring='accuracy',\n",
    "    random_state=42,\n",
    " #   n_jobs=-1,\n",
    "    cv=skf\n",
    ")\n",
    "\n",
    "random_search_lgb.fit(X, y)\n",
    "\n",
    "best_params_lgb = random_search_lgb.best_params_\n",
    "best_score_lgb = random_search_lgb.best_score_\n",
    "print(\"Najlepsze parametry:\", best_params_lgb)\n",
    "print(\"Najlepsza dokładność:\", best_score_lgb)\n",
    "\n",
    "plot_learning_curve(random_search_lgb.best_estimator_, X, y, cv=skf)\n",
    "\n"
   ]
  },
  {
   "cell_type": "code",
   "execution_count": 74,
   "id": "7ab62f9f-b04f-4102-b6ba-a1ef099b7791",
   "metadata": {},
   "outputs": [
    {
     "ename": "ValueError",
     "evalue": "Domain error in arguments. The `scale` parameter must be positive for all distributions, and many distributions have restrictions on shape parameters. Please see the `scipy.stats.randint` documentation for details.",
     "output_type": "error",
     "traceback": [
      "\u001b[1;31m---------------------------------------------------------------------------\u001b[0m",
      "\u001b[1;31mValueError\u001b[0m                                Traceback (most recent call last)",
      "Cell \u001b[1;32mIn[74], line 28\u001b[0m\n\u001b[0;32m     17\u001b[0m random_search_ctb \u001b[38;5;241m=\u001b[39m RandomizedSearchCV(\n\u001b[0;32m     18\u001b[0m     estimator\u001b[38;5;241m=\u001b[39mctb_model,\n\u001b[0;32m     19\u001b[0m     param_distributions\u001b[38;5;241m=\u001b[39mparam_grid_ctb,\n\u001b[1;32m   (...)\u001b[0m\n\u001b[0;32m     24\u001b[0m     cv\u001b[38;5;241m=\u001b[39mskf\n\u001b[0;32m     25\u001b[0m )\n\u001b[0;32m     27\u001b[0m \u001b[38;5;66;03m# Trenowanie RandomizedSearchCV\u001b[39;00m\n\u001b[1;32m---> 28\u001b[0m \u001b[43mrandom_search_ctb\u001b[49m\u001b[38;5;241;43m.\u001b[39;49m\u001b[43mfit\u001b[49m\u001b[43m(\u001b[49m\u001b[43mX\u001b[49m\u001b[43m,\u001b[49m\u001b[43m \u001b[49m\u001b[43my\u001b[49m\u001b[43m)\u001b[49m\n\u001b[0;32m     30\u001b[0m best_params_ctb \u001b[38;5;241m=\u001b[39m random_search_ctb\u001b[38;5;241m.\u001b[39mbest_params_\n\u001b[0;32m     31\u001b[0m best_score_ctb \u001b[38;5;241m=\u001b[39m random_search_ctb\u001b[38;5;241m.\u001b[39mbest_score_\n",
      "File \u001b[1;32m~\\anaconda3\\envs\\tensorflow-gpu\\lib\\site-packages\\sklearn\\base.py:1473\u001b[0m, in \u001b[0;36m_fit_context.<locals>.decorator.<locals>.wrapper\u001b[1;34m(estimator, *args, **kwargs)\u001b[0m\n\u001b[0;32m   1466\u001b[0m     estimator\u001b[38;5;241m.\u001b[39m_validate_params()\n\u001b[0;32m   1468\u001b[0m \u001b[38;5;28;01mwith\u001b[39;00m config_context(\n\u001b[0;32m   1469\u001b[0m     skip_parameter_validation\u001b[38;5;241m=\u001b[39m(\n\u001b[0;32m   1470\u001b[0m         prefer_skip_nested_validation \u001b[38;5;129;01mor\u001b[39;00m global_skip_validation\n\u001b[0;32m   1471\u001b[0m     )\n\u001b[0;32m   1472\u001b[0m ):\n\u001b[1;32m-> 1473\u001b[0m     \u001b[38;5;28;01mreturn\u001b[39;00m fit_method(estimator, \u001b[38;5;241m*\u001b[39margs, \u001b[38;5;241m*\u001b[39m\u001b[38;5;241m*\u001b[39mkwargs)\n",
      "File \u001b[1;32m~\\anaconda3\\envs\\tensorflow-gpu\\lib\\site-packages\\sklearn\\model_selection\\_search.py:1019\u001b[0m, in \u001b[0;36mBaseSearchCV.fit\u001b[1;34m(self, X, y, **params)\u001b[0m\n\u001b[0;32m   1013\u001b[0m     results \u001b[38;5;241m=\u001b[39m \u001b[38;5;28mself\u001b[39m\u001b[38;5;241m.\u001b[39m_format_results(\n\u001b[0;32m   1014\u001b[0m         all_candidate_params, n_splits, all_out, all_more_results\n\u001b[0;32m   1015\u001b[0m     )\n\u001b[0;32m   1017\u001b[0m     \u001b[38;5;28;01mreturn\u001b[39;00m results\n\u001b[1;32m-> 1019\u001b[0m \u001b[38;5;28;43mself\u001b[39;49m\u001b[38;5;241;43m.\u001b[39;49m\u001b[43m_run_search\u001b[49m\u001b[43m(\u001b[49m\u001b[43mevaluate_candidates\u001b[49m\u001b[43m)\u001b[49m\n\u001b[0;32m   1021\u001b[0m \u001b[38;5;66;03m# multimetric is determined here because in the case of a callable\u001b[39;00m\n\u001b[0;32m   1022\u001b[0m \u001b[38;5;66;03m# self.scoring the return type is only known after calling\u001b[39;00m\n\u001b[0;32m   1023\u001b[0m first_test_score \u001b[38;5;241m=\u001b[39m all_out[\u001b[38;5;241m0\u001b[39m][\u001b[38;5;124m\"\u001b[39m\u001b[38;5;124mtest_scores\u001b[39m\u001b[38;5;124m\"\u001b[39m]\n",
      "File \u001b[1;32m~\\anaconda3\\envs\\tensorflow-gpu\\lib\\site-packages\\sklearn\\model_selection\\_search.py:1960\u001b[0m, in \u001b[0;36mRandomizedSearchCV._run_search\u001b[1;34m(self, evaluate_candidates)\u001b[0m\n\u001b[0;32m   1958\u001b[0m \u001b[38;5;28;01mdef\u001b[39;00m \u001b[38;5;21m_run_search\u001b[39m(\u001b[38;5;28mself\u001b[39m, evaluate_candidates):\n\u001b[0;32m   1959\u001b[0m \u001b[38;5;250m    \u001b[39m\u001b[38;5;124;03m\"\"\"Search n_iter candidates from param_distributions\"\"\"\u001b[39;00m\n\u001b[1;32m-> 1960\u001b[0m     \u001b[43mevaluate_candidates\u001b[49m\u001b[43m(\u001b[49m\n\u001b[0;32m   1961\u001b[0m \u001b[43m        \u001b[49m\u001b[43mParameterSampler\u001b[49m\u001b[43m(\u001b[49m\n\u001b[0;32m   1962\u001b[0m \u001b[43m            \u001b[49m\u001b[38;5;28;43mself\u001b[39;49m\u001b[38;5;241;43m.\u001b[39;49m\u001b[43mparam_distributions\u001b[49m\u001b[43m,\u001b[49m\u001b[43m \u001b[49m\u001b[38;5;28;43mself\u001b[39;49m\u001b[38;5;241;43m.\u001b[39;49m\u001b[43mn_iter\u001b[49m\u001b[43m,\u001b[49m\u001b[43m \u001b[49m\u001b[43mrandom_state\u001b[49m\u001b[38;5;241;43m=\u001b[39;49m\u001b[38;5;28;43mself\u001b[39;49m\u001b[38;5;241;43m.\u001b[39;49m\u001b[43mrandom_state\u001b[49m\n\u001b[0;32m   1963\u001b[0m \u001b[43m        \u001b[49m\u001b[43m)\u001b[49m\n\u001b[0;32m   1964\u001b[0m \u001b[43m    \u001b[49m\u001b[43m)\u001b[49m\n",
      "File \u001b[1;32m~\\anaconda3\\envs\\tensorflow-gpu\\lib\\site-packages\\sklearn\\model_selection\\_search.py:954\u001b[0m, in \u001b[0;36mBaseSearchCV.fit.<locals>.evaluate_candidates\u001b[1;34m(candidate_params, cv, more_results)\u001b[0m\n\u001b[0;32m    952\u001b[0m \u001b[38;5;28;01mdef\u001b[39;00m \u001b[38;5;21mevaluate_candidates\u001b[39m(candidate_params, cv\u001b[38;5;241m=\u001b[39m\u001b[38;5;28;01mNone\u001b[39;00m, more_results\u001b[38;5;241m=\u001b[39m\u001b[38;5;28;01mNone\u001b[39;00m):\n\u001b[0;32m    953\u001b[0m     cv \u001b[38;5;241m=\u001b[39m cv \u001b[38;5;129;01mor\u001b[39;00m cv_orig\n\u001b[1;32m--> 954\u001b[0m     candidate_params \u001b[38;5;241m=\u001b[39m \u001b[38;5;28;43mlist\u001b[39;49m\u001b[43m(\u001b[49m\u001b[43mcandidate_params\u001b[49m\u001b[43m)\u001b[49m\n\u001b[0;32m    955\u001b[0m     n_candidates \u001b[38;5;241m=\u001b[39m \u001b[38;5;28mlen\u001b[39m(candidate_params)\n\u001b[0;32m    957\u001b[0m     \u001b[38;5;28;01mif\u001b[39;00m \u001b[38;5;28mself\u001b[39m\u001b[38;5;241m.\u001b[39mverbose \u001b[38;5;241m>\u001b[39m \u001b[38;5;241m0\u001b[39m:\n",
      "File \u001b[1;32m~\\anaconda3\\envs\\tensorflow-gpu\\lib\\site-packages\\sklearn\\model_selection\\_search.py:338\u001b[0m, in \u001b[0;36mParameterSampler.__iter__\u001b[1;34m(self)\u001b[0m\n\u001b[0;32m    336\u001b[0m \u001b[38;5;28;01mfor\u001b[39;00m k, v \u001b[38;5;129;01min\u001b[39;00m items:\n\u001b[0;32m    337\u001b[0m     \u001b[38;5;28;01mif\u001b[39;00m \u001b[38;5;28mhasattr\u001b[39m(v, \u001b[38;5;124m\"\u001b[39m\u001b[38;5;124mrvs\u001b[39m\u001b[38;5;124m\"\u001b[39m):\n\u001b[1;32m--> 338\u001b[0m         params[k] \u001b[38;5;241m=\u001b[39m \u001b[43mv\u001b[49m\u001b[38;5;241;43m.\u001b[39;49m\u001b[43mrvs\u001b[49m\u001b[43m(\u001b[49m\u001b[43mrandom_state\u001b[49m\u001b[38;5;241;43m=\u001b[39;49m\u001b[43mrng\u001b[49m\u001b[43m)\u001b[49m\n\u001b[0;32m    339\u001b[0m     \u001b[38;5;28;01melse\u001b[39;00m:\n\u001b[0;32m    340\u001b[0m         params[k] \u001b[38;5;241m=\u001b[39m v[rng\u001b[38;5;241m.\u001b[39mrandint(\u001b[38;5;28mlen\u001b[39m(v))]\n",
      "File \u001b[1;32m~\\anaconda3\\envs\\tensorflow-gpu\\lib\\site-packages\\scipy\\stats\\_distn_infrastructure.py:491\u001b[0m, in \u001b[0;36mrv_frozen.rvs\u001b[1;34m(self, size, random_state)\u001b[0m\n\u001b[0;32m    489\u001b[0m kwds \u001b[38;5;241m=\u001b[39m \u001b[38;5;28mself\u001b[39m\u001b[38;5;241m.\u001b[39mkwds\u001b[38;5;241m.\u001b[39mcopy()\n\u001b[0;32m    490\u001b[0m kwds\u001b[38;5;241m.\u001b[39mupdate({\u001b[38;5;124m'\u001b[39m\u001b[38;5;124msize\u001b[39m\u001b[38;5;124m'\u001b[39m: size, \u001b[38;5;124m'\u001b[39m\u001b[38;5;124mrandom_state\u001b[39m\u001b[38;5;124m'\u001b[39m: random_state})\n\u001b[1;32m--> 491\u001b[0m \u001b[38;5;28;01mreturn\u001b[39;00m \u001b[38;5;28mself\u001b[39m\u001b[38;5;241m.\u001b[39mdist\u001b[38;5;241m.\u001b[39mrvs(\u001b[38;5;241m*\u001b[39m\u001b[38;5;28mself\u001b[39m\u001b[38;5;241m.\u001b[39margs, \u001b[38;5;241m*\u001b[39m\u001b[38;5;241m*\u001b[39mkwds)\n",
      "File \u001b[1;32m~\\anaconda3\\envs\\tensorflow-gpu\\lib\\site-packages\\scipy\\stats\\_distn_infrastructure.py:3343\u001b[0m, in \u001b[0;36mrv_discrete.rvs\u001b[1;34m(self, *args, **kwargs)\u001b[0m\n\u001b[0;32m   3314\u001b[0m \u001b[38;5;250m\u001b[39m\u001b[38;5;124;03m\"\"\"Random variates of given type.\u001b[39;00m\n\u001b[0;32m   3315\u001b[0m \n\u001b[0;32m   3316\u001b[0m \u001b[38;5;124;03mParameters\u001b[39;00m\n\u001b[1;32m   (...)\u001b[0m\n\u001b[0;32m   3340\u001b[0m \n\u001b[0;32m   3341\u001b[0m \u001b[38;5;124;03m\"\"\"\u001b[39;00m\n\u001b[0;32m   3342\u001b[0m kwargs[\u001b[38;5;124m'\u001b[39m\u001b[38;5;124mdiscrete\u001b[39m\u001b[38;5;124m'\u001b[39m] \u001b[38;5;241m=\u001b[39m \u001b[38;5;28;01mTrue\u001b[39;00m\n\u001b[1;32m-> 3343\u001b[0m \u001b[38;5;28;01mreturn\u001b[39;00m \u001b[38;5;28msuper\u001b[39m()\u001b[38;5;241m.\u001b[39mrvs(\u001b[38;5;241m*\u001b[39margs, \u001b[38;5;241m*\u001b[39m\u001b[38;5;241m*\u001b[39mkwargs)\n",
      "File \u001b[1;32m~\\anaconda3\\envs\\tensorflow-gpu\\lib\\site-packages\\scipy\\stats\\_distn_infrastructure.py:1055\u001b[0m, in \u001b[0;36mrv_generic.rvs\u001b[1;34m(self, *args, **kwds)\u001b[0m\n\u001b[0;32m   1049\u001b[0m \u001b[38;5;28;01mif\u001b[39;00m \u001b[38;5;129;01mnot\u001b[39;00m np\u001b[38;5;241m.\u001b[39mall(cond):\n\u001b[0;32m   1050\u001b[0m     message \u001b[38;5;241m=\u001b[39m (\u001b[38;5;124m\"\u001b[39m\u001b[38;5;124mDomain error in arguments. The `scale` parameter must \u001b[39m\u001b[38;5;124m\"\u001b[39m\n\u001b[0;32m   1051\u001b[0m                \u001b[38;5;124m\"\u001b[39m\u001b[38;5;124mbe positive for all distributions, and many \u001b[39m\u001b[38;5;124m\"\u001b[39m\n\u001b[0;32m   1052\u001b[0m                \u001b[38;5;124m\"\u001b[39m\u001b[38;5;124mdistributions have restrictions on shape parameters. \u001b[39m\u001b[38;5;124m\"\u001b[39m\n\u001b[0;32m   1053\u001b[0m                \u001b[38;5;124mf\u001b[39m\u001b[38;5;124m\"\u001b[39m\u001b[38;5;124mPlease see the `scipy.stats.\u001b[39m\u001b[38;5;132;01m{\u001b[39;00m\u001b[38;5;28mself\u001b[39m\u001b[38;5;241m.\u001b[39mname\u001b[38;5;132;01m}\u001b[39;00m\u001b[38;5;124m` \u001b[39m\u001b[38;5;124m\"\u001b[39m\n\u001b[0;32m   1054\u001b[0m                \u001b[38;5;124m\"\u001b[39m\u001b[38;5;124mdocumentation for details.\u001b[39m\u001b[38;5;124m\"\u001b[39m)\n\u001b[1;32m-> 1055\u001b[0m     \u001b[38;5;28;01mraise\u001b[39;00m \u001b[38;5;167;01mValueError\u001b[39;00m(message)\n\u001b[0;32m   1057\u001b[0m \u001b[38;5;28;01mif\u001b[39;00m np\u001b[38;5;241m.\u001b[39mall(scale \u001b[38;5;241m==\u001b[39m \u001b[38;5;241m0\u001b[39m):\n\u001b[0;32m   1058\u001b[0m     \u001b[38;5;28;01mreturn\u001b[39;00m loc\u001b[38;5;241m*\u001b[39mones(size, \u001b[38;5;124m'\u001b[39m\u001b[38;5;124md\u001b[39m\u001b[38;5;124m'\u001b[39m)\n",
      "\u001b[1;31mValueError\u001b[0m: Domain error in arguments. The `scale` parameter must be positive for all distributions, and many distributions have restrictions on shape parameters. Please see the `scipy.stats.randint` documentation for details."
     ]
    }
   ],
   "source": [
    "import catboost as ctb\n",
    "\n",
    "param_grid_ctb = {\n",
    "    'n_estimators': randint(low =100 , high = 1000), # liczba drzew decyzyjnych\n",
    "    'learning_rate': uniform(0.01, 0.1), # szybkosc uczenia \n",
    "    'depth': randint(low =4 , high = 10),  # maksymalna głebokosc uczenia \n",
    "    'l2_leaf_reg': randint(low =3 , high = 8),  # wpływa na regularyzajce modelu, zmniejsza złozonosc drzewa \n",
    "    'bagging_temperature': randint(low =0.5 , high = 2),  # kontroluje intensywnosc baggingu czyli losowego wybiernia próbek\n",
    "    'random_strength':  randint(low =1 , high = 10), # dodaje losowac do drzewa\n",
    "    'scale_pos_weight': randint(low =1 , high = 3) # \n",
    "}\n",
    "\n",
    "# Inicjalizacja modelu LightGBM\n",
    "ctb_model = ctb.CatBoostClassifier(random_state=42, verbose=0)\n",
    "\n",
    "# RandomizedSearchCV na całym zbiorze treningowym\n",
    "random_search_ctb = RandomizedSearchCV(\n",
    "    estimator=ctb_model,\n",
    "    param_distributions=param_grid_ctb,\n",
    "    n_iter=100,  \n",
    "    scoring='accuracy',\n",
    "    random_state=42,\n",
    "#    n_jobs=-1,\n",
    "    cv=skf\n",
    ")\n",
    "\n",
    "# Trenowanie RandomizedSearchCV\n",
    "random_search_ctb.fit(X, y)\n",
    "\n",
    "best_params_ctb = random_search_ctb.best_params_\n",
    "best_score_ctb = random_search_ctb.best_score_\n",
    "print(\"Najlepsze parametry:\", best_params_ctb)\n",
    "print(\"Najlepsza dokładność:\", best_score_ctb)\n",
    "\n",
    "plot_learning_curve(random_search_xgb.best_estimator_, X, y, cv=skf)\n"
   ]
  },
  {
   "cell_type": "markdown",
   "id": "403b8091-0d5f-4220-8d40-70401f7d7246",
   "metadata": {},
   "source": [
    "### Wnioski\n",
    "\n"
   ]
  },
  {
   "cell_type": "markdown",
   "id": "c3622334-9123-47ac-9c14-1e5b3c7572d0",
   "metadata": {},
   "source": [
    "### Trenowanie najlepszego modelu\n",
    "Przetrenowany model z najlepszymi parametrami"
   ]
  },
  {
   "cell_type": "code",
   "execution_count": null,
   "id": "ddb5bdcd-74a0-41d1-b148-057da37731a1",
   "metadata": {},
   "outputs": [],
   "source": [
    "param_grid_ctb_final = {\n",
    "    'bagging_temperature': 0.5,\n",
    "    'depth': 6,\n",
    "    'l2_leaf_reg': 10,\n",
    "    'learning_rate': 0.05,\n",
    "    'n_estimators': 500,\n",
    "    'random_strength': 10,\n",
    "    'scale_pos_weight': 1,\n",
    "    'early_stopping_rounds': 50\n",
    "}\n",
    "\n",
    "final_model = ctb.CatBoostClassifier(**param_grid_ctb_final, random_state=42, verbose=0)\n",
    "final_accuracies = []\n",
    "for train_index, val_index in skf.split(X,y):\n",
    "    X_train, X_val = X.iloc[train_index], X.iloc[val_index]\n",
    "    y_train, y_val = y.iloc[train_index], y.iloc[val_index]\n",
    "    final_model.fit( X_train, y_train)\n",
    "    y_pred = final_model.predict(X_val)\n",
    "    accuracy = accuracy_score(y_val,y_pred)\n",
    "    final_accuracies.append(accuracy)\n",
    "\n",
    "\n",
    "print(f'Średnia dokładnosc: {sum(final_accuracies)/len(final_accuracies):.4f}')\n",
    "\n",
    "plot_learning_curve(final_model, X, y, cv=skf)\n"
   ]
  },
  {
   "cell_type": "code",
   "execution_count": 79,
   "id": "f6e0579b-6834-4173-a47f-c7899d598377",
   "metadata": {},
   "outputs": [
    {
     "name": "stdout",
     "output_type": "stream",
     "text": [
      "Średnia dokładnosc: 0.8049\n"
     ]
    },
    {
     "data": {
      "text/plain": [
       "<Axes: title={'center': 'Learning Curve'}, xlabel='Training examples', ylabel='Score'>"
      ]
     },
     "execution_count": 79,
     "metadata": {},
     "output_type": "execute_result"
    },
    {
     "data": {
      "image/png": "[encoded data removed]",
      "text/plain": [
       "<Figure size 640x480 with 1 Axes>"
      ]
     },
     "metadata": {},
     "output_type": "display_data"
    }
   ],
   "source": [
    "param_grid_xgb_final = {'colsample_bytree': 0.9865669543465629,\n",
    "                'learning_rate': 0.0657708826250044,\n",
    "                'max_depth': 3,\n",
    "                'min_child_weight': 1,\n",
    "                'n_estimators': 613,\n",
    "                'reg_alpha': 0.05829844261646025,\n",
    "                'reg_lambda': 1,\n",
    "                'subsample': 0.9998855216623657\n",
    "               }\n",
    "\n",
    "\n",
    "final_model = xgb.XGBClassifier(**param_grid_xgb_final, random_state=42, verbosity=0)\n",
    "final_accuracies = []\n",
    "for train_index, val_index in skf.split(X,y):\n",
    "    X_train, X_val = X.iloc[train_index], X.iloc[val_index]\n",
    "    y_train, y_val = y.iloc[train_index], y.iloc[val_index]\n",
    "    final_model.fit(X_train, y_train)\n",
    "    y_pred = final_model.predict(X_val)\n",
    "    accuracy = accuracy_score(y_val,y_pred)\n",
    "    final_accuracies.append(accuracy)\n",
    "\n",
    "\n",
    "print(f'Średnia dokładnosc: {sum(final_accuracies)/len(final_accuracies):.4f}')\n",
    "\n",
    "plot_learning_curve(final_model, X, y, cv=skf)"
   ]
  },
  {
   "cell_type": "markdown",
   "id": "73d774bd-18d4-4419-b7b9-fbbb6914f5b9",
   "metadata": {},
   "source": [
    "### Trenowanie modelu na zbiorze testowym\n",
    "\n",
    "Zeby wytrenowac model na zbiorze testowym musi byc przygotowny tak samo jak zbiór treningowy.\n",
    "Zapisze w folderze output wyniki w zbiorze przewidywania"
   ]
  },
  {
   "cell_type": "code",
   "execution_count": 82,
   "id": "efdfabf1-2fdd-4075-b05a-63d6c9d25ab6",
   "metadata": {},
   "outputs": [
    {
     "name": "stdout",
     "output_type": "stream",
     "text": [
      "<class 'pandas.core.frame.DataFrame'>\n",
      "RangeIndex: 4277 entries, 0 to 4276\n",
      "Data columns (total 33 columns):\n",
      " #   Column                     Non-Null Count  Dtype  \n",
      "---  ------                     --------------  -----  \n",
      " 0   Age                        4186 non-null   float64\n",
      " 1   RoomService                4277 non-null   float64\n",
      " 2   FoodCourt                  4277 non-null   float64\n",
      " 3   ShoppingMall               4277 non-null   float64\n",
      " 4   Spa                        4277 non-null   float64\n",
      " 5   VRDeck                     4277 non-null   float64\n",
      " 6   GroupID                    4277 non-null   float64\n",
      " 7   GroupSize                  4277 non-null   float64\n",
      " 8   Destination_55 Cancri e    4277 non-null   float64\n",
      " 9   Destination_PSO J318.5-22  4277 non-null   float64\n",
      " 10  Destination_TRAPPIST-1e    4277 non-null   float64\n",
      " 11  HomePlanet_Earth           4277 non-null   float64\n",
      " 12  HomePlanet_Europa          4277 non-null   float64\n",
      " 13  HomePlanet_Mars            4277 non-null   float64\n",
      " 14  HomePlanet_None            4277 non-null   float64\n",
      " 15  CryoSleep_False            4277 non-null   float64\n",
      " 16  CryoSleep_True             4277 non-null   float64\n",
      " 17  cabin_first_label_A        4277 non-null   float64\n",
      " 18  cabin_first_label_B        4277 non-null   float64\n",
      " 19  cabin_first_label_C        4277 non-null   float64\n",
      " 20  cabin_first_label_D        4277 non-null   float64\n",
      " 21  cabin_first_label_E        4277 non-null   float64\n",
      " 22  cabin_first_label_F        4277 non-null   float64\n",
      " 23  cabin_first_label_G        4277 non-null   float64\n",
      " 24  cabin_first_label_None     4277 non-null   float64\n",
      " 25  cabin_first_label_T        4277 non-null   float64\n",
      " 26  cabin_third_label_None     4277 non-null   float64\n",
      " 27  cabin_third_label_P        4277 non-null   float64\n",
      " 28  cabin_third_label_S        4277 non-null   float64\n",
      " 29  is_alone_0                 4277 non-null   float64\n",
      " 30  is_alone_1                 4277 non-null   float64\n",
      " 31  VIP_0                      4277 non-null   float64\n",
      " 32  VIP_1                      4277 non-null   float64\n",
      "dtypes: float64(33)\n",
      "memory usage: 1.1 MB\n"
     ]
    }
   ],
   "source": [
    "test_final.info()"
   ]
  },
  {
   "cell_type": "code",
   "execution_count": 83,
   "id": "47705384-ab44-4656-972e-5d8482b64ab6",
   "metadata": {},
   "outputs": [
    {
     "data": {
      "text/html": [
       "<div>\n",
       "<style scoped>\n",
       "    .dataframe tbody tr th:only-of-type {\n",
       "        vertical-align: middle;\n",
       "    }\n",
       "\n",
       "    .dataframe tbody tr th {\n",
       "        vertical-align: top;\n",
       "    }\n",
       "\n",
       "    .dataframe thead th {\n",
       "        text-align: right;\n",
       "    }\n",
       "</style>\n",
       "<table border=\"1\" class=\"dataframe\">\n",
       "  <thead>\n",
       "    <tr style=\"text-align: right;\">\n",
       "      <th></th>\n",
       "      <th>Age</th>\n",
       "      <th>RoomService</th>\n",
       "      <th>FoodCourt</th>\n",
       "      <th>ShoppingMall</th>\n",
       "      <th>Spa</th>\n",
       "      <th>VRDeck</th>\n",
       "      <th>GroupID</th>\n",
       "      <th>GroupSize</th>\n",
       "      <th>Destination_55 Cancri e</th>\n",
       "      <th>Destination_PSO J318.5-22</th>\n",
       "      <th>...</th>\n",
       "      <th>cabin_first_label_G</th>\n",
       "      <th>cabin_first_label_None</th>\n",
       "      <th>cabin_first_label_T</th>\n",
       "      <th>cabin_third_label_None</th>\n",
       "      <th>cabin_third_label_P</th>\n",
       "      <th>cabin_third_label_S</th>\n",
       "      <th>is_alone_0</th>\n",
       "      <th>is_alone_1</th>\n",
       "      <th>VIP_0</th>\n",
       "      <th>VIP_1</th>\n",
       "    </tr>\n",
       "  </thead>\n",
       "  <tbody>\n",
       "    <tr>\n",
       "      <th>3402</th>\n",
       "      <td>0.05259</td>\n",
       "      <td>-0.269515</td>\n",
       "      <td>-0.281027</td>\n",
       "      <td>0.838546</td>\n",
       "      <td>-0.207543</td>\n",
       "      <td>-0.263003</td>\n",
       "      <td>1.044456</td>\n",
       "      <td>-0.022268</td>\n",
       "      <td>1.0</td>\n",
       "      <td>0.0</td>\n",
       "      <td>...</td>\n",
       "      <td>0.0</td>\n",
       "      <td>0.0</td>\n",
       "      <td>0.0</td>\n",
       "      <td>0.0</td>\n",
       "      <td>1.0</td>\n",
       "      <td>0.0</td>\n",
       "      <td>1.0</td>\n",
       "      <td>0.0</td>\n",
       "      <td>1.0</td>\n",
       "      <td>0.0</td>\n",
       "    </tr>\n",
       "  </tbody>\n",
       "</table>\n",
       "<p>1 rows × 33 columns</p>\n",
       "</div>"
      ],
      "text/plain": [
       "          Age  RoomService  FoodCourt  ShoppingMall       Spa    VRDeck  \\\n",
       "3402  0.05259    -0.269515  -0.281027      0.838546 -0.207543 -0.263003   \n",
       "\n",
       "       GroupID  GroupSize  Destination_55 Cancri e  Destination_PSO J318.5-22  \\\n",
       "3402  1.044456  -0.022268                      1.0                        0.0   \n",
       "\n",
       "      ...  cabin_first_label_G  cabin_first_label_None  cabin_first_label_T  \\\n",
       "3402  ...                  0.0                     0.0                  0.0   \n",
       "\n",
       "      cabin_third_label_None  cabin_third_label_P  cabin_third_label_S  \\\n",
       "3402                     0.0                  1.0                  0.0   \n",
       "\n",
       "      is_alone_0  is_alone_1  VIP_0  VIP_1  \n",
       "3402         1.0         0.0    1.0    0.0  \n",
       "\n",
       "[1 rows x 33 columns]"
      ]
     },
     "execution_count": 83,
     "metadata": {},
     "output_type": "execute_result"
    }
   ],
   "source": [
    "test_final.sample()"
   ]
  },
  {
   "cell_type": "code",
   "execution_count": 85,
   "id": "b4fdf938-aabd-4c39-9c28-aa7088f4a8bb",
   "metadata": {},
   "outputs": [],
   "source": [
    "predictions = final_model.predict(test_final)\n",
    "\n",
    "submission = pd.DataFrame({\n",
    "    'PassengerId': test['PassengerId'],\n",
    "    'Transported': predictions\n",
    "})\n",
    "submission['Transported'] = submission['Transported'].astype(bool)\n",
    "\n",
    "submission.to_csv(\"../output/submission1.csv\", index = False)"
   ]
  },
  {
   "cell_type": "code",
   "execution_count": 86,
   "id": "a2811d7c-0089-4e4f-9a8f-aa916c28c396",
   "metadata": {},
   "outputs": [
    {
     "data": {
      "text/html": [
       "<div>\n",
       "<style scoped>\n",
       "    .dataframe tbody tr th:only-of-type {\n",
       "        vertical-align: middle;\n",
       "    }\n",
       "\n",
       "    .dataframe tbody tr th {\n",
       "        vertical-align: top;\n",
       "    }\n",
       "\n",
       "    .dataframe thead th {\n",
       "        text-align: right;\n",
       "    }\n",
       "</style>\n",
       "<table border=\"1\" class=\"dataframe\">\n",
       "  <thead>\n",
       "    <tr style=\"text-align: right;\">\n",
       "      <th></th>\n",
       "      <th>PassengerId</th>\n",
       "      <th>Transported</th>\n",
       "    </tr>\n",
       "  </thead>\n",
       "  <tbody>\n",
       "    <tr>\n",
       "      <th>0</th>\n",
       "      <td>0013_01</td>\n",
       "      <td>True</td>\n",
       "    </tr>\n",
       "    <tr>\n",
       "      <th>1</th>\n",
       "      <td>0018_01</td>\n",
       "      <td>False</td>\n",
       "    </tr>\n",
       "    <tr>\n",
       "      <th>2</th>\n",
       "      <td>0019_01</td>\n",
       "      <td>False</td>\n",
       "    </tr>\n",
       "    <tr>\n",
       "      <th>3</th>\n",
       "      <td>0021_01</td>\n",
       "      <td>False</td>\n",
       "    </tr>\n",
       "    <tr>\n",
       "      <th>4</th>\n",
       "      <td>0023_01</td>\n",
       "      <td>False</td>\n",
       "    </tr>\n",
       "  </tbody>\n",
       "</table>\n",
       "</div>"
      ],
      "text/plain": [
       "  PassengerId  Transported\n",
       "0     0013_01         True\n",
       "1     0018_01        False\n",
       "2     0019_01        False\n",
       "3     0021_01        False\n",
       "4     0023_01        False"
      ]
     },
     "execution_count": 86,
     "metadata": {},
     "output_type": "execute_result"
    }
   ],
   "source": [
    "submission.head()"
   ]
  },
  {
   "cell_type": "markdown",
   "id": "f52d189d-257e-412a-ba45-40366e9c150e",
   "metadata": {},
   "source": [
    "### Wnioski  z zadania\n",
    "Wytrenowałem rózne rodzaje modeli najlepszy z nich ma dokładnosc około 81% lecz po wysłaniu wyniki przewidywan zostały one ocenione na  0.64648 %\n"
   ]
  },
  {
   "cell_type": "markdown",
   "id": "1448b17f-dce6-4adc-80e2-66dbf0f68a45",
   "metadata": {},
   "source": [
    "Moje przemyslenia :"
   ]
  },
  {
   "cell_type": "code",
   "execution_count": null,
   "id": "78ebff59-2da0-4d8f-9a7b-eff658b46249",
   "metadata": {},
   "outputs": [],
   "source": []
  }
 ],
 "metadata": {
  "kernelspec": {
   "display_name": "Python 3.9 (tensorflow)",
   "language": "python",
   "name": "tensorflow"
  },
  "language_info": {
   "codemirror_mode": {
    "name": "ipython",
    "version": 3
   },
   "file_extension": ".py",
   "mimetype": "text/x-python",
   "name": "python",
   "nbconvert_exporter": "python",
   "pygments_lexer": "ipython3",
   "version": "3.9.15"
  }
 },
 "nbformat": 4,
 "nbformat_minor": 5
}
