{
 "cells": [
  {
   "cell_type": "markdown",
   "id": "e65e4f48-70c1-4e21-b10e-71500839e47f",
   "metadata": {
    "id": "e65e4f48-70c1-4e21-b10e-71500839e47f"
   },
   "source": [
    "# House Prices\n"
   ]
  },
  {
   "cell_type": "markdown",
   "id": "80d447ac-5938-4e9e-b70a-7c1a25128719",
   "metadata": {
    "jp-MarkdownHeadingCollapsed": true
   },
   "source": [
    "##  Przeanalizowanie zadania\n",
    "Moim zadaniem jest stworzenie modelu który bedzie przewidywał ceny kazdego domu na podstawie dostarczonego zbioru danych który zawiera róznorodne cechy związane z domami.\n",
    "\n",
    "Zmienna docelowa ceny domów jest to wartość ciągła wiec zadanie jest problemem regresji\n",
    "\n",
    "Metryka oceny bedzie pierwiastek błedu średniokwadratowego ( RMSE ) który jest średnią kwadratową róznic miedzy wartościami obserowanymi a wartościami przewidywanymi. Dowiadujemy sie dzeki niemu, w jakim stopniu model myli sie w przewidywaniach, wraz ze wzrostem wartości błedu rośnie waga tego wskaźnika\n"
   ]
  },
  {
   "cell_type": "code",
   "execution_count": null,
   "id": "fac6e937-53e2-4500-b09b-fe012da7a42d",
   "metadata": {
    "executionInfo": {
     "elapsed": 5126,
     "status": "ok",
     "timestamp": 1732513611543,
     "user": {
      "displayName": "Marcin",
      "userId": "07445692619469924370"
     },
     "user_tz": -60
    },
    "id": "fac6e937-53e2-4500-b09b-fe012da7a42d"
   },
   "outputs": [],
   "source": [
    "import pandas as pd\n",
    "import numpy as np\n",
    "import matplotlib.pyplot as plt\n",
    "import seaborn as sns"
   ]
  },
  {
   "cell_type": "markdown",
   "id": "c52ff52a-55bc-4580-9d23-436535169905",
   "metadata": {
    "id": "c52ff52a-55bc-4580-9d23-436535169905"
   },
   "source": [
    "#### Wczytywanie danych"
   ]
  },
  {
   "cell_type": "code",
   "execution_count": null,
   "id": "02d14b88-6380-4c61-a8b0-434e078b13de",
   "metadata": {
    "colab": {
     "base_uri": "https://localhost:8080/",
     "height": 356
    },
    "executionInfo": {
     "elapsed": 12,
     "status": "error",
     "timestamp": 1732513611544,
     "user": {
      "displayName": "Marcin",
      "userId": "07445692619469924370"
     },
     "user_tz": -60
    },
    "id": "02d14b88-6380-4c61-a8b0-434e078b13de",
    "outputId": "fe053991-dd54-4b02-e8fb-fef296a2f4a6"
   },
   "outputs": [],
   "source": [
    "train = pd.read_csv(\"../input/train.csv\")\n",
    "test = pd.read_csv(\"../input/test.csv\")\n",
    "\n",
    "print(train.shape)\n",
    "print(test.shape)"
   ]
  },
  {
   "cell_type": "markdown",
   "id": "098f0068-f644-4d78-b74e-33eaa93dbdc7",
   "metadata": {
    "id": "098f0068-f644-4d78-b74e-33eaa93dbdc7",
    "jp-MarkdownHeadingCollapsed": true
   },
   "source": [
    "### Analiza danych"
   ]
  },
  {
   "cell_type": "code",
   "execution_count": null,
   "id": "b982a15a-8b41-4f88-a003-51f3c30a30a1",
   "metadata": {
    "id": "b982a15a-8b41-4f88-a003-51f3c30a30a1",
    "outputId": "de3d11c9-da30-4fee-c2bd-110af48e3db4"
   },
   "outputs": [],
   "source": [
    "train.info()"
   ]
  },
  {
   "cell_type": "code",
   "execution_count": null,
   "id": "12096175-6eb7-4136-9e63-2eb8ea77768a",
   "metadata": {
    "id": "12096175-6eb7-4136-9e63-2eb8ea77768a",
    "outputId": "e409345b-ea98-47f6-9164-4d79c0adadb9"
   },
   "outputs": [],
   "source": [
    "train.sample(10)"
   ]
  },
  {
   "cell_type": "code",
   "execution_count": null,
   "id": "efb9ea74-4d47-41d7-9c01-9071291a418b",
   "metadata": {
    "id": "efb9ea74-4d47-41d7-9c01-9071291a418b",
    "outputId": "d7a95a87-bbb3-46bd-947c-f76d4815fced"
   },
   "outputs": [],
   "source": [
    "train.describe()"
   ]
  },
  {
   "cell_type": "code",
   "execution_count": null,
   "id": "44fd7738-fad3-49fe-b470-995b11037f99",
   "metadata": {
    "id": "44fd7738-fad3-49fe-b470-995b11037f99",
    "outputId": "45b9d0d4-6dac-48b3-cd99-45260d43c1be"
   },
   "outputs": [],
   "source": [
    "train.dtypes.value_counts()"
   ]
  },
  {
   "cell_type": "code",
   "execution_count": null,
   "id": "595fd39c-176c-46f6-a6ea-101371c73774",
   "metadata": {
    "id": "595fd39c-176c-46f6-a6ea-101371c73774",
    "outputId": "177b34ea-9d38-4083-c834-e6250251f0ab"
   },
   "outputs": [],
   "source": [
    "# pd.set_option('display.max_rows',None) #Pokazuje wszystkie wiersze bez zadnego limitu\n",
    "#wybiera tylko te kolumny z test.isnull().sum() które maja wartość True w masce utworzonej na podstawie train.isnull().sum() >=1\n",
    "missing_values = train.isnull().sum()[train.isnull().sum()>= 1].sort_values(ascending= False)"
   ]
  },
  {
   "cell_type": "code",
   "execution_count": null,
   "id": "fd1c3639-9b1e-47fd-92aa-4ed6ef1cd295",
   "metadata": {
    "id": "fd1c3639-9b1e-47fd-92aa-4ed6ef1cd295",
    "outputId": "bfad6854-cd0b-4264-976a-5103a60590d1"
   },
   "outputs": [],
   "source": [
    "test.info()"
   ]
  },
  {
   "cell_type": "code",
   "execution_count": null,
   "id": "618d02f0-c3f6-4740-ab0e-5ef4135f8e98",
   "metadata": {
    "id": "618d02f0-c3f6-4740-ab0e-5ef4135f8e98",
    "outputId": "b3bbdf91-253f-41c4-9dca-e81241cb824f"
   },
   "outputs": [],
   "source": [
    "test.describe()"
   ]
  },
  {
   "cell_type": "code",
   "execution_count": null,
   "id": "2cd01361-3a59-47a2-b75e-773b4f7a7fc2",
   "metadata": {
    "id": "2cd01361-3a59-47a2-b75e-773b4f7a7fc2",
    "outputId": "f562aa4b-b87f-45c1-da11-421da892cde9"
   },
   "outputs": [],
   "source": [
    "test.isnull().sum()[train.isnull().sum() >=1]"
   ]
  },
  {
   "cell_type": "code",
   "execution_count": null,
   "id": "5b56bf1c-1d36-45f8-bbfe-d25988a7864e",
   "metadata": {
    "id": "5b56bf1c-1d36-45f8-bbfe-d25988a7864e",
    "outputId": "e39b3740-473b-4064-dd88-dd4dbe2eb19c"
   },
   "outputs": [],
   "source": [
    "test.dtypes.value_counts()"
   ]
  },
  {
   "cell_type": "code",
   "execution_count": null,
   "id": "72725e58-3288-43ec-ada4-dcfcd04dc318",
   "metadata": {
    "id": "72725e58-3288-43ec-ada4-dcfcd04dc318",
    "outputId": "67c158df-c5cf-4fbb-9b22-583af2c6f662"
   },
   "outputs": [],
   "source": [
    "list_object = test.dtypes[test.dtypes== 'object'].index.tolist()\n",
    "list_object"
   ]
  },
  {
   "cell_type": "markdown",
   "id": "449df511-15cc-41cb-95c3-4173a4e13462",
   "metadata": {
    "id": "449df511-15cc-41cb-95c3-4173a4e13462"
   },
   "source": [
    "#### Wnioski\n",
    "\n",
    "- W zbiorze treningowym znajduje sie 1460 wierszy i 81 cech\n",
    "- W zbiorze testowym znajduje sie (145 i, 8 cech (zostala usunieta wartosc docelowa)\n",
    "- Typy danych ktore znajduja sie zbiorze treningowym:\n",
    "    1. object 43 -  to zmienne kategorialne\n",
    "    2. int6  3 - zmienna liczby całowitej\n",
    "    3.\n",
    "float3   - zmienna liczby zmienno przecinkowej\n",
    "- W 19 cecha w zbiorze treningowym brakuje wartosci\n",
    "- Liczne brakujące wartości w kolumnach takich jak Alley, FireplaceQu, PoolQC\n",
    " - Typy danych ktore znajduja sie zbiorze testowym:\n",
    "    1. object: 43 to zmienne kategorialne\n",
    "    2. int64: 26 zmienna liczby całowitej\n",
    "    3. float64: 11 zmienna liczby zmienno przecinkowe)"
   ]
  },
  {
   "cell_type": "markdown",
   "id": "d6369254-77b8-437c-afdb-46606e04d893",
   "metadata": {
    "id": "d6369254-77b8-437c-afdb-46606e04d893",
    "jp-MarkdownHeadingCollapsed": true
   },
   "source": [
    "### Wizualizacja danych"
   ]
  },
  {
   "cell_type": "code",
   "execution_count": null,
   "id": "139373a3-b27d-4d9b-9ef6-dd25ac33cfe2",
   "metadata": {
    "id": "139373a3-b27d-4d9b-9ef6-dd25ac33cfe2",
    "outputId": "cb5489b7-86aa-4b2d-c1d6-50ab8852e9ca"
   },
   "outputs": [],
   "source": [
    "train.hist(bins = 50, figsize = (24,16))\n",
    "plt.show()"
   ]
  },
  {
   "cell_type": "markdown",
   "id": "a940d057-da40-4f79-b57e-8f2b810c7711",
   "metadata": {
    "id": "a940d057-da40-4f79-b57e-8f2b810c7711"
   },
   "source": [
    "#### Rozkład zmiennej docelowej"
   ]
  },
  {
   "cell_type": "code",
   "execution_count": null,
   "id": "087c7a0a-7673-4279-86ee-1b0a210d5394",
   "metadata": {
    "id": "087c7a0a-7673-4279-86ee-1b0a210d5394",
    "outputId": "da8d79fc-be4d-4794-bcd2-c5b0e589988a"
   },
   "outputs": [],
   "source": [
    "plt.figure(figsize=(10,6))\n",
    "sns.histplot(train['SalePrice'],kde = True, bins= 30)\n",
    "plt.title('Rozkład SalePrice')\n",
    "plt.xlabel('SalePrice')\n",
    "plt.ylabel('Częstość')\n",
    "plt.show()"
   ]
  },
  {
   "cell_type": "markdown",
   "id": "dfa5eed2-c3e1-4c0f-a76a-7a8d47200f93",
   "metadata": {
    "id": "dfa5eed2-c3e1-4c0f-a76a-7a8d47200f93"
   },
   "source": [
    "Wnioski\n",
    "\n",
    "- Rozkład jest prawostronnie asymetryczny (prawoskośny), co oznacza ze wieksza  cześć danych koncentruje sie w niższych wartosciach od 100 000 do 250 000\n",
    "- Rozkład jest jednomodalny poniewaz posiada jeden wyraźny szczyt w okolicach wartości 150 000- 200 000, oznacza to ze większość cen domów w zbiorze danych mieści sie w tym przedziale\n",
    "\n",
    "Asymetryczność ma negaywny wpływ na działanie niekótrych modeli regresji,takich jak regrsja liniowa które zakładaja normalność rozkładu zmiennej docelowej."
   ]
  },
  {
   "cell_type": "code",
   "execution_count": null,
   "id": "a4228da7-83f0-4e9e-84c4-69850cf95270",
   "metadata": {
    "id": "a4228da7-83f0-4e9e-84c4-69850cf95270",
    "outputId": "a131712a-c1bb-4448-98b7-4373e891f477"
   },
   "outputs": [],
   "source": [
    "train['LogSalePrice'] = np.log1p(train['SalePrice'])\n",
    "sns.histplot(train['LogSalePrice'], kde=True, bins=30)"
   ]
  },
  {
   "cell_type": "markdown",
   "id": "7e68ed7e-fca1-468f-aa6d-f6742893f83e",
   "metadata": {},
   "source": [
    "#### Wnioski"
   ]
  },
  {
   "cell_type": "markdown",
   "id": "KpHf99NV3Nf0",
   "metadata": {
    "id": "KpHf99NV3Nf0"
   },
   "source": [
    "- Rozład jest bardziej symetryczny i zbliżony do normalnego (rozkładu Gaussa), oznacza to ze dane po transformacji lepiej spełniaja założenia normalnosci co wpłynie korzystniej na algorytmy uczenia maszynowego, takich jak regresja liniowa.\n",
    "- wysokie ceny, które wczesniej znajdowały sie na prawym koncu rozkładu i wpływaja na asymetrie zostały skompresowane w bardzie zwartej formie przez co ich wpływ na modelowanie jest teraz ograniczony\n",
    "- dominujacym przedziałem jest 12 co odpowiada rzeczywistej wartosci ceny\n",
    "- rozkład normalny jest zblizony do normalnego. zastosowanie tej transrmacji poprawi predykcje\n",
    "\n",
    "Funkcja wykonuje logarytm naturalny (logarytm w podstawie e) dodoając 1 do wartości wejściowej przed wykonaniem logarytmu co pozwala uniknąc błedu logarytmowania wartości 0 (prowadzi do nieskonczoności )"
   ]
  },
  {
   "cell_type": "markdown",
   "id": "34c220bc-7dba-4cdf-aa06-4720b368c745",
   "metadata": {},
   "source": [
    "#### Relacja między YearBuilt (rok budowy) a SalePrice (cena sprzedaży)"
   ]
  },
  {
   "cell_type": "code",
   "execution_count": null,
   "id": "6c10ac57-5b3b-4c78-a3e2-f63d1cb4ffa6",
   "metadata": {},
   "outputs": [],
   "source": [
    "sns.scatterplot(x= train['YearBuilt'],y= train['SalePrice'])\n",
    "plt.title('Zależność miedzy Rok Budowy - Cena sprzedazy')\n",
    "plt.xlabel('YearBuilt (Rok budowy)')\n",
    "plt.ylabel('SalePrice (Cena sprzedaży)')\n",
    "plt.show()"
   ]
  },
  {
   "cell_type": "code",
   "execution_count": null,
   "id": "226e0a6c-24b1-4eeb-a244-25372134aec1",
   "metadata": {},
   "outputs": [],
   "source": [
    "avg_price_by_year = train.groupby('YearBuilt')['SalePrice'].mean()\n",
    "avg_price_by_year.plot(kind = 'line')\n",
    "plt.title('Wykres liniowy średnich cen w zależności od roku budowy')\n",
    "plt.grid()\n",
    "plt.show()"
   ]
  },
  {
   "cell_type": "markdown",
   "id": "7a7bc11c-604d-4e56-8a8c-995854bbfb4a",
   "metadata": {
    "jp-MarkdownHeadingCollapsed": true
   },
   "source": [
    "#### Wnioski\n",
    "- Ceny domow maja ogolną tendencje wzrostową \n",
    "- Ceny domów w okolicach roku 2000 rosna co jest logiczne poniewaz nowsze budynki zwykle mają lepsze standardy \n",
    "- Najwiecej domów zostało zbudowanych miedzy 1950 - 2000 co zoznacza ze był to okres intensywnego rozwoju budowlanego\n",
    "- Istnieje kilka wyjątków:\n",
    "    - kilka domów zdudowanych miedzy 1880-1900 które przekraczaja cene 300 000 co oznacza ze domy te maja jakas wartosc historyczna\n",
    "    - kilka domow zbudowanych po 2000 jest bardzo drogich (powyżej 700 000) co oznacza ze to luksusowe rezydencje "
   ]
  },
  {
   "cell_type": "markdown",
   "id": "300a6566-4fe3-4b87-bc6d-56d9395d978c",
   "metadata": {
    "jp-MarkdownHeadingCollapsed": true
   },
   "source": [
    "#### Rozkład dzielnic"
   ]
  },
  {
   "cell_type": "code",
   "execution_count": null,
   "id": "449750e2-9a65-4ce3-bcef-5fae87d89b09",
   "metadata": {},
   "outputs": [],
   "source": [
    "train['Neighborhood'].value_counts().plot(kind= 'bar')\n"
   ]
  },
  {
   "cell_type": "code",
   "execution_count": null,
   "id": "3039418b-0c67-48de-bfb8-db8cb09a5a4f",
   "metadata": {},
   "outputs": [],
   "source": [
    "plt.figure(figsize= (10,6))\n",
    "sns.barplot(x= train['Neighborhood'],y=train['SalePrice'])\n",
    "plt.title('Rozkład cen w dzielnice')\n",
    "plt.xticks(rotation=90)\n",
    "plt.show()"
   ]
  },
  {
   "cell_type": "code",
   "execution_count": null,
   "id": "5576a3d9-0af7-4fd6-9ae6-7efa063bb83d",
   "metadata": {
    "scrolled": true
   },
   "outputs": [],
   "source": [
    "plt.figure(figsize= (10,6))\n",
    "sns.barplot(x= train['HeatingQC'],y=train['SalePrice'])\n",
    "plt.title('Jakość systemu grzewczego w stosunku do ceny')\n",
    "plt.show()\n"
   ]
  },
  {
   "cell_type": "markdown",
   "id": "14ea8365-1a2e-4fba-9356-d3bb837373bf",
   "metadata": {
    "id": "0a5925e2-6a7f-4fe5-9a84-2376d793d960",
    "jp-MarkdownHeadingCollapsed": true
   },
   "source": [
    "#### Wykres braków"
   ]
  },
  {
   "cell_type": "code",
   "execution_count": null,
   "id": "2a57e9bd-a38a-4087-82c2-bd9ef7424e34",
   "metadata": {},
   "outputs": [],
   "source": [
    "missing_values.plot(kind= 'bar',figsize= (12,6))\n",
    "plt.title('Liczba braków w kolumnach')\n",
    "plt.show()"
   ]
  },
  {
   "cell_type": "markdown",
   "id": "e6602fc8-9fee-4b39-b171-2ff8a6bf99d4",
   "metadata": {},
   "source": [
    "#### Wnioski\n",
    "Kolumny po lewej stronie wykresu mają najwiecej braków a im dalej w prawo, tym liczba braków maleje. \n",
    "\n",
    "Niektóre kolumny maja bardzo dużą liczbe braków, rozważe ich usuniecie."
   ]
  },
  {
   "cell_type": "markdown",
   "id": "a848ecbc-d74f-44e5-a1d2-d1e45883743e",
   "metadata": {
    "jp-MarkdownHeadingCollapsed": true
   },
   "source": [
    "## Przygotowywanie danych\n",
    "\n",
    "Dane zmiennych kategorycznych zamienie za pomoca  One-Hot Encoding poniewaz:\n",
    "- jest to odpowieni sposób dla zmiennych które nie mają naturalnego porzadku\n",
    "- dzieki temu sposobowi kodowania zmiennych model nie zakłada fałszywej hierarchii miedzy wartościami w przeciwieństwie do Label Encoding gdzie liczby mogą sugerowac porzadek \n",
    "- One-Hot Encoding zwraca macierz rzadką\n"
   ]
  },
  {
   "cell_type": "markdown",
   "id": "c9330285-f62e-4920-9cab-fb8fe5d31830",
   "metadata": {
    "jp-MarkdownHeadingCollapsed": true
   },
   "source": [
    "### Kolumna MSSubClass\n",
    "Klasa nieruchomości"
   ]
  },
  {
   "cell_type": "code",
   "execution_count": null,
   "id": "0c752fcc-296f-436c-b0d4-caa4b1ca5d03",
   "metadata": {},
   "outputs": [],
   "source": [
    "train['MSSubClass'].value_counts()"
   ]
  },
  {
   "cell_type": "markdown",
   "id": "023a0fc5-b761-495b-ab57-eeabf7b37038",
   "metadata": {
    "jp-MarkdownHeadingCollapsed": true
   },
   "source": [
    "### Kolumna MSZoning (Strefa funkcjonalna)"
   ]
  },
  {
   "cell_type": "code",
   "execution_count": null,
   "id": "af1bf557-02c6-484d-a322-7d1742d6d96a",
   "metadata": {},
   "outputs": [],
   "source": [
    "train.groupby('MSZoning')['SalePrice'].mean().plot(kind= 'bar');"
   ]
  },
  {
   "cell_type": "code",
   "execution_count": null,
   "id": "a626a0eb-1c66-4f0d-9dfe-3effa89dcb72",
   "metadata": {},
   "outputs": [],
   "source": [
    "train['MSZoning'].value_counts()"
   ]
  },
  {
   "cell_type": "markdown",
   "id": "a159fb61-d8d9-4602-b21b-e5a53d6e96e2",
   "metadata": {
    "jp-MarkdownHeadingCollapsed": true
   },
   "source": [
    "### Kolumna LotFrontage \n",
    "(Długość frontu działki) wypełnie puste miejsca srednia \n"
   ]
  },
  {
   "cell_type": "code",
   "execution_count": null,
   "id": "ce722081-3846-4c61-bae2-914ad7faa8c1",
   "metadata": {},
   "outputs": [],
   "source": [
    "train.groupby('LotFrontage')['SalePrice'].mean().plot(kind= 'bar');"
   ]
  },
  {
   "cell_type": "code",
   "execution_count": null,
   "id": "5da4be39-f126-4abb-abd8-84086ef622ff",
   "metadata": {},
   "outputs": [],
   "source": [
    "train['LotFrontage']= train['LotFrontage'].fillna(0)\n",
    "test['LotFrontage']= test['LotFrontage'].fillna(0)\n"
   ]
  },
  {
   "cell_type": "code",
   "execution_count": null,
   "id": "2309c22b-aa3b-4878-9e5e-d78689b3aa76",
   "metadata": {},
   "outputs": [],
   "source": [
    "train[train['LotFrontage'].isnull()]"
   ]
  },
  {
   "cell_type": "markdown",
   "id": "439a4f67-5d93-46f4-bda3-a1ada73cd24a",
   "metadata": {},
   "source": [
    "### Kolumna LotArea\n",
    "Powierzchnia działki"
   ]
  },
  {
   "cell_type": "markdown",
   "id": "6ad5880e-d3c5-48c8-96ef-2a35903ffa00",
   "metadata": {
    "jp-MarkdownHeadingCollapsed": true
   },
   "source": [
    "### Kolumna Street (Rodzaj ulicy)\n",
    "użyje One Hot Encoder"
   ]
  },
  {
   "cell_type": "code",
   "execution_count": null,
   "id": "1ddf417a-672e-4f5c-ace0-eefea6e0ee6d",
   "metadata": {},
   "outputs": [],
   "source": [
    "train['Street'].value_counts()"
   ]
  },
  {
   "cell_type": "code",
   "execution_count": null,
   "id": "32558e4b-f8b2-409d-a15d-278700c09af8",
   "metadata": {},
   "outputs": [],
   "source": [
    "train.groupby('Street')['SalePrice'].mean().plot(kind= 'bar');"
   ]
  },
  {
   "cell_type": "markdown",
   "id": "66736520-51fb-4dff-8ae4-4dfd3a56b068",
   "metadata": {
    "jp-MarkdownHeadingCollapsed": true
   },
   "source": [
    "### Kolumna Alley (Rodzaj ulicy bocznej)\n",
    "- One Hot Encoder\n",
    "- Puste miejsca wypełnie wartościa None"
   ]
  },
  {
   "cell_type": "code",
   "execution_count": null,
   "id": "5ef17cf5-796e-4b4b-901d-c08b9e3994df",
   "metadata": {},
   "outputs": [],
   "source": [
    "train['Alley']= train['Alley'].fillna('None')\n",
    "test['Alley']= test['Alley'].fillna('None')"
   ]
  },
  {
   "cell_type": "code",
   "execution_count": null,
   "id": "d56d76db-d885-491d-8303-51ca188bcecb",
   "metadata": {},
   "outputs": [],
   "source": [
    "train.groupby('Alley')['SalePrice'].mean().plot(kind= 'bar');"
   ]
  },
  {
   "cell_type": "code",
   "execution_count": null,
   "id": "df251865-b834-46ee-a52b-616ba8d61ba8",
   "metadata": {},
   "outputs": [],
   "source": [
    "train['Alley'].value_counts()"
   ]
  },
  {
   "cell_type": "markdown",
   "id": "abdaf634-d887-4778-810e-93c6240e538e",
   "metadata": {
    "jp-MarkdownHeadingCollapsed": true
   },
   "source": [
    "### Kolumna LotShape (Kształt działki)\n",
    "- One Hot Encoder"
   ]
  },
  {
   "cell_type": "code",
   "execution_count": null,
   "id": "b64cc5e7-86c2-47b7-90ba-d6974390e4b7",
   "metadata": {},
   "outputs": [],
   "source": [
    "train['LotShape'].value_counts()"
   ]
  },
  {
   "cell_type": "code",
   "execution_count": null,
   "id": "2123e7ff-d174-4048-872e-10273953fe49",
   "metadata": {},
   "outputs": [],
   "source": [
    "train.groupby('LotShape')['SalePrice'].mean().plot(kind= 'bar');"
   ]
  },
  {
   "cell_type": "markdown",
   "id": "5b8e97bc-e88f-4c8d-b6de-7a957d2087b8",
   "metadata": {
    "jp-MarkdownHeadingCollapsed": true
   },
   "source": [
    "### Kolumna LandContour (Rzeźba terenu)\n",
    "- One Hot Encoder\n",
    "\n",
    "\n",
    "    - Lvl (Level): Teren jest płaski lub o minimalnym nachyleniu\n",
    "    - Bnk (Bank): Działka znajduje się na brzegu wzniesienia \n",
    "    - HLS (Hillside): Teren jest stromy lub pagórkowaty \n",
    "    - Low (Low-lying): Teren jest nisko położony"
   ]
  },
  {
   "cell_type": "code",
   "execution_count": null,
   "id": "0b872ae9-a261-4901-83ca-e23c991c8801",
   "metadata": {},
   "outputs": [],
   "source": [
    "train['LandContour'].value_counts()"
   ]
  },
  {
   "cell_type": "code",
   "execution_count": null,
   "id": "4ef371db-b352-445a-b3d0-466957d99a30",
   "metadata": {},
   "outputs": [],
   "source": [
    "train.groupby('LandContour')['SalePrice'].mean().plot(kind= 'bar');"
   ]
  },
  {
   "cell_type": "markdown",
   "id": "1a9af872-b8a2-4140-99ba-7202409370ad",
   "metadata": {
    "jp-MarkdownHeadingCollapsed": true
   },
   "source": [
    "### Kolumna Utilities (Dostępność mediów)\n",
    "- One Hot Encoder\n"
   ]
  },
  {
   "cell_type": "code",
   "execution_count": null,
   "id": "6c5e8146-d006-4265-963f-33c7a19dff7c",
   "metadata": {},
   "outputs": [],
   "source": [
    "train['Utilities'].value_counts()"
   ]
  },
  {
   "cell_type": "code",
   "execution_count": null,
   "id": "37427868-5322-4c9a-af92-f71d989bbdc8",
   "metadata": {},
   "outputs": [],
   "source": [
    "train.groupby('Utilities')['SalePrice'].mean().plot(kind= 'bar');"
   ]
  },
  {
   "cell_type": "markdown",
   "id": "55367a8e-1daf-414c-b5e8-a56ea4bb5d0c",
   "metadata": {
    "jp-MarkdownHeadingCollapsed": true
   },
   "source": [
    "### Kolumna LotConfig (Układ działki)\n",
    "- One Hot Encoder"
   ]
  },
  {
   "cell_type": "markdown",
   "id": "601b6874-1b48-4833-b655-1bc1dd39d26d",
   "metadata": {},
   "source": [
    "    - Inside: Działka znajduje się w środku rzędu działek\n",
    "    - Corner: Działka narożna, znajduje się na skrzyżowaniu ulic\n",
    "    - CulDSac: Działka na końcu ślepej uliczki (cul-de-sac)\n",
    "    - FR2: Działka przylegająca do dwóch ulic z przodu i tyłu\n",
    "    - FR3: Działka przylegająca do trzech lub więcej ulic"
   ]
  },
  {
   "cell_type": "code",
   "execution_count": null,
   "id": "5a68e273-01ca-490a-940e-3a9798579dff",
   "metadata": {},
   "outputs": [],
   "source": [
    "train['LotConfig'].value_counts()"
   ]
  },
  {
   "cell_type": "code",
   "execution_count": null,
   "id": "c113248e-c7f9-4dae-9d1d-16ef24f84c7a",
   "metadata": {},
   "outputs": [],
   "source": [
    "train.groupby('LotConfig')['SalePrice'].mean().plot(kind= 'bar');"
   ]
  },
  {
   "cell_type": "markdown",
   "id": "1374ce6f-e61c-4a7a-b6f0-e2145ee10131",
   "metadata": {
    "jp-MarkdownHeadingCollapsed": true
   },
   "source": [
    "### Kolumna LandSlope (Nachylenie działki)\n",
    "- One Hot Encoder"
   ]
  },
  {
   "cell_type": "code",
   "execution_count": null,
   "id": "cf0d4115-1d4a-4187-a8bc-3570ec1174ca",
   "metadata": {},
   "outputs": [],
   "source": [
    "train['LandSlope'].value_counts()"
   ]
  },
  {
   "cell_type": "code",
   "execution_count": null,
   "id": "ad80b66b-4412-46e7-9597-b545a1cdff43",
   "metadata": {},
   "outputs": [],
   "source": [
    "train.groupby('LandSlope')['SalePrice'].mean().plot(kind= 'bar');"
   ]
  },
  {
   "cell_type": "markdown",
   "id": "e5c5fb78-9a72-4ad4-9d1b-94eb50c103b6",
   "metadata": {
    "jp-MarkdownHeadingCollapsed": true
   },
   "source": [
    "### Kolumna Neighborhood (Nazwa dzielnicy)\n",
    "- One Hot Encoder"
   ]
  },
  {
   "cell_type": "code",
   "execution_count": null,
   "id": "38c28ccd-a2e0-45b6-ba77-037ab5cf192e",
   "metadata": {},
   "outputs": [],
   "source": [
    "train['Neighborhood'].value_counts()"
   ]
  },
  {
   "cell_type": "code",
   "execution_count": null,
   "id": "2c3b5c9c-ff0c-441a-b176-41594c3848a3",
   "metadata": {},
   "outputs": [],
   "source": [
    "plt.figure(figsize= (10,6))\n",
    "sns.barplot(x= train['Neighborhood'],y=train['SalePrice'])\n",
    "plt.title('Rozkład cen w dzielnice')\n",
    "plt.xticks(rotation=90)\n",
    "plt.show()"
   ]
  },
  {
   "cell_type": "markdown",
   "id": "b3c14e25-92d9-434d-9c05-863aacce20ad",
   "metadata": {
    "jp-MarkdownHeadingCollapsed": true
   },
   "source": [
    "### Kolumna Condition1 (Główne warunki otoczenia)\n",
    "- One Hot Encoder"
   ]
  },
  {
   "cell_type": "code",
   "execution_count": null,
   "id": "a910e2b0-cdc5-4d73-90de-0f6a6d3bd015",
   "metadata": {},
   "outputs": [],
   "source": [
    "train['Condition1'].value_counts()"
   ]
  },
  {
   "cell_type": "code",
   "execution_count": null,
   "id": "614d137b-3fb4-4062-819a-e109669c6d76",
   "metadata": {},
   "outputs": [],
   "source": [
    "train.groupby('Condition1')['SalePrice'].mean().plot(kind= 'bar');"
   ]
  },
  {
   "cell_type": "markdown",
   "id": "5ff73f79-79b6-4fd0-9a97-5b47c2f5ec65",
   "metadata": {
    "jp-MarkdownHeadingCollapsed": true
   },
   "source": [
    "### Kolumna Condition2 (Dodatkowe warunki otoczenia\n",
    "- One Hot Encoder"
   ]
  },
  {
   "cell_type": "code",
   "execution_count": null,
   "id": "6442840f-6616-4fd4-87a1-ca7497d64fda",
   "metadata": {},
   "outputs": [],
   "source": [
    "train['Condition2'].value_counts()"
   ]
  },
  {
   "cell_type": "code",
   "execution_count": null,
   "id": "df9f46db-f197-47e4-bcae-939499d09b82",
   "metadata": {},
   "outputs": [],
   "source": [
    "train.groupby('Condition2')['SalePrice'].mean().plot(kind= 'bar');"
   ]
  },
  {
   "cell_type": "markdown",
   "id": "16a1b5df-8572-4997-9461-e785955c1259",
   "metadata": {
    "jp-MarkdownHeadingCollapsed": true
   },
   "source": [
    "### Kolumna BldgType (Typ budynku )\n",
    "- One Hot Encoder"
   ]
  },
  {
   "cell_type": "code",
   "execution_count": null,
   "id": "6111c59d-5eda-4d14-8de2-8bd35e019b00",
   "metadata": {},
   "outputs": [],
   "source": [
    "train['BldgType'].value_counts()"
   ]
  },
  {
   "cell_type": "code",
   "execution_count": null,
   "id": "258194ef-1050-42f1-a3eb-94783cc5dd3d",
   "metadata": {},
   "outputs": [],
   "source": [
    "train.groupby('BldgType')['SalePrice'].mean().plot(kind= 'bar');"
   ]
  },
  {
   "cell_type": "markdown",
   "id": "0e99271f-5806-4878-a5f2-3a4f7102e120",
   "metadata": {
    "jp-MarkdownHeadingCollapsed": true
   },
   "source": [
    "### Kolumna HouseStyle (Styl budynku)\n",
    "- One Hot Encoder"
   ]
  },
  {
   "cell_type": "code",
   "execution_count": null,
   "id": "9ba4c133-31e2-4bdb-b957-da005006d8c0",
   "metadata": {},
   "outputs": [],
   "source": [
    "train['HouseStyle'].value_counts()"
   ]
  },
  {
   "cell_type": "code",
   "execution_count": null,
   "id": "4d6014cc-1136-40e0-ae17-a44c10753b29",
   "metadata": {},
   "outputs": [],
   "source": [
    "train.groupby('HouseStyle')['SalePrice'].mean().plot(kind= 'bar');"
   ]
  },
  {
   "cell_type": "markdown",
   "id": "afc39bf8-f474-4c40-aa2f-bc32c265f906",
   "metadata": {
    "jp-MarkdownHeadingCollapsed": true
   },
   "source": [
    "### Kolumna OverallQual (Ogólna jakość budynku)\n",
    "skala od 1 od 10\n"
   ]
  },
  {
   "cell_type": "code",
   "execution_count": null,
   "id": "b6f8afee-e987-42c5-928f-dacee7c23b93",
   "metadata": {},
   "outputs": [],
   "source": [
    "train['OverallQual'].value_counts()"
   ]
  },
  {
   "cell_type": "code",
   "execution_count": null,
   "id": "783c8be3-82f1-4fb3-a368-bf0a1a1d1c1a",
   "metadata": {},
   "outputs": [],
   "source": [
    "train.groupby('OverallQual')['SalePrice'].mean().plot(kind= 'bar');"
   ]
  },
  {
   "cell_type": "markdown",
   "id": "0d4331a5-3626-45cc-95e9-a2cef00a2472",
   "metadata": {
    "jp-MarkdownHeadingCollapsed": true
   },
   "source": [
    "### Kolumna OverallCond (Ogólny stan budynku)"
   ]
  },
  {
   "cell_type": "code",
   "execution_count": null,
   "id": "955b7e86-4813-4a64-a981-7ce4236b0e94",
   "metadata": {},
   "outputs": [],
   "source": [
    "train['OverallCond'].value_counts()"
   ]
  },
  {
   "cell_type": "code",
   "execution_count": null,
   "id": "ea0a6bcc-fc2e-420b-b4c3-e4bc5637d9a6",
   "metadata": {},
   "outputs": [],
   "source": [
    "train.groupby('OverallCond')['SalePrice'].mean().plot(kind= 'bar');"
   ]
  },
  {
   "cell_type": "markdown",
   "id": "03a5f4f4-1065-4ca1-9d09-001f74f406f7",
   "metadata": {
    "jp-MarkdownHeadingCollapsed": true
   },
   "source": [
    "### Kolumna YearBuilt (Rok budowy budynku)"
   ]
  },
  {
   "cell_type": "code",
   "execution_count": null,
   "id": "2efd5a76-7818-4a83-b40c-03c6ff9190c9",
   "metadata": {},
   "outputs": [],
   "source": [
    "train['YearBuilt'].value_counts()"
   ]
  },
  {
   "cell_type": "code",
   "execution_count": null,
   "id": "892789d0-f299-447e-ae0c-7d51f1f4b57a",
   "metadata": {},
   "outputs": [],
   "source": [
    "train.groupby('YearBuilt')['SalePrice'].mean().plot(kind= 'line');"
   ]
  },
  {
   "cell_type": "markdown",
   "id": "e3b827a3-f0d9-410c-a071-598b7b157fc8",
   "metadata": {
    "jp-MarkdownHeadingCollapsed": true
   },
   "source": [
    "### Kolumna YearRemodAdd (Rok ostatniej przebudowy)"
   ]
  },
  {
   "cell_type": "code",
   "execution_count": null,
   "id": "23c21821-1cd5-4064-a4d3-a8b913185c70",
   "metadata": {},
   "outputs": [],
   "source": [
    "train['YearRemodAdd'].value_counts()"
   ]
  },
  {
   "cell_type": "code",
   "execution_count": null,
   "id": "99139d65-c172-4307-81bb-2e420bd86098",
   "metadata": {},
   "outputs": [],
   "source": [
    "train.groupby('YearRemodAdd')['SalePrice'].mean().plot(kind= 'line');"
   ]
  },
  {
   "cell_type": "markdown",
   "id": "8f43cc0e-af8c-49a2-a216-702ee8659c47",
   "metadata": {
    "jp-MarkdownHeadingCollapsed": true
   },
   "source": [
    "### Kolumna RoofStyle (Styl dachu)\n",
    "- One Hot Encoder"
   ]
  },
  {
   "cell_type": "code",
   "execution_count": null,
   "id": "a78e6373-c9ee-438c-86a2-b510b013390c",
   "metadata": {},
   "outputs": [],
   "source": [
    "train['RoofStyle'].value_counts()"
   ]
  },
  {
   "cell_type": "code",
   "execution_count": null,
   "id": "5efbc612-d795-43b2-a840-34499eb8bcef",
   "metadata": {},
   "outputs": [],
   "source": [
    "train.groupby('RoofStyle')['SalePrice'].mean().plot(kind= 'bar');"
   ]
  },
  {
   "cell_type": "markdown",
   "id": "9c9f6c58-9284-4cf5-a7ba-47fa23ef3bc7",
   "metadata": {
    "jp-MarkdownHeadingCollapsed": true
   },
   "source": [
    "### Kolumna RoofMatl (Materiał pokrycia dachowego)\n",
    "- One Hot Encoder"
   ]
  },
  {
   "cell_type": "code",
   "execution_count": null,
   "id": "8317445c-e82a-4243-88d0-018f654e1467",
   "metadata": {},
   "outputs": [],
   "source": [
    "train['RoofMatl'].value_counts()"
   ]
  },
  {
   "cell_type": "code",
   "execution_count": null,
   "id": "316024d7-ea2c-42bc-8639-3917290f3fb1",
   "metadata": {},
   "outputs": [],
   "source": [
    "train.groupby('RoofMatl')['SalePrice'].mean().plot(kind= 'bar');"
   ]
  },
  {
   "cell_type": "markdown",
   "id": "5dfc79a1-29fd-494e-b1b3-5274e924444c",
   "metadata": {
    "jp-MarkdownHeadingCollapsed": true
   },
   "source": [
    "### Kolumna Exterior1st (Materiał zewnętrzny na pierwszym poziomie budynku)\n",
    "- One Hot Encoder"
   ]
  },
  {
   "cell_type": "code",
   "execution_count": null,
   "id": "0d24047a-278f-414e-aeb8-5859d6e51c67",
   "metadata": {},
   "outputs": [],
   "source": [
    "train['Exterior1st'].value_counts()"
   ]
  },
  {
   "cell_type": "code",
   "execution_count": null,
   "id": "23145ab9-e369-4193-b91b-c119c78182a7",
   "metadata": {},
   "outputs": [],
   "source": [
    "train.groupby('Exterior1st')['SalePrice'].mean().plot(kind= 'bar');"
   ]
  },
  {
   "cell_type": "markdown",
   "id": "47767484-904a-45db-b040-6bb9b422341e",
   "metadata": {
    "jp-MarkdownHeadingCollapsed": true
   },
   "source": [
    "### Kolumna Exterior2nd (Materiał zewnętrzny na drugim poziomie budynku)\n",
    "- One Hot Encoder"
   ]
  },
  {
   "cell_type": "code",
   "execution_count": null,
   "id": "696227aa-672b-49b4-9aec-867a493fbe6e",
   "metadata": {},
   "outputs": [],
   "source": [
    "train['Exterior2nd'].value_counts()"
   ]
  },
  {
   "cell_type": "code",
   "execution_count": null,
   "id": "ac901488-ab39-4ad6-a1e1-58cd56370ab7",
   "metadata": {},
   "outputs": [],
   "source": [
    "train.groupby('Exterior2nd')['SalePrice'].mean().plot(kind= 'bar');"
   ]
  },
  {
   "cell_type": "markdown",
   "id": "e45bbb24-d888-430b-aa79-32f12eb2dd46",
   "metadata": {
    "jp-MarkdownHeadingCollapsed": true
   },
   "source": [
    "### Kolumna MasVnrType (Typ okładziny kamiennej)\n",
    "- One Hot Encoder\n",
    "- wypełnie puste wartosci None "
   ]
  },
  {
   "cell_type": "code",
   "execution_count": null,
   "id": "6219611d-8449-4947-9ce3-5a2edc8ce622",
   "metadata": {},
   "outputs": [],
   "source": [
    "train['MasVnrType']= train['MasVnrType'].fillna('None')\n",
    "test['MasVnrType']= test['MasVnrType'].fillna('None')"
   ]
  },
  {
   "cell_type": "code",
   "execution_count": null,
   "id": "01c0dbd9-d00e-4d44-9dc9-c8cc05ab3f6f",
   "metadata": {},
   "outputs": [],
   "source": [
    "train['MasVnrType'].value_counts()"
   ]
  },
  {
   "cell_type": "code",
   "execution_count": null,
   "id": "d19985e9-796a-4a5c-a675-90b623d4781f",
   "metadata": {},
   "outputs": [],
   "source": [
    "train.groupby('MasVnrType')['SalePrice'].mean().plot(kind= 'bar');"
   ]
  },
  {
   "cell_type": "markdown",
   "id": "9ff0033c-5b02-441d-a30c-bf5c8e9970f5",
   "metadata": {
    "jp-MarkdownHeadingCollapsed": true
   },
   "source": [
    "### Kolumna MasVnrArea (owierzchnia okładziny kamiennej)\n",
    " Określa rodzaj wykończenia elewacji budynku przy użyciu kamienia lub cegły.\n",
    "\n",
    "- One Hot Encoder\n",
    "- puste wartosci wypełniam 0"
   ]
  },
  {
   "cell_type": "code",
   "execution_count": null,
   "id": "31bbab95-7a48-4747-989c-658e34a3d613",
   "metadata": {},
   "outputs": [],
   "source": [
    "train[(train['MasVnrType'] == 'None') & (train['MasVnrArea'].isna())][['MasVnrType','MasVnrArea']]"
   ]
  },
  {
   "cell_type": "code",
   "execution_count": null,
   "id": "0682a132-40a3-429a-8c0c-7052a3161993",
   "metadata": {},
   "outputs": [],
   "source": [
    "train[(train['MasVnrType'] == 'None') & (train['MasVnrArea'] != 0)][['MasVnrType','MasVnrArea']]"
   ]
  },
  {
   "cell_type": "code",
   "execution_count": null,
   "id": "ea58f4fb-64d3-4dc8-853b-cbd43e8ead17",
   "metadata": {},
   "outputs": [],
   "source": [
    "train['MasVnrArea']= train['MasVnrArea'].fillna(0)\n",
    "test['MasVnrArea']= test['MasVnrArea'].fillna(0)"
   ]
  },
  {
   "cell_type": "code",
   "execution_count": null,
   "id": "5f0c52cf-f939-4053-b901-3c6bee14d14f",
   "metadata": {},
   "outputs": [],
   "source": [
    "train['MasVnrArea'].isnull().sum()"
   ]
  },
  {
   "cell_type": "markdown",
   "id": "4cc15e94-584c-488c-bb95-1c20023f96c1",
   "metadata": {},
   "source": [
    "W kolumnach 'MasVnrArea' i 'MasVnrType' jest niescisłosc poniewaz w kolumnie nie wpisano typu a powierzchnia jest wpisana"
   ]
  },
  {
   "cell_type": "markdown",
   "id": "18904196-38d4-4db6-8771-8c47cb2b6938",
   "metadata": {
    "jp-MarkdownHeadingCollapsed": true
   },
   "source": [
    "### Kolumna ExterQual (Jakość materiałów wykończeniowych na zewnątrz budynku)\n",
    "- mapowanie wartosci na numeryczne"
   ]
  },
  {
   "cell_type": "code",
   "execution_count": null,
   "id": "41c532ff-1a3d-4a48-b22e-dc7833fa988d",
   "metadata": {},
   "outputs": [],
   "source": [
    "train.groupby('ExterQual')['SalePrice'].mean().plot(kind= 'bar');"
   ]
  },
  {
   "cell_type": "code",
   "execution_count": null,
   "id": "de047a83-e684-4dc5-8e28-dcd5d2bdaed9",
   "metadata": {},
   "outputs": [],
   "source": [
    "train['ExterQual'].value_counts()"
   ]
  },
  {
   "cell_type": "code",
   "execution_count": null,
   "id": "bf861d63-58c5-4728-9332-d2b11ef3bfba",
   "metadata": {},
   "outputs": [],
   "source": [
    "ExterQual_mapping = {'Ex':5, 'Gd':4, 'TA':3,'Fa':2,'Po':1,'None':0}\n",
    "\n",
    "train['ExterQual']= train['ExterQual'].map(ExterQual_mapping)\n",
    "test['ExterQual']= test['ExterQual'].map(ExterQual_mapping)"
   ]
  },
  {
   "cell_type": "markdown",
   "id": "2a1140ab-689d-4721-833b-a7a3c53cf4b5",
   "metadata": {
    "jp-MarkdownHeadingCollapsed": true
   },
   "source": [
    "### Kolumna ExterCond (Stan materiałów wykończeniowych na zewnątrz budynku.)\n",
    "- mapowanie wartosci na numeryczne"
   ]
  },
  {
   "cell_type": "code",
   "execution_count": null,
   "id": "01f07409-e420-4a58-92b6-91ecf36ed6f3",
   "metadata": {},
   "outputs": [],
   "source": [
    "train['ExterCond'].value_counts()"
   ]
  },
  {
   "cell_type": "code",
   "execution_count": null,
   "id": "3ba8a8c7-a9be-4437-9727-c0cb1477dae6",
   "metadata": {},
   "outputs": [],
   "source": [
    "train.groupby('ExterCond')['SalePrice'].mean().plot(kind= 'bar');"
   ]
  },
  {
   "cell_type": "code",
   "execution_count": null,
   "id": "114292dc-06a2-4312-aeb4-e39f2a1d2d2a",
   "metadata": {},
   "outputs": [],
   "source": [
    "ExterCond_mapping = {'Ex':5, 'Gd':4, 'TA':3,'Fa':2,'Po':1,'None':0}\n",
    "\n",
    "train['ExterCond']= train['ExterCond'].map(ExterCond_mapping)\n",
    "test['ExterCond']= test['ExterCond'].map(ExterCond_mapping)"
   ]
  },
  {
   "cell_type": "code",
   "execution_count": null,
   "id": "37474681-6e82-4882-bb76-9d50ccc9d517",
   "metadata": {},
   "outputs": [],
   "source": [
    "train['ExterCond'].value_counts()"
   ]
  },
  {
   "cell_type": "markdown",
   "id": "ff76bab0-0601-48a3-81e6-72beaca6f942",
   "metadata": {
    "jp-MarkdownHeadingCollapsed": true
   },
   "source": [
    "### Kolumna Foundation (Typ fundamentów)\n",
    "- One Hot Encoder"
   ]
  },
  {
   "cell_type": "code",
   "execution_count": null,
   "id": "1347d9c3-4573-4fb8-b279-594c6552d11c",
   "metadata": {},
   "outputs": [],
   "source": [
    "train['RoofMatl'].value_counts()"
   ]
  },
  {
   "cell_type": "code",
   "execution_count": null,
   "id": "76672539-f1a0-495e-8ad4-840ec0e92901",
   "metadata": {},
   "outputs": [],
   "source": [
    "train.groupby('Exterior1st')['SalePrice'].mean().plot(kind= 'bar');"
   ]
  },
  {
   "cell_type": "markdown",
   "id": "68d4bb6c-a8b4-414f-b928-664c8d46a2d2",
   "metadata": {
    "jp-MarkdownHeadingCollapsed": true
   },
   "source": [
    "### Kolumna BsmtQual (Jakość piwnicy)\n",
    "- mapowanie wartosci na numeryczne\n",
    "- wypełnienie wartościa None"
   ]
  },
  {
   "cell_type": "code",
   "execution_count": null,
   "id": "00b81c75-f257-43ea-a93e-75fb9362f2c6",
   "metadata": {},
   "outputs": [],
   "source": [
    "train['BsmtQual'].isnull().sum()"
   ]
  },
  {
   "cell_type": "code",
   "execution_count": null,
   "id": "2a56ed51-71c9-455f-a6f7-16ca40e1f934",
   "metadata": {},
   "outputs": [],
   "source": [
    "train['BsmtQual']= train['BsmtQual'].fillna('None')\n",
    "test['BsmtQual']= test['BsmtQual'].fillna('None')"
   ]
  },
  {
   "cell_type": "code",
   "execution_count": null,
   "id": "eea91f71-0799-4b0c-a575-44b89dd2cb75",
   "metadata": {},
   "outputs": [],
   "source": [
    "train['BsmtQual'].value_counts()"
   ]
  },
  {
   "cell_type": "code",
   "execution_count": null,
   "id": "c5ea38a4-6afa-4f0c-9bef-e1871986d0d7",
   "metadata": {},
   "outputs": [],
   "source": [
    "BsmtQual_mapping = {'Ex':5, 'Gd':4, 'TA':3,'Fa':2,'Po':1,'None':0}\n",
    "\n",
    "train['BsmtQual']= train['BsmtQual'].map(BsmtQual_mapping)\n",
    "test['BsmtQual']= test['BsmtQual'].map(BsmtQual_mapping)\n"
   ]
  },
  {
   "cell_type": "code",
   "execution_count": null,
   "id": "c34214d3-d30d-440c-b049-816645599715",
   "metadata": {},
   "outputs": [],
   "source": [
    "train['BsmtQual'].value_counts()"
   ]
  },
  {
   "cell_type": "markdown",
   "id": "bfbb1559-79bc-46bd-a3da-321e5c7a9544",
   "metadata": {
    "jp-MarkdownHeadingCollapsed": true
   },
   "source": [
    "### Kolumna BsmtCond (Stan piwnicy)\n",
    "- mapowanie wartosci na numeryczne\n",
    "- wypełnienie wartościa None"
   ]
  },
  {
   "cell_type": "code",
   "execution_count": null,
   "id": "e42e6e6b-e0c9-4acc-8012-6690d03b4010",
   "metadata": {},
   "outputs": [],
   "source": [
    "train['BsmtCond']= train['BsmtCond'].fillna('None')\n",
    "test['BsmtCond']= test['BsmtCond'].fillna('None')"
   ]
  },
  {
   "cell_type": "code",
   "execution_count": null,
   "id": "69ae53ea-de68-428c-acc4-6aef8d726b04",
   "metadata": {},
   "outputs": [],
   "source": [
    "train['BsmtCond'].value_counts()"
   ]
  },
  {
   "cell_type": "code",
   "execution_count": null,
   "id": "9100481a-be6b-4232-972e-694c8710cf95",
   "metadata": {},
   "outputs": [],
   "source": [
    "train.groupby('BsmtCond')['SalePrice'].mean().plot(kind= 'bar');"
   ]
  },
  {
   "cell_type": "code",
   "execution_count": null,
   "id": "5cbb6270-fbc6-42b9-8e16-f3755e61ab95",
   "metadata": {},
   "outputs": [],
   "source": [
    "BsmtCond_mapping = {'Ex':5, 'Gd':4, 'TA':3,'Fa':2,'Po':1,'None':0}\n",
    "\n",
    "train['BsmtCond']= train['BsmtCond'].map(BsmtCond_mapping)\n",
    "test['BsmtCond']= test['BsmtCond'].map(BsmtCond_mapping)"
   ]
  },
  {
   "cell_type": "code",
   "execution_count": null,
   "id": "49991cc0-0f26-479d-805d-712d64921ddb",
   "metadata": {},
   "outputs": [],
   "source": [
    "train['BsmtCond'].value_counts()"
   ]
  },
  {
   "cell_type": "markdown",
   "id": "3a525f77-4231-4e8f-952d-9ad7b62fa8c3",
   "metadata": {
    "jp-MarkdownHeadingCollapsed": true
   },
   "source": [
    "### Kolumna BsmtExposure (Ekspozycja piwnicy)\n",
    "- wypełnienie wartościa No\n",
    "- mapowanie wartosci na numeryczne\n"
   ]
  },
  {
   "cell_type": "code",
   "execution_count": null,
   "id": "ec9944a2-fef1-457f-a617-0cdbdc772a9d",
   "metadata": {},
   "outputs": [],
   "source": [
    "train['BsmtExposure']= train['BsmtExposure'].fillna('No')\n",
    "test['BsmtExposure']= test['BsmtExposure'].fillna('No')"
   ]
  },
  {
   "cell_type": "code",
   "execution_count": null,
   "id": "6eb90d0b-1497-42fa-ac63-ea6452125d33",
   "metadata": {},
   "outputs": [],
   "source": [
    "train['BsmtExposure'].value_counts()"
   ]
  },
  {
   "cell_type": "code",
   "execution_count": null,
   "id": "d95a1084-1dce-472f-9d11-e379950b8ced",
   "metadata": {},
   "outputs": [],
   "source": [
    "train.groupby('BsmtExposure')['SalePrice'].mean().plot(kind= 'bar');"
   ]
  },
  {
   "cell_type": "code",
   "execution_count": null,
   "id": "63a7b993-e271-409a-8bf6-9fc406c63ede",
   "metadata": {},
   "outputs": [],
   "source": [
    "BsmtExposure_mapping = {'Gd':3,'Av':2,'Mn':1,'No':0}\n",
    "\n",
    "train['BsmtExposure']= train['BsmtExposure'].map(BsmtExposure_mapping)\n",
    "test['BsmtExposure']= test['BsmtExposure'].map(BsmtExposure_mapping)"
   ]
  },
  {
   "cell_type": "code",
   "execution_count": null,
   "id": "c2b116c7-b71d-44b4-a319-fc027b4bba69",
   "metadata": {},
   "outputs": [],
   "source": [
    "train['BsmtExposure'].value_counts()"
   ]
  },
  {
   "cell_type": "markdown",
   "id": "38e8ff9c-4605-4604-abe4-4139082cdb75",
   "metadata": {
    "jp-MarkdownHeadingCollapsed": true
   },
   "source": [
    "### Kolumna BsmtFinType1 (Typ wykończenia piwnicy)\n",
    "- wypełnienie wartościa None\n",
    "- mapowanie wartosci na numeryczne\n"
   ]
  },
  {
   "cell_type": "code",
   "execution_count": null,
   "id": "98927370-52a7-4edf-8e24-64d61b199c5a",
   "metadata": {},
   "outputs": [],
   "source": [
    "train['BsmtFinType1']= train['BsmtFinType1'].fillna('None')\n",
    "test['BsmtFinType1']= test['BsmtFinType1'].fillna('None')"
   ]
  },
  {
   "cell_type": "code",
   "execution_count": null,
   "id": "a9f257e7-b86f-4ba8-a0ba-3d36df43cf44",
   "metadata": {},
   "outputs": [],
   "source": [
    "train['BsmtFinType1'].value_counts()"
   ]
  },
  {
   "cell_type": "code",
   "execution_count": null,
   "id": "6d61fed0-a474-4e40-a158-f5a465e2dbc7",
   "metadata": {},
   "outputs": [],
   "source": [
    "train.groupby('BsmtFinType1')['SalePrice'].mean().plot(kind= 'bar');"
   ]
  },
  {
   "cell_type": "code",
   "execution_count": null,
   "id": "4be7211f-4368-4cb9-afe8-ba43ee66fa9c",
   "metadata": {},
   "outputs": [],
   "source": [
    "BsmtFinType1_mapping = {'GLQ':5,'ALQ':4,'BLQ':3,'Rec':2,'LwQ':1,'Unf':0,'None':-1}\n",
    "\n",
    "train['BsmtFinType1']= train['BsmtFinType1'].map(BsmtFinType1_mapping)\n",
    "test['BsmtFinType1']= test['BsmtFinType1'].map(BsmtFinType1_mapping)"
   ]
  },
  {
   "cell_type": "code",
   "execution_count": null,
   "id": "60492a3f-deeb-49ce-8313-03c54d4e948d",
   "metadata": {},
   "outputs": [],
   "source": [
    "train['BsmtFinType1'].value_counts()"
   ]
  },
  {
   "cell_type": "markdown",
   "id": "240b60be-9b94-48ba-b00c-c8b138a77f03",
   "metadata": {
    "jp-MarkdownHeadingCollapsed": true
   },
   "source": [
    "### Kolumna BsmtFinSF1 (Powierzchnia wykończonej piwnicy)"
   ]
  },
  {
   "cell_type": "code",
   "execution_count": null,
   "id": "92c89016-d793-4450-992d-409f60ff9e10",
   "metadata": {},
   "outputs": [],
   "source": [
    "train['BsmtFinSF1'].value_counts()"
   ]
  },
  {
   "cell_type": "markdown",
   "id": "a3a29cb4-083a-4f57-9019-a93cdef1bb58",
   "metadata": {
    "jp-MarkdownHeadingCollapsed": true
   },
   "source": [
    "### Kolumna BsmtFinType2 (Typ drugiego wykończenia piwnicy)\n",
    "- wypełnienie wartościa None\n",
    "- mapowanie wartosci na numeryczne"
   ]
  },
  {
   "cell_type": "code",
   "execution_count": null,
   "id": "88c1d6a0-2a30-49e6-848c-28c045dacf42",
   "metadata": {},
   "outputs": [],
   "source": [
    "train['BsmtFinType2']= train['BsmtFinType2'].fillna('None')\n",
    "test['BsmtFinType2']= test['BsmtFinType2'].fillna('None')"
   ]
  },
  {
   "cell_type": "code",
   "execution_count": null,
   "id": "3a3bf04a-479c-484c-b076-02421269ee18",
   "metadata": {},
   "outputs": [],
   "source": [
    "train['BsmtFinType2'].value_counts()"
   ]
  },
  {
   "cell_type": "code",
   "execution_count": null,
   "id": "7fd79acd-9e0e-4140-92cc-f3aa05411f17",
   "metadata": {},
   "outputs": [],
   "source": [
    "train.groupby('BsmtFinType2')['SalePrice'].mean().plot(kind= 'bar');"
   ]
  },
  {
   "cell_type": "code",
   "execution_count": null,
   "id": "5bab0882-7f9e-400b-98d2-ee9e6c3c1a23",
   "metadata": {},
   "outputs": [],
   "source": [
    "BsmtFinType2_mapping = {'GLQ':5,'ALQ':4,'BLQ':3,'Rec':2,'LwQ':1,'Unf':0,'None':-1}\n",
    "\n",
    "train['BsmtFinType2']= train['BsmtFinType2'].map(BsmtFinType2_mapping)\n",
    "test['BsmtFinType2']= test['BsmtFinType2'].map(BsmtFinType2_mapping)"
   ]
  },
  {
   "cell_type": "markdown",
   "id": "c6cc245b-1fb8-48e2-bd42-0c0f2f7034e1",
   "metadata": {
    "jp-MarkdownHeadingCollapsed": true
   },
   "source": [
    "### Kolumna BsmtFinSF2 (Powierzchnia drugiego wykończenia piwnicy)"
   ]
  },
  {
   "cell_type": "code",
   "execution_count": null,
   "id": "eca19c43-88f7-403d-ba26-f2bd0a7b8391",
   "metadata": {},
   "outputs": [],
   "source": [
    "train['BsmtFinSF2'].value_counts()"
   ]
  },
  {
   "cell_type": "markdown",
   "id": "19c71821-b5fd-4c61-88f1-fa4455f9c693",
   "metadata": {
    "jp-MarkdownHeadingCollapsed": true
   },
   "source": [
    "### Kolumna BsmtUnfSF (Powierzchnia niewykończonej piwnicy)"
   ]
  },
  {
   "cell_type": "code",
   "execution_count": null,
   "id": "bc1e16aa-d69e-4691-8e51-4524901993ec",
   "metadata": {},
   "outputs": [],
   "source": [
    "train['BsmtUnfSF'].value_counts()"
   ]
  },
  {
   "cell_type": "markdown",
   "id": "593411cd-4932-465d-99a9-ab77a32b0bb1",
   "metadata": {
    "jp-MarkdownHeadingCollapsed": true
   },
   "source": [
    "### Kolumna TotalBsmtSF (Całkowita powierzchnia piwnicy)"
   ]
  },
  {
   "cell_type": "code",
   "execution_count": null,
   "id": "0e2fe113-34d6-4769-8334-cfaaeb07c957",
   "metadata": {},
   "outputs": [],
   "source": [
    "train['TotalBsmtSF'].value_counts()"
   ]
  },
  {
   "cell_type": "markdown",
   "id": "b740a47e-1966-4251-85ab-174a5e209db3",
   "metadata": {
    "jp-MarkdownHeadingCollapsed": true
   },
   "source": [
    "### Kolumna Heating (Rodzaj ogrzewania)\n",
    "- One Hot Encoder"
   ]
  },
  {
   "cell_type": "code",
   "execution_count": null,
   "id": "ad21df6d-0445-4aad-891c-8a95aa94fe73",
   "metadata": {},
   "outputs": [],
   "source": [
    "train['Heating'].value_counts()"
   ]
  },
  {
   "cell_type": "code",
   "execution_count": null,
   "id": "bace7696-3367-4d73-9c1b-701fae984f8a",
   "metadata": {},
   "outputs": [],
   "source": [
    "train.groupby('Heating')['SalePrice'].mean().plot(kind= 'bar');"
   ]
  },
  {
   "cell_type": "markdown",
   "id": "d44b1a81-f342-41c1-a5a8-ba0e756da902",
   "metadata": {
    "jp-MarkdownHeadingCollapsed": true
   },
   "source": [
    "### Kolumna HeatingQC (Jakość systemu grzewczego)\n",
    "- mapowanie wartosci na numeryczne"
   ]
  },
  {
   "cell_type": "code",
   "execution_count": null,
   "id": "ca5da415-ce5c-481b-8a71-78a5b8b30ab3",
   "metadata": {},
   "outputs": [],
   "source": [
    "train['HeatingQC'].value_counts()"
   ]
  },
  {
   "cell_type": "code",
   "execution_count": null,
   "id": "d8451eac-2f78-4350-9c2c-2ba2b668db8b",
   "metadata": {},
   "outputs": [],
   "source": [
    "train.groupby('HeatingQC')['SalePrice'].mean().plot(kind= 'bar');"
   ]
  },
  {
   "cell_type": "code",
   "execution_count": null,
   "id": "978426de-cf02-44da-a9a9-e03c26f93eb6",
   "metadata": {},
   "outputs": [],
   "source": [
    "HeatingQC_mapping = {'Ex':5, 'Gd':4, 'TA':3,'Fa':2,'Po':1,'None':0}\n",
    "\n",
    "train['HeatingQC']= train['HeatingQC'].map(HeatingQC_mapping)\n",
    "test['HeatingQC']= test['HeatingQC'].map(HeatingQC_mapping)"
   ]
  },
  {
   "cell_type": "markdown",
   "id": "b4243979-2d59-41f8-8a88-e95af47f431d",
   "metadata": {
    "jp-MarkdownHeadingCollapsed": true
   },
   "source": [
    "### Kolumna CentralAir (Czy jest klimatyzacja centralna)\n",
    "- mapowanie wartosci na numeryczne na 0 albo 1"
   ]
  },
  {
   "cell_type": "code",
   "execution_count": null,
   "id": "3a241d3c-b581-4aa7-b005-8c69b07bebe1",
   "metadata": {},
   "outputs": [],
   "source": [
    "train['CentralAir'].value_counts()"
   ]
  },
  {
   "cell_type": "code",
   "execution_count": null,
   "id": "8ef26d53-3602-4e19-a1a7-c5493a8c5df6",
   "metadata": {},
   "outputs": [],
   "source": [
    "train.groupby('CentralAir')['SalePrice'].mean().plot(kind= 'bar');"
   ]
  },
  {
   "cell_type": "code",
   "execution_count": null,
   "id": "05b2c36d-45e0-46b7-91c5-6bebdc840a76",
   "metadata": {},
   "outputs": [],
   "source": [
    "CentralAir_mapping = {'Y':1,'N':0}\n",
    "\n",
    "train['CentralAir']= train['CentralAir'].map(CentralAir_mapping)\n",
    "test['CentralAir']= test['CentralAir'].map(CentralAir_mapping)"
   ]
  },
  {
   "cell_type": "markdown",
   "id": "5721ad5b-17ad-4430-a23b-60668606f021",
   "metadata": {
    "jp-MarkdownHeadingCollapsed": true
   },
   "source": [
    "### Kolumna Electrical (Typ instalacji elektrycznej.)\n",
    "- One Hot Encoder"
   ]
  },
  {
   "cell_type": "code",
   "execution_count": null,
   "id": "555da550-f908-4e2a-b025-445dbe99a9a0",
   "metadata": {},
   "outputs": [],
   "source": [
    "train['Electrical'].isnull().sum()"
   ]
  },
  {
   "cell_type": "code",
   "execution_count": null,
   "id": "3a36b6f0-4f95-4ac7-b8ac-75e9028474e7",
   "metadata": {},
   "outputs": [],
   "source": [
    "train.groupby('Electrical')['SalePrice'].mean().plot(kind= 'bar');"
   ]
  },
  {
   "cell_type": "code",
   "execution_count": null,
   "id": "53c04498-1d00-481b-b23d-71ae54dd48fa",
   "metadata": {},
   "outputs": [],
   "source": [
    "train['Electrical']= train['Electrical'].fillna('mode')\n",
    "test['Electrical']= test['Electrical'].fillna('mode')"
   ]
  },
  {
   "cell_type": "markdown",
   "id": "4a4846ba-5bcf-4162-bf4d-490397510aff",
   "metadata": {
    "jp-MarkdownHeadingCollapsed": true
   },
   "source": [
    "### Kolumna 1stFlrSF (Powierzchnia pierwszego piętra)"
   ]
  },
  {
   "cell_type": "code",
   "execution_count": null,
   "id": "1dca575d-d21c-4626-9818-4528c86a1cd7",
   "metadata": {},
   "outputs": [],
   "source": [
    "train['1stFlrSF'].value_counts()"
   ]
  },
  {
   "cell_type": "markdown",
   "id": "f39d043d-aa55-4b4f-8573-8c55623e059b",
   "metadata": {
    "jp-MarkdownHeadingCollapsed": true
   },
   "source": [
    "### Kolumna 2ndFlrSF (Powierzchnia drugiego piętra)"
   ]
  },
  {
   "cell_type": "code",
   "execution_count": null,
   "id": "a9e5e291-1214-4e68-a59f-5649ae85f5ac",
   "metadata": {},
   "outputs": [],
   "source": [
    "train['2ndFlrSF'].value_counts()"
   ]
  },
  {
   "cell_type": "markdown",
   "id": "cdc1e68f-a112-482a-bb54-e9bb1e72a38c",
   "metadata": {
    "jp-MarkdownHeadingCollapsed": true
   },
   "source": [
    "### Kolumna LowQualFinSF (Powierzchnia niskiej jakości wykończenia)"
   ]
  },
  {
   "cell_type": "code",
   "execution_count": null,
   "id": "7a2b0e45-4dac-4b83-9216-93db1ce01304",
   "metadata": {},
   "outputs": [],
   "source": [
    "train['LowQualFinSF'].value_counts()"
   ]
  },
  {
   "cell_type": "markdown",
   "id": "8ca1f0e9-883c-46ee-88ba-cac53ad7c7e2",
   "metadata": {
    "jp-MarkdownHeadingCollapsed": true
   },
   "source": [
    "### Kolumna GrLivArea (Powierzchnia powierzchni mieszkalnej)"
   ]
  },
  {
   "cell_type": "code",
   "execution_count": null,
   "id": "b399e2cb-9cb2-4f2a-9059-1a69a9291d1b",
   "metadata": {},
   "outputs": [],
   "source": [
    "train['GrLivArea'].value_counts()"
   ]
  },
  {
   "cell_type": "markdown",
   "id": "d050f864-1d5a-4019-a68c-010a088da511",
   "metadata": {
    "jp-MarkdownHeadingCollapsed": true
   },
   "source": [
    "### Kolumna BsmtFullBath (Liczba pełnych łazienek w piwnicy)"
   ]
  },
  {
   "cell_type": "code",
   "execution_count": null,
   "id": "3b61ed5b-061e-4365-aa60-a5ef456edbb4",
   "metadata": {},
   "outputs": [],
   "source": [
    "train['BsmtFullBath'].value_counts()"
   ]
  },
  {
   "cell_type": "markdown",
   "id": "291bb90e-ec48-4f72-8cfd-61af92bf590a",
   "metadata": {
    "jp-MarkdownHeadingCollapsed": true
   },
   "source": [
    "### Kolumna BsmtHalfBath (Liczba łazienek półpełnych w piwnicy)"
   ]
  },
  {
   "cell_type": "code",
   "execution_count": null,
   "id": "28626d06-f0c5-4c02-81e0-86210193b3b8",
   "metadata": {},
   "outputs": [],
   "source": [
    "train['BsmtHalfBath'].value_counts()"
   ]
  },
  {
   "cell_type": "markdown",
   "id": "3a57b936-a2c4-4682-b523-49329f706eaa",
   "metadata": {
    "jp-MarkdownHeadingCollapsed": true
   },
   "source": [
    "### Kolumna FullBath (Liczba pełnych łazienek w budynku)"
   ]
  },
  {
   "cell_type": "code",
   "execution_count": null,
   "id": "6b1f1f21-357d-4adf-a5a6-2ab89fc6edc8",
   "metadata": {},
   "outputs": [],
   "source": [
    "train['FullBath'].value_counts()"
   ]
  },
  {
   "cell_type": "markdown",
   "id": "b2f895e5-05a6-411a-80d9-e82100a67396",
   "metadata": {
    "jp-MarkdownHeadingCollapsed": true
   },
   "source": [
    "### Kolumna HalfBath (Liczba łazienek półpełnych w budynku)"
   ]
  },
  {
   "cell_type": "code",
   "execution_count": null,
   "id": "0bb5c00a-a986-4f4c-919e-01c4375bcec4",
   "metadata": {},
   "outputs": [],
   "source": [
    "train['HalfBath'].value_counts()"
   ]
  },
  {
   "cell_type": "markdown",
   "id": "94ea6665-d9bd-4a68-91c3-de9cb546f4c1",
   "metadata": {
    "jp-MarkdownHeadingCollapsed": true
   },
   "source": [
    "### Kolumna BedroomAbvGr (Liczba sypialni na piętrze)"
   ]
  },
  {
   "cell_type": "code",
   "execution_count": null,
   "id": "ed7b924b-c236-43b9-ac5f-43e3308bd90e",
   "metadata": {},
   "outputs": [],
   "source": [
    "train['BedroomAbvGr'].value_counts()"
   ]
  },
  {
   "cell_type": "markdown",
   "id": "43a58b5a-4f6b-43ce-bb52-ab10496ad60e",
   "metadata": {
    "jp-MarkdownHeadingCollapsed": true
   },
   "source": [
    "### Kolumna KitchenAbvGr (Liczba kuchni na piętrze)"
   ]
  },
  {
   "cell_type": "code",
   "execution_count": null,
   "id": "4d3835a4-6c32-4af6-a174-79370343649d",
   "metadata": {},
   "outputs": [],
   "source": [
    "train['KitchenAbvGr'].value_counts()"
   ]
  },
  {
   "cell_type": "markdown",
   "id": "c223786f-f441-458b-87ac-1896b2fa2714",
   "metadata": {
    "jp-MarkdownHeadingCollapsed": true
   },
   "source": [
    "### Kolumna KitchenQual (Jakość kuchni)"
   ]
  },
  {
   "cell_type": "code",
   "execution_count": null,
   "id": "c154b542-95e8-422f-b136-e3be10ca2ca5",
   "metadata": {},
   "outputs": [],
   "source": [
    "train['KitchenQual'].value_counts()"
   ]
  },
  {
   "cell_type": "code",
   "execution_count": null,
   "id": "9fea7fc4-e0f1-4b00-adb3-4ec24179c93f",
   "metadata": {},
   "outputs": [],
   "source": [
    "train.groupby('KitchenQual')['SalePrice'].mean().plot(kind= 'bar');"
   ]
  },
  {
   "cell_type": "code",
   "execution_count": null,
   "id": "c5c9caef-1034-4c4e-9144-bd31d4a9cfa5",
   "metadata": {},
   "outputs": [],
   "source": [
    "KitchenQual_mapping = {'Ex':5, 'Gd':4, 'TA':3,'Fa':2,'Po':1,'None':0}\n",
    "\n",
    "train['KitchenQual']= train['KitchenQual'].map(KitchenQual_mapping)\n",
    "test['KitchenQual']= test['KitchenQual'].map(KitchenQual_mapping)"
   ]
  },
  {
   "cell_type": "markdown",
   "id": "73da5f3d-e75f-4378-81a2-22f94ad14be3",
   "metadata": {
    "jp-MarkdownHeadingCollapsed": true
   },
   "source": [
    "### Kolumna TotRmsAbvGrd (Łączna liczba pokoi powyżej poziomu gruntu)"
   ]
  },
  {
   "cell_type": "code",
   "execution_count": null,
   "id": "f92c3174-2dc1-467f-9ab9-da8f4f767058",
   "metadata": {},
   "outputs": [],
   "source": [
    "train['TotRmsAbvGrd'].value_counts()"
   ]
  },
  {
   "cell_type": "markdown",
   "id": "0fc28a7d-f4cf-465d-9b0a-fe6faee95d3b",
   "metadata": {
    "jp-MarkdownHeadingCollapsed": true
   },
   "source": [
    "### Kolumna Functional (Funkcjonalność budynku)\n",
    "- One Hot Encoder"
   ]
  },
  {
   "cell_type": "code",
   "execution_count": null,
   "id": "be6f8c3d-5d61-45d3-b344-ce489cde3a51",
   "metadata": {},
   "outputs": [],
   "source": [
    "train['Functional'].value_counts()"
   ]
  },
  {
   "cell_type": "code",
   "execution_count": null,
   "id": "322ffa85-0b12-4833-986a-85bf8ac67556",
   "metadata": {},
   "outputs": [],
   "source": [
    "train.groupby('Functional')['SalePrice'].mean().plot(kind= 'bar');"
   ]
  },
  {
   "cell_type": "markdown",
   "id": "b2aded15-8085-4d12-8398-8dcb6dd62833",
   "metadata": {
    "jp-MarkdownHeadingCollapsed": true
   },
   "source": [
    "### Kolumna Fireplaces (Liczba kominków w budynku)"
   ]
  },
  {
   "cell_type": "code",
   "execution_count": null,
   "id": "b26ef839-ebcc-4d6f-bc37-199566ef8d80",
   "metadata": {},
   "outputs": [],
   "source": [
    "train['Fireplaces'].value_counts()"
   ]
  },
  {
   "cell_type": "markdown",
   "id": "5d2f1be1-309c-492b-a97d-b4acd307067c",
   "metadata": {
    "jp-MarkdownHeadingCollapsed": true
   },
   "source": [
    "### Kolumna FireplaceQu (Jakość kominka)"
   ]
  },
  {
   "cell_type": "markdown",
   "id": "749c058f-0bd5-4c68-b99c-dfd17d5754d4",
   "metadata": {},
   "source": [
    "\n",
    "Do ocena jakosci kominka uzyto wartosci które bedze mozna \n",
    "- Ex: Doskonała.\n",
    "- Gd: Dobra.\n",
    "- TA: Średnia.\n",
    "- Fa: Niska.\n",
    "- Po: Bardzo niska.\n",
    "- None: Brak kominka."
   ]
  },
  {
   "cell_type": "code",
   "execution_count": null,
   "id": "0280e040-95e7-48ca-a414-b0fc3fb3f704",
   "metadata": {},
   "outputs": [],
   "source": [
    "train['FireplaceQu']= train['FireplaceQu'].fillna('None')\n",
    "test['FireplaceQu']= test['FireplaceQu'].fillna('None')"
   ]
  },
  {
   "cell_type": "code",
   "execution_count": null,
   "id": "9d564e6e-829b-49c8-9463-5db47d89ce60",
   "metadata": {},
   "outputs": [],
   "source": [
    "train.groupby('FireplaceQu')['SalePrice'].mean().plot(kind= 'bar');"
   ]
  },
  {
   "cell_type": "code",
   "execution_count": null,
   "id": "3d2463a0-4d4a-4c8f-9525-5c521620b56c",
   "metadata": {},
   "outputs": [],
   "source": [
    "fireplace_quality_mapping = {'Ex':5, 'Gd':4, 'TA':3,'Fa':2,'Po':1,'None':0}\n",
    "\n",
    "train['FireplaceQu']= train['FireplaceQu'].map(fireplace_quality_mapping)\n",
    "test['FireplaceQu']= test['FireplaceQu'].map(fireplace_quality_mapping)"
   ]
  },
  {
   "cell_type": "code",
   "execution_count": null,
   "id": "45aa5e19-3981-4e80-9819-79c7422f667c",
   "metadata": {},
   "outputs": [],
   "source": [
    "train['FireplaceQu'].value_counts()"
   ]
  },
  {
   "cell_type": "markdown",
   "id": "2e266ec0-7ea8-4366-9056-e1d169e5c31c",
   "metadata": {
    "jp-MarkdownHeadingCollapsed": true
   },
   "source": [
    "### Kolumna GarageType (Typ garażu)\n",
    "- One Hot Encoder\n",
    "- wypełnienie wartości None"
   ]
  },
  {
   "cell_type": "code",
   "execution_count": null,
   "id": "b8b8a475-9b12-41b7-a2ce-e129d85cedd9",
   "metadata": {},
   "outputs": [],
   "source": [
    "train['GarageType']= train['GarageType'].fillna('None')\n",
    "test['GarageType']= test['GarageType'].fillna('None')"
   ]
  },
  {
   "cell_type": "code",
   "execution_count": null,
   "id": "9d18a5d9-1e07-48bc-addc-92ba63f06706",
   "metadata": {},
   "outputs": [],
   "source": [
    "train['GarageType'].value_counts()"
   ]
  },
  {
   "cell_type": "markdown",
   "id": "9d6944e3-e047-42ad-aabd-f8cfc6c8d53a",
   "metadata": {
    "jp-MarkdownHeadingCollapsed": true
   },
   "source": [
    "### Kolumna GarageYrBlt (Rok budowy garażu)\n",
    "- wypełnienie wartości 0"
   ]
  },
  {
   "cell_type": "code",
   "execution_count": null,
   "id": "eb742259-3954-40e8-8a23-1a047e71dab6",
   "metadata": {},
   "outputs": [],
   "source": [
    "train['GarageYrBlt']= train['GarageYrBlt'].fillna(0)\n",
    "test['GarageYrBlt']= test['GarageYrBlt'].fillna(0)"
   ]
  },
  {
   "cell_type": "code",
   "execution_count": null,
   "id": "8c49f301-6c2e-4855-9e4a-aa2199da1eca",
   "metadata": {},
   "outputs": [],
   "source": [
    "train['GarageYrBlt'].value_counts()"
   ]
  },
  {
   "cell_type": "markdown",
   "id": "46aa60e8-d7a4-4d91-be5e-aacaafd34a62",
   "metadata": {
    "jp-MarkdownHeadingCollapsed": true
   },
   "source": [
    "### Kolumna GarageFinish (Wykończenie garażu)\n",
    "- mapowanie wartosci na numeryczne\n",
    "- wypełnienie wartości None"
   ]
  },
  {
   "cell_type": "code",
   "execution_count": null,
   "id": "5e80f7cc-1222-4615-8153-10021033f857",
   "metadata": {},
   "outputs": [],
   "source": [
    "train['GarageFinish']= train['GarageFinish'].fillna('None')\n",
    "test['GarageFinish']= test['GarageFinish'].fillna('None')\n"
   ]
  },
  {
   "cell_type": "code",
   "execution_count": null,
   "id": "945b6525-b556-4613-9722-adbeeaaf4c4a",
   "metadata": {},
   "outputs": [],
   "source": [
    "train['GarageFinish'].value_counts()"
   ]
  },
  {
   "cell_type": "code",
   "execution_count": null,
   "id": "69957049-7e64-4c8d-917e-d0ced13f180a",
   "metadata": {},
   "outputs": [],
   "source": [
    "train.groupby('GarageFinish')['SalePrice'].mean().plot(kind= 'bar');"
   ]
  },
  {
   "cell_type": "code",
   "execution_count": null,
   "id": "6ac57811-fd98-4856-90cf-c6cac9a71c55",
   "metadata": {},
   "outputs": [],
   "source": [
    "garage_finish_mapping= {'Fin':3,'RFn':2,'Unf':1,'None':0}\n",
    "\n",
    "train['GarageFinish']= train['GarageFinish'].map(garage_finish_mapping)\n",
    "test['GarageFinish']= test['GarageFinish'].map(garage_finish_mapping)"
   ]
  },
  {
   "cell_type": "markdown",
   "id": "ddf7a2f5-de4c-4122-b04f-ddeeb37f66fd",
   "metadata": {
    "jp-MarkdownHeadingCollapsed": true
   },
   "source": [
    "### Kolumna GarageCars (Liczba miejsc parkingowych w garażu)\n",
    "- wypełnienie wartości 0\n",
    "- One Hot Encoder"
   ]
  },
  {
   "cell_type": "code",
   "execution_count": null,
   "id": "75dac862-e5f1-4394-9576-594d88ee7676",
   "metadata": {},
   "outputs": [],
   "source": [
    "train['GarageCars']= train['GarageCars'].fillna(0)\n",
    "test['GarageCars']= test['GarageCars'].fillna(0)"
   ]
  },
  {
   "cell_type": "code",
   "execution_count": null,
   "id": "8d2cd740-657f-4b68-a322-46da81f3c089",
   "metadata": {},
   "outputs": [],
   "source": [
    "train['GarageCars'].value_counts()"
   ]
  },
  {
   "cell_type": "code",
   "execution_count": null,
   "id": "24e95bca-40ac-45b8-a0e9-561eab1cb2c2",
   "metadata": {},
   "outputs": [],
   "source": [
    "train.groupby('GarageCars')['SalePrice'].mean().plot(kind= 'bar');"
   ]
  },
  {
   "cell_type": "markdown",
   "id": "46cd896f-92a4-4874-a663-85100cac674b",
   "metadata": {
    "jp-MarkdownHeadingCollapsed": true
   },
   "source": [
    "### Kolumna GarageArea (Powierzchnia garażu)\n",
    "- wypełnienie wartości 0"
   ]
  },
  {
   "cell_type": "code",
   "execution_count": null,
   "id": "337a2af5-85f4-4b04-bd10-f15745082964",
   "metadata": {},
   "outputs": [],
   "source": [
    "train['GarageArea']= train['GarageArea'].fillna(0)\n",
    "test['GarageArea']= test['GarageArea'].fillna(0)"
   ]
  },
  {
   "cell_type": "code",
   "execution_count": null,
   "id": "76cd3ac2-76e6-48bf-ade3-9ea4713197b4",
   "metadata": {},
   "outputs": [],
   "source": [
    "train['GarageArea'].value_counts()"
   ]
  },
  {
   "cell_type": "markdown",
   "id": "39629047-6ef0-4b55-9902-b04cdb67bd89",
   "metadata": {},
   "source": [
    "### Kolumna GarageQual (Jakość garażu)\n",
    "- wypełnienie wartości None\n",
    "- mapowanie wartosci na numeryczne"
   ]
  },
  {
   "cell_type": "code",
   "execution_count": null,
   "id": "0e02f339-c17b-455f-bff1-e14828d635e0",
   "metadata": {},
   "outputs": [],
   "source": [
    "train['GarageQual']= train['GarageQual'].fillna('None')\n",
    "test['GarageQual']= test['GarageQual'].fillna('None')"
   ]
  },
  {
   "cell_type": "code",
   "execution_count": null,
   "id": "5512c445-4b0f-49bc-8591-0d0743655928",
   "metadata": {},
   "outputs": [],
   "source": [
    "train['GarageQual'].value_counts()"
   ]
  },
  {
   "cell_type": "code",
   "execution_count": null,
   "id": "7c0f09b8-4e39-47ee-801f-5564ac65f16c",
   "metadata": {
    "scrolled": true
   },
   "outputs": [],
   "source": [
    "train.groupby('GarageQual')['SalePrice'].mean().plot(kind= 'bar');"
   ]
  },
  {
   "cell_type": "code",
   "execution_count": null,
   "id": "bb398e26-5023-4803-a6c3-68669710e7ae",
   "metadata": {},
   "outputs": [],
   "source": [
    "garage_quality_mapping = {'Ex':5,'Gd':4,'TA':3,'Fa':2,'Po':1,'None':0}\n",
    "\n",
    "train['GarageQual']= train['GarageQual'].map(fireplace_quality_mapping)\n",
    "test['GarageQual']= test['GarageQual'].map(fireplace_quality_mapping)"
   ]
  },
  {
   "cell_type": "markdown",
   "id": "b9657b12-cbee-4fa5-bb52-c6e14bd1b868",
   "metadata": {
    "jp-MarkdownHeadingCollapsed": true
   },
   "source": [
    "### Kolumna GarageCond (Stan garażu)\n",
    "- wypełnienie wartości None\n",
    "- mapowanie wartosci na numeryczne"
   ]
  },
  {
   "cell_type": "code",
   "execution_count": null,
   "id": "4797b8a3-de43-4c3e-a913-3ceefb073cd6",
   "metadata": {},
   "outputs": [],
   "source": [
    "train['GarageCond']= train['GarageCond'].fillna('None')\n",
    "test['GarageCond']= test['GarageCond'].fillna('None')"
   ]
  },
  {
   "cell_type": "code",
   "execution_count": null,
   "id": "0fed5a70-29a0-416d-be0b-84f6d8a522cd",
   "metadata": {},
   "outputs": [],
   "source": [
    "train['GarageCond'].value_counts()"
   ]
  },
  {
   "cell_type": "code",
   "execution_count": null,
   "id": "95a3c617-c72e-464e-b17f-044e4b8e8939",
   "metadata": {},
   "outputs": [],
   "source": [
    "train.groupby('GarageCond')['SalePrice'].mean().plot(kind= 'bar');"
   ]
  },
  {
   "cell_type": "code",
   "execution_count": null,
   "id": "f1210143-c49c-4989-adc9-e9aa50099b22",
   "metadata": {},
   "outputs": [],
   "source": [
    "garage_cond_mapping = {'Ex':5,'Gd':4,'TA':3,'Fa':2,'Po':1,'None':0}\n",
    "\n",
    "train['GarageCond']= train['GarageCond'].map(garage_cond_mapping)\n",
    "test['GarageCond']= test['GarageCond'].map(garage_cond_mapping)"
   ]
  },
  {
   "cell_type": "markdown",
   "id": "9e6e64de-3d92-412a-bbf4-2082a8eb9569",
   "metadata": {
    "jp-MarkdownHeadingCollapsed": true
   },
   "source": [
    "### Kolumna PavedDrive"
   ]
  },
  {
   "cell_type": "code",
   "execution_count": null,
   "id": "f17feb12-2713-4eaf-bb6a-5068b1d75e5b",
   "metadata": {},
   "outputs": [],
   "source": [
    "train['PavedDrive'].value_counts()"
   ]
  },
  {
   "cell_type": "code",
   "execution_count": null,
   "id": "fb774090-9d47-4fcd-a4d3-933ae9e81658",
   "metadata": {},
   "outputs": [],
   "source": [
    "train.groupby('PavedDrive')['SalePrice'].mean().plot(kind= 'bar');"
   ]
  },
  {
   "cell_type": "code",
   "execution_count": null,
   "id": "09d36e34-0847-45ee-9c14-244d51ac2628",
   "metadata": {},
   "outputs": [],
   "source": [
    "pavedDrive_mapping = {'P':0.5,'Y':1,'N':0}\n",
    "\n",
    "train['PavedDrive']= train['PavedDrive'].map(pavedDrive_mapping)\n",
    "test['PavedDrive']= test['PavedDrive'].map(pavedDrive_mapping)"
   ]
  },
  {
   "cell_type": "markdown",
   "id": "e08a0ffb-83dc-4399-946a-8a4e18fb8730",
   "metadata": {
    "jp-MarkdownHeadingCollapsed": true
   },
   "source": [
    "### Kolumna WoodDeckSF (Powierzchnia drewnianego tarasu)"
   ]
  },
  {
   "cell_type": "code",
   "execution_count": null,
   "id": "065cf1e2-d6ae-4f0a-9a3d-79a7bacc59f6",
   "metadata": {},
   "outputs": [],
   "source": [
    "train['WoodDeckSF'].value_counts()"
   ]
  },
  {
   "cell_type": "markdown",
   "id": "f9eeaf5d-955c-4ee4-845e-c5981d1b02c5",
   "metadata": {
    "jp-MarkdownHeadingCollapsed": true
   },
   "source": [
    "### Kolumna OpenPorchSF (Powierzchnia otwartego tarasu)"
   ]
  },
  {
   "cell_type": "code",
   "execution_count": null,
   "id": "6132939c-37fb-4e9c-a72d-27c53c9e1829",
   "metadata": {},
   "outputs": [],
   "source": [
    "train['OpenPorchSF'].value_counts()"
   ]
  },
  {
   "cell_type": "markdown",
   "id": "d870e425-c5b3-46ae-8875-db3ab96d8882",
   "metadata": {
    "jp-MarkdownHeadingCollapsed": true
   },
   "source": [
    "### Kolumna EnclosedPorch (Powierzchnia zamkniętego tarasu)"
   ]
  },
  {
   "cell_type": "code",
   "execution_count": null,
   "id": "13259146-3953-4100-b3fc-e11d23777ffd",
   "metadata": {},
   "outputs": [],
   "source": [
    "train['EnclosedPorch'].value_counts()"
   ]
  },
  {
   "cell_type": "markdown",
   "id": "30ed2458-bdc7-4c9e-bdf6-c39c6dbf8e8a",
   "metadata": {
    "jp-MarkdownHeadingCollapsed": true
   },
   "source": [
    "### Kolumna 3SsnPorch (Powierzchnia tarasu na 3 sezony)"
   ]
  },
  {
   "cell_type": "code",
   "execution_count": null,
   "id": "652fbce2-c156-47c2-9b04-4637f850d2be",
   "metadata": {},
   "outputs": [],
   "source": [
    "train['3SsnPorch'].value_counts()"
   ]
  },
  {
   "cell_type": "markdown",
   "id": "9b886743-c177-4911-ba1d-3038a3da4799",
   "metadata": {
    "jp-MarkdownHeadingCollapsed": true
   },
   "source": [
    "### Kolumna ScreenPorch (Powierzchnia tarasu z ekranami)"
   ]
  },
  {
   "cell_type": "code",
   "execution_count": null,
   "id": "957964af-ea49-4765-b4ea-dbb698638192",
   "metadata": {},
   "outputs": [],
   "source": [
    "train['ScreenPorch'].value_counts()"
   ]
  },
  {
   "cell_type": "markdown",
   "id": "fd1ac8a0-105c-41bd-a00a-775c496fd1cb",
   "metadata": {
    "jp-MarkdownHeadingCollapsed": true
   },
   "source": [
    "### Kolumna PoolArea (Powierzchnia basenu)"
   ]
  },
  {
   "cell_type": "code",
   "execution_count": null,
   "id": "7488673c-5fb5-4986-9f8f-172bbdff8141",
   "metadata": {},
   "outputs": [],
   "source": [
    "train['PoolArea'].value_counts()"
   ]
  },
  {
   "cell_type": "markdown",
   "id": "ba5260a7-8ba8-441c-8d54-35a390fcf4bd",
   "metadata": {
    "jp-MarkdownHeadingCollapsed": true
   },
   "source": [
    "### Kolumna PoolQC (Jakość basenu)\n",
    "- wypełnienie wartości None\n",
    "- mapowanie wartosci na numeryczne"
   ]
  },
  {
   "cell_type": "markdown",
   "id": "0633f8e7-4e43-4985-8388-ff85aa9033c8",
   "metadata": {},
   "source": [
    "odnosi sie do jakosci basenu w domach, jest tylko 7 watosci poniewaz w 7 domach sa tylko baseny. Oznacza to ze posiadanie basenów jest bardzo rzadkie i moze byc cechą charakterystyczna dla luksusowych nieruchomości. Warto bedzie przeprowadzic analize jak posiadanie basenu wpływa na cene\n",
    "\n",
    "Zamierzam wypełnic puste wartosci a nastepnie zakodowac jako zmienna numeryczna aby uwzglednic ja w  modelu.\n",
    "- Gd good\n",
    "- Ex Excellent\n",
    "- Fa fair"
   ]
  },
  {
   "cell_type": "code",
   "execution_count": null,
   "id": "274c9c6a-3d55-41a3-91cf-d603224696cb",
   "metadata": {},
   "outputs": [],
   "source": [
    "train['PoolQC']= train['PoolQC'].fillna('None')\n",
    "test['PoolQC']= test['PoolQC'].fillna('None')"
   ]
  },
  {
   "cell_type": "code",
   "execution_count": null,
   "id": "06ccc09c-1113-408c-945c-48c7d2c44a37",
   "metadata": {},
   "outputs": [],
   "source": [
    "train['PoolQC'].value_counts()"
   ]
  },
  {
   "cell_type": "code",
   "execution_count": null,
   "id": "7ec89dea-5afb-4b28-9c6c-90ce0c143d48",
   "metadata": {},
   "outputs": [],
   "source": [
    "train.groupby('PoolQC')['SalePrice'].mean().plot(kind= 'bar')\n",
    "plt.title('Analiza wpływu PoolQC na SalePrice')\n",
    "plt.show()"
   ]
  },
  {
   "cell_type": "code",
   "execution_count": null,
   "id": "fce7968a-932e-4677-9dd9-5af3d29d4c6f",
   "metadata": {},
   "outputs": [],
   "source": [
    "PoolQC_mapping = {'Ex':5,'Gd':4,'TA':3,'Fa':2,'Po':1,'None':0}\n",
    "\n",
    "train['PoolQC']= train['PoolQC'].map(PoolQC_mapping)\n",
    "test['PoolQC']= test['PoolQC'].map(PoolQC_mapping)"
   ]
  },
  {
   "cell_type": "markdown",
   "id": "a7e21116-b7ef-4999-98e9-2c1f2df7a643",
   "metadata": {
    "jp-MarkdownHeadingCollapsed": true
   },
   "source": [
    "### Kolumna Fence (Obecność ogrodzenia)\n",
    "- wypełnienie wartości None\n",
    "- mapowanie wartosci na numeryczne\n"
   ]
  },
  {
   "cell_type": "markdown",
   "id": "861f61a5-6808-4e44-8e2e-a32d130ff8e7",
   "metadata": {},
   "source": [
    "\n",
    "- GdPrv: Dobre prywatne.\n",
    "- MnPrv: Średnie prywatne.\n",
    "- GdWo: Dobre, ale bez prywatności.\n",
    "- MnWw: Średnie, bez prywatności.\n",
    "- None: Brak ogrodzenia."
   ]
  },
  {
   "cell_type": "code",
   "execution_count": null,
   "id": "f3ae0ff7-542a-4469-99ca-df4e1b99067d",
   "metadata": {},
   "outputs": [],
   "source": [
    "train['Fence']= train['Fence'].fillna('None')\n",
    "test['Fence']= test['Fence'].fillna('None')"
   ]
  },
  {
   "cell_type": "code",
   "execution_count": null,
   "id": "513e4777-79bc-47d9-9c08-caa2184034fd",
   "metadata": {},
   "outputs": [],
   "source": [
    "train['Fence'].value_counts()"
   ]
  },
  {
   "cell_type": "code",
   "execution_count": null,
   "id": "e0e5ade6-e6c3-4884-8012-bdb688d8c8fa",
   "metadata": {},
   "outputs": [],
   "source": [
    "train.groupby('Fence')['SalePrice'].mean().plot(kind= 'bar');"
   ]
  },
  {
   "cell_type": "code",
   "execution_count": null,
   "id": "511891b2-1e20-41d7-95ac-fa2de4795e37",
   "metadata": {},
   "outputs": [],
   "source": [
    "fence_mapping = {'GdPrv':4,'MnPrv':3,'GdWo':2,'MnWw':1,'None':0}\n",
    "\n",
    "train['Fence']= train['Fence'].map(fence_mapping)\n",
    "test['Fence']= test['Fence'].map(fence_mapping)"
   ]
  },
  {
   "cell_type": "markdown",
   "id": "3ee02d80-b830-4237-a9f4-bb713a0f9b05",
   "metadata": {
    "jp-MarkdownHeadingCollapsed": true
   },
   "source": [
    "### Kolumna MiscFeature (Dodatkowe cechy )\n",
    "- wypełnienie wartości None\n",
    "- One Hot Encoder"
   ]
  },
  {
   "cell_type": "markdown",
   "id": "4e653bfb-b6b5-4899-8160-af00881cddae",
   "metadata": {},
   "source": [
    "Zawiera informacje o dodatkowych cechach nieruchomości kóre nie sa opisane w innych kolumnach, \n",
    "\n",
    "Zamierzam wypełnic braki i zakodowac kolumne na wartosci numeryczne\n",
    "\n",
    "- Shed schowek,szopa\n",
    "- Gar2 garage 2\n",
    "- othr other\n",
    "- TenC Tennis Court"
   ]
  },
  {
   "cell_type": "code",
   "execution_count": null,
   "id": "9ae40d89-d65b-4f45-8b5c-885ea85e2aed",
   "metadata": {},
   "outputs": [],
   "source": [
    "train.groupby('MiscFeature')['SalePrice'].mean().plot(kind= 'bar');"
   ]
  },
  {
   "cell_type": "code",
   "execution_count": null,
   "id": "717d4cda-ffaf-40fb-b3a9-4a5c33d16620",
   "metadata": {},
   "outputs": [],
   "source": [
    "train['MiscFeature']= train['MiscFeature'].fillna('None')\n",
    "test['MiscFeature']= test['MiscFeature'].fillna('None')"
   ]
  },
  {
   "cell_type": "code",
   "execution_count": null,
   "id": "bcd9ab1a-6dfb-4447-9488-24c4cc245eb8",
   "metadata": {},
   "outputs": [],
   "source": [
    "train['MiscFeature'].value_counts()"
   ]
  },
  {
   "cell_type": "markdown",
   "id": "1a17ef06-c335-46a7-9d06-f87cf4c63eeb",
   "metadata": {
    "jp-MarkdownHeadingCollapsed": true
   },
   "source": [
    "### Kolumna MiscVal (Wartość dodatkowych cech)"
   ]
  },
  {
   "cell_type": "code",
   "execution_count": null,
   "id": "669cba09-a3ed-4bb9-8d21-8c5465dacd1d",
   "metadata": {},
   "outputs": [],
   "source": [
    "train['MiscVal'].value_counts()"
   ]
  },
  {
   "cell_type": "markdown",
   "id": "1ef3e035-1746-411b-91a6-3a4726c7681d",
   "metadata": {
    "jp-MarkdownHeadingCollapsed": true
   },
   "source": [
    "### Kolumna MoSold (Miesiąc sprzedaży)"
   ]
  },
  {
   "cell_type": "code",
   "execution_count": null,
   "id": "4848e619-6f0d-4f48-b0ac-022138719f12",
   "metadata": {},
   "outputs": [],
   "source": [
    "train['MoSold'].value_counts()"
   ]
  },
  {
   "cell_type": "markdown",
   "id": "aa50efcd-accd-4d4a-90d1-3cdc1a3c8902",
   "metadata": {},
   "source": [
    "### Kolumna YrSold (Rok sprzedaży)"
   ]
  },
  {
   "cell_type": "code",
   "execution_count": null,
   "id": "634b8286-2e1a-4afe-a193-15b1b9814053",
   "metadata": {},
   "outputs": [],
   "source": [
    "train['YrSold'].value_counts()"
   ]
  },
  {
   "cell_type": "code",
   "execution_count": null,
   "id": "ad751d37-46e5-4906-8176-174e98a3102d",
   "metadata": {},
   "outputs": [],
   "source": [
    "train.groupby('YrSold')['SalePrice'].mean().plot(kind= 'hist');"
   ]
  },
  {
   "cell_type": "markdown",
   "id": "ca8b6a8e-b5bd-41ac-9a58-f373e798bed3",
   "metadata": {
    "jp-MarkdownHeadingCollapsed": true
   },
   "source": [
    "### Kolumna SaleType (Typ sprzedaży)\n",
    "- One Hot Encoder"
   ]
  },
  {
   "cell_type": "code",
   "execution_count": null,
   "id": "d0da54ce-4d00-4840-b1f7-762db1572ac4",
   "metadata": {},
   "outputs": [],
   "source": [
    "train['SaleType'].value_counts()"
   ]
  },
  {
   "cell_type": "markdown",
   "id": "412d15df-7d17-4fdd-8bd1-c00d2dfc463d",
   "metadata": {
    "jp-MarkdownHeadingCollapsed": true
   },
   "source": [
    "### Kolumna SaleCondition (Warunki sprzedaży)\n",
    "- One Hot Encoder"
   ]
  },
  {
   "cell_type": "code",
   "execution_count": null,
   "id": "ec19cc42-103a-4064-9171-ce1a4d48f41c",
   "metadata": {},
   "outputs": [],
   "source": [
    "train['SaleCondition'].value_counts()"
   ]
  },
  {
   "cell_type": "code",
   "execution_count": null,
   "id": "274e2354-8251-47c6-83f5-cf8c700c8314",
   "metadata": {},
   "outputs": [],
   "source": [
    "train.groupby('SaleCondition')['SalePrice'].mean().plot(kind= 'bar');"
   ]
  },
  {
   "cell_type": "markdown",
   "id": "86801c77-de13-4eba-bc13-a5d4f117708b",
   "metadata": {
    "jp-MarkdownHeadingCollapsed": true
   },
   "source": [
    "# Standaryzacja i One Hot Encoding\n",
    "\n",
    "1. Dane numeryczne\n",
    "    - Wykorzystałem StandardScaler, aby standadaryzowac dane numeryczne (średnia 0, odchylenie standardowe 1). Standaryzacja polega na odejmowaniu sredniej od orginalnej wartosci a nastepnie wynik jest dzielony przez odchylenie standardowe\n",
    "2. Dane kategoryczne:\n",
    "    - Wykorzystałem OneHotEncoder aby zakodowac zmienne kategorialne na postac liczbową. Przekształca każda kategorie z danej kolumny na unikalny wektor binarny (0,1). Wynikiem domyslnym jest macierz rzadka ( macierz która zawiera tylko 0 i 1)\n"
   ]
  },
  {
   "cell_type": "code",
   "execution_count": null,
   "id": "91a925ee-7517-4291-ab36-0ef314b4dbd7",
   "metadata": {},
   "outputs": [],
   "source": [
    "from sklearn.preprocessing import OneHotEncoder, StandardScaler\n",
    "from sklearn.pipeline import make_pipeline, Pipeline\n",
    "\n",
    "attribs_one_hot = ['MSZoning','Street','Alley','LotShape','LandContour','Utilities','LotConfig','LandSlope','Neighborhood',\n",
    "    'Condition1','Condition2','BldgType','HouseStyle','RoofStyle','RoofMatl','Exterior1st','Exterior2nd','Electrical',\n",
    "    'MasVnrType','Foundation','Heating','Functional','GarageType','GarageCars','MiscFeature','SaleType','SaleCondition',]\n",
    "attribs_num= ['Id','MSSubClass','LotFrontage','LotArea','OverallQual','OverallCond','YearBuilt','YearRemodAdd','MasVnrArea',\n",
    "    'ExterQual','ExterCond','BsmtQual','BsmtCond','BsmtExposure','BsmtFinSF1','BsmtFinType1','BsmtFinType2',\n",
    "    'BsmtFinSF2','BsmtUnfSF','TotalBsmtSF','HeatingQC','CentralAir','1stFlrSF','2ndFlrSF','LowQualFinSF','GrLivArea',\n",
    "    'BsmtFullBath','BsmtHalfBath','FullBath','HalfBath','BedroomAbvGr','KitchenAbvGr','KitchenQual','TotRmsAbvGrd',\n",
    "    'Fireplaces','FireplaceQu','GarageYrBlt','GarageFinish','GarageArea','GarageQual','GarageCond','PavedDrive','WoodDeckSF',\n",
    "    'OpenPorchSF','EnclosedPorch','3SsnPorch','ScreenPorch','PoolArea','PoolQC','Fence','MiscVal','MoSold','YrSold']\n"
   ]
  },
  {
   "cell_type": "code",
   "execution_count": null,
   "id": "efcddec3-8c6c-4811-80a1-2f3d6bd1d33a",
   "metadata": {},
   "outputs": [],
   "source": [
    "from sklearn.preprocessing import OneHotEncoder, StandardScaler\n",
    "\n",
    "scaler = StandardScaler()\n",
    "\n",
    "train_scaled = scaler.fit_transform(train[attribs_num])\n",
    "test_scaled =  scaler.transform(test[attribs_num])\n",
    "train_scaled = pd.DataFrame(train_scaled, columns = attribs_num, index = train.index)\n",
    "test_scaled = pd.DataFrame(test_scaled, columns= attribs_num, index=test.index)\n",
    "\n",
    "\n",
    "\n",
    "encoder = OneHotEncoder(sparse_output=False, handle_unknown='ignore')\n",
    "\n",
    "train_encoded = encoder.fit_transform(train[attribs_one_hot])\n",
    "test_encoded = encoder.transform(test[attribs_one_hot])\n",
    "\n",
    "#pobieranie nazw zakodowanyck kolumn\n",
    "encoded_column = encoder.get_feature_names_out(attribs_one_hot)\n",
    "\n",
    "# Zamiana na dataframe z odpowienimi nazwami kolumn\n",
    "train_encoded = pd.DataFrame(train_encoded, columns= encoded_column, index= train.index)\n",
    "test_encoded = pd.DataFrame(test_encoded, columns= encoded_column, index= test.index)\n"
   ]
  },
  {
   "cell_type": "markdown",
   "id": "8138b584-98d5-4a0f-9f71-c8da61bc5cbb",
   "metadata": {},
   "source": [
    "### Łącznie kolumn\n",
    "pd.concat pozwala na łaczenie obiektów DataFrame wzdłuż określonej osi (axis = 1 pionowo)\n",
    "odbywa sie to na poziomie indeksów,  kolumny z train_scaled i kolumny z train_encoded beda dołączone do siebie i zapisane w nowej zmiennej train_final\n",
    "\n",
    "Jezeli kolumny sa róznej długosci wiersze bez odpowiednika beda wypełnione NaN"
   ]
  },
  {
   "cell_type": "code",
   "execution_count": null,
   "id": "bfc498ea-eb67-4200-824e-995643cb37fb",
   "metadata": {},
   "outputs": [],
   "source": [
    "train_final = pd.concat([train_scaled,train_encoded],axis = 1)\n",
    "test_final = pd.concat([test_scaled, test_encoded], axis=1)\n",
    "\n",
    "print(train_final.shape)\n",
    "print(test_final.shape)\n"
   ]
  },
  {
   "cell_type": "markdown",
   "id": "92884367-b064-4d7a-9aaf-6e63af346d47",
   "metadata": {},
   "source": [
    "# Walidacja danych i Trenowanie Modelu bazowego\n"
   ]
  },
  {
   "cell_type": "markdown",
   "id": "98bbca84-e5fa-40bc-a40d-eca5ba190ad0",
   "metadata": {},
   "source": [
    "Root Mean Squared Error (RMSE) czyli pierwiastek z błędu średniokwadratowego.\n",
    "\n",
    "- RMSE jest miarą odległosci miedzy wartościami rzeczywistymi (y) a przewidywanymi (y_pred).\n",
    "- Niższy wynik oznacza lepsze przewidywanie rzeczywiste wartości \n",
    "- RMSE opiera sie na błedzie kwadratowym, kładzie wiekszy nacisk na wieksze róznice medzy przewidywana a rzeczywistą warościa\n",
    "\n",
    "W bibliotece scikit-learn nie jest dostepna metryka RMSE ale mozna go łatwo obliczyc za pomocą funkcji mean_squared_error z dodaniem pierwiastka"
   ]
  },
  {
   "cell_type": "code",
   "execution_count": null,
   "id": "f8b3f746-680b-43c5-ae65-ba4a1418b45c",
   "metadata": {},
   "outputs": [],
   "source": [
    "from sklearn.metrics import mean_squared_error\n",
    "\n",
    "def root_mean_squared_error(y_true,y_pred):\n",
    "    return np.sqrt(mean_squared_error(y_true, y_pred))"
   ]
  },
  {
   "cell_type": "markdown",
   "id": "f7b93187-cbae-481c-959b-dabcbb0e4367",
   "metadata": {},
   "source": [
    "### Wczytywanie danych"
   ]
  },
  {
   "cell_type": "code",
   "execution_count": null,
   "id": "5a934d21-e8f7-4a4c-af8c-fa515e392795",
   "metadata": {},
   "outputs": [],
   "source": [
    "X = train_final.drop(['Id'], axis =1)\n",
    "y =train['LogSalePrice']"
   ]
  },
  {
   "cell_type": "markdown",
   "id": "29a2b68c-28c4-4dd4-aa3f-7d6e59d46879",
   "metadata": {
    "jp-MarkdownHeadingCollapsed": true
   },
   "source": [
    "## Model Bazowy \n",
    "\n",
    "Model bazowy służy do stworzenia punktu odniesienia z bardziej złozonymi modelami.\n",
    "DummyRegressor ignoruje dane wejsciowe i dokonuje przewidywan na podstwie prostej reguły. W tym przypadku przewiduje on srednia wartość zmiennej docelowej w danych treningowych (średnia lub mediane)"
   ]
  },
  {
   "cell_type": "code",
   "execution_count": null,
   "id": "65e427d4-88de-4323-9be2-e99d494d3d72",
   "metadata": {},
   "outputs": [],
   "source": [
    "from sklearn.dummy import DummyRegressor\n",
    "from sklearn.model_selection import train_test_split"
   ]
  },
  {
   "cell_type": "code",
   "execution_count": null,
   "id": "38c153e2-df0f-4eb9-9ed0-9b3cf27986c6",
   "metadata": {},
   "outputs": [],
   "source": [
    "X_train, X_val, y_train, y_val = train_test_split(X,y, test_size= 0.2, random_state=42)"
   ]
  },
  {
   "cell_type": "markdown",
   "id": "3a6a24b9-4498-49e6-84b8-005510087ef2",
   "metadata": {},
   "source": [
    "- za pomoca funkcji train_test_split przed rozdzieleniem podzbiorów przeprowadza wewnętrzene tasowanie zestawów danych uczących\n",
    "- Dzieki parametrowi random_state okreslilismy ziarno losowości dla wewnetrznego generatora liczb pseudolosowych który słuzy do tasowania zestawów danych przed ich rozdzieleniem. Wprowadzenie ziarna o ustalonej wartości pozwala na zachowac odtwarzalnosc doswiadczen"
   ]
  },
  {
   "cell_type": "code",
   "execution_count": null,
   "id": "1c630c6c-6f16-442c-b2b7-65f874f9c217",
   "metadata": {},
   "outputs": [],
   "source": [
    "model = DummyRegressor()\n",
    "model.fit(X_train, y_train)\n",
    "\n",
    "y_pred_log = model.predict(X_val)\n",
    "\n",
    "y_val_real = np.exp(y_val)\n",
    "y_pred_real = np.exp(y_pred_log)\n",
    "\n",
    "rmse_log= root_mean_squared_error(y_val, y_pred_log )\n",
    "print(f\"RMSE w logarytmicznej skali: {rmse_log}\")\n",
    "\n",
    "rmse_real= root_mean_squared_error(y_val_real, y_pred_real )\n",
    "print(f\"RMSE w oryginalnej skali: {rmse_real}\")\n",
    "\n"
   ]
  },
  {
   "cell_type": "markdown",
   "id": "250e363a-7780-4669-8449-7ac830f2ce16",
   "metadata": {},
   "source": [
    "Model oblicza srednią wartość zeminnej y_train (zlogarytmowanych wartości SalePrice) i zapamietuje ja jako regułe do przewidywań.\n",
    "DummyRegressor ignoruje cechy X_train, nie bierze pod uwage żadnych zależności miedzy X_traina y_train.\n",
    "\n",
    "Model nastepnie generuje przewidywania dla danych walidacyjnych (X_val). W tym przypadku kazde przewidywanie bedzie równe sredniej wartosci y_train obliczonej podczas trenowania modelu \n",
    "\n",
    "Odwrotnie  logarytmuje rzeczywiste wartosci zmiennej docelowej (y_val) z logarytmowanej skali do orginalnej wartosci \n",
    "odwrotnie logarytmuje przewidywane watorsci (y_pred_log) z logatytmowanej skali do orginalnej \n",
    "\n",
    "RMSE mierzy srednia odległosc miedzy rzeczywistymi wartosciami (y_val) a przewidywanymi wartosciami (y_pred_log)\n",
    "Orginalna skala jest bardziej intuicyjna poniewaz wynik podowany jest w tej samej jednostce co dane \n"
   ]
  },
  {
   "cell_type": "markdown",
   "id": "154dd102-6f43-4b43-bbc6-ca7880f11c49",
   "metadata": {},
   "source": [
    "#### Interpretacja wyniku\n",
    "Srednia cena budynku wynosi około 180 921 dolarów\n",
    "Przecietny błąd modelu wynosi około 88 270 dolarów \n",
    "\n",
    "Bład względny(Realtive RMSE) = RMSE/ Srednia cena  = 88 270 / 180 921 = 0.487\n",
    "\n",
    "Oznacza to ze model przewiduje ceny z błedem wynoszącym około 49%, zatem sprawnosc modelu wynosi 51%"
   ]
  },
  {
   "cell_type": "markdown",
   "id": "5fa62a2c-4984-4cf0-a7c5-2e18c47c6dde",
   "metadata": {},
   "source": [
    "## Budowa Modelu"
   ]
  },
  {
   "cell_type": "markdown",
   "id": "2b51cd98-d39f-453b-8659-d732ff7306b1",
   "metadata": {},
   "source": [
    "### Walidacja KFold "
   ]
  },
  {
   "cell_type": "code",
   "execution_count": null,
   "id": "5d101386-d457-47b2-a27c-c71c74346973",
   "metadata": {},
   "outputs": [],
   "source": [
    "from sklearn.dummy import DummyRegressor\n",
    "from sklearn.linear_model import LinearRegression\n",
    "from sklearn.tree import DecisionTreeRegressor\n",
    "from sklearn.ensemble import RandomForestRegressor, ExtraTreesRegressor\n",
    "from xgboost import XGBRegressor\n",
    "from sklearn.tree import DecisionTreeRegressor\n",
    "from sklearn.model_selection import KFold\n",
    "\n",
    "\n",
    "def fitting_model(model, X, y, folds = 6 ):\n",
    "    kf = KFold(n_splits=folds)\n",
    "    \n",
    "    metric_rmse=[]\n",
    "    for train_idx, test_idx in kf.split(X,y):\n",
    "        X_train, X_test = X.iloc[train_idx], X.iloc[test_idx]\n",
    "        y_train, y_test = y.iloc[train_idx], y.iloc[test_idx]\n",
    "    \n",
    "        model.fit(X_train,y_train)\n",
    "        y_pred_log = model.predict(X_val)\n",
    "        \n",
    "        # Przekształcenie do oryginalnej skali\n",
    "        y_val_real = np.exp(y_val)\n",
    "        y_pred_real = np.exp(y_pred_log)\n",
    "        \n",
    "        score =  root_mean_squared_error(y_val_real, y_pred_real )\n",
    "        metric_rmse.append(score)\n",
    "    return (\"RMSE w oryginalnej skali: \",sum(metric_rmse)/len(metric_rmse), \"sprawnosc modelu \", round(100-((sum(metric_rmse)/len(metric_rmse))/180921)*100, 2),\"%\")\n",
    "    \n"
   ]
  },
  {
   "cell_type": "markdown",
   "id": "a5500ddf-09ba-4e42-a80d-47ea91afd6d7",
   "metadata": {},
   "source": [
    "Podział zbioru treningowe został podzielony na n róznych czesci(foldów). Podczas każdego obiegu jeden fold staje sie zbiorem walidacyjnym a pozostałem n foldów stanowi zbiór treningowy.\n",
    "\n",
    "W pętli for iterujemy przez kazdy podział generujac indeksy liczbowe wierszy dla zbioru treningowego i walidacyjnego wybierajac odpowiednie wiersze na ich podstawie \n",
    "\n",
    "Zastosowany model bedzie przetrenowany poprzez podstawienie modelu do agrumentów funkcji "
   ]
  },
  {
   "cell_type": "markdown",
   "id": "a2b98368-337a-460a-bb20-2ddfda0de159",
   "metadata": {
    "jp-MarkdownHeadingCollapsed": true
   },
   "source": [
    "### Wyres krzywej uczenia sie "
   ]
  },
  {
   "cell_type": "code",
   "execution_count": null,
   "id": "bd1546d8-df63-4f94-a163-e8fc1844eba5",
   "metadata": {},
   "outputs": [],
   "source": [
    "from sklearn.model_selection import learning_curve\n",
    "from sklearn.metrics import make_scorer\n",
    "\n",
    "def plot_learning_curve(model, X, y, cv= 5):\n",
    "    rmse_scorer = make_scorer(root_mean_squared_error, greater_is_better=False)\n",
    "    \n",
    "    # Przekształcenie y do skali oryginalnej\n",
    "    y_exp = np.exp(y)\n",
    "    \n",
    "    # Obliczanie krzywej uczenia\n",
    "    train_sizes, train_scores, val_scores = learning_curve(\n",
    "        model, X, y_exp, cv=cv, scoring=rmse_scorer, train_sizes=np.linspace(0.1, 1.0, 5), n_jobs=1\n",
    "    )\n",
    "    \n",
    "    # Obliczanie średniej i odchylenia standardowego dla zbiorów treningowych i walidacyjnych\n",
    "    train_mean = -np.mean(train_scores, axis=1)\n",
    "    train_std = np.std(train_scores, axis=1)\n",
    "    val_mean = -np.mean(val_scores, axis=1)\n",
    "    val_std = np.std(val_scores, axis=1)\n",
    "    \n",
    "    # Wizualizacja krzywej uczenia\n",
    "    plt.figure(figsize=(10, 6))\n",
    "    plt.plot(train_sizes, train_mean, label=\"Błąd treningowy\", marker='o',color=\"r\")\n",
    "    plt.plot(train_sizes, val_mean, label=\"Błąd walidacyjny\", marker='o',color=\"g\")\n",
    "    plt.fill_between(train_sizes, train_mean - train_std, train_mean + train_std, alpha=0.1,color=\"r\")\n",
    "    plt.fill_between(train_sizes, val_mean - val_std, val_mean + val_std, alpha=0.1,color=\"g\")\n",
    "    \n",
    "    plt.xlabel(\"Liczba próbek treningowych\")\n",
    "    plt.ylabel(\"RMSE (niższy lepszy)\")\n",
    "    plt.title(\"Krzywa uczenia się\")\n",
    "    plt.legend()\n",
    "    plt.grid()\n",
    "    plt.show()"
   ]
  },
  {
   "cell_type": "markdown",
   "id": "971b648c-aa8c-4054-a712-8dd48d56cc7c",
   "metadata": {},
   "source": [
    "### Zastosowanie modeli "
   ]
  },
  {
   "cell_type": "markdown",
   "id": "bcb39e24-a224-49fd-acfb-381cd4049126",
   "metadata": {
    "jp-MarkdownHeadingCollapsed": true
   },
   "source": [
    "#### DecisionTreeRegressor"
   ]
  },
  {
   "cell_type": "code",
   "execution_count": null,
   "id": "de2da8a1-9bff-4d27-90f4-2bdbc200e4bf",
   "metadata": {},
   "outputs": [],
   "source": [
    "model_tree = DecisionTreeRegressor(random_state=42, max_depth=2)\n",
    "print(fitting_model(model_tree,X,y,folds=7))\n",
    "plot_learning_curve(model_tree, X, y, cv=7)"
   ]
  },
  {
   "cell_type": "markdown",
   "id": "d476d2c2-1da0-4499-be23-217da123b463",
   "metadata": {},
   "source": [
    "- Błąd treningowy przy małej liczbie danych treningowych jest niski ale wraz ze wzrostem liczby próbek bład treningowy rośnie, na koncu sie stabilizuje \n",
    "- Błąd walidacyjny na poczatku jest duży poniewaz model nie wystarczajaco dobrze generalizuje lecz wraz ze wzrostem próbek bład spada co wskazuje na poprawe zdolności generalizacji, jednak na koncu sie stabilizuje\n",
    "- na koczu wykresu widac ze błąd walidacyjny jest wyraznie wyższy niz bład treningowy wskazuje to na niedopasowanie modelu, możliwe ze model jest zbyt prosty aby uchwycic złozone wzorce w danych "
   ]
  },
  {
   "cell_type": "code",
   "execution_count": null,
   "id": "afe2fe5e-cee7-4d47-8c0e-b2a912795d0c",
   "metadata": {},
   "outputs": [],
   "source": [
    "model_tree = DecisionTreeRegressor(random_state=42, max_depth=5)\n",
    "print(fitting_model(model_tree,X,y,folds=7))\n",
    "plot_learning_curve(model_tree, X, y, cv=7)"
   ]
  },
  {
   "cell_type": "markdown",
   "id": "4af7283d-d1e7-4ec0-a99f-778d71cc7ace",
   "metadata": {},
   "source": [
    "Po zmiekszeniu głebokości\n",
    "-  Błąd walidacyjny uległ wyraznej poprawie co pozwoliłi modelowi uchwycic bardziej zożone zależności w danych\n",
    "-  Błąd treningowy zmniejszył sie co oznacza model lepiej radzi sobie z dopasowaniem danych treningowych\n",
    "\n",
    "Zwiekszenie głebokości drzewa spowodowało ze model jest bardziej dopasowany do danych a róznica miedzy błedami treningowymi i walidacyjnymi wkazuje na przeuczenie "
   ]
  },
  {
   "cell_type": "code",
   "execution_count": null,
   "id": "e9aac0cd-8c33-4858-8166-1fd54815c098",
   "metadata": {},
   "outputs": [],
   "source": []
  },
  {
   "cell_type": "markdown",
   "id": "80612a2d-9cc0-48e0-bd70-755d4d0f4ec7",
   "metadata": {},
   "source": [
    "#### RandomForestRegressor"
   ]
  },
  {
   "cell_type": "markdown",
   "id": "8f242422-7004-4b0a-a01f-cca56fb5ad96",
   "metadata": {},
   "source": [
    "- max_depth parametr ten decyduje o złozonosci modelu i liczbie interrakcji miedzy cechami które model jest w stanie uchwycic\n",
    "- n_estimators prarmetr ten kontroluje liczbe drzew w lesie "
   ]
  },
  {
   "cell_type": "code",
   "execution_count": null,
   "id": "1859f34a-f0ec-4bbd-82a3-14ae160bf51f",
   "metadata": {},
   "outputs": [],
   "source": [
    "model_forest = RandomForestRegressor(max_depth=2, n_estimators=20)\n",
    "print(fitting_model(model_forest,X,y,folds=7))\n",
    "plot_learning_curve(model_forest, X, y, cv=7)\n"
   ]
  },
  {
   "cell_type": "markdown",
   "id": "7316a030-b32e-4c3b-822d-7dd61bfaff69",
   "metadata": {},
   "source": [
    "- Błąd walidacyjny: Wraz ze wzrostem liczby danych błąd walidacyjny nie poprawia się, a w końcowej fazie pogarsza się.\n",
    "- rozrzut błedu walidacyjnego sugeruje ze model jes niestabilny\n",
    "- Bład treningowy jest stosunkowy wysoki moze wskazywac ze model nie jest wystarczajaco złożony\n",
    "\n",
    "Model jest niedouczony "
   ]
  },
  {
   "cell_type": "code",
   "execution_count": 206,
   "id": "c0407060-a465-4ab5-992d-b2455c7c60b3",
   "metadata": {},
   "outputs": [
    {
     "data": {
      "image/png": "[encoded data removed]",
      "text/plain": [
       "<Figure size 1000x600 with 1 Axes>"
      ]
     },
     "metadata": {},
     "output_type": "display_data"
    }
   ],
   "source": [
    "model_forest = RandomForestRegressor(max_depth=5, n_estimators=1000)\n",
    "print(fitting_model(model_forest,X,y,folds=7))\n",
    "plot_learning_curve(model_forest, X, y, cv=7)\n"
   ]
  },
  {
   "cell_type": "markdown",
   "id": "3f7dc62d-7176-4e19-bb5c-1531f3d3fb13",
   "metadata": {},
   "source": [
    "- Linia błedu walidacyjnego stabilizuje sie wraz ze wzrostem liczby danych co oznacza ze model wraz ze zwiekszeniem danych dobrze generalizuje\n",
    "- Rozrzut wyników walidacji jest jest mniejszy co swiadczu o wiekszej stabilnosci modelu \n",
    "- Zmniejszenie błedu treningowego wskazuje ze model dobrze odszukuje wzorce w danych\n"
   ]
  },
  {
   "cell_type": "markdown",
   "id": "18824401-628b-4566-b277-cbdb1b4d42e8",
   "metadata": {},
   "source": [
    "#### ExtraTreesRegressor"
   ]
  },
  {
   "cell_type": "code",
   "execution_count": null,
   "id": "8b6dad24-47e5-4823-8980-6a3e056e7f27",
   "metadata": {},
   "outputs": [
    {
     "name": "stdout",
     "output_type": "stream",
     "text": [
      "('RMSE w oryginalnej skali: ', 20861.667490661985, 'sprawnosc modelu ', 88.47, '%')\n"
     ]
    }
   ],
   "source": [
    "model_ext_tree = ExtraTreesRegressor(max_depth=7, n_estimators=20)\n",
    "print(fitting_model(model_ext_tree,X,y,folds=7))\n",
    "plot_learning_curve(model_ext_tree, X, y, cv=7)\n",
    "\n",
    "\n"
   ]
  },
  {
   "cell_type": "markdown",
   "id": "e11ea291-04f4-45d1-a7f0-19e527be0c83",
   "metadata": {},
   "source": [
    "- Bład treningowy wzrasta wraz ze wzrostem liczby danych wzrasta ale nie zacząco\n",
    "- Błąd walidacyjny znaczaco maleje wraz ze wzrostem liczby danych na konsu sie stabilizuje, rozrzut pozostaje taki sam co oznacza niestabilnosc modelu bez wzgledu na ilosc próbek\n",
    "- rozbieżnośc miedzy błedem treningowym a walidacyjnym wskazuje na przeuczenie modelu"
   ]
  },
  {
   "cell_type": "code",
   "execution_count": null,
   "id": "b51cf7ab-f891-42b6-9797-a018e2583593",
   "metadata": {},
   "outputs": [],
   "source": [
    "model_ext_tree = ExtraTreesRegressor(max_depth=7, n_estimators=500)\n",
    "print(fitting_model(model_ext_tree,X,y,folds=7))\n",
    "plot_learning_curve(model_ext_tree, X, y, cv=7)"
   ]
  },
  {
   "cell_type": "markdown",
   "id": "71e0b79d-d663-460c-8816-9bb1ff9444e9",
   "metadata": {},
   "source": [
    "#### GradientBoostingRegressor"
   ]
  },
  {
   "cell_type": "code",
   "execution_count": null,
   "id": "fb08e155-2cf2-40dc-9412-847e8cb2a49b",
   "metadata": {},
   "outputs": [],
   "source": [
    "from sklearn.ensemble import GradientBoostingRegressor\n",
    "\n",
    "model_gbr = GradientBoostingRegressor(max_depth=5, n_estimators=100, random_state=42)\n",
    "print(fitting_model(model_gbr,X,y,folds=7))\n",
    "plot_learning_curve(model_gbr, X, y, cv=7)"
   ]
  },
  {
   "cell_type": "markdown",
   "id": "6021431a-c88c-42b3-87f6-ee9ee066cfdf",
   "metadata": {},
   "source": [
    "#### XGBRegressor"
   ]
  },
  {
   "cell_type": "code",
   "execution_count": null,
   "id": "3ba4294e-41b6-4728-a5d5-afea396eb534",
   "metadata": {},
   "outputs": [],
   "source": [
    "model_xgb = XGBRegressor(max_depth=20, learning_rate=0.1, n_estimators=100, random_state=42)\n",
    "\n",
    "print(fitting_model(model_xgb,X,y,folds=7))\n",
    "plot_learning_curve(model_xgb, X, y,  cv=7)\n",
    "\n"
   ]
  },
  {
   "cell_type": "code",
   "execution_count": null,
   "id": "2d079069-696b-4c2d-b7e4-b133f6cb7fed",
   "metadata": {},
   "outputs": [],
   "source": [
    "from sklearn.linear_model import ElasticNet\n",
    "model_elastic = ElasticNet(alpha=0.1, l1_ratio=0.5)\n",
    "print(fitting_model(model_elastic,X,y,folds=7))\n",
    "plot_learning_curve(model_elastic, X, y, cv=7)"
   ]
  },
  {
   "cell_type": "code",
   "execution_count": null,
   "id": "621a34a1-a249-4539-9e5c-8d8cbe5ca537",
   "metadata": {},
   "outputs": [],
   "source": []
  },
  {
   "cell_type": "code",
   "execution_count": null,
   "id": "9c0b4e2f-ffe1-496c-baf4-bfef018749af",
   "metadata": {},
   "outputs": [],
   "source": []
  },
  {
   "cell_type": "markdown",
   "id": "758c4839-900d-482f-b419-3515ffe213d7",
   "metadata": {},
   "source": [
    "## Feature Engineering:\n"
   ]
  },
  {
   "cell_type": "code",
   "execution_count": null,
   "id": "cc72af7f-4532-4845-9945-942843e8a442",
   "metadata": {},
   "outputs": [],
   "source": []
  },
  {
   "cell_type": "code",
   "execution_count": null,
   "id": "c3c8bdbc-704e-443f-b45b-89f6f73dfde3",
   "metadata": {},
   "outputs": [],
   "source": [
    "from sklearn.tree import DecisionTreeRegressor\n",
    "\n",
    "model = DecisionTreeRegressor(random_state=42, max_depth=16)\n",
    "\n",
    "cv = KFold(n_splits=7)\n",
    "\n",
    "metric_rmse=[]\n",
    "for train_idx, test_idx in cv.split(X,y):\n",
    "    X_train, X_test = X.iloc[train_idx], X.iloc[test_idx]\n",
    "    y_train, y_test = y.iloc[train_idx], y.iloc[test_idx]\n",
    "\n",
    "    model.fit(X_train,y_train)\n",
    "    y_pred_log = model.predict(X_val)\n",
    "    \n",
    "    # Przekształcenie do oryginalnej skali\n",
    "    y_val_real = np.exp(y_val)\n",
    "    y_pred_real = np.exp(y_pred_log)\n",
    "    \n",
    "    score =  root_mean_squared_error(y_val_real, y_pred_real )\n",
    "    metric_rmse.append(score)\n",
    "    \n",
    "print(\"RMSE w oryginalnej skali: \", (sum(metric_rmse)/len(metric_rmse)))\n"
   ]
  },
  {
   "cell_type": "markdown",
   "id": "0da9728e-4344-48c7-9536-24e0a816e268",
   "metadata": {},
   "source": [
    "## Hiperparametryzacja"
   ]
  },
  {
   "cell_type": "code",
   "execution_count": null,
   "id": "0d806c30-e0d1-4380-b72b-f6e74d9709e6",
   "metadata": {},
   "outputs": [],
   "source": [
    "import lightgbm as lgb\n",
    "\n",
    "# Inicjalizacja modelu LightGBM\n",
    "lgb_model = lgb.LGBMClassifier(random_state=42, verbosity = 0)\n",
    "\n",
    "# RandomizedSearchCV na całym zbiorze treningowym\n",
    "random_search_lgb = RandomizedSearchCV(\n",
    "    estimator=lgb_model,\n",
    "    param_distributions=param_grid_xgb,\n",
    "    n_iter=100, \n",
    "    scoring='accuracy',\n",
    "    random_state=42,\n",
    "    n_jobs=-1,\n",
    "    cv=skf\n",
    ")\n",
    "\n",
    "random_search_lgb.fit(X, y)\n",
    "\n",
    "best_params_lgb = random_search_lgb.best_params_\n",
    "best_score_lgb = random_search_lgb.best_score_\n",
    "print(\"Najlepsze parametry:\", best_params_lgb)\n",
    "print(\"Najlepsza dokładność:\", best_score_lgb)\n",
    "\n",
    "plot_learning_curve(random_search_lgb.best_estimator_, X, y, cv=skf)\n"
   ]
  },
  {
   "cell_type": "markdown",
   "id": "64445f42-ae88-4d6f-b556-7ef55cf46755",
   "metadata": {},
   "source": [
    "## Trenowanie na danych testowych"
   ]
  },
  {
   "cell_type": "markdown",
   "id": "c9987b42-7c31-4ba8-91a5-11fd72f5a3b0",
   "metadata": {},
   "source": [
    "## Przygotowanie Submission"
   ]
  }
 ],
 "metadata": {
  "colab": {
   "provenance": []
  },
  "kernelspec": {
   "display_name": "Python 3 (ipykernel)",
   "language": "python",
   "name": "python3"
  },
  "language_info": {
   "codemirror_mode": {
    "name": "ipython",
    "version": 3
   },
   "file_extension": ".py",
   "mimetype": "text/x-python",
   "name": "python",
   "nbconvert_exporter": "python",
   "pygments_lexer": "ipython3",
   "version": "3.12.4"
  }
 },
 "nbformat": 4,
 "nbformat_minor": 5
}
