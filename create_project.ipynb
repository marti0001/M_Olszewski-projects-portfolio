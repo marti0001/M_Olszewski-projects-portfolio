{
 "cells": [
  {
   "cell_type": "code",
   "execution_count": 4,
   "id": "c2afb8c0",
   "metadata": {},
   "outputs": [
    {
     "name": "stdout",
     "output_type": "stream",
     "text": [
      "Struktura repozytorium utworzona w: C:\\Base_Camp\\Pliki\\repo\\M_Olszewski-projects-portfolio\\Emotion_Model\\input\n",
      "Struktura repozytorium utworzona w: C:\\Base_Camp\\Pliki\\repo\\M_Olszewski-projects-portfolio\\Emotion_Model\\notebooks\n",
      "Struktura repozytorium utworzona w: C:\\Base_Camp\\Pliki\\repo\\M_Olszewski-projects-portfolio\\Emotion_Model\\scripts\n",
      "Struktura repozytorium utworzona w: C:\\Base_Camp\\Pliki\\repo\\M_Olszewski-projects-portfolio\\Emotion_Model\\models\n",
      "Struktura repozytorium utworzona w: C:\\Base_Camp\\Pliki\\repo\\M_Olszewski-projects-portfolio\\Emotion_Model\\reports\n",
      "Struktura repozytorium utworzona w: C:\\Base_Camp\\Pliki\\repo\\M_Olszewski-projects-portfolio\\Emotion_Model\n",
      "Struktura repozytorium utworzona w: C:\\Base_Camp\\Pliki\\repo\\M_Olszewski-projects-portfolio\n"
     ]
    }
   ],
   "source": [
    "import os \n",
    "\n",
    "\n",
    "repo_structures = {\n",
    "    \"nazwa_projektu\": {\n",
    "        'input':{},\n",
    "        \"notebooks\": {\n",
    "            \"project_1.ipynb\":\"\", # Notebook z eksploracyjną analizą danych\n",
    "            \"model_training.ipynb\":\"\",  # Notebook z budowaniem modeli\n",
    "             },\n",
    "        \"scripts\":{}, #skrypty do przetwarzania danych, trenowania modeli\n",
    "        \"models\":{}, #zapisane modele\n",
    "        \"reports\":{},# raporty z analiz i wyników \n",
    "        \"README.md\": \"# ogólny opis projektu i instrukcje\",\n",
    "        \"requirements.txt\": \"# Lista wymaganych bibliotek Pythona, lista zależnosci\"\n",
    "    },\n",
    "}\n",
    "# Funkcja do tworzenia struktury folderów i plików\n",
    "def create_repo_structure(base_path, structure, project_name = 'projekt'):\n",
    "    \n",
    "    \n",
    "    if 'nazwa_projektu' in structure: # sprawdza czy w słowniku istnieje klucz 'nazwa_projektu'\n",
    "        structure[project_name] = structure.pop('nazwa_projektu')   #usuwa stary klucz i zwraca jego wartosc a nastepnie\n",
    "                                                                    #przypisuje te wartosc do nowego klucza project_name\n",
    "        \n",
    "        \n",
    "        \n",
    "    for name, content in structure.items():# przechodzi przez wszystkie elementy w słowniku structure przy uzyciu structure .item()\n",
    "        #name reprezentuje nazwe folderu lub pliku do utworzenia \n",
    "        #content to wartosc przypisana do klucza,\n",
    "        #jesli content jest kolejnym słownikiem oznacza to ze name reprezentuje folder(content zawiera jego podstrukture)\n",
    "        #jesli content jest tekstem oznacza to ze name reprezentuje plik a content jest jego zawartoscia\n",
    "        \n",
    "        path = os.path.join(base_path, name) # łączy scieżke bazową z nazwa elementu tworzac pełna ścieżke do \n",
    "        #miejsca w kórym ma zostac uwtorzony w sposób zgodny z systemem operacyjnym (np.odpowiednie ukośniki dla Windows)\n",
    "        \n",
    "        if isinstance(content, dict): #sprawdza czy content jest słownikiem\n",
    "            \n",
    "           \n",
    "            os.makedirs(path, exist_ok=True) #tworzy folder w określonej ścieżce path\n",
    "                            #funkcja os.makedirs() tworzy wszystkie brakujace foldery w ścieżce (jesli folder juz istnieje \n",
    "                            # to zostanie zignorowany dzięki exist_ok= True)\n",
    "            \n",
    "            # Rekurencyjnie tworzymy podstruktury\n",
    "            create_repo_structure(path, content) #funkcja wywołuje samą siebie (rekurencja) dla nowo utworzonego folderu. \n",
    "                # foldery mogą zawierac inne foldery i pliki, które również muszą zostać utworzone \n",
    "                # jesli content jest słownikiem (reprezentującym podstrukture), funkcja rekurencyjnei utworzy jago zawartość\n",
    "        else:\n",
    "            # Tworzymy plik, jeśli element jest tekstem\n",
    "            with open(path, 'w') as f: # otwiera plik w trybie zapisu ('w'). jesli plik nie istnieje zostanie utworzony\n",
    "                f.write(content) #zapisuje zawartość content do pliku. content to w tym przypadku tekst\n",
    "    print(f\"Struktura repozytorium utworzona w: {base_path}\")\n",
    "\n",
    "# Uruchamiamy funkcję, aby stworzyć strukturę repozytorium\n",
    "create_repo_structure(r\"C:\\Base_Camp\\Pliki\\repo\\M_Olszewski-projects-portfolio\", repo_structures,'Emotion_Model')"
   ]
  },
  {
   "cell_type": "code",
   "execution_count": null,
   "id": "206cb2d6-4f0d-43e8-b4a9-eebfe91300b9",
   "metadata": {},
   "outputs": [],
   "source": []
  }
 ],
 "metadata": {
  "kernelspec": {
   "display_name": "Python 3 (ipykernel)",
   "language": "python",
   "name": "python3"
  },
  "language_info": {
   "codemirror_mode": {
    "name": "ipython",
    "version": 3
   },
   "file_extension": ".py",
   "mimetype": "text/x-python",
   "name": "python",
   "nbconvert_exporter": "python",
   "pygments_lexer": "ipython3",
   "version": "3.12.4"
  }
 },
 "nbformat": 4,
 "nbformat_minor": 5
}
