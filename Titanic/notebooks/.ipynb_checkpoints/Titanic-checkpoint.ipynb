{
 "cells": [
  {
   "cell_type": "markdown",
   "id": "73ef04b3",
   "metadata": {},
   "source": [
    "# Titanic "
   ]
  },
  {
   "cell_type": "markdown",
   "id": "a30d7c06",
   "metadata": {},
   "source": [
    "### Przeanalizowanie zadania"
   ]
  },
  {
   "cell_type": "markdown",
   "id": "7e0de9bb",
   "metadata": {},
   "source": [
    "Mam zamiar wyuczyc model, który przewidzi czy pasażer Titanica przeżyje.\n",
    "\n",
    "Mamy tu do czynienia z klasycznym zadaniem uczenia nadzorowanego, poniewaz wykorzystujemy dane wejściowe z oznakowanymi etykietami zeby nauczyc model przewidywac wynik\n",
    "Klasycznym przykładem uczenia nazdzorowanego jest klasyfikacja binarna która przewiduje jedną z dwóch klas (0 i 1). W tym przypadku przewidujemy wartość kategoryczną (dyskretną). Zmienna docelowa Survived przyjmuje dwie wartości 0( nie przeżył) lub 1 (przeżył)"
   ]
  },
  {
   "cell_type": "code",
   "execution_count": 1,
   "id": "c525307f",
   "metadata": {},
   "outputs": [],
   "source": [
    "import pandas as pd\n",
    "import numpy as np\n",
    "import matplotlib.pyplot as plt\n",
    "import seaborn as sns\n",
    "\n",
    "\n",
    "\n",
    "%matplotlib inline"
   ]
  },
  {
   "cell_type": "markdown",
   "id": "aacc9305",
   "metadata": {},
   "source": [
    "#### Wczytywanie danych"
   ]
  },
  {
   "cell_type": "code",
   "execution_count": 2,
   "id": "557cab11",
   "metadata": {},
   "outputs": [
    {
     "name": "stdout",
     "output_type": "stream",
     "text": [
      "(891, 12)\n",
      "(418, 11)\n"
     ]
    }
   ],
   "source": [
    "train  = pd.read_csv('https://raw.githubusercontent.com/marti0001/M_Olszewski-projects-portfolio/refs/heads/master/Titanic/input/train.csv')\n",
    "test = pd.read_csv('https://raw.githubusercontent.com/marti0001/M_Olszewski-projects-portfolio/refs/heads/master/Titanic/input/test.csv')\n",
    "print(train.shape)\n",
    "print(test.shape)"
   ]
  },
  {
   "cell_type": "markdown",
   "id": "db59daa1",
   "metadata": {},
   "source": [
    "#### Analiza danych Treningowych \n",
    "Przeprowadze analize danych w celu zrozumienia struktury danych"
   ]
  },
  {
   "cell_type": "code",
   "execution_count": 3,
   "id": "c3294bf3",
   "metadata": {},
   "outputs": [
    {
     "name": "stdout",
     "output_type": "stream",
     "text": [
      "<class 'pandas.core.frame.DataFrame'>\n",
      "RangeIndex: 891 entries, 0 to 890\n",
      "Data columns (total 12 columns):\n",
      " #   Column       Non-Null Count  Dtype  \n",
      "---  ------       --------------  -----  \n",
      " 0   PassengerId  891 non-null    int64  \n",
      " 1   Survived     891 non-null    int64  \n",
      " 2   Pclass       891 non-null    int64  \n",
      " 3   Name         891 non-null    object \n",
      " 4   Sex          891 non-null    object \n",
      " 5   Age          714 non-null    float64\n",
      " 6   SibSp        891 non-null    int64  \n",
      " 7   Parch        891 non-null    int64  \n",
      " 8   Ticket       891 non-null    object \n",
      " 9   Fare         891 non-null    float64\n",
      " 10  Cabin        204 non-null    object \n",
      " 11  Embarked     889 non-null    object \n",
      "dtypes: float64(2), int64(5), object(5)\n",
      "memory usage: 83.7+ KB\n"
     ]
    }
   ],
   "source": [
    "train.info()"
   ]
  },
  {
   "cell_type": "code",
   "execution_count": 4,
   "id": "a61d0cee",
   "metadata": {},
   "outputs": [
    {
     "data": {
      "text/html": [
       "<div>\n",
       "<style scoped>\n",
       "    .dataframe tbody tr th:only-of-type {\n",
       "        vertical-align: middle;\n",
       "    }\n",
       "\n",
       "    .dataframe tbody tr th {\n",
       "        vertical-align: top;\n",
       "    }\n",
       "\n",
       "    .dataframe thead th {\n",
       "        text-align: right;\n",
       "    }\n",
       "</style>\n",
       "<table border=\"1\" class=\"dataframe\">\n",
       "  <thead>\n",
       "    <tr style=\"text-align: right;\">\n",
       "      <th></th>\n",
       "      <th>PassengerId</th>\n",
       "      <th>Survived</th>\n",
       "      <th>Pclass</th>\n",
       "      <th>Age</th>\n",
       "      <th>SibSp</th>\n",
       "      <th>Parch</th>\n",
       "      <th>Fare</th>\n",
       "    </tr>\n",
       "  </thead>\n",
       "  <tbody>\n",
       "    <tr>\n",
       "      <th>count</th>\n",
       "      <td>891.000000</td>\n",
       "      <td>891.000000</td>\n",
       "      <td>891.000000</td>\n",
       "      <td>714.000000</td>\n",
       "      <td>891.000000</td>\n",
       "      <td>891.000000</td>\n",
       "      <td>891.000000</td>\n",
       "    </tr>\n",
       "    <tr>\n",
       "      <th>mean</th>\n",
       "      <td>446.000000</td>\n",
       "      <td>0.383838</td>\n",
       "      <td>2.308642</td>\n",
       "      <td>29.699118</td>\n",
       "      <td>0.523008</td>\n",
       "      <td>0.381594</td>\n",
       "      <td>32.204208</td>\n",
       "    </tr>\n",
       "    <tr>\n",
       "      <th>std</th>\n",
       "      <td>257.353842</td>\n",
       "      <td>0.486592</td>\n",
       "      <td>0.836071</td>\n",
       "      <td>14.526497</td>\n",
       "      <td>1.102743</td>\n",
       "      <td>0.806057</td>\n",
       "      <td>49.693429</td>\n",
       "    </tr>\n",
       "    <tr>\n",
       "      <th>min</th>\n",
       "      <td>1.000000</td>\n",
       "      <td>0.000000</td>\n",
       "      <td>1.000000</td>\n",
       "      <td>0.420000</td>\n",
       "      <td>0.000000</td>\n",
       "      <td>0.000000</td>\n",
       "      <td>0.000000</td>\n",
       "    </tr>\n",
       "    <tr>\n",
       "      <th>25%</th>\n",
       "      <td>223.500000</td>\n",
       "      <td>0.000000</td>\n",
       "      <td>2.000000</td>\n",
       "      <td>20.125000</td>\n",
       "      <td>0.000000</td>\n",
       "      <td>0.000000</td>\n",
       "      <td>7.910400</td>\n",
       "    </tr>\n",
       "    <tr>\n",
       "      <th>50%</th>\n",
       "      <td>446.000000</td>\n",
       "      <td>0.000000</td>\n",
       "      <td>3.000000</td>\n",
       "      <td>28.000000</td>\n",
       "      <td>0.000000</td>\n",
       "      <td>0.000000</td>\n",
       "      <td>14.454200</td>\n",
       "    </tr>\n",
       "    <tr>\n",
       "      <th>75%</th>\n",
       "      <td>668.500000</td>\n",
       "      <td>1.000000</td>\n",
       "      <td>3.000000</td>\n",
       "      <td>38.000000</td>\n",
       "      <td>1.000000</td>\n",
       "      <td>0.000000</td>\n",
       "      <td>31.000000</td>\n",
       "    </tr>\n",
       "    <tr>\n",
       "      <th>max</th>\n",
       "      <td>891.000000</td>\n",
       "      <td>1.000000</td>\n",
       "      <td>3.000000</td>\n",
       "      <td>80.000000</td>\n",
       "      <td>8.000000</td>\n",
       "      <td>6.000000</td>\n",
       "      <td>512.329200</td>\n",
       "    </tr>\n",
       "  </tbody>\n",
       "</table>\n",
       "</div>"
      ],
      "text/plain": [
       "       PassengerId    Survived      Pclass         Age       SibSp  \\\n",
       "count   891.000000  891.000000  891.000000  714.000000  891.000000   \n",
       "mean    446.000000    0.383838    2.308642   29.699118    0.523008   \n",
       "std     257.353842    0.486592    0.836071   14.526497    1.102743   \n",
       "min       1.000000    0.000000    1.000000    0.420000    0.000000   \n",
       "25%     223.500000    0.000000    2.000000   20.125000    0.000000   \n",
       "50%     446.000000    0.000000    3.000000   28.000000    0.000000   \n",
       "75%     668.500000    1.000000    3.000000   38.000000    1.000000   \n",
       "max     891.000000    1.000000    3.000000   80.000000    8.000000   \n",
       "\n",
       "            Parch        Fare  \n",
       "count  891.000000  891.000000  \n",
       "mean     0.381594   32.204208  \n",
       "std      0.806057   49.693429  \n",
       "min      0.000000    0.000000  \n",
       "25%      0.000000    7.910400  \n",
       "50%      0.000000   14.454200  \n",
       "75%      0.000000   31.000000  \n",
       "max      6.000000  512.329200  "
      ]
     },
     "execution_count": 4,
     "metadata": {},
     "output_type": "execute_result"
    }
   ],
   "source": [
    "train.describe()"
   ]
  },
  {
   "cell_type": "code",
   "execution_count": 5,
   "id": "e3626917",
   "metadata": {},
   "outputs": [
    {
     "data": {
      "text/html": [
       "<div>\n",
       "<style scoped>\n",
       "    .dataframe tbody tr th:only-of-type {\n",
       "        vertical-align: middle;\n",
       "    }\n",
       "\n",
       "    .dataframe tbody tr th {\n",
       "        vertical-align: top;\n",
       "    }\n",
       "\n",
       "    .dataframe thead th {\n",
       "        text-align: right;\n",
       "    }\n",
       "</style>\n",
       "<table border=\"1\" class=\"dataframe\">\n",
       "  <thead>\n",
       "    <tr style=\"text-align: right;\">\n",
       "      <th></th>\n",
       "      <th>PassengerId</th>\n",
       "      <th>Survived</th>\n",
       "      <th>Pclass</th>\n",
       "      <th>Name</th>\n",
       "      <th>Sex</th>\n",
       "      <th>Age</th>\n",
       "      <th>SibSp</th>\n",
       "      <th>Parch</th>\n",
       "      <th>Ticket</th>\n",
       "      <th>Fare</th>\n",
       "      <th>Cabin</th>\n",
       "      <th>Embarked</th>\n",
       "    </tr>\n",
       "  </thead>\n",
       "  <tbody>\n",
       "    <tr>\n",
       "      <th>638</th>\n",
       "      <td>639</td>\n",
       "      <td>0</td>\n",
       "      <td>3</td>\n",
       "      <td>Panula, Mrs. Juha (Maria Emilia Ojala)</td>\n",
       "      <td>female</td>\n",
       "      <td>41.0</td>\n",
       "      <td>0</td>\n",
       "      <td>5</td>\n",
       "      <td>3101295</td>\n",
       "      <td>39.6875</td>\n",
       "      <td>NaN</td>\n",
       "      <td>S</td>\n",
       "    </tr>\n",
       "    <tr>\n",
       "      <th>345</th>\n",
       "      <td>346</td>\n",
       "      <td>1</td>\n",
       "      <td>2</td>\n",
       "      <td>Brown, Miss. Amelia \"Mildred\"</td>\n",
       "      <td>female</td>\n",
       "      <td>24.0</td>\n",
       "      <td>0</td>\n",
       "      <td>0</td>\n",
       "      <td>248733</td>\n",
       "      <td>13.0000</td>\n",
       "      <td>F33</td>\n",
       "      <td>S</td>\n",
       "    </tr>\n",
       "    <tr>\n",
       "      <th>691</th>\n",
       "      <td>692</td>\n",
       "      <td>1</td>\n",
       "      <td>3</td>\n",
       "      <td>Karun, Miss. Manca</td>\n",
       "      <td>female</td>\n",
       "      <td>4.0</td>\n",
       "      <td>0</td>\n",
       "      <td>1</td>\n",
       "      <td>349256</td>\n",
       "      <td>13.4167</td>\n",
       "      <td>NaN</td>\n",
       "      <td>C</td>\n",
       "    </tr>\n",
       "    <tr>\n",
       "      <th>839</th>\n",
       "      <td>840</td>\n",
       "      <td>1</td>\n",
       "      <td>1</td>\n",
       "      <td>Marechal, Mr. Pierre</td>\n",
       "      <td>male</td>\n",
       "      <td>NaN</td>\n",
       "      <td>0</td>\n",
       "      <td>0</td>\n",
       "      <td>11774</td>\n",
       "      <td>29.7000</td>\n",
       "      <td>C47</td>\n",
       "      <td>C</td>\n",
       "    </tr>\n",
       "    <tr>\n",
       "      <th>547</th>\n",
       "      <td>548</td>\n",
       "      <td>1</td>\n",
       "      <td>2</td>\n",
       "      <td>Padro y Manent, Mr. Julian</td>\n",
       "      <td>male</td>\n",
       "      <td>NaN</td>\n",
       "      <td>0</td>\n",
       "      <td>0</td>\n",
       "      <td>SC/PARIS 2146</td>\n",
       "      <td>13.8625</td>\n",
       "      <td>NaN</td>\n",
       "      <td>C</td>\n",
       "    </tr>\n",
       "  </tbody>\n",
       "</table>\n",
       "</div>"
      ],
      "text/plain": [
       "     PassengerId  Survived  Pclass                                    Name  \\\n",
       "638          639         0       3  Panula, Mrs. Juha (Maria Emilia Ojala)   \n",
       "345          346         1       2           Brown, Miss. Amelia \"Mildred\"   \n",
       "691          692         1       3                      Karun, Miss. Manca   \n",
       "839          840         1       1                    Marechal, Mr. Pierre   \n",
       "547          548         1       2              Padro y Manent, Mr. Julian   \n",
       "\n",
       "        Sex   Age  SibSp  Parch         Ticket     Fare Cabin Embarked  \n",
       "638  female  41.0      0      5        3101295  39.6875   NaN        S  \n",
       "345  female  24.0      0      0         248733  13.0000   F33        S  \n",
       "691  female   4.0      0      1         349256  13.4167   NaN        C  \n",
       "839    male   NaN      0      0          11774  29.7000   C47        C  \n",
       "547    male   NaN      0      0  SC/PARIS 2146  13.8625   NaN        C  "
      ]
     },
     "execution_count": 5,
     "metadata": {},
     "output_type": "execute_result"
    }
   ],
   "source": [
    "train.sample(5)"
   ]
  },
  {
   "cell_type": "code",
   "execution_count": 6,
   "id": "c899e60d",
   "metadata": {},
   "outputs": [
    {
     "data": {
      "text/plain": [
       "PassengerId      0\n",
       "Survived         0\n",
       "Pclass           0\n",
       "Name             0\n",
       "Sex              0\n",
       "Age            177\n",
       "SibSp            0\n",
       "Parch            0\n",
       "Ticket           0\n",
       "Fare             0\n",
       "Cabin          687\n",
       "Embarked         2\n",
       "dtype: int64"
      ]
     },
     "execution_count": 6,
     "metadata": {},
     "output_type": "execute_result"
    }
   ],
   "source": [
    "train.isnull().sum()"
   ]
  },
  {
   "cell_type": "markdown",
   "id": "d2d30a7b",
   "metadata": {},
   "source": [
    "### Wnioski z Analizy\n",
    "\n",
    "W zbiorze treningowym mamy 891 wierszy i 12 cech\n",
    "\n",
    "W zbiorze testowym mamy 418 wierszy i 11 cech (zostala usunieta wartosc docelowa)\n",
    "\n",
    "Typy danych które znajduja sie w zbiorze treningowym to:\n",
    "- 2 cechy z liczbami zmiennoprzecinkowymi\n",
    "- 5 cech z liczbami naturalnymi \n",
    "- 5 cech z typem object, co oznacza ze mozna tu przechowywac dowolny obiekt, które po sprawdzeniu kilku losowych wartosci sa to zmienne tekstowe\n",
    "\n",
    "W kolumnach Age, Cabin i Embarked brakuje wartości \n",
    "\n",
    "Po przyjrzeniu sie zbiorowi danychwartosci w kolumnie Sex,Pclass,Embarked,Survived,SibSp są powtarzalne to oznacza ze mamy do czynienia z atrybutami kategorialnymi."
   ]
  },
  {
   "cell_type": "markdown",
   "id": "f11f4c46",
   "metadata": {},
   "source": [
    "### Analiza Danych Testowych"
   ]
  },
  {
   "cell_type": "code",
   "execution_count": 7,
   "id": "d3ce2771",
   "metadata": {},
   "outputs": [
    {
     "name": "stdout",
     "output_type": "stream",
     "text": [
      "<class 'pandas.core.frame.DataFrame'>\n",
      "RangeIndex: 418 entries, 0 to 417\n",
      "Data columns (total 11 columns):\n",
      " #   Column       Non-Null Count  Dtype  \n",
      "---  ------       --------------  -----  \n",
      " 0   PassengerId  418 non-null    int64  \n",
      " 1   Pclass       418 non-null    int64  \n",
      " 2   Name         418 non-null    object \n",
      " 3   Sex          418 non-null    object \n",
      " 4   Age          332 non-null    float64\n",
      " 5   SibSp        418 non-null    int64  \n",
      " 6   Parch        418 non-null    int64  \n",
      " 7   Ticket       418 non-null    object \n",
      " 8   Fare         417 non-null    float64\n",
      " 9   Cabin        91 non-null     object \n",
      " 10  Embarked     418 non-null    object \n",
      "dtypes: float64(2), int64(4), object(5)\n",
      "memory usage: 36.1+ KB\n"
     ]
    }
   ],
   "source": [
    "test.info()"
   ]
  },
  {
   "cell_type": "code",
   "execution_count": 8,
   "id": "19097499",
   "metadata": {},
   "outputs": [
    {
     "data": {
      "text/plain": [
       "PassengerId      0\n",
       "Pclass           0\n",
       "Name             0\n",
       "Sex              0\n",
       "Age             86\n",
       "SibSp            0\n",
       "Parch            0\n",
       "Ticket           0\n",
       "Fare             1\n",
       "Cabin          327\n",
       "Embarked         0\n",
       "dtype: int64"
      ]
     },
     "execution_count": 8,
     "metadata": {},
     "output_type": "execute_result"
    }
   ],
   "source": [
    "test.isnull().sum()"
   ]
  },
  {
   "cell_type": "code",
   "execution_count": null,
   "id": "f9a778cc",
   "metadata": {},
   "outputs": [],
   "source": []
  },
  {
   "cell_type": "markdown",
   "id": "e83eacf7",
   "metadata": {},
   "source": [
    "### Wizualizacja danych"
   ]
  },
  {
   "cell_type": "code",
   "execution_count": 9,
   "id": "38cbf453",
   "metadata": {},
   "outputs": [
    {
     "data": {
      "image/png": "[encoded data removed]",
      "text/plain": [
       "<Figure size 1200x800 with 9 Axes>"
      ]
     },
     "metadata": {},
     "output_type": "display_data"
    }
   ],
   "source": [
    "#histogramy przedstawiaja liczbe przykładów (w pionowej osi ) znajdujacych sie w okreslonym przedziale wartosci (os pozioma)\n",
    "\n",
    "train.hist(bins = 50, figsize = (12,8))\n",
    "plt.show()"
   ]
  },
  {
   "cell_type": "code",
   "execution_count": 10,
   "id": "1b80f436",
   "metadata": {},
   "outputs": [
    {
     "data": {
      "image/png": "[encoded data removed]",
      "text/plain": [
       "<Figure size 640x480 with 1 Axes>"
      ]
     },
     "metadata": {},
     "output_type": "display_data"
    }
   ],
   "source": [
    "sns.countplot(x='Sex',hue ='Survived', data = train)\n",
    "plt.title('Przeżycie w zależnosci od płci')\n",
    "plt.show()"
   ]
  },
  {
   "cell_type": "code",
   "execution_count": 11,
   "id": "6a06bc83",
   "metadata": {},
   "outputs": [
    {
     "data": {
      "image/png": "[encoded data removed]",
      "text/plain": [
       "<Figure size 640x480 with 1 Axes>"
      ]
     },
     "metadata": {},
     "output_type": "display_data"
    }
   ],
   "source": [
    "sns.countplot(x='Pclass',hue = \"Survived\", data = train)\n",
    "plt.title('Przeżycie w zależnosci od klasy ')\n",
    "plt.show()"
   ]
  },
  {
   "cell_type": "code",
   "execution_count": 12,
   "id": "da99f1ef",
   "metadata": {},
   "outputs": [
    {
     "data": {
      "image/png": "[encoded data removed]",
      "text/plain": [
       "<Figure size 640x480 with 1 Axes>"
      ]
     },
     "metadata": {},
     "output_type": "display_data"
    }
   ],
   "source": [
    "sns.histplot(train['Age'].dropna(), bins= 50)\n",
    "plt.title('rozkład wieku pasażerów')\n",
    "plt.show()"
   ]
  },
  {
   "cell_type": "markdown",
   "id": "5e52dd53",
   "metadata": {},
   "source": [
    "### Wnioski z Wizualizacji danych\n",
    "\n",
    "- Wiecej osob zgineło niz przezyło\n",
    "- Klasa 3 jest najliczniejsza\n",
    "- Najlicznijszy przedział wieku na statku to około od 18 do 40 lat\n",
    "- Wiekszosc pasarzerów na statku nie ma rodzenstwa małżonków, rodziców ani dzieci \n",
    "- Kobiety w znacznej wiekszosci przeżyły katastrofe\n",
    "- Najwiecej ludzi zgineło z klasy 3"
   ]
  },
  {
   "cell_type": "markdown",
   "id": "f4ef3c57",
   "metadata": {},
   "source": [
    "### Oczyszczanie danych \n",
    "\n",
    "Wiekszosc algorytmów uczenia maszynowego nie moze działac jesli brakuje jakichs cech istnieja trzy mozliwosci:\n",
    "- pozbyc sie brakujących danych\n",
    "- pozbyc sie całego atrybutu\n",
    "- imputacja uzupełnic brakujace dane okreslona wartoscia (zero, srednia, mediana)\n",
    "\n",
    "Na podstawie wyciagnietych wniosków najbardziej racjonalnym rozwiazaniem bedzie:\n",
    "- kolumne Age uzupełnic brakujace wartosci mediana\n",
    "- kolumne Cabin usunąc z powodu duzej liczby brakujących wartości\n",
    "- kolumne Embarked uzupełnic najczesciej wystepująca wartoscią\n"
   ]
  },
  {
   "cell_type": "code",
   "execution_count": 13,
   "id": "2f113304",
   "metadata": {},
   "outputs": [],
   "source": [
    "#wypełniam puste miejsca w kolumnie Age mediana a w kolumnie Embarked najczesciej wystepowana wartoscia\n",
    "\n",
    "train['Age'] = train[\"Age\"].fillna(train['Age'].median())\n",
    "train['Embarked'] = train['Embarked'].fillna(train['Embarked'].mode()[0])\n",
    "\n",
    "test['Age'] = test[\"Age\"].fillna(test['Age'].median())\n",
    "test['Embarked'] = test['Embarked'].fillna(test['Embarked'].mode()[0])"
   ]
  },
  {
   "cell_type": "code",
   "execution_count": 14,
   "id": "64ba9078",
   "metadata": {},
   "outputs": [],
   "source": [
    "#usuniecie kolumny Cabin\n",
    "train.drop(['Cabin'],axis= 1, inplace = True)\n",
    "test.drop(['Cabin'],axis= 1, inplace = True)\n"
   ]
  },
  {
   "cell_type": "code",
   "execution_count": 15,
   "id": "adc373c5",
   "metadata": {},
   "outputs": [
    {
     "data": {
      "text/plain": [
       "PassengerId    0\n",
       "Survived       0\n",
       "Pclass         0\n",
       "Name           0\n",
       "Sex            0\n",
       "Age            0\n",
       "SibSp          0\n",
       "Parch          0\n",
       "Ticket         0\n",
       "Fare           0\n",
       "Embarked       0\n",
       "dtype: int64"
      ]
     },
     "execution_count": 15,
     "metadata": {},
     "output_type": "execute_result"
    }
   ],
   "source": [
    "train.isnull().sum()"
   ]
  },
  {
   "cell_type": "markdown",
   "id": "1f2cd8a9",
   "metadata": {},
   "source": [
    "### Zamiana wartosci kategorailnych na numeryczne\n",
    "Algorytmy uczenia maszynowego lepiej sobie radza z liczbami, wiec koniecznie musze przekształcic dane kategorialne z tekstu na wartosci numeryczne.\n"
   ]
  },
  {
   "cell_type": "code",
   "execution_count": 16,
   "id": "1203709e",
   "metadata": {},
   "outputs": [],
   "source": [
    "#train['Sex'] = train['Sex'].map(lambda x: 0 if x=='male'else 1)\n",
    "gender_mapping = {'male': 0, 'female': 1}\n",
    "train['Sex'] = train['Sex'].map(gender_mapping)\n",
    "test['Sex'] = test['Sex'].map(gender_mapping)"
   ]
  },
  {
   "cell_type": "code",
   "execution_count": 17,
   "id": "5078583b",
   "metadata": {},
   "outputs": [],
   "source": [
    "emb = {'S':0, 'C':1, 'Q':2}\n",
    "train['Embarked'] = train['Embarked'].map(emb)\n",
    "test['Embarked'] = test['Embarked'].map(emb)\n"
   ]
  },
  {
   "cell_type": "code",
   "execution_count": 18,
   "id": "cfb70ae8",
   "metadata": {},
   "outputs": [
    {
     "name": "stdout",
     "output_type": "stream",
     "text": [
      "<class 'pandas.core.frame.DataFrame'>\n",
      "RangeIndex: 891 entries, 0 to 890\n",
      "Data columns (total 11 columns):\n",
      " #   Column       Non-Null Count  Dtype  \n",
      "---  ------       --------------  -----  \n",
      " 0   PassengerId  891 non-null    int64  \n",
      " 1   Survived     891 non-null    int64  \n",
      " 2   Pclass       891 non-null    int64  \n",
      " 3   Name         891 non-null    object \n",
      " 4   Sex          891 non-null    int64  \n",
      " 5   Age          891 non-null    float64\n",
      " 6   SibSp        891 non-null    int64  \n",
      " 7   Parch        891 non-null    int64  \n",
      " 8   Ticket       891 non-null    object \n",
      " 9   Fare         891 non-null    float64\n",
      " 10  Embarked     891 non-null    int64  \n",
      "dtypes: float64(2), int64(7), object(2)\n",
      "memory usage: 76.7+ KB\n"
     ]
    }
   ],
   "source": [
    "train.info()"
   ]
  },
  {
   "cell_type": "raw",
   "id": "e4644864",
   "metadata": {},
   "source": []
  },
  {
   "cell_type": "markdown",
   "id": "582eca43",
   "metadata": {},
   "source": [
    "### Punkt odniesienia \n",
    "Zbuduje model który bedzie punktem odniesienia dla kolejnych kroków "
   ]
  },
  {
   "cell_type": "markdown",
   "id": "b7b5400f",
   "metadata": {},
   "source": [
    "Podzieliłem zbiór danych na zestaw treningowy i walidacyjny mimo ze jest osobny zestaw testowy ponieważ:\n",
    "- zbiór testowy nie zawiera kolumny docelowej Survived, oznacza to ze nie mozemy ocenic wydajnosci modelu na tym zbiorze\n",
    "Podział zbioru treningowego na treningowy i walidacyjny pozwoli na rzetelną ocene modeli oraz jego optymalizacje przed koncowym przewidywaniem na zbiorze testowym.\n",
    "\n",
    "Jest kilka metod podziału danych:\n",
    "- najprostrza metoda jest losowy podział danych treningowych na dwa zbioy w poroporcji 80 od 20\n",
    "- bardziej zaawansowaną metodą jest walidacja krzyzowa która polaga na podziale na k podzbiorów i iteracynym treningu i walidacji modelu, aby wykorzystac wszystkie dane efektywnie \n",
    "\n",
    "Walidacja krzyżowa jest lepsza metoda walidacji modelu niz prosty podział danych na zestaw treningowy i walidacyjny, zwłaszcza gdy dysponujemy ograniczoną iloscia danych. Ocena modelu opiera sie na sredniej wyników z kilku iteracji, jest mniej podatna na przypadkowe wahania wynikajace z pojedynczego podziału danych"
   ]
  },
  {
   "cell_type": "markdown",
   "id": "8f5489d5",
   "metadata": {},
   "source": [
    "Usune cechy takie Name, Ticket poniewaz sa one niewłasciwymi typami dla algorytmów uczenia maszynowego\n",
    "\n"
   ]
  },
  {
   "cell_type": "code",
   "execution_count": 19,
   "id": "44d18262",
   "metadata": {},
   "outputs": [],
   "source": [
    "from sklearn.model_selection import cross_val_score \n",
    "\n",
    "from sklearn.dummy import DummyClassifier\n",
    "from sklearn.tree import DecisionTreeClassifier\n",
    "from sklearn.ensemble import RandomForestClassifier \n",
    "\n",
    "X = train.drop(['Survived','Name','Ticket'], axis =1)\n",
    "y = train['Survived']\n"
   ]
  },
  {
   "cell_type": "code",
   "execution_count": 20,
   "id": "7cb1a908",
   "metadata": {},
   "outputs": [
    {
     "data": {
      "text/plain": [
       "0.510662177328844"
      ]
     },
     "execution_count": 20,
     "metadata": {},
     "output_type": "execute_result"
    }
   ],
   "source": [
    "cross_val_score(DummyClassifier(strategy='stratified',random_state= 42),X,y, scoring ='accuracy', cv=3).mean()"
   ]
  },
  {
   "cell_type": "markdown",
   "id": "dfb34c94",
   "metadata": {},
   "source": [
    "DummyClassifier to bardzo prosty klasyfikator któy słuzy jako punkt odniesienia. "
   ]
  },
  {
   "cell_type": "code",
   "execution_count": 21,
   "id": "ed965d34",
   "metadata": {},
   "outputs": [
    {
     "data": {
      "text/plain": [
       "0.7654320987654321"
      ]
     },
     "execution_count": 21,
     "metadata": {},
     "output_type": "execute_result"
    }
   ],
   "source": [
    "cross_val_score(DecisionTreeClassifier(max_depth=3, random_state=2019), X, y, scoring='accuracy', cv=3).mean()"
   ]
  },
  {
   "cell_type": "code",
   "execution_count": 22,
   "id": "94137571",
   "metadata": {},
   "outputs": [
    {
     "data": {
      "text/plain": [
       "0.8148148148148149"
      ]
     },
     "execution_count": 22,
     "metadata": {},
     "output_type": "execute_result"
    }
   ],
   "source": [
    "cross_val_score(RandomForestClassifier(max_depth=3, n_estimators=100, random_state=2019), X, y, scoring='accuracy', cv=3).mean()"
   ]
  },
  {
   "cell_type": "markdown",
   "id": "308e49eb",
   "metadata": {},
   "source": [
    "Inna mozliwoscia jest walidacja danych za pomoca StratifiedKFold. Uzywany jest gdy rozkład klas w danych jest nierónomierny, zachowuje proporcje klas w kazdym foldzie. "
   ]
  },
  {
   "cell_type": "code",
   "execution_count": 23,
   "id": "6cb1372e",
   "metadata": {},
   "outputs": [
    {
     "data": {
      "text/plain": [
       "0.5240965973003374"
      ]
     },
     "execution_count": 23,
     "metadata": {},
     "output_type": "execute_result"
    }
   ],
   "source": [
    "from sklearn.model_selection import StratifiedKFold\n",
    "\n",
    "skf = StratifiedKFold(n_splits=7, shuffle = True, random_state=42)\n",
    "\n",
    "cross_val_score(DummyClassifier(strategy='stratified',random_state= 42),X,y, cv=skf).mean()\n"
   ]
  },
  {
   "cell_type": "code",
   "execution_count": 24,
   "id": "927a79eb",
   "metadata": {},
   "outputs": [
    {
     "data": {
      "text/plain": [
       "0.8192843082114737"
      ]
     },
     "execution_count": 24,
     "metadata": {},
     "output_type": "execute_result"
    }
   ],
   "source": [
    "cross_val_score(DecisionTreeClassifier(max_depth=3, random_state=42), X, y, scoring='accuracy', cv=skf).mean()"
   ]
  },
  {
   "cell_type": "code",
   "execution_count": 25,
   "id": "775f744e",
   "metadata": {},
   "outputs": [
    {
     "data": {
      "text/plain": [
       "0.8271231721034872"
      ]
     },
     "execution_count": 25,
     "metadata": {},
     "output_type": "execute_result"
    }
   ],
   "source": [
    "cross_val_score(RandomForestClassifier(max_depth=3, n_estimators=100, random_state=42), X, y, scoring='accuracy', cv=skf).mean()"
   ]
  },
  {
   "cell_type": "code",
   "execution_count": 26,
   "id": "579e087d",
   "metadata": {},
   "outputs": [],
   "source": [
    "#from scikitplot.estimators import plot_learning_curve\n",
    "\n",
    "#plot_learning_curve(RandomForestClassifier(max_depth=3, n_estimators=100, random_state=42), X, y, scoring='accuracy', cv=skf);"
   ]
  },
  {
   "cell_type": "markdown",
   "id": "60244628",
   "metadata": {},
   "source": [
    "Wykres przedstawia krzywą uczenia sie dla modelu RandomForestClassifier.\n",
    "Mozemy zobaczyc jak model radzi sobie na zbiorze treningowym i walidacyjnym w zależnosci od liczby przykładów treningowych.\n",
    "- czerwona linia przedstawia wynik modelu na zbiorze treningowym\n",
    "- zielona linia przedstawia wynik modelu na zbiorze walidacyjnym uzyskany poprzez walidacje krzyzową\n",
    "- obszary zaciennione przedstawiaja odchyylenia standarodwe dla obu krzywych\n",
    "\n",
    "#### Interpretacja wyniku\n",
    "Wynik na zbiorze treningowym (czerowona linia)\n",
    "- Poczatkowo przy mniejszych zbiorach treningowych (100-200 przykładów), model osiaga bardzo wysoką skutecznosc na zbiorze treningowym (ok. 0,88). Lecz w miare zwiekszenia liczby przykładów treningowych, wynik na zbiorze treningowym spada (ok. 0,83) ale stabilizuje sie przy wiekszych rozmiarach zestawu danych (od ok 400 przykładów). Ten spadek wynika z tego że przy wiekszych zestawach danych model musi dopasowywac bardziej zróżnicowane przypadki.\n",
    "Wyniki na zbiorze walidacyjnym \n",
    "- Wynik walidacyjny zaczyna od wartości około 0.78 i stopniowo rośnie do około 0.82, co pokazuje, że model poprawia swoją zdolność, gdy liczba przykładów treningowych wzrasta. Krzywa ta rośnie powoli i stabilnie, co sugeruje, że model potrzebuje więcej danych. Warto zauważyć, że wyniki walidacyjne są mniej stabilne (większe odchylenie standardowe), co jest widoczne na zacieniowanym obszarze wokół zielonej linii."
   ]
  },
  {
   "cell_type": "markdown",
   "id": "8b70b380",
   "metadata": {},
   "source": [
    "Poprzez zastosowanie StratifiedKFold podniosła sie poprawnosc modelu."
   ]
  },
  {
   "cell_type": "markdown",
   "id": "e1f86911",
   "metadata": {},
   "source": [
    "### Tworzenie nowych cech \n"
   ]
  },
  {
   "cell_type": "markdown",
   "id": "5ca7f548-e5e0-42f0-82ee-eef41b7c5bd7",
   "metadata": {},
   "source": [
    "Wyciagniemy tytuł z imienia i uzyjemy ich jako cechy "
   ]
  },
  {
   "cell_type": "code",
   "execution_count": 27,
   "id": "ccae9e34",
   "metadata": {},
   "outputs": [
    {
     "data": {
      "text/plain": [
       "title\n",
       "Mr              517\n",
       "Miss            182\n",
       "Mrs             125\n",
       "Master           40\n",
       "Dr                7\n",
       "Rev               6\n",
       "Mlle              2\n",
       "Major             2\n",
       "Col               2\n",
       "the Countess      1\n",
       "Capt              1\n",
       "Ms                1\n",
       "Sir               1\n",
       "Lady              1\n",
       "Mme               1\n",
       "Don               1\n",
       "Jonkheer          1\n",
       "Name: count, dtype: int64"
      ]
     },
     "execution_count": 27,
     "metadata": {},
     "output_type": "execute_result"
    }
   ],
   "source": [
    "train['title'] = train['Name'].map(lambda x: x.split(',')[1].split('.')[0].strip())\n",
    "train['title'].value_counts()"
   ]
  },
  {
   "cell_type": "code",
   "execution_count": 28,
   "id": "157e831b",
   "metadata": {},
   "outputs": [
    {
     "data": {
      "text/plain": [
       "title_norm\n",
       "Mr        517\n",
       "Miss      182\n",
       "Mrs       125\n",
       "Master     40\n",
       "other      14\n",
       "Dr          7\n",
       "Rev         6\n",
       "Name: count, dtype: int64"
      ]
     },
     "execution_count": 28,
     "metadata": {},
     "output_type": "execute_result"
    }
   ],
   "source": [
    "from collections import defaultdict\n",
    "\n",
    "\n",
    "top_titles = list(train['title'].value_counts().head(6).keys()) # tworz liste tytułów pasażerów która zlicza wystapienia,\n",
    "# wybiera pierwsze 6 i zwraca tytuły(klucze) \n",
    "\n",
    "title_norm = defaultdict(lambda: 'other', dict(zip(top_titles, top_titles))) #funkcja łaczy 2 listy poprzez zip i tworzy słownik z (klucz, wartosc)\n",
    "# tworzy słownik który zwroci domyslna wartośc other dla kluczy które nie istnieja \n",
    "\n",
    "train['title_norm'] = train['title'].map(title_norm)\n",
    "train['title_norm'].value_counts()"
   ]
  },
  {
   "cell_type": "code",
   "execution_count": 29,
   "id": "42edd627",
   "metadata": {},
   "outputs": [],
   "source": [
    "train['title_norm'] = train['title_norm'].factorize()[0] #konwertuje dane na liczby "
   ]
  },
  {
   "cell_type": "code",
   "execution_count": 30,
   "id": "8268f411",
   "metadata": {},
   "outputs": [
    {
     "data": {
      "text/plain": [
       "title_norm\n",
       "0    517\n",
       "2    182\n",
       "1    125\n",
       "3     40\n",
       "4     14\n",
       "6      7\n",
       "5      6\n",
       "Name: count, dtype: int64"
      ]
     },
     "execution_count": 30,
     "metadata": {},
     "output_type": "execute_result"
    }
   ],
   "source": [
    "train['title_norm'].value_counts()"
   ]
  },
  {
   "cell_type": "markdown",
   "id": "533c9934",
   "metadata": {},
   "source": []
  },
  {
   "cell_type": "code",
   "execution_count": 31,
   "id": "a3d08e51-83ae-48cb-9310-aa007a3e286e",
   "metadata": {},
   "outputs": [
    {
     "data": {
      "text/plain": [
       "title_norm\n",
       "Mr        240\n",
       "Miss       78\n",
       "Mrs        72\n",
       "Master     21\n",
       "other       3\n",
       "Col         2\n",
       "Rev         2\n",
       "Name: count, dtype: int64"
      ]
     },
     "execution_count": 31,
     "metadata": {},
     "output_type": "execute_result"
    }
   ],
   "source": [
    "test['title'] = test['Name'].map(lambda x: x.split(',')[1].split('.')[0].strip())\n",
    "\n",
    "top_titles = list(test['title'].value_counts().head(6).keys())\n",
    "\n",
    "title_norm = defaultdict(lambda: 'other', dict(zip(top_titles, top_titles))) \n",
    "test['title_norm'] = test['title'].map(title_norm)\n",
    "test['title_norm'].value_counts()"
   ]
  },
  {
   "cell_type": "code",
   "execution_count": 32,
   "id": "bea32354-a481-46b7-b06f-d27cf0940b22",
   "metadata": {},
   "outputs": [],
   "source": [
    "train['age_mean_title'] = train.groupby('title_norm')['Age'].mean()"
   ]
  },
  {
   "cell_type": "code",
   "execution_count": null,
   "id": "58883430-de74-4a73-a670-7a10555b6101",
   "metadata": {},
   "outputs": [],
   "source": []
  },
  {
   "cell_type": "markdown",
   "id": "cb30a249-ec2b-49fa-a8ae-7a979594c755",
   "metadata": {},
   "source": [
    "Stworze zmnienną która sumuje wartosci z kolumn SibSp i Parch "
   ]
  },
  {
   "cell_type": "code",
   "execution_count": 33,
   "id": "5d0c5234-cad7-4f4c-9332-1883e1e4fc4a",
   "metadata": {},
   "outputs": [
    {
     "data": {
      "text/html": [
       "<div>\n",
       "<style scoped>\n",
       "    .dataframe tbody tr th:only-of-type {\n",
       "        vertical-align: middle;\n",
       "    }\n",
       "\n",
       "    .dataframe tbody tr th {\n",
       "        vertical-align: top;\n",
       "    }\n",
       "\n",
       "    .dataframe thead th {\n",
       "        text-align: right;\n",
       "    }\n",
       "</style>\n",
       "<table border=\"1\" class=\"dataframe\">\n",
       "  <thead>\n",
       "    <tr style=\"text-align: right;\">\n",
       "      <th></th>\n",
       "      <th>Parch</th>\n",
       "      <th>SibSp</th>\n",
       "      <th>FamilySize</th>\n",
       "      <th>single</th>\n",
       "      <th>Age</th>\n",
       "      <th>child</th>\n",
       "      <th>adult</th>\n",
       "    </tr>\n",
       "  </thead>\n",
       "  <tbody>\n",
       "    <tr>\n",
       "      <th>0</th>\n",
       "      <td>0</td>\n",
       "      <td>1</td>\n",
       "      <td>2</td>\n",
       "      <td>False</td>\n",
       "      <td>22.0</td>\n",
       "      <td>False</td>\n",
       "      <td>True</td>\n",
       "    </tr>\n",
       "    <tr>\n",
       "      <th>1</th>\n",
       "      <td>0</td>\n",
       "      <td>1</td>\n",
       "      <td>2</td>\n",
       "      <td>False</td>\n",
       "      <td>38.0</td>\n",
       "      <td>False</td>\n",
       "      <td>True</td>\n",
       "    </tr>\n",
       "    <tr>\n",
       "      <th>2</th>\n",
       "      <td>0</td>\n",
       "      <td>0</td>\n",
       "      <td>1</td>\n",
       "      <td>True</td>\n",
       "      <td>26.0</td>\n",
       "      <td>False</td>\n",
       "      <td>True</td>\n",
       "    </tr>\n",
       "    <tr>\n",
       "      <th>3</th>\n",
       "      <td>0</td>\n",
       "      <td>1</td>\n",
       "      <td>2</td>\n",
       "      <td>False</td>\n",
       "      <td>35.0</td>\n",
       "      <td>False</td>\n",
       "      <td>True</td>\n",
       "    </tr>\n",
       "    <tr>\n",
       "      <th>4</th>\n",
       "      <td>0</td>\n",
       "      <td>0</td>\n",
       "      <td>1</td>\n",
       "      <td>True</td>\n",
       "      <td>35.0</td>\n",
       "      <td>False</td>\n",
       "      <td>True</td>\n",
       "    </tr>\n",
       "    <tr>\n",
       "      <th>...</th>\n",
       "      <td>...</td>\n",
       "      <td>...</td>\n",
       "      <td>...</td>\n",
       "      <td>...</td>\n",
       "      <td>...</td>\n",
       "      <td>...</td>\n",
       "      <td>...</td>\n",
       "    </tr>\n",
       "    <tr>\n",
       "      <th>886</th>\n",
       "      <td>0</td>\n",
       "      <td>0</td>\n",
       "      <td>1</td>\n",
       "      <td>True</td>\n",
       "      <td>27.0</td>\n",
       "      <td>False</td>\n",
       "      <td>True</td>\n",
       "    </tr>\n",
       "    <tr>\n",
       "      <th>887</th>\n",
       "      <td>0</td>\n",
       "      <td>0</td>\n",
       "      <td>1</td>\n",
       "      <td>True</td>\n",
       "      <td>19.0</td>\n",
       "      <td>False</td>\n",
       "      <td>True</td>\n",
       "    </tr>\n",
       "    <tr>\n",
       "      <th>888</th>\n",
       "      <td>2</td>\n",
       "      <td>1</td>\n",
       "      <td>4</td>\n",
       "      <td>False</td>\n",
       "      <td>28.0</td>\n",
       "      <td>False</td>\n",
       "      <td>True</td>\n",
       "    </tr>\n",
       "    <tr>\n",
       "      <th>889</th>\n",
       "      <td>0</td>\n",
       "      <td>0</td>\n",
       "      <td>1</td>\n",
       "      <td>True</td>\n",
       "      <td>26.0</td>\n",
       "      <td>False</td>\n",
       "      <td>True</td>\n",
       "    </tr>\n",
       "    <tr>\n",
       "      <th>890</th>\n",
       "      <td>0</td>\n",
       "      <td>0</td>\n",
       "      <td>1</td>\n",
       "      <td>True</td>\n",
       "      <td>32.0</td>\n",
       "      <td>False</td>\n",
       "      <td>True</td>\n",
       "    </tr>\n",
       "  </tbody>\n",
       "</table>\n",
       "<p>891 rows × 7 columns</p>\n",
       "</div>"
      ],
      "text/plain": [
       "     Parch  SibSp  FamilySize  single   Age  child  adult\n",
       "0        0      1           2   False  22.0  False   True\n",
       "1        0      1           2   False  38.0  False   True\n",
       "2        0      0           1    True  26.0  False   True\n",
       "3        0      1           2   False  35.0  False   True\n",
       "4        0      0           1    True  35.0  False   True\n",
       "..     ...    ...         ...     ...   ...    ...    ...\n",
       "886      0      0           1    True  27.0  False   True\n",
       "887      0      0           1    True  19.0  False   True\n",
       "888      2      1           4   False  28.0  False   True\n",
       "889      0      0           1    True  26.0  False   True\n",
       "890      0      0           1    True  32.0  False   True\n",
       "\n",
       "[891 rows x 7 columns]"
      ]
     },
     "execution_count": 33,
     "metadata": {},
     "output_type": "execute_result"
    }
   ],
   "source": [
    "train['FamilySize'] = train['SibSp'] + train['Parch'] +1\n",
    "train['single'] = train['FamilySize'] == 1\n",
    "train['child'] = train['Age']<18\n",
    "train['adult'] = train['Age'] >= 18\n",
    "\n",
    "\n",
    "train[['Parch','SibSp','FamilySize','single','Age','child','adult']]"
   ]
  },
  {
   "cell_type": "code",
   "execution_count": 34,
   "id": "d7253aa1-3d2b-49a0-a86d-1eb866c2e017",
   "metadata": {},
   "outputs": [
    {
     "data": {
      "text/plain": [
       "is_mom\n",
       "False    747\n",
       "True     144\n",
       "Name: count, dtype: int64"
      ]
     },
     "execution_count": 34,
     "metadata": {},
     "output_type": "execute_result"
    }
   ],
   "source": [
    "def mom(row):\n",
    "    if row['Sex'] == 0 :return False\n",
    "    if row['Age'] < 18 :return False\n",
    "    if row['FamilySize'] == 1 :return False\n",
    "    if row['title'] == 2 : return False\n",
    "    return True\n",
    "\n",
    "train['is_mom'] = train.apply(mom, axis =1)\n",
    "train['is_mom'].value_counts()"
   ]
  },
  {
   "cell_type": "code",
   "execution_count": 35,
   "id": "ee529981-253a-46a2-87c4-ac626efaf7dd",
   "metadata": {},
   "outputs": [],
   "source": [
    "from sklearn.preprocessing import LabelEncoder\n",
    "le = LabelEncoder()\n",
    "\n",
    "column = ['single','child','adult','title']\n",
    "for col in column:\n",
    "    train[col] = le.fit_transform(train[col])"
   ]
  },
  {
   "cell_type": "code",
   "execution_count": 36,
   "id": "fab75e7e-8d81-46c5-bfdc-10652fb28d3c",
   "metadata": {},
   "outputs": [
    {
     "name": "stdout",
     "output_type": "stream",
     "text": [
      "<class 'pandas.core.frame.DataFrame'>\n",
      "RangeIndex: 891 entries, 0 to 890\n",
      "Data columns (total 19 columns):\n",
      " #   Column          Non-Null Count  Dtype  \n",
      "---  ------          --------------  -----  \n",
      " 0   PassengerId     891 non-null    int64  \n",
      " 1   Survived        891 non-null    int64  \n",
      " 2   Pclass          891 non-null    int64  \n",
      " 3   Name            891 non-null    object \n",
      " 4   Sex             891 non-null    int64  \n",
      " 5   Age             891 non-null    float64\n",
      " 6   SibSp           891 non-null    int64  \n",
      " 7   Parch           891 non-null    int64  \n",
      " 8   Ticket          891 non-null    object \n",
      " 9   Fare            891 non-null    float64\n",
      " 10  Embarked        891 non-null    int64  \n",
      " 11  title           891 non-null    int32  \n",
      " 12  title_norm      891 non-null    int64  \n",
      " 13  age_mean_title  7 non-null      float64\n",
      " 14  FamilySize      891 non-null    int64  \n",
      " 15  single          891 non-null    int64  \n",
      " 16  child           891 non-null    int64  \n",
      " 17  adult           891 non-null    int64  \n",
      " 18  is_mom          891 non-null    bool   \n",
      "dtypes: bool(1), float64(3), int32(1), int64(12), object(2)\n",
      "memory usage: 122.8+ KB\n"
     ]
    }
   ],
   "source": [
    "train.info()"
   ]
  },
  {
   "cell_type": "code",
   "execution_count": 37,
   "id": "0e2d29b6",
   "metadata": {},
   "outputs": [],
   "source": [
    "X = train.drop(['Survived','Name','Ticket','age_mean_title'], axis =1)\n",
    "y = train['Survived']\n"
   ]
  },
  {
   "cell_type": "code",
   "execution_count": 38,
   "id": "0804022b",
   "metadata": {},
   "outputs": [
    {
     "data": {
      "text/plain": [
       "0.809203142536476"
      ]
     },
     "execution_count": 38,
     "metadata": {},
     "output_type": "execute_result"
    }
   ],
   "source": [
    "cross_val_score(DecisionTreeClassifier(max_depth=3, random_state=42), X, y, scoring='accuracy', cv=3).mean()"
   ]
  },
  {
   "cell_type": "code",
   "execution_count": 39,
   "id": "3811f555",
   "metadata": {},
   "outputs": [
    {
     "data": {
      "text/plain": [
       "0.8215488215488215"
      ]
     },
     "execution_count": 39,
     "metadata": {},
     "output_type": "execute_result"
    }
   ],
   "source": [
    "cross_val_score(RandomForestClassifier(max_depth=3, n_estimators=100, random_state=42), X, y, scoring='accuracy', cv=3).mean()"
   ]
  },
  {
   "cell_type": "code",
   "execution_count": 40,
   "id": "e5542b0c",
   "metadata": {},
   "outputs": [],
   "source": [
    "#from scikitplot.estimators import plot_learning_curve\n",
    "\n",
    "#plot_learning_curve(DecisionTreeClassifier(max_depth=4, random_state=42), X, y, cv=3);"
   ]
  },
  {
   "cell_type": "markdown",
   "id": "6b3eff6d-9b5d-42ec-94d8-9ab5a2bd56f1",
   "metadata": {},
   "source": [
    "Moje zabiegi tworzenia cech nie przyniosły zadnych skutków.\n",
    "Zamierzam sprawdzic ważnosci cech, usune nieistotne cechy \n",
    "\n",
    "postanowiłem ocenic waznosci cech na podstawie tego jak bardzo dana cecha przyczynia sie do zmniejszenia entropii "
   ]
  },
  {
   "cell_type": "code",
   "execution_count": 41,
   "id": "83cbd5c1",
   "metadata": {},
   "outputs": [
    {
     "name": "stdout",
     "output_type": "stream",
     "text": [
      "        Feature  Importance\n",
      "6          Fare    0.178305\n",
      "0   PassengerId    0.168824\n",
      "3           Age    0.132440\n",
      "2           Sex    0.117998\n",
      "9    title_norm    0.115769\n",
      "1        Pclass    0.066697\n",
      "8         title    0.064181\n",
      "10   FamilySize    0.043626\n",
      "4         SibSp    0.027201\n",
      "7      Embarked    0.026826\n",
      "14       is_mom    0.023670\n",
      "5         Parch    0.017155\n",
      "11       single    0.006583\n",
      "12        child    0.005862\n",
      "13        adult    0.004863\n"
     ]
    }
   ],
   "source": [
    "model  = RandomForestClassifier(n_estimators= 100, random_state= 42)\n",
    "model.fit(X,y)\n",
    "\n",
    "importances = model.feature_importances_\n",
    "\n",
    "feature_importances = pd.DataFrame({     'Feature': X.columns,\n",
    "    'Importance': importances})\n",
    "\n",
    "feature_importances.sort_values(by='Importance', ascending=False, inplace=True)\n",
    "\n",
    "print(feature_importances)"
   ]
  },
  {
   "cell_type": "code",
   "execution_count": 42,
   "id": "b7f87740-aebf-4a69-87fc-c518334d7960",
   "metadata": {},
   "outputs": [
    {
     "data": {
      "image/png": "[encoded data removed]",
      "text/plain": [
       "<Figure size 1000x600 with 1 Axes>"
      ]
     },
     "metadata": {},
     "output_type": "display_data"
    }
   ],
   "source": [
    "plt.figure(figsize=(10, 6))\n",
    "plt.barh(feature_importances['Feature'], feature_importances['Importance'])\n",
    "plt.xlabel('Ważność')\n",
    "plt.ylabel('Cecha')\n",
    "plt.title('Ważność cech w Random Forest')\n",
    "plt.gca().invert_yaxis()\n",
    "plt.show()"
   ]
  },
  {
   "cell_type": "markdown",
   "id": "dcb03f99-55d6-4734-9c0c-fd54fd6b1eea",
   "metadata": {},
   "source": [
    "Zastosowanie XGBClassifier \n",
    "- XGBoost opiera sie na algorytmie gradient boostingu kóry polega na łaczeniu wileu słabych modeli (zwykle drzew decyzyjnych w celu stworzenia silnego modelu predykcyjnego. Na poczatku tworzy proste przewidywanie (model bazowy) takie jak średnia wartosc. W każdej kolejnej iteracji obliczane sa błedy (reszty) poprzedniego modelu a nowe przewidywania sa suma poprzednich przewidywan i przewidywan nowego modelu, skalowane przez współczyninnik uczenia. prosec jest powtarzany przez okreslana liczbe iteracji.\n"
   ]
  },
  {
   "cell_type": "code",
   "execution_count": 43,
   "id": "6639547e-7254-499c-8831-1c47d91312d3",
   "metadata": {},
   "outputs": [
    {
     "data": {
      "text/plain": [
       "0.7463524130190797"
      ]
     },
     "execution_count": 43,
     "metadata": {},
     "output_type": "execute_result"
    }
   ],
   "source": [
    "import xgboost as xgb\n",
    "\n",
    "\n",
    "xgb_model = xgb.XGBClassifier(\n",
    "    random_state=42,\n",
    "    n_estimators=500,\n",
    "    learning_rate=0.01\n",
    ")\n",
    "cross_val_score(xgb_model, X, y, scoring='accuracy', cv=3).mean()\n"
   ]
  },
  {
   "cell_type": "markdown",
   "id": "b9f9655e-dd3e-418a-bbf2-c371e08fda8c",
   "metadata": {},
   "source": [
    "Dostroje HiperParametry za pomoca RandomizedSearchCV"
   ]
  },
  {
   "cell_type": "code",
   "execution_count": 44,
   "id": "06e08a6a-6805-4c28-a5cc-772993a0b51e",
   "metadata": {},
   "outputs": [
    {
     "name": "stdout",
     "output_type": "stream",
     "text": [
      "Najlepsze parametry: {'subsample': 1.0, 'reg_lambda': 1, 'reg_alpha': 0, 'n_estimators': 500, 'min_child_weight': 5, 'max_depth': 7, 'learning_rate': 0.01, 'colsample_bytree': 1.0}\n",
      "Najlepsza dokładność: 0.838390559286925\n"
     ]
    }
   ],
   "source": [
    "from sklearn.model_selection import RandomizedSearchCV\n",
    "\n",
    "param_grid = {\n",
    "    'n_estimators': [100, 500, 1000],\n",
    "    'learning_rate': [0.01, 0.05, 0.1],\n",
    "    'max_depth': [3, 5, 7],\n",
    "    'min_child_weight': [1, 3, 5],\n",
    "    'subsample': [0.6, 0.8, 1.0],\n",
    "    'colsample_bytree': [0.6, 0.8, 1.0],\n",
    "    'reg_alpha': [0, 0.01, 0.1],\n",
    "    'reg_lambda': [1, 1.5, 2]\n",
    "}\n",
    "\n",
    "xgb_model = xgb.XGBClassifier(random_state=42)\n",
    "\n",
    "random_search = RandomizedSearchCV(\n",
    "    estimator=xgb_model,\n",
    "    param_distributions=param_grid,\n",
    "    n_iter=50,\n",
    "    scoring='accuracy',\n",
    "    cv=5,\n",
    "    random_state=42,\n",
    "    n_jobs=-1\n",
    ")\n",
    "\n",
    "random_search.fit(X, y)\n",
    "\n",
    "print(\"Najlepsze parametry:\", random_search.best_params_)\n",
    "print(\"Najlepsza dokładność:\", random_search.best_score_)\n"
   ]
  },
  {
   "cell_type": "markdown",
   "id": "a3568351-4d40-4a66-8484-3b37cb6cfb56",
   "metadata": {},
   "source": [
    "Dokładność modelu to : 0.838390559286925\n",
    "Po tych zabiegach jest to najleszy wynik dokładnosci jaki otrzymałem "
   ]
  },
  {
   "cell_type": "markdown",
   "id": "aadb3d39-efec-4063-9f6e-0b5aa8929471",
   "metadata": {},
   "source": [
    "## Wnioski \n",
    "\n"
   ]
  },
  {
   "cell_type": "code",
   "execution_count": null,
   "id": "23253ca4-76a6-45e0-9bac-5140fdea4044",
   "metadata": {},
   "outputs": [],
   "source": []
  }
 ],
 "metadata": {
  "kernelspec": {
   "display_name": "Python 3 (ipykernel)",
   "language": "python",
   "name": "python3"
  },
  "language_info": {
   "codemirror_mode": {
    "name": "ipython",
    "version": 3
   },
   "file_extension": ".py",
   "mimetype": "text/x-python",
   "name": "python",
   "nbconvert_exporter": "python",
   "pygments_lexer": "ipython3",
   "version": "3.12.4"
  }
 },
 "nbformat": 4,
 "nbformat_minor": 5
}
