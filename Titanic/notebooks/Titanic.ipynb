{
 "cells": [
  {
   "cell_type": "markdown",
   "id": "73ef04b3",
   "metadata": {},
   "source": [
    "# Titanic "
   ]
  },
  {
   "cell_type": "markdown",
   "id": "a30d7c06",
   "metadata": {},
   "source": [
    "### Przeanalizowanie zadania"
   ]
  },
  {
   "cell_type": "markdown",
   "id": "7e0de9bb",
   "metadata": {},
   "source": [
    "Mam zamiar wyuczyc model, który przewidzi czy pasażer Titanica przeżyje.\n",
    "\n",
    "Mamy tu do czynienia z klasycznym zadaniem uczenia nadzorowanego, poniewaz wykorzystujemy dane wejściowe z oznakowanymi etykietami zeby nauczyc model przewidywac wynik\n",
    "Klasycznym przykładem uczenia nazdzorowanego jest klasyfikacja binarna która przewiduje jedną z dwóch klas (0 i 1). W tym przypadku przewidujemy wartość kategoryczną (dyskretną). Zmienna docelowa Survived przyjmuje dwie wartości 0( nie przeżył) lub 1 (przeżył)"
   ]
  },
  {
   "cell_type": "code",
   "execution_count": 40,
   "id": "c525307f",
   "metadata": {},
   "outputs": [],
   "source": [
    "import pandas as pd\n",
    "import numpy as np\n",
    "import matplotlib.pyplot as plt\n",
    "import seaborn as sns\n",
    "\n",
    "\n",
    "\n",
    "%matplotlib inline"
   ]
  },
  {
   "cell_type": "markdown",
   "id": "aacc9305",
   "metadata": {},
   "source": [
    "#### Wczytywanie danych"
   ]
  },
  {
   "cell_type": "code",
   "execution_count": 41,
   "id": "557cab11",
   "metadata": {},
   "outputs": [
    {
     "name": "stdout",
     "output_type": "stream",
     "text": [
      "(891, 12)\n",
      "(418, 11)\n"
     ]
    }
   ],
   "source": [
    "train  = pd.read_csv('https://raw.githubusercontent.com/marti0001/M_Olszewski-projects-portfolio/refs/heads/master/Titanic/input/train.csv')\n",
    "test = pd.read_csv('https://raw.githubusercontent.com/marti0001/M_Olszewski-projects-portfolio/refs/heads/master/Titanic/input/test.csv')\n",
    "print(train.shape)\n",
    "print(test.shape)"
   ]
  },
  {
   "cell_type": "markdown",
   "id": "db59daa1",
   "metadata": {},
   "source": [
    "#### Analiza danych Treningowych \n",
    "Przeprowadze analize danych w celu zrozumienia struktury danych"
   ]
  },
  {
   "cell_type": "code",
   "execution_count": 42,
   "id": "c3294bf3",
   "metadata": {},
   "outputs": [
    {
     "name": "stdout",
     "output_type": "stream",
     "text": [
      "<class 'pandas.core.frame.DataFrame'>\n",
      "RangeIndex: 891 entries, 0 to 890\n",
      "Data columns (total 12 columns):\n",
      " #   Column       Non-Null Count  Dtype  \n",
      "---  ------       --------------  -----  \n",
      " 0   PassengerId  891 non-null    int64  \n",
      " 1   Survived     891 non-null    int64  \n",
      " 2   Pclass       891 non-null    int64  \n",
      " 3   Name         891 non-null    object \n",
      " 4   Sex          891 non-null    object \n",
      " 5   Age          714 non-null    float64\n",
      " 6   SibSp        891 non-null    int64  \n",
      " 7   Parch        891 non-null    int64  \n",
      " 8   Ticket       891 non-null    object \n",
      " 9   Fare         891 non-null    float64\n",
      " 10  Cabin        204 non-null    object \n",
      " 11  Embarked     889 non-null    object \n",
      "dtypes: float64(2), int64(5), object(5)\n",
      "memory usage: 83.7+ KB\n"
     ]
    }
   ],
   "source": [
    "train.info()"
   ]
  },
  {
   "cell_type": "code",
   "execution_count": 43,
   "id": "a61d0cee",
   "metadata": {},
   "outputs": [
    {
     "data": {
      "text/html": [
       "<div>\n",
       "<style scoped>\n",
       "    .dataframe tbody tr th:only-of-type {\n",
       "        vertical-align: middle;\n",
       "    }\n",
       "\n",
       "    .dataframe tbody tr th {\n",
       "        vertical-align: top;\n",
       "    }\n",
       "\n",
       "    .dataframe thead th {\n",
       "        text-align: right;\n",
       "    }\n",
       "</style>\n",
       "<table border=\"1\" class=\"dataframe\">\n",
       "  <thead>\n",
       "    <tr style=\"text-align: right;\">\n",
       "      <th></th>\n",
       "      <th>PassengerId</th>\n",
       "      <th>Survived</th>\n",
       "      <th>Pclass</th>\n",
       "      <th>Age</th>\n",
       "      <th>SibSp</th>\n",
       "      <th>Parch</th>\n",
       "      <th>Fare</th>\n",
       "    </tr>\n",
       "  </thead>\n",
       "  <tbody>\n",
       "    <tr>\n",
       "      <th>count</th>\n",
       "      <td>891.000000</td>\n",
       "      <td>891.000000</td>\n",
       "      <td>891.000000</td>\n",
       "      <td>714.000000</td>\n",
       "      <td>891.000000</td>\n",
       "      <td>891.000000</td>\n",
       "      <td>891.000000</td>\n",
       "    </tr>\n",
       "    <tr>\n",
       "      <th>mean</th>\n",
       "      <td>446.000000</td>\n",
       "      <td>0.383838</td>\n",
       "      <td>2.308642</td>\n",
       "      <td>29.699118</td>\n",
       "      <td>0.523008</td>\n",
       "      <td>0.381594</td>\n",
       "      <td>32.204208</td>\n",
       "    </tr>\n",
       "    <tr>\n",
       "      <th>std</th>\n",
       "      <td>257.353842</td>\n",
       "      <td>0.486592</td>\n",
       "      <td>0.836071</td>\n",
       "      <td>14.526497</td>\n",
       "      <td>1.102743</td>\n",
       "      <td>0.806057</td>\n",
       "      <td>49.693429</td>\n",
       "    </tr>\n",
       "    <tr>\n",
       "      <th>min</th>\n",
       "      <td>1.000000</td>\n",
       "      <td>0.000000</td>\n",
       "      <td>1.000000</td>\n",
       "      <td>0.420000</td>\n",
       "      <td>0.000000</td>\n",
       "      <td>0.000000</td>\n",
       "      <td>0.000000</td>\n",
       "    </tr>\n",
       "    <tr>\n",
       "      <th>25%</th>\n",
       "      <td>223.500000</td>\n",
       "      <td>0.000000</td>\n",
       "      <td>2.000000</td>\n",
       "      <td>20.125000</td>\n",
       "      <td>0.000000</td>\n",
       "      <td>0.000000</td>\n",
       "      <td>7.910400</td>\n",
       "    </tr>\n",
       "    <tr>\n",
       "      <th>50%</th>\n",
       "      <td>446.000000</td>\n",
       "      <td>0.000000</td>\n",
       "      <td>3.000000</td>\n",
       "      <td>28.000000</td>\n",
       "      <td>0.000000</td>\n",
       "      <td>0.000000</td>\n",
       "      <td>14.454200</td>\n",
       "    </tr>\n",
       "    <tr>\n",
       "      <th>75%</th>\n",
       "      <td>668.500000</td>\n",
       "      <td>1.000000</td>\n",
       "      <td>3.000000</td>\n",
       "      <td>38.000000</td>\n",
       "      <td>1.000000</td>\n",
       "      <td>0.000000</td>\n",
       "      <td>31.000000</td>\n",
       "    </tr>\n",
       "    <tr>\n",
       "      <th>max</th>\n",
       "      <td>891.000000</td>\n",
       "      <td>1.000000</td>\n",
       "      <td>3.000000</td>\n",
       "      <td>80.000000</td>\n",
       "      <td>8.000000</td>\n",
       "      <td>6.000000</td>\n",
       "      <td>512.329200</td>\n",
       "    </tr>\n",
       "  </tbody>\n",
       "</table>\n",
       "</div>"
      ],
      "text/plain": [
       "       PassengerId    Survived      Pclass         Age       SibSp  \\\n",
       "count   891.000000  891.000000  891.000000  714.000000  891.000000   \n",
       "mean    446.000000    0.383838    2.308642   29.699118    0.523008   \n",
       "std     257.353842    0.486592    0.836071   14.526497    1.102743   \n",
       "min       1.000000    0.000000    1.000000    0.420000    0.000000   \n",
       "25%     223.500000    0.000000    2.000000   20.125000    0.000000   \n",
       "50%     446.000000    0.000000    3.000000   28.000000    0.000000   \n",
       "75%     668.500000    1.000000    3.000000   38.000000    1.000000   \n",
       "max     891.000000    1.000000    3.000000   80.000000    8.000000   \n",
       "\n",
       "            Parch        Fare  \n",
       "count  891.000000  891.000000  \n",
       "mean     0.381594   32.204208  \n",
       "std      0.806057   49.693429  \n",
       "min      0.000000    0.000000  \n",
       "25%      0.000000    7.910400  \n",
       "50%      0.000000   14.454200  \n",
       "75%      0.000000   31.000000  \n",
       "max      6.000000  512.329200  "
      ]
     },
     "execution_count": 43,
     "metadata": {},
     "output_type": "execute_result"
    }
   ],
   "source": [
    "train.describe()"
   ]
  },
  {
   "cell_type": "code",
   "execution_count": 44,
   "id": "e3626917",
   "metadata": {},
   "outputs": [
    {
     "data": {
      "text/html": [
       "<div>\n",
       "<style scoped>\n",
       "    .dataframe tbody tr th:only-of-type {\n",
       "        vertical-align: middle;\n",
       "    }\n",
       "\n",
       "    .dataframe tbody tr th {\n",
       "        vertical-align: top;\n",
       "    }\n",
       "\n",
       "    .dataframe thead th {\n",
       "        text-align: right;\n",
       "    }\n",
       "</style>\n",
       "<table border=\"1\" class=\"dataframe\">\n",
       "  <thead>\n",
       "    <tr style=\"text-align: right;\">\n",
       "      <th></th>\n",
       "      <th>PassengerId</th>\n",
       "      <th>Survived</th>\n",
       "      <th>Pclass</th>\n",
       "      <th>Name</th>\n",
       "      <th>Sex</th>\n",
       "      <th>Age</th>\n",
       "      <th>SibSp</th>\n",
       "      <th>Parch</th>\n",
       "      <th>Ticket</th>\n",
       "      <th>Fare</th>\n",
       "      <th>Cabin</th>\n",
       "      <th>Embarked</th>\n",
       "    </tr>\n",
       "  </thead>\n",
       "  <tbody>\n",
       "    <tr>\n",
       "      <th>216</th>\n",
       "      <td>217</td>\n",
       "      <td>1</td>\n",
       "      <td>3</td>\n",
       "      <td>Honkanen, Miss. Eliina</td>\n",
       "      <td>female</td>\n",
       "      <td>27.0</td>\n",
       "      <td>0</td>\n",
       "      <td>0</td>\n",
       "      <td>STON/O2. 3101283</td>\n",
       "      <td>7.9250</td>\n",
       "      <td>NaN</td>\n",
       "      <td>S</td>\n",
       "    </tr>\n",
       "    <tr>\n",
       "      <th>445</th>\n",
       "      <td>446</td>\n",
       "      <td>1</td>\n",
       "      <td>1</td>\n",
       "      <td>Dodge, Master. Washington</td>\n",
       "      <td>male</td>\n",
       "      <td>4.0</td>\n",
       "      <td>0</td>\n",
       "      <td>2</td>\n",
       "      <td>33638</td>\n",
       "      <td>81.8583</td>\n",
       "      <td>A34</td>\n",
       "      <td>S</td>\n",
       "    </tr>\n",
       "    <tr>\n",
       "      <th>275</th>\n",
       "      <td>276</td>\n",
       "      <td>1</td>\n",
       "      <td>1</td>\n",
       "      <td>Andrews, Miss. Kornelia Theodosia</td>\n",
       "      <td>female</td>\n",
       "      <td>63.0</td>\n",
       "      <td>1</td>\n",
       "      <td>0</td>\n",
       "      <td>13502</td>\n",
       "      <td>77.9583</td>\n",
       "      <td>D7</td>\n",
       "      <td>S</td>\n",
       "    </tr>\n",
       "    <tr>\n",
       "      <th>533</th>\n",
       "      <td>534</td>\n",
       "      <td>1</td>\n",
       "      <td>3</td>\n",
       "      <td>Peter, Mrs. Catherine (Catherine Rizk)</td>\n",
       "      <td>female</td>\n",
       "      <td>NaN</td>\n",
       "      <td>0</td>\n",
       "      <td>2</td>\n",
       "      <td>2668</td>\n",
       "      <td>22.3583</td>\n",
       "      <td>NaN</td>\n",
       "      <td>C</td>\n",
       "    </tr>\n",
       "    <tr>\n",
       "      <th>782</th>\n",
       "      <td>783</td>\n",
       "      <td>0</td>\n",
       "      <td>1</td>\n",
       "      <td>Long, Mr. Milton Clyde</td>\n",
       "      <td>male</td>\n",
       "      <td>29.0</td>\n",
       "      <td>0</td>\n",
       "      <td>0</td>\n",
       "      <td>113501</td>\n",
       "      <td>30.0000</td>\n",
       "      <td>D6</td>\n",
       "      <td>S</td>\n",
       "    </tr>\n",
       "  </tbody>\n",
       "</table>\n",
       "</div>"
      ],
      "text/plain": [
       "     PassengerId  Survived  Pclass                                    Name  \\\n",
       "216          217         1       3                  Honkanen, Miss. Eliina   \n",
       "445          446         1       1               Dodge, Master. Washington   \n",
       "275          276         1       1       Andrews, Miss. Kornelia Theodosia   \n",
       "533          534         1       3  Peter, Mrs. Catherine (Catherine Rizk)   \n",
       "782          783         0       1                  Long, Mr. Milton Clyde   \n",
       "\n",
       "        Sex   Age  SibSp  Parch            Ticket     Fare Cabin Embarked  \n",
       "216  female  27.0      0      0  STON/O2. 3101283   7.9250   NaN        S  \n",
       "445    male   4.0      0      2             33638  81.8583   A34        S  \n",
       "275  female  63.0      1      0             13502  77.9583    D7        S  \n",
       "533  female   NaN      0      2              2668  22.3583   NaN        C  \n",
       "782    male  29.0      0      0            113501  30.0000    D6        S  "
      ]
     },
     "execution_count": 44,
     "metadata": {},
     "output_type": "execute_result"
    }
   ],
   "source": [
    "train.sample(5)"
   ]
  },
  {
   "cell_type": "code",
   "execution_count": 45,
   "id": "c899e60d",
   "metadata": {},
   "outputs": [
    {
     "data": {
      "text/plain": [
       "PassengerId      0\n",
       "Survived         0\n",
       "Pclass           0\n",
       "Name             0\n",
       "Sex              0\n",
       "Age            177\n",
       "SibSp            0\n",
       "Parch            0\n",
       "Ticket           0\n",
       "Fare             0\n",
       "Cabin          687\n",
       "Embarked         2\n",
       "dtype: int64"
      ]
     },
     "execution_count": 45,
     "metadata": {},
     "output_type": "execute_result"
    }
   ],
   "source": [
    "train.isnull().sum()"
   ]
  },
  {
   "cell_type": "markdown",
   "id": "d2d30a7b",
   "metadata": {},
   "source": [
    "### Wnioski z Analizy\n",
    "\n",
    "W zbiorze treningowym mamy 891 wierszy i 12 cech\n",
    "\n",
    "W zbiorze testowym mamy 418 wierszy i 11 cech (zostala usunieta wartosc docelowa)\n",
    "\n",
    "Typy danych które znajduja sie w zbiorze treningowym to:\n",
    "- 2 cechy z liczbami zmiennoprzecinkowymi\n",
    "- 5 cech z liczbami naturalnymi \n",
    "- 5 cech z typem object, co oznacza ze mozna tu przechowywac dowolny obiekt, które po sprawdzeniu kilku losowych wartosci sa to zmienne tekstowe\n",
    "\n",
    "W kolumnach Age, Cabin i Embarked brakuje wartości \n",
    "\n",
    "Po przyjrzeniu sie zbiorowi danychwartosci w kolumnie Sex,Pclass,Embarked,Survived,SibSp są powtarzalne to oznacza ze mamy do czynienia z atrybutami kategorialnymi."
   ]
  },
  {
   "cell_type": "markdown",
   "id": "f11f4c46",
   "metadata": {},
   "source": [
    "### Analiza Danych Testowych"
   ]
  },
  {
   "cell_type": "code",
   "execution_count": 46,
   "id": "d3ce2771",
   "metadata": {},
   "outputs": [
    {
     "name": "stdout",
     "output_type": "stream",
     "text": [
      "<class 'pandas.core.frame.DataFrame'>\n",
      "RangeIndex: 418 entries, 0 to 417\n",
      "Data columns (total 11 columns):\n",
      " #   Column       Non-Null Count  Dtype  \n",
      "---  ------       --------------  -----  \n",
      " 0   PassengerId  418 non-null    int64  \n",
      " 1   Pclass       418 non-null    int64  \n",
      " 2   Name         418 non-null    object \n",
      " 3   Sex          418 non-null    object \n",
      " 4   Age          332 non-null    float64\n",
      " 5   SibSp        418 non-null    int64  \n",
      " 6   Parch        418 non-null    int64  \n",
      " 7   Ticket       418 non-null    object \n",
      " 8   Fare         417 non-null    float64\n",
      " 9   Cabin        91 non-null     object \n",
      " 10  Embarked     418 non-null    object \n",
      "dtypes: float64(2), int64(4), object(5)\n",
      "memory usage: 36.1+ KB\n"
     ]
    }
   ],
   "source": [
    "test.info()"
   ]
  },
  {
   "cell_type": "code",
   "execution_count": 47,
   "id": "19097499",
   "metadata": {},
   "outputs": [
    {
     "data": {
      "text/plain": [
       "PassengerId      0\n",
       "Pclass           0\n",
       "Name             0\n",
       "Sex              0\n",
       "Age             86\n",
       "SibSp            0\n",
       "Parch            0\n",
       "Ticket           0\n",
       "Fare             1\n",
       "Cabin          327\n",
       "Embarked         0\n",
       "dtype: int64"
      ]
     },
     "execution_count": 47,
     "metadata": {},
     "output_type": "execute_result"
    }
   ],
   "source": [
    "test.isnull().sum()"
   ]
  },
  {
   "cell_type": "code",
   "execution_count": null,
   "id": "f9a778cc",
   "metadata": {},
   "outputs": [],
   "source": []
  },
  {
   "cell_type": "markdown",
   "id": "e83eacf7",
   "metadata": {},
   "source": [
    "### Wizualizacja danych"
   ]
  },
  {
   "cell_type": "code",
   "execution_count": 48,
   "id": "38cbf453",
   "metadata": {},
   "outputs": [
    {
     "data": {
      "image/png": "[encoded data removed]",
      "text/plain": [
       "<Figure size 1200x800 with 9 Axes>"
      ]
     },
     "metadata": {},
     "output_type": "display_data"
    }
   ],
   "source": [
    "#histogramy przedstawiaja liczbe przykładów (w pionowej osi ) znajdujacych sie w okreslonym przedziale wartosci (os pozioma)\n",
    "\n",
    "train.hist(bins = 50, figsize = (12,8))\n",
    "plt.show()"
   ]
  },
  {
   "cell_type": "code",
   "execution_count": 49,
   "id": "1b80f436",
   "metadata": {},
   "outputs": [
    {
     "data": {
      "image/png": "[encoded data removed]",
      "text/plain": [
       "<Figure size 640x480 with 1 Axes>"
      ]
     },
     "metadata": {},
     "output_type": "display_data"
    }
   ],
   "source": [
    "sns.countplot(x='Sex',hue ='Survived', data = train)\n",
    "plt.title('Przeżycie w zależnosci od płci')\n",
    "plt.show()"
   ]
  },
  {
   "cell_type": "code",
   "execution_count": 50,
   "id": "6a06bc83",
   "metadata": {},
   "outputs": [
    {
     "data": {
      "image/png": "[encoded data removed]",
      "text/plain": [
       "<Figure size 640x480 with 1 Axes>"
      ]
     },
     "metadata": {},
     "output_type": "display_data"
    }
   ],
   "source": [
    "sns.countplot(x='Pclass',hue = \"Survived\", data = train)\n",
    "plt.title('Przeżycie w zależnosci od klasy ')\n",
    "plt.show()"
   ]
  },
  {
   "cell_type": "code",
   "execution_count": 51,
   "id": "da99f1ef",
   "metadata": {},
   "outputs": [
    {
     "data": {
      "image/png": "[encoded data removed]",
      "text/plain": [
       "<Figure size 640x480 with 1 Axes>"
      ]
     },
     "metadata": {},
     "output_type": "display_data"
    }
   ],
   "source": [
    "sns.histplot(train['Age'].dropna(), bins= 50)\n",
    "plt.title('rozkład wieku pasażerów')\n",
    "plt.show()"
   ]
  },
  {
   "cell_type": "markdown",
   "id": "5e52dd53",
   "metadata": {},
   "source": [
    "### Wnioski z Wizualizacji danych\n",
    "\n",
    "- Wiecej osob zgineło niz przezyło\n",
    "- Klasa 3 jest najliczniejsza\n",
    "- Najlicznijszy przedział wieku na statku to około od 18 do 40 lat\n",
    "- Wiekszosc pasarzerów na statku nie ma rodzenstwa małżonków, rodziców ani dzieci \n",
    "- Kobiety w znacznej wiekszosci przeżyły katastrofe\n",
    "- Najwiecej ludzi zgineło z klasy 3"
   ]
  },
  {
   "cell_type": "markdown",
   "id": "f4ef3c57",
   "metadata": {},
   "source": [
    "### Oczyszczanie danych \n",
    "\n",
    "Wiekszosc algorytmów uczenia maszynowego nie moze działac jesli brakuje jakichs cech istnieja trzy mozliwosci:\n",
    "- pozbyc sie brakujących danych\n",
    "- pozbyc sie całego atrybutu\n",
    "- imputacja uzupełnic brakujace dane okreslona wartoscia (zero, srednia, mediana)\n",
    "\n",
    "Na podstawie wyciagnietych wniosków najbardziej racjonalnym rozwiazaniem bedzie:\n",
    "- kolumne Age uzupełnic brakujace wartosci mediana\n",
    "- kolumne Cabin usunąc z powodu duzej liczby brakujących wartości\n",
    "- kolumne Embarked uzupełnic najczesciej wystepująca wartoscią\n"
   ]
  },
  {
   "cell_type": "code",
   "execution_count": 52,
   "id": "2f113304",
   "metadata": {},
   "outputs": [],
   "source": [
    "#wypełniam puste miejsca w kolumnie Age mediana a w kolumnie Embarked najczesciej wystepowana wartoscia\n",
    "\n",
    "train['Age'] = train[\"Age\"].fillna(train['Age'].median())\n",
    "train['Embarked'] = train['Embarked'].fillna(train['Embarked'].mode()[0])\n",
    "\n",
    "test['Age'] = test[\"Age\"].fillna(test['Age'].median())\n",
    "test['Embarked'] = test['Embarked'].fillna(test['Embarked'].mode()[0])"
   ]
  },
  {
   "cell_type": "code",
   "execution_count": 53,
   "id": "64ba9078",
   "metadata": {},
   "outputs": [],
   "source": [
    "#usuniecie kolumny Cabin\n",
    "train.drop(['Cabin'],axis= 1, inplace = True)\n",
    "test.drop(['Cabin'],axis= 1, inplace = True)\n"
   ]
  },
  {
   "cell_type": "code",
   "execution_count": 54,
   "id": "adc373c5",
   "metadata": {},
   "outputs": [
    {
     "data": {
      "text/plain": [
       "PassengerId    0\n",
       "Survived       0\n",
       "Pclass         0\n",
       "Name           0\n",
       "Sex            0\n",
       "Age            0\n",
       "SibSp          0\n",
       "Parch          0\n",
       "Ticket         0\n",
       "Fare           0\n",
       "Embarked       0\n",
       "dtype: int64"
      ]
     },
     "execution_count": 54,
     "metadata": {},
     "output_type": "execute_result"
    }
   ],
   "source": [
    "train.isnull().sum()"
   ]
  },
  {
   "cell_type": "markdown",
   "id": "1f2cd8a9",
   "metadata": {},
   "source": [
    "### Zamiana wartosci kategorailnych na numeryczne\n",
    "Algorytmy uczenia maszynowego lepiej sobie radza z liczbami, wiec koniecznie musze przekształcic dane kategorialne z tekstu na wartosci numeryczne.\n"
   ]
  },
  {
   "cell_type": "code",
   "execution_count": 55,
   "id": "1203709e",
   "metadata": {},
   "outputs": [],
   "source": [
    "#train['Sex'] = train['Sex'].map(lambda x: 0 if x=='male'else 1)\n",
    "gender_mapping = {'male': 0, 'female': 1}\n",
    "train['Sex'] = train['Sex'].map(gender_mapping)\n",
    "test['Sex'] = test['Sex'].map(gender_mapping)"
   ]
  },
  {
   "cell_type": "code",
   "execution_count": 56,
   "id": "5078583b",
   "metadata": {},
   "outputs": [],
   "source": [
    "emb = {'S':0, 'C':1, 'Q':2}\n",
    "train['Embarked'] = train['Embarked'].map(emb)\n",
    "test['Embarked'] = test['Embarked'].map(emb)\n"
   ]
  },
  {
   "cell_type": "code",
   "execution_count": 57,
   "id": "cfb70ae8",
   "metadata": {},
   "outputs": [
    {
     "name": "stdout",
     "output_type": "stream",
     "text": [
      "<class 'pandas.core.frame.DataFrame'>\n",
      "RangeIndex: 891 entries, 0 to 890\n",
      "Data columns (total 11 columns):\n",
      " #   Column       Non-Null Count  Dtype  \n",
      "---  ------       --------------  -----  \n",
      " 0   PassengerId  891 non-null    int64  \n",
      " 1   Survived     891 non-null    int64  \n",
      " 2   Pclass       891 non-null    int64  \n",
      " 3   Name         891 non-null    object \n",
      " 4   Sex          891 non-null    int64  \n",
      " 5   Age          891 non-null    float64\n",
      " 6   SibSp        891 non-null    int64  \n",
      " 7   Parch        891 non-null    int64  \n",
      " 8   Ticket       891 non-null    object \n",
      " 9   Fare         891 non-null    float64\n",
      " 10  Embarked     891 non-null    int64  \n",
      "dtypes: float64(2), int64(7), object(2)\n",
      "memory usage: 76.7+ KB\n"
     ]
    }
   ],
   "source": [
    "train.info()"
   ]
  },
  {
   "cell_type": "raw",
   "id": "e4644864",
   "metadata": {},
   "source": []
  },
  {
   "cell_type": "markdown",
   "id": "582eca43",
   "metadata": {},
   "source": [
    "### Punkt odniesienia \n",
    "Zbuduje model który bedzie punktem odniesienia dla kolejnych kroków "
   ]
  },
  {
   "cell_type": "markdown",
   "id": "b7b5400f",
   "metadata": {},
   "source": [
    "Podzieliłem zbiór danych na zestaw treningowy i walidacyjny mimo ze jest osobny zestaw testowy ponieważ:\n",
    "- zbiór testowy nie zawiera kolumny docelowej Survived, oznacza to ze nie mozemy ocenic wydajnosci modelu na tym zbiorze\n",
    "Podział zbioru treningowego na treningowy i walidacyjny pozwoli na rzetelną ocene modeli oraz jego optymalizacje przed koncowym przewidywaniem na zbiorze testowym.\n",
    "\n",
    "Jest kilka metod podziału danych:\n",
    "- najprostrza metoda jest losowy podział danych treningowych na dwa zbioy w poroporcji 80 od 20\n",
    "- bardziej zaawansowaną metodą jest walidacja krzyzowa która polaga na podziale na k podzbiorów i iteracynym treningu i walidacji modelu, aby wykorzystac wszystkie dane efektywnie \n",
    "\n",
    "Walidacja krzyżowa jest lepsza metoda walidacji modelu niz prosty podział danych na zestaw treningowy i walidacyjny, zwłaszcza gdy dysponujemy ograniczoną iloscia danych. Ocena modelu opiera sie na sredniej wyników z kilku iteracji, jest mniej podatna na przypadkowe wahania wynikajace z pojedynczego podziału danych"
   ]
  },
  {
   "cell_type": "markdown",
   "id": "8f5489d5",
   "metadata": {},
   "source": [
    "Usune cechy takie Name, Ticket poniewaz sa one niewłasciwymi typami dla algorytmów uczenia maszynowego\n",
    "\n"
   ]
  },
  {
   "cell_type": "code",
   "execution_count": 58,
   "id": "44d18262",
   "metadata": {},
   "outputs": [],
   "source": [
    "from sklearn.model_selection import cross_val_score \n",
    "\n",
    "from sklearn.dummy import DummyClassifier\n",
    "from sklearn.tree import DecisionTreeClassifier\n",
    "from sklearn.ensemble import RandomForestClassifier \n",
    "\n",
    "X = train.drop(['Survived','Name','Ticket'], axis =1)\n",
    "y = train['Survived']\n"
   ]
  },
  {
   "cell_type": "code",
   "execution_count": 59,
   "id": "7cb1a908",
   "metadata": {},
   "outputs": [
    {
     "data": {
      "text/plain": [
       "0.510662177328844"
      ]
     },
     "execution_count": 59,
     "metadata": {},
     "output_type": "execute_result"
    }
   ],
   "source": [
    "cross_val_score(DummyClassifier(strategy='stratified',random_state= 42),X,y, scoring ='accuracy', cv=3).mean()"
   ]
  },
  {
   "cell_type": "markdown",
   "id": "dfb34c94",
   "metadata": {},
   "source": [
    "DummyClassifier to bardzo prosty klasyfikator któy słuzy jako punkt odniesienia. "
   ]
  },
  {
   "cell_type": "code",
   "execution_count": 60,
   "id": "ed965d34",
   "metadata": {},
   "outputs": [
    {
     "data": {
      "text/plain": [
       "0.7654320987654321"
      ]
     },
     "execution_count": 60,
     "metadata": {},
     "output_type": "execute_result"
    }
   ],
   "source": [
    "cross_val_score(DecisionTreeClassifier(max_depth=3, random_state=2019), X, y, scoring='accuracy', cv=3).mean()"
   ]
  },
  {
   "cell_type": "code",
   "execution_count": 61,
   "id": "94137571",
   "metadata": {},
   "outputs": [
    {
     "data": {
      "text/plain": [
       "0.8148148148148149"
      ]
     },
     "execution_count": 61,
     "metadata": {},
     "output_type": "execute_result"
    }
   ],
   "source": [
    "cross_val_score(RandomForestClassifier(max_depth=3, n_estimators=100, random_state=2019), X, y, scoring='accuracy', cv=3).mean()"
   ]
  },
  {
   "cell_type": "markdown",
   "id": "308e49eb",
   "metadata": {},
   "source": [
    "Inna mozliwoscia jest walidacja danych za pomoca StratifiedKFold. Uzywany jest gdy rozkład klas w danych jest nierónomierny, zachowuje proporcje klas w kazdym foldzie. "
   ]
  },
  {
   "cell_type": "code",
   "execution_count": 62,
   "id": "6cb1372e",
   "metadata": {},
   "outputs": [
    {
     "data": {
      "text/plain": [
       "0.5240965973003374"
      ]
     },
     "execution_count": 62,
     "metadata": {},
     "output_type": "execute_result"
    }
   ],
   "source": [
    "from sklearn.model_selection import StratifiedKFold\n",
    "\n",
    "skf = StratifiedKFold(n_splits=7, shuffle = True, random_state=42)\n",
    "\n",
    "cross_val_score(DummyClassifier(strategy='stratified',random_state= 42),X,y, cv=skf).mean()\n"
   ]
  },
  {
   "cell_type": "code",
   "execution_count": 63,
   "id": "927a79eb",
   "metadata": {},
   "outputs": [
    {
     "data": {
      "text/plain": [
       "0.8192843082114737"
      ]
     },
     "execution_count": 63,
     "metadata": {},
     "output_type": "execute_result"
    }
   ],
   "source": [
    "cross_val_score(DecisionTreeClassifier(max_depth=3, random_state=42), X, y, scoring='accuracy', cv=skf).mean()"
   ]
  },
  {
   "cell_type": "code",
   "execution_count": 64,
   "id": "775f744e",
   "metadata": {},
   "outputs": [
    {
     "data": {
      "text/plain": [
       "0.8271231721034872"
      ]
     },
     "execution_count": 64,
     "metadata": {},
     "output_type": "execute_result"
    }
   ],
   "source": [
    "cross_val_score(RandomForestClassifier(max_depth=3, n_estimators=100, random_state=42), X, y, scoring='accuracy', cv=skf).mean()"
   ]
  },
  {
   "cell_type": "code",
   "execution_count": 65,
   "id": "579e087d",
   "metadata": {},
   "outputs": [
    {
     "ename": "NameError",
     "evalue": "name 'plot_learning_curve' is not defined",
     "output_type": "error",
     "traceback": [
      "\u001b[1;31m---------------------------------------------------------------------------\u001b[0m",
      "\u001b[1;31mNameError\u001b[0m                                 Traceback (most recent call last)",
      "Cell \u001b[1;32mIn[65], line 1\u001b[0m\n\u001b[1;32m----> 1\u001b[0m plot_learning_curve(RandomForestClassifier(max_depth\u001b[38;5;241m=\u001b[39m\u001b[38;5;241m3\u001b[39m, n_estimators\u001b[38;5;241m=\u001b[39m\u001b[38;5;241m100\u001b[39m, random_state\u001b[38;5;241m=\u001b[39m\u001b[38;5;241m42\u001b[39m), X, y, scoring\u001b[38;5;241m=\u001b[39m\u001b[38;5;124m'\u001b[39m\u001b[38;5;124maccuracy\u001b[39m\u001b[38;5;124m'\u001b[39m, cv\u001b[38;5;241m=\u001b[39mskf)\n",
      "\u001b[1;31mNameError\u001b[0m: name 'plot_learning_curve' is not defined"
     ]
    }
   ],
   "source": [
    "plot_learning_curve(RandomForestClassifier(max_depth=3, n_estimators=100, random_state=42), X, y, scoring='accuracy', cv=skf);"
   ]
  },
  {
   "cell_type": "markdown",
   "id": "60244628",
   "metadata": {},
   "source": [
    "Wykres przedstawia krzywą uczenia sie dla modelu RandomForestClassifier.\n",
    "Mozemy zobaczyc jak model radzi sobie na zbiorze treningowym i walidacyjnym w zależnosci od liczby przykładów treningowych.\n",
    "- czerwona linia przedstawia wynik modelu na zbiorze treningowym\n",
    "- zielona linia przedstawia wynik modelu na zbiorze walidacyjnym uzyskany poprzez walidacje krzyzową\n",
    "- obszary zaciennione przedstawiaja odchyylenia standarodwe dla obu krzywych\n",
    "\n",
    "#### Interpretacja wyniku\n",
    "Wynik na zbiorze treningowym (czerowona linia)\n",
    "- Poczatkowo przy mniejszych zbiorach treningowych (100-200 przykładów), model osiaga bardzo wysoką skutecznosc na zbiorze treningowym (ok. 0,88). Lecz w miare zwiekszenia liczby przykładów treningowych, wynik na zbiorze treningowym spada (ok. 0,83) ale stabilizuje sie przy wiekszych rozmiarach zestawu danych (od ok 400 przykładów). Ten spadek wynika z tego że przy wiekszych zestawach danych model musi dopasowywac bardziej zróżnicowane przypadki.\n",
    "Wyniki na zbiorze walidacyjnym \n",
    "- Wynik walidacyjny zaczyna od wartości około 0.78 i stopniowo rośnie do około 0.82, co pokazuje, że model poprawia swoją zdolność, gdy liczba przykładów treningowych wzrasta. Krzywa ta rośnie powoli i stabilnie, co sugeruje, że model potrzebuje więcej danych. Warto zauważyć, że wyniki walidacyjne są mniej stabilne (większe odchylenie standardowe), co jest widoczne na zacieniowanym obszarze wokół zielonej linii."
   ]
  },
  {
   "cell_type": "markdown",
   "id": "8b70b380",
   "metadata": {},
   "source": [
    "Poprzez zastosowanie StratifiedKFold podniosła sie poprawnosc modelu."
   ]
  },
  {
   "cell_type": "markdown",
   "id": "e1f86911",
   "metadata": {},
   "source": [
    "### Tworzenie nowych cech \n"
   ]
  },
  {
   "cell_type": "markdown",
   "id": "5ca7f548-e5e0-42f0-82ee-eef41b7c5bd7",
   "metadata": {},
   "source": [
    "Wyciagniemy tytuł z imienia i uzyjemy ich jako cechy "
   ]
  },
  {
   "cell_type": "code",
   "execution_count": 66,
   "id": "ccae9e34",
   "metadata": {},
   "outputs": [
    {
     "data": {
      "text/plain": [
       "title\n",
       "Mr              517\n",
       "Miss            182\n",
       "Mrs             125\n",
       "Master           40\n",
       "Dr                7\n",
       "Rev               6\n",
       "Mlle              2\n",
       "Major             2\n",
       "Col               2\n",
       "the Countess      1\n",
       "Capt              1\n",
       "Ms                1\n",
       "Sir               1\n",
       "Lady              1\n",
       "Mme               1\n",
       "Don               1\n",
       "Jonkheer          1\n",
       "Name: count, dtype: int64"
      ]
     },
     "execution_count": 66,
     "metadata": {},
     "output_type": "execute_result"
    }
   ],
   "source": [
    "train['title'] = train['Name'].map(lambda x: x.split(',')[1].split('.')[0].strip())\n",
    "train['title'].value_counts()"
   ]
  },
  {
   "cell_type": "code",
   "execution_count": 67,
   "id": "157e831b",
   "metadata": {},
   "outputs": [
    {
     "data": {
      "text/plain": [
       "title_norm\n",
       "Mr        517\n",
       "Miss      182\n",
       "Mrs       125\n",
       "Master     40\n",
       "other      14\n",
       "Dr          7\n",
       "Rev         6\n",
       "Name: count, dtype: int64"
      ]
     },
     "execution_count": 67,
     "metadata": {},
     "output_type": "execute_result"
    }
   ],
   "source": [
    "from collections import defaultdict\n",
    "\n",
    "\n",
    "top_titles = list(train['title'].value_counts().head(6).keys()) # tworz liste tytułów pasażerów która zlicza wystapienia,\n",
    "# wybiera pierwsze 6 i zwraca tytuły(klucze) \n",
    "\n",
    "title_norm = defaultdict(lambda: 'other', dict(zip(top_titles, top_titles))) #funkcja łaczy 2 listy poprzez zip i tworzy słownik z (klucz, wartosc)\n",
    "# tworzy słownik który zwroci domyslna wartośc other dla kluczy które nie istnieja \n",
    "\n",
    "train['title_norm'] = train['title'].map(title_norm)\n",
    "train['title_norm'].value_counts()"
   ]
  },
  {
   "cell_type": "markdown",
   "id": "533c9934",
   "metadata": {},
   "source": []
  },
  {
   "cell_type": "code",
   "execution_count": 68,
   "id": "42edd627",
   "metadata": {},
   "outputs": [],
   "source": [
    "train['title_norm'] = train['title_norm'].factorize()[0] #konwertuje dane na liczby "
   ]
  },
  {
   "cell_type": "code",
   "execution_count": 69,
   "id": "8268f411",
   "metadata": {},
   "outputs": [
    {
     "data": {
      "text/plain": [
       "title_norm\n",
       "0    517\n",
       "2    182\n",
       "1    125\n",
       "3     40\n",
       "4     14\n",
       "6      7\n",
       "5      6\n",
       "Name: count, dtype: int64"
      ]
     },
     "execution_count": 69,
     "metadata": {},
     "output_type": "execute_result"
    }
   ],
   "source": [
    "train['title_norm'].value_counts()"
   ]
  },
  {
   "cell_type": "code",
   "execution_count": null,
   "id": "a3d08e51-83ae-48cb-9310-aa007a3e286e",
   "metadata": {},
   "outputs": [],
   "source": [
    "top_titles = list(test['title'].value_counts().head(6).keys())\n",
    "title_norm = defaultdict(lambda: 'other', dict(zip(top_titles, top_titles))) \n",
    "test['title_norm'] = test['title'].map(title_norm)\n",
    "test['title_norm'].value_counts()"
   ]
  },
  {
   "cell_type": "code",
   "execution_count": 90,
   "id": "bea32354-a481-46b7-b06f-d27cf0940b22",
   "metadata": {},
   "outputs": [],
   "source": [
    "train['age_mean_title'] = train.groupby('title_norm')['Age'].mean()"
   ]
  },
  {
   "cell_type": "code",
   "execution_count": 89,
   "id": "29eaf628-5c5f-41ae-a9f9-bb3b2331454e",
   "metadata": {},
   "outputs": [
    {
     "data": {
      "text/plain": [
       "title_norm\n",
       "0    31.362669\n",
       "1    34.824000\n",
       "2    23.005495\n",
       "3     6.916750\n",
       "4    42.214286\n",
       "5    43.166667\n",
       "6    40.000000\n",
       "Name: Age, dtype: float64"
      ]
     },
     "execution_count": 89,
     "metadata": {},
     "output_type": "execute_result"
    }
   ],
   "source": [
    "dict_mean"
   ]
  },
  {
   "cell_type": "code",
   "execution_count": null,
   "id": "58883430-de74-4a73-a670-7a10555b6101",
   "metadata": {},
   "outputs": [],
   "source": []
  },
  {
   "cell_type": "markdown",
   "id": "cb30a249-ec2b-49fa-a8ae-7a979594c755",
   "metadata": {},
   "source": [
    "Stworze zmnienną która sumuje wartosci z kolumn SibSp i Parch "
   ]
  },
  {
   "cell_type": "code",
   "execution_count": 103,
   "id": "5d0c5234-cad7-4f4c-9332-1883e1e4fc4a",
   "metadata": {},
   "outputs": [
    {
     "data": {
      "text/html": [
       "<div>\n",
       "<style scoped>\n",
       "    .dataframe tbody tr th:only-of-type {\n",
       "        vertical-align: middle;\n",
       "    }\n",
       "\n",
       "    .dataframe tbody tr th {\n",
       "        vertical-align: top;\n",
       "    }\n",
       "\n",
       "    .dataframe thead th {\n",
       "        text-align: right;\n",
       "    }\n",
       "</style>\n",
       "<table border=\"1\" class=\"dataframe\">\n",
       "  <thead>\n",
       "    <tr style=\"text-align: right;\">\n",
       "      <th></th>\n",
       "      <th>Parch</th>\n",
       "      <th>SibSp</th>\n",
       "      <th>FamilySize</th>\n",
       "      <th>single</th>\n",
       "      <th>Age</th>\n",
       "      <th>child</th>\n",
       "      <th>adult</th>\n",
       "    </tr>\n",
       "  </thead>\n",
       "  <tbody>\n",
       "    <tr>\n",
       "      <th>0</th>\n",
       "      <td>0</td>\n",
       "      <td>1</td>\n",
       "      <td>2</td>\n",
       "      <td>False</td>\n",
       "      <td>22.0</td>\n",
       "      <td>False</td>\n",
       "      <td>True</td>\n",
       "    </tr>\n",
       "    <tr>\n",
       "      <th>1</th>\n",
       "      <td>0</td>\n",
       "      <td>1</td>\n",
       "      <td>2</td>\n",
       "      <td>False</td>\n",
       "      <td>38.0</td>\n",
       "      <td>False</td>\n",
       "      <td>True</td>\n",
       "    </tr>\n",
       "    <tr>\n",
       "      <th>2</th>\n",
       "      <td>0</td>\n",
       "      <td>0</td>\n",
       "      <td>1</td>\n",
       "      <td>True</td>\n",
       "      <td>26.0</td>\n",
       "      <td>False</td>\n",
       "      <td>True</td>\n",
       "    </tr>\n",
       "    <tr>\n",
       "      <th>3</th>\n",
       "      <td>0</td>\n",
       "      <td>1</td>\n",
       "      <td>2</td>\n",
       "      <td>False</td>\n",
       "      <td>35.0</td>\n",
       "      <td>False</td>\n",
       "      <td>True</td>\n",
       "    </tr>\n",
       "    <tr>\n",
       "      <th>4</th>\n",
       "      <td>0</td>\n",
       "      <td>0</td>\n",
       "      <td>1</td>\n",
       "      <td>True</td>\n",
       "      <td>35.0</td>\n",
       "      <td>False</td>\n",
       "      <td>True</td>\n",
       "    </tr>\n",
       "    <tr>\n",
       "      <th>...</th>\n",
       "      <td>...</td>\n",
       "      <td>...</td>\n",
       "      <td>...</td>\n",
       "      <td>...</td>\n",
       "      <td>...</td>\n",
       "      <td>...</td>\n",
       "      <td>...</td>\n",
       "    </tr>\n",
       "    <tr>\n",
       "      <th>886</th>\n",
       "      <td>0</td>\n",
       "      <td>0</td>\n",
       "      <td>1</td>\n",
       "      <td>True</td>\n",
       "      <td>27.0</td>\n",
       "      <td>False</td>\n",
       "      <td>True</td>\n",
       "    </tr>\n",
       "    <tr>\n",
       "      <th>887</th>\n",
       "      <td>0</td>\n",
       "      <td>0</td>\n",
       "      <td>1</td>\n",
       "      <td>True</td>\n",
       "      <td>19.0</td>\n",
       "      <td>False</td>\n",
       "      <td>True</td>\n",
       "    </tr>\n",
       "    <tr>\n",
       "      <th>888</th>\n",
       "      <td>2</td>\n",
       "      <td>1</td>\n",
       "      <td>4</td>\n",
       "      <td>False</td>\n",
       "      <td>28.0</td>\n",
       "      <td>False</td>\n",
       "      <td>True</td>\n",
       "    </tr>\n",
       "    <tr>\n",
       "      <th>889</th>\n",
       "      <td>0</td>\n",
       "      <td>0</td>\n",
       "      <td>1</td>\n",
       "      <td>True</td>\n",
       "      <td>26.0</td>\n",
       "      <td>False</td>\n",
       "      <td>True</td>\n",
       "    </tr>\n",
       "    <tr>\n",
       "      <th>890</th>\n",
       "      <td>0</td>\n",
       "      <td>0</td>\n",
       "      <td>1</td>\n",
       "      <td>True</td>\n",
       "      <td>32.0</td>\n",
       "      <td>False</td>\n",
       "      <td>True</td>\n",
       "    </tr>\n",
       "  </tbody>\n",
       "</table>\n",
       "<p>891 rows × 7 columns</p>\n",
       "</div>"
      ],
      "text/plain": [
       "     Parch  SibSp  FamilySize  single   Age  child  adult\n",
       "0        0      1           2   False  22.0  False   True\n",
       "1        0      1           2   False  38.0  False   True\n",
       "2        0      0           1    True  26.0  False   True\n",
       "3        0      1           2   False  35.0  False   True\n",
       "4        0      0           1    True  35.0  False   True\n",
       "..     ...    ...         ...     ...   ...    ...    ...\n",
       "886      0      0           1    True  27.0  False   True\n",
       "887      0      0           1    True  19.0  False   True\n",
       "888      2      1           4   False  28.0  False   True\n",
       "889      0      0           1    True  26.0  False   True\n",
       "890      0      0           1    True  32.0  False   True\n",
       "\n",
       "[891 rows x 7 columns]"
      ]
     },
     "execution_count": 103,
     "metadata": {},
     "output_type": "execute_result"
    }
   ],
   "source": [
    "train['FamilySize'] = train['SibSp'] + train['Parch'] +1\n",
    "train['single'] = train['FamilySize'] == 1\n",
    "train['child'] = train['Age']<18\n",
    "train['adult'] = train['Age'] >= 18\n",
    "\n",
    "\n",
    "train[['Parch','SibSp','FamilySize','single','Age','child','adult']]"
   ]
  },
  {
   "cell_type": "code",
   "execution_count": null,
   "id": "d7253aa1-3d2b-49a0-a86d-1eb866c2e017",
   "metadata": {},
   "outputs": [],
   "source": [
    "def mom(row):\n",
    "    if row['Sex'] == 'male' return False\n",
    "    if row['Age'] <= 18 return False\n",
    "    if row['FamilySize'] = 1 return False\n",
    "    return True\n",
    "    "
   ]
  },
  {
   "cell_type": "code",
   "execution_count": 104,
   "id": "ee529981-253a-46a2-87c4-ac626efaf7dd",
   "metadata": {},
   "outputs": [],
   "source": [
    "from sklearn.preprocessing import LabelEncoder\n",
    "le = LabelEncoder()\n",
    "\n",
    "column = ['single','child','adult']\n",
    "for col in column:\n",
    "    train[col] = le.fit_transform(train[col])"
   ]
  },
  {
   "cell_type": "code",
   "execution_count": 105,
   "id": "fab75e7e-8d81-46c5-bfdc-10652fb28d3c",
   "metadata": {},
   "outputs": [
    {
     "name": "stdout",
     "output_type": "stream",
     "text": [
      "<class 'pandas.core.frame.DataFrame'>\n",
      "RangeIndex: 891 entries, 0 to 890\n",
      "Data columns (total 18 columns):\n",
      " #   Column          Non-Null Count  Dtype  \n",
      "---  ------          --------------  -----  \n",
      " 0   PassengerId     891 non-null    int64  \n",
      " 1   Survived        891 non-null    int64  \n",
      " 2   Pclass          891 non-null    int64  \n",
      " 3   Name            891 non-null    object \n",
      " 4   Sex             891 non-null    int64  \n",
      " 5   Age             891 non-null    float64\n",
      " 6   SibSp           891 non-null    int64  \n",
      " 7   Parch           891 non-null    int64  \n",
      " 8   Ticket          891 non-null    object \n",
      " 9   Fare            891 non-null    float64\n",
      " 10  Embarked        891 non-null    int64  \n",
      " 11  title           891 non-null    object \n",
      " 12  title_norm      891 non-null    int64  \n",
      " 13  FamilySize      891 non-null    int64  \n",
      " 14  single          891 non-null    int64  \n",
      " 15  age_mean_title  7 non-null      float64\n",
      " 16  child           891 non-null    int64  \n",
      " 17  adult           891 non-null    int64  \n",
      "dtypes: float64(3), int64(12), object(3)\n",
      "memory usage: 125.4+ KB\n"
     ]
    }
   ],
   "source": [
    "train.info()"
   ]
  },
  {
   "cell_type": "code",
   "execution_count": 106,
   "id": "0e2d29b6",
   "metadata": {},
   "outputs": [],
   "source": [
    "X = train.drop(['Survived','Name','Ticket','title'], axis =1)\n",
    "y = train['Survived']\n"
   ]
  },
  {
   "cell_type": "code",
   "execution_count": 107,
   "id": "0804022b",
   "metadata": {},
   "outputs": [
    {
     "data": {
      "text/plain": [
       "0.8125703037120361"
      ]
     },
     "execution_count": 107,
     "metadata": {},
     "output_type": "execute_result"
    }
   ],
   "source": [
    "cross_val_score(DecisionTreeClassifier(max_depth=3, random_state=42), X, y, scoring='accuracy', cv=skf).mean()"
   ]
  },
  {
   "cell_type": "code",
   "execution_count": 108,
   "id": "3811f555",
   "metadata": {},
   "outputs": [
    {
     "data": {
      "text/plain": [
       "0.822667674353206"
      ]
     },
     "execution_count": 108,
     "metadata": {},
     "output_type": "execute_result"
    }
   ],
   "source": [
    "cross_val_score(RandomForestClassifier(max_depth=3, n_estimators=100, random_state=42), X, y, scoring='accuracy', cv=skf).mean()"
   ]
  },
  {
   "cell_type": "code",
   "execution_count": 100,
   "id": "e5542b0c",
   "metadata": {},
   "outputs": [
    {
     "ename": "ImportError",
     "evalue": "cannot import name 'interp' from 'scipy' (C:\\programy\\Anaconda3\\Lib\\site-packages\\scipy\\__init__.py)",
     "output_type": "error",
     "traceback": [
      "\u001b[1;31m---------------------------------------------------------------------------\u001b[0m",
      "\u001b[1;31mImportError\u001b[0m                               Traceback (most recent call last)",
      "Cell \u001b[1;32mIn[100], line 1\u001b[0m\n\u001b[1;32m----> 1\u001b[0m \u001b[38;5;28;01mfrom\u001b[39;00m \u001b[38;5;21;01mscikitplot\u001b[39;00m\u001b[38;5;21;01m.\u001b[39;00m\u001b[38;5;21;01mestimators\u001b[39;00m \u001b[38;5;28;01mimport\u001b[39;00m plot_learning_curve\n\u001b[0;32m      3\u001b[0m plot_learning_curve(DecisionTreeClassifier(max_depth\u001b[38;5;241m=\u001b[39m\u001b[38;5;241m4\u001b[39m, random_state\u001b[38;5;241m=\u001b[39m\u001b[38;5;241m42\u001b[39m), X, y, cv\u001b[38;5;241m=\u001b[39m\u001b[38;5;241m3\u001b[39m)\n",
      "File \u001b[1;32mC:\\programy\\Anaconda3\\Lib\\site-packages\\scikitplot\\__init__.py:2\u001b[0m\n\u001b[0;32m      1\u001b[0m \u001b[38;5;28;01mfrom\u001b[39;00m \u001b[38;5;21;01m__future__\u001b[39;00m \u001b[38;5;28;01mimport\u001b[39;00m absolute_import, division, print_function, unicode_literals\n\u001b[1;32m----> 2\u001b[0m \u001b[38;5;28;01mfrom\u001b[39;00m \u001b[38;5;21;01m.\u001b[39;00m \u001b[38;5;28;01mimport\u001b[39;00m metrics, cluster, decomposition, estimators\n\u001b[0;32m      3\u001b[0m __version__ \u001b[38;5;241m=\u001b[39m \u001b[38;5;124m'\u001b[39m\u001b[38;5;124m0.3.7\u001b[39m\u001b[38;5;124m'\u001b[39m\n\u001b[0;32m      6\u001b[0m \u001b[38;5;28;01mfrom\u001b[39;00m \u001b[38;5;21;01mscikitplot\u001b[39;00m\u001b[38;5;21;01m.\u001b[39;00m\u001b[38;5;21;01mclassifiers\u001b[39;00m \u001b[38;5;28;01mimport\u001b[39;00m classifier_factory\n",
      "File \u001b[1;32mC:\\programy\\Anaconda3\\Lib\\site-packages\\scikitplot\\metrics.py:27\u001b[0m\n\u001b[0;32m     24\u001b[0m \u001b[38;5;28;01mfrom\u001b[39;00m \u001b[38;5;21;01msklearn\u001b[39;00m\u001b[38;5;21;01m.\u001b[39;00m\u001b[38;5;21;01mcalibration\u001b[39;00m \u001b[38;5;28;01mimport\u001b[39;00m calibration_curve\n\u001b[0;32m     25\u001b[0m \u001b[38;5;28;01mfrom\u001b[39;00m \u001b[38;5;21;01msklearn\u001b[39;00m\u001b[38;5;21;01m.\u001b[39;00m\u001b[38;5;21;01mutils\u001b[39;00m \u001b[38;5;28;01mimport\u001b[39;00m deprecated\n\u001b[1;32m---> 27\u001b[0m \u001b[38;5;28;01mfrom\u001b[39;00m \u001b[38;5;21;01mscipy\u001b[39;00m \u001b[38;5;28;01mimport\u001b[39;00m interp\n\u001b[0;32m     29\u001b[0m \u001b[38;5;28;01mfrom\u001b[39;00m \u001b[38;5;21;01mscikitplot\u001b[39;00m\u001b[38;5;21;01m.\u001b[39;00m\u001b[38;5;21;01mhelpers\u001b[39;00m \u001b[38;5;28;01mimport\u001b[39;00m binary_ks_curve, validate_labels\n\u001b[0;32m     30\u001b[0m \u001b[38;5;28;01mfrom\u001b[39;00m \u001b[38;5;21;01mscikitplot\u001b[39;00m\u001b[38;5;21;01m.\u001b[39;00m\u001b[38;5;21;01mhelpers\u001b[39;00m \u001b[38;5;28;01mimport\u001b[39;00m cumulative_gain_curve\n",
      "\u001b[1;31mImportError\u001b[0m: cannot import name 'interp' from 'scipy' (C:\\programy\\Anaconda3\\Lib\\site-packages\\scipy\\__init__.py)"
     ]
    }
   ],
   "source": [
    "from scikitplot.estimators import plot_learning_curve\n",
    "\n",
    "plot_learning_curve(DecisionTreeClassifier(max_depth=4, random_state=42), X, y, cv=3);"
   ]
  },
  {
   "cell_type": "code",
   "execution_count": null,
   "id": "83cbd5c1",
   "metadata": {},
   "outputs": [],
   "source": []
  }
 ],
 "metadata": {
  "kernelspec": {
   "display_name": "Python 3 (ipykernel)",
   "language": "python",
   "name": "python3"
  },
  "language_info": {
   "codemirror_mode": {
    "name": "ipython",
    "version": 3
   },
   "file_extension": ".py",
   "mimetype": "text/x-python",
   "name": "python",
   "nbconvert_exporter": "python",
   "pygments_lexer": "ipython3",
   "version": "3.12.4"
  }
 },
 "nbformat": 4,
 "nbformat_minor": 5
}
