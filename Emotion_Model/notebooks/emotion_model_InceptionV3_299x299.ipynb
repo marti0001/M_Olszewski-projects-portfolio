{
 "cells": [
  {
   "cell_type": "code",
   "execution_count": 1,
   "id": "98800168-c4ed-4067-9def-058385f0ab43",
   "metadata": {},
   "outputs": [
    {
     "name": "stdout",
     "output_type": "stream",
     "text": [
      "WARNING:tensorflow:From C:\\Users\\MOlsz\\AppData\\Local\\Temp\\ipykernel_18808\\2697677556.py:4: is_gpu_available (from tensorflow.python.framework.test_util) is deprecated and will be removed in a future version.\n",
      "Instructions for updating:\n",
      "Use `tf.config.list_physical_devices('GPU')` instead.\n"
     ]
    },
    {
     "data": {
      "text/plain": [
       "True"
      ]
     },
     "execution_count": 1,
     "metadata": {},
     "output_type": "execute_result"
    }
   ],
   "source": [
    "#tf.__version__\n",
    "import tensorflow as tf\n",
    "\n",
    "tf.test.is_gpu_available(cuda_only=False,min_cuda_compute_capability=None)"
   ]
  },
  {
   "cell_type": "code",
   "execution_count": 1,
   "id": "8a56b4cb-9220-4895-a40e-47cc825b8d4d",
   "metadata": {},
   "outputs": [
    {
     "name": "stdout",
     "output_type": "stream",
     "text": [
      "Tensor Flow Version: 2.10.0\n",
      "Keras Version: 2.10.0\n",
      "\n",
      "Python 3.9.15 | packaged by conda-forge | (main, Nov 22 2022, 08:39:05) [MSC v.1929 64 bit (AMD64)]\n",
      "Pandas 2.2.3\n",
      "Scikit-Learn 1.6.0\n",
      "WARNING:tensorflow:From C:\\Users\\MOlsz\\AppData\\Local\\Temp\\ipykernel_16776\\1963218719.py:14: is_gpu_available (from tensorflow.python.framework.test_util) is deprecated and will be removed in a future version.\n",
      "Instructions for updating:\n",
      "Use `tf.config.list_physical_devices('GPU')` instead.\n",
      "GPU is available\n"
     ]
    }
   ],
   "source": [
    "import sys\n",
    "\n",
    "import tensorflow.keras\n",
    "import pandas as pd\n",
    "import sklearn as sk\n",
    "import tensorflow as tf\n",
    "\n",
    "print(f\"Tensor Flow Version: {tf.__version__}\")\n",
    "print(f\"Keras Version: {tensorflow.keras.__version__}\")\n",
    "print()\n",
    "print(f\"Python {sys.version}\")\n",
    "print(f\"Pandas {pd.__version__}\")\n",
    "print(f\"Scikit-Learn {sk.__version__}\")\n",
    "print(\"GPU is\", \"available\" if tf.test.is_gpu_available() else \"NOT AVAILABLE\")"
   ]
  },
  {
   "cell_type": "markdown",
   "id": "78067575-9295-49e3-9529-e36e1d3168b2",
   "metadata": {},
   "source": [
    "### InceptionV3\n",
    "\n",
    "To zaawansowana siec konwolucyjna zaprojektowana przez zespół Google w ramch modeli Inception.\n",
    "\n",
    "Jest powszechnie używany w zadaniach z klasyfikacji obrazów i uczeniem transferowym.\n",
    "Składa sie z ponad 40 warstw (konwolucyjnych, poolingowych, i w pełni połączonych)\n",
    "\n",
    "W tradycyjnej sieci konwolucyjnej używamy tylko jednej wilekosci filtra. W Inception każdy blok równolegle przetwarza dane zróznymi filtrami:\n",
    "- 1x1 do redukcji wymiarowosci danych  i uproszczenia obliczen\n",
    "- 3x3 i 5x5 do znalezienia lokalnych cech obrazu na róznych skalach"
   ]
  },
  {
   "cell_type": "markdown",
   "id": "fab6ceab-a4a2-46ca-8dfc-f4ed814cd7e4",
   "metadata": {},
   "source": [
    "##### Zastosowanie Transfer-Learning\n",
    "\n",
    "Uzywajac pretrenowanego modelu InceptionV3\n",
    "- Zaszcz"
   ]
  },
  {
   "cell_type": "code",
   "execution_count": 2,
   "id": "2b04e6ac-e631-4dbf-868f-409ac793517a",
   "metadata": {},
   "outputs": [],
   "source": [
    "import pickle\n",
    "import pandas as pd\n",
    "import numpy as np\n",
    "\n",
    "import tensorflow as tf\n",
    "from tensorflow.keras.utils import to_categorical\n",
    "from tensorflow.keras.callbacks import EarlyStopping, ModelCheckpoint, ReduceLROnPlateau\n",
    "from tensorflow.keras.models import Sequential, load_model\n",
    "from tensorflow.keras.layers import Dense, Dropout, Flatten, Conv2D, MaxPool2D, GlobalAveragePooling2D\n",
    "from tensorflow.keras.optimizers import Adam\n",
    "from tensorflow.keras.preprocessing.image import ImageDataGenerator\n",
    "from tensorflow.keras.applications import  InceptionV3\n",
    "\n",
    "from livelossplot import PlotLossesKeras\n",
    "\n",
    "np.random.seed(42)\n"
   ]
  },
  {
   "cell_type": "markdown",
   "id": "5a3f5001-b2fe-419d-9417-70790ee6a0d8",
   "metadata": {},
   "source": [
    "### Wczytywanie danych "
   ]
  },
  {
   "cell_type": "code",
   "execution_count": 3,
   "id": "556622eb-0265-4bc8-8480-6c96980dfcb3",
   "metadata": {},
   "outputs": [],
   "source": [
    "\n",
    "train_dir = r\"..\\input\\train\"\n",
    "test_dir = r\"..\\input\\test\""
   ]
  },
  {
   "cell_type": "markdown",
   "id": "19bfbcd6-4230-4287-b572-0da09f7aa0fa",
   "metadata": {},
   "source": [
    "### Tworzenie generatora danych \n",
    "Generator bedzie skalował wartosci pikseli obrazów do zakresu [0,1] i ustalał podział danych na dane walidacyjne i treningowe"
   ]
  },
  {
   "cell_type": "code",
   "execution_count": 4,
   "id": "ecc24a84-68b2-4789-b8d5-d2585e48f8f9",
   "metadata": {},
   "outputs": [
    {
     "name": "stdout",
     "output_type": "stream",
     "text": [
      "Found 22968 images belonging to 7 classes.\n",
      "Found 1432 images belonging to 7 classes.\n",
      "Number of classes: 7\n"
     ]
    }
   ],
   "source": [
    "datagen = ImageDataGenerator(rescale=1.0/255.0, validation_split=0.2)\n",
    "\n",
    "train_generator = datagen.flow_from_directory(\n",
    "    train_dir,\n",
    "    target_size=(299,299),\n",
    "    batch_size=32,\n",
    "    class_mode='categorical',\n",
    "    subset='training'\n",
    ")\n",
    "\n",
    "validation_generator = datagen.flow_from_directory(\n",
    "    test_dir,\n",
    "    target_size=(299,299),\n",
    "    batch_size=32,\n",
    "    class_mode='categorical',\n",
    "    subset='validation'\n",
    ")\n",
    "\n",
    "num_classes = len(train_generator.class_indices)\n",
    "print(f\"Number of classes: {num_classes}\")\n"
   ]
  },
  {
   "cell_type": "markdown",
   "id": "fa3032f8-22be-4b12-80e2-7e52cb006a8b",
   "metadata": {},
   "source": [
    "trian_generation i validation_generator , które będa słuzyc do ładowania obrazów w partiach z zachowaniem rozdzielczosci 75x75 pikseli\n",
    "Ładowane sa w partiach po 32 obrazy\n",
    "\n",
    "Rozmiar ten jest dostosowywany do obrazu wymaganego przez model. \n",
    "\n",
    "Model InceptionV3 zaprojektowano do przetwarzania obrazów w formacie RGB(3 kanały) i wymiarach 299x299. W implelentacji Keras umożliwia zmiane rozmiaru obrazu wejsciowego.\n",
    "\n",
    "Wybieram rozmiar 75x75 poniewaz pozwala szybciej tenowac model"
   ]
  },
  {
   "cell_type": "markdown",
   "id": "7b8d8dc2-9f32-460b-b1d0-0abc7e5b12c7",
   "metadata": {},
   "source": [
    "### Wykrywanie liczby klas"
   ]
  },
  {
   "cell_type": "code",
   "execution_count": 5,
   "id": "3fc39ce8-baf8-4888-84ac-2b1641d71b10",
   "metadata": {},
   "outputs": [
    {
     "name": "stdout",
     "output_type": "stream",
     "text": [
      "Train class indices: {'angry': 0, 'disgusted': 1, 'fearful': 2, 'happy': 3, 'neutral': 4, 'sad': 5, 'surprised': 6}\n",
      "Validation class indices: {'angry': 0, 'disgusted': 1, 'fearful': 2, 'happy': 3, 'neutral': 4, 'sad': 5, 'surprised': 6}\n"
     ]
    }
   ],
   "source": [
    "print(f\"Train class indices: {train_generator.class_indices}\")\n",
    "print(f\"Validation class indices: {validation_generator.class_indices}\")"
   ]
  },
  {
   "cell_type": "markdown",
   "id": "d04e9f38-83b2-445b-853d-23d29055bc4d",
   "metadata": {},
   "source": [
    "### Ładowanie modelu i konfiguracja modelu bazowego\n",
    "Załaduje Model bazowy InceptionV3 bez ostatniej warstwy klasyfikacyjnej (include_top= False) i dostosowany do obrazu wejsciowego"
   ]
  },
  {
   "cell_type": "code",
   "execution_count": 6,
   "id": "c6839f17-2594-425c-ad1f-388e25ff6733",
   "metadata": {},
   "outputs": [],
   "source": [
    "base_model = InceptionV3(weights='imagenet', include_top=False, input_shape=(299,299,3))"
   ]
  },
  {
   "cell_type": "markdown",
   "id": "98e807a9-e9e1-4e9f-82e6-c7fca1c167d4",
   "metadata": {},
   "source": [
    "### Proces odmrazania warstw konwolucyjnych\n",
    "\n",
    "- Najpierw zamrazamy wszystie warstwy modelu \n",
    "- Nastepnie okreslamy ilosc warstw które maja byc trenowane\n",
    "- Potem odmrazamy warstwy które maja byc trenowane\n",
    "\n",
    "Aby zachowac wagi wczesniejszych warstw modelu (ich wstepenie wytrenowana wiedze) pozostałem warstwy powinny byc zamrożone"
   ]
  },
  {
   "cell_type": "code",
   "execution_count": 31,
   "id": "d9ca8d5a-0baa-4eba-b235-47efe988afd2",
   "metadata": {},
   "outputs": [
    {
     "name": "stdout",
     "output_type": "stream",
     "text": [
      " Layer 0 : input_1, Trainable: False\n",
      " Layer 1 : conv2d, Trainable: False\n",
      " Layer 2 : batch_normalization, Trainable: False\n",
      " Layer 3 : activation, Trainable: False\n",
      " Layer 4 : conv2d_1, Trainable: False\n",
      " Layer 5 : batch_normalization_1, Trainable: False\n",
      " Layer 6 : activation_1, Trainable: False\n",
      " Layer 7 : conv2d_2, Trainable: False\n",
      " Layer 8 : batch_normalization_2, Trainable: False\n",
      " Layer 9 : activation_2, Trainable: False\n",
      " Layer 10 : max_pooling2d, Trainable: False\n",
      " Layer 11 : conv2d_3, Trainable: False\n",
      " Layer 12 : batch_normalization_3, Trainable: False\n",
      " Layer 13 : activation_3, Trainable: False\n",
      " Layer 14 : conv2d_4, Trainable: False\n",
      " Layer 15 : batch_normalization_4, Trainable: False\n",
      " Layer 16 : activation_4, Trainable: False\n",
      " Layer 17 : max_pooling2d_1, Trainable: False\n",
      " Layer 18 : conv2d_8, Trainable: False\n",
      " Layer 19 : batch_normalization_8, Trainable: False\n",
      " Layer 20 : activation_8, Trainable: False\n",
      " Layer 21 : conv2d_6, Trainable: False\n",
      " Layer 22 : conv2d_9, Trainable: False\n",
      " Layer 23 : batch_normalization_6, Trainable: False\n",
      " Layer 24 : batch_normalization_9, Trainable: False\n",
      " Layer 25 : activation_6, Trainable: False\n",
      " Layer 26 : activation_9, Trainable: False\n",
      " Layer 27 : average_pooling2d, Trainable: False\n",
      " Layer 28 : conv2d_5, Trainable: False\n",
      " Layer 29 : conv2d_7, Trainable: False\n",
      " Layer 30 : conv2d_10, Trainable: False\n",
      " Layer 31 : conv2d_11, Trainable: False\n",
      " Layer 32 : batch_normalization_5, Trainable: False\n",
      " Layer 33 : batch_normalization_7, Trainable: False\n",
      " Layer 34 : batch_normalization_10, Trainable: False\n",
      " Layer 35 : batch_normalization_11, Trainable: False\n",
      " Layer 36 : activation_5, Trainable: False\n",
      " Layer 37 : activation_7, Trainable: False\n",
      " Layer 38 : activation_10, Trainable: False\n",
      " Layer 39 : activation_11, Trainable: False\n",
      " Layer 40 : mixed0, Trainable: False\n",
      " Layer 41 : conv2d_15, Trainable: False\n",
      " Layer 42 : batch_normalization_15, Trainable: False\n",
      " Layer 43 : activation_15, Trainable: False\n",
      " Layer 44 : conv2d_13, Trainable: False\n",
      " Layer 45 : conv2d_16, Trainable: False\n",
      " Layer 46 : batch_normalization_13, Trainable: False\n",
      " Layer 47 : batch_normalization_16, Trainable: False\n",
      " Layer 48 : activation_13, Trainable: False\n",
      " Layer 49 : activation_16, Trainable: False\n",
      " Layer 50 : average_pooling2d_1, Trainable: False\n",
      " Layer 51 : conv2d_12, Trainable: False\n",
      " Layer 52 : conv2d_14, Trainable: False\n",
      " Layer 53 : conv2d_17, Trainable: False\n",
      " Layer 54 : conv2d_18, Trainable: False\n",
      " Layer 55 : batch_normalization_12, Trainable: False\n",
      " Layer 56 : batch_normalization_14, Trainable: False\n",
      " Layer 57 : batch_normalization_17, Trainable: False\n",
      " Layer 58 : batch_normalization_18, Trainable: False\n",
      " Layer 59 : activation_12, Trainable: False\n",
      " Layer 60 : activation_14, Trainable: False\n",
      " Layer 61 : activation_17, Trainable: False\n",
      " Layer 62 : activation_18, Trainable: False\n",
      " Layer 63 : mixed1, Trainable: False\n",
      " Layer 64 : conv2d_22, Trainable: False\n",
      " Layer 65 : batch_normalization_22, Trainable: False\n",
      " Layer 66 : activation_22, Trainable: False\n",
      " Layer 67 : conv2d_20, Trainable: False\n",
      " Layer 68 : conv2d_23, Trainable: False\n",
      " Layer 69 : batch_normalization_20, Trainable: False\n",
      " Layer 70 : batch_normalization_23, Trainable: False\n",
      " Layer 71 : activation_20, Trainable: False\n",
      " Layer 72 : activation_23, Trainable: False\n",
      " Layer 73 : average_pooling2d_2, Trainable: False\n",
      " Layer 74 : conv2d_19, Trainable: False\n",
      " Layer 75 : conv2d_21, Trainable: False\n",
      " Layer 76 : conv2d_24, Trainable: False\n",
      " Layer 77 : conv2d_25, Trainable: False\n",
      " Layer 78 : batch_normalization_19, Trainable: False\n",
      " Layer 79 : batch_normalization_21, Trainable: False\n",
      " Layer 80 : batch_normalization_24, Trainable: False\n",
      " Layer 81 : batch_normalization_25, Trainable: False\n",
      " Layer 82 : activation_19, Trainable: False\n",
      " Layer 83 : activation_21, Trainable: False\n",
      " Layer 84 : activation_24, Trainable: False\n",
      " Layer 85 : activation_25, Trainable: False\n",
      " Layer 86 : mixed2, Trainable: False\n",
      " Layer 87 : conv2d_27, Trainable: False\n",
      " Layer 88 : batch_normalization_27, Trainable: False\n",
      " Layer 89 : activation_27, Trainable: False\n",
      " Layer 90 : conv2d_28, Trainable: False\n",
      " Layer 91 : batch_normalization_28, Trainable: False\n",
      " Layer 92 : activation_28, Trainable: False\n",
      " Layer 93 : conv2d_26, Trainable: False\n",
      " Layer 94 : conv2d_29, Trainable: False\n",
      " Layer 95 : batch_normalization_26, Trainable: False\n",
      " Layer 96 : batch_normalization_29, Trainable: False\n",
      " Layer 97 : activation_26, Trainable: False\n",
      " Layer 98 : activation_29, Trainable: False\n",
      " Layer 99 : max_pooling2d_2, Trainable: False\n",
      " Layer 100 : mixed3, Trainable: False\n",
      " Layer 101 : conv2d_34, Trainable: False\n",
      " Layer 102 : batch_normalization_34, Trainable: False\n",
      " Layer 103 : activation_34, Trainable: False\n",
      " Layer 104 : conv2d_35, Trainable: False\n",
      " Layer 105 : batch_normalization_35, Trainable: False\n",
      " Layer 106 : activation_35, Trainable: False\n",
      " Layer 107 : conv2d_31, Trainable: False\n",
      " Layer 108 : conv2d_36, Trainable: False\n",
      " Layer 109 : batch_normalization_31, Trainable: False\n",
      " Layer 110 : batch_normalization_36, Trainable: False\n",
      " Layer 111 : activation_31, Trainable: False\n",
      " Layer 112 : activation_36, Trainable: False\n",
      " Layer 113 : conv2d_32, Trainable: False\n",
      " Layer 114 : conv2d_37, Trainable: False\n",
      " Layer 115 : batch_normalization_32, Trainable: False\n",
      " Layer 116 : batch_normalization_37, Trainable: False\n",
      " Layer 117 : activation_32, Trainable: False\n",
      " Layer 118 : activation_37, Trainable: False\n",
      " Layer 119 : average_pooling2d_3, Trainable: False\n",
      " Layer 120 : conv2d_30, Trainable: False\n",
      " Layer 121 : conv2d_33, Trainable: False\n",
      " Layer 122 : conv2d_38, Trainable: False\n",
      " Layer 123 : conv2d_39, Trainable: False\n",
      " Layer 124 : batch_normalization_30, Trainable: False\n",
      " Layer 125 : batch_normalization_33, Trainable: False\n",
      " Layer 126 : batch_normalization_38, Trainable: False\n",
      " Layer 127 : batch_normalization_39, Trainable: False\n",
      " Layer 128 : activation_30, Trainable: False\n",
      " Layer 129 : activation_33, Trainable: False\n",
      " Layer 130 : activation_38, Trainable: False\n",
      " Layer 131 : activation_39, Trainable: False\n",
      " Layer 132 : mixed4, Trainable: False\n",
      " Layer 133 : conv2d_44, Trainable: False\n",
      " Layer 134 : batch_normalization_44, Trainable: False\n",
      " Layer 135 : activation_44, Trainable: False\n",
      " Layer 136 : conv2d_45, Trainable: False\n",
      " Layer 137 : batch_normalization_45, Trainable: False\n",
      " Layer 138 : activation_45, Trainable: False\n",
      " Layer 139 : conv2d_41, Trainable: False\n",
      " Layer 140 : conv2d_46, Trainable: False\n",
      " Layer 141 : batch_normalization_41, Trainable: False\n",
      " Layer 142 : batch_normalization_46, Trainable: False\n",
      " Layer 143 : activation_41, Trainable: False\n",
      " Layer 144 : activation_46, Trainable: False\n",
      " Layer 145 : conv2d_42, Trainable: False\n",
      " Layer 146 : conv2d_47, Trainable: False\n",
      " Layer 147 : batch_normalization_42, Trainable: False\n",
      " Layer 148 : batch_normalization_47, Trainable: False\n",
      " Layer 149 : activation_42, Trainable: False\n",
      " Layer 150 : activation_47, Trainable: False\n",
      " Layer 151 : average_pooling2d_4, Trainable: False\n",
      " Layer 152 : conv2d_40, Trainable: False\n",
      " Layer 153 : conv2d_43, Trainable: False\n",
      " Layer 154 : conv2d_48, Trainable: False\n",
      " Layer 155 : conv2d_49, Trainable: False\n",
      " Layer 156 : batch_normalization_40, Trainable: False\n",
      " Layer 157 : batch_normalization_43, Trainable: False\n",
      " Layer 158 : batch_normalization_48, Trainable: False\n",
      " Layer 159 : batch_normalization_49, Trainable: False\n",
      " Layer 160 : activation_40, Trainable: False\n",
      " Layer 161 : activation_43, Trainable: False\n",
      " Layer 162 : activation_48, Trainable: False\n",
      " Layer 163 : activation_49, Trainable: False\n",
      " Layer 164 : mixed5, Trainable: False\n",
      " Layer 165 : conv2d_54, Trainable: False\n",
      " Layer 166 : batch_normalization_54, Trainable: False\n",
      " Layer 167 : activation_54, Trainable: False\n",
      " Layer 168 : conv2d_55, Trainable: False\n",
      " Layer 169 : batch_normalization_55, Trainable: False\n",
      " Layer 170 : activation_55, Trainable: False\n",
      " Layer 171 : conv2d_51, Trainable: False\n",
      " Layer 172 : conv2d_56, Trainable: False\n",
      " Layer 173 : batch_normalization_51, Trainable: False\n",
      " Layer 174 : batch_normalization_56, Trainable: False\n",
      " Layer 175 : activation_51, Trainable: False\n",
      " Layer 176 : activation_56, Trainable: False\n",
      " Layer 177 : conv2d_52, Trainable: False\n",
      " Layer 178 : conv2d_57, Trainable: False\n",
      " Layer 179 : batch_normalization_52, Trainable: False\n",
      " Layer 180 : batch_normalization_57, Trainable: False\n",
      " Layer 181 : activation_52, Trainable: False\n",
      " Layer 182 : activation_57, Trainable: False\n",
      " Layer 183 : average_pooling2d_5, Trainable: False\n",
      " Layer 184 : conv2d_50, Trainable: False\n",
      " Layer 185 : conv2d_53, Trainable: False\n",
      " Layer 186 : conv2d_58, Trainable: False\n",
      " Layer 187 : conv2d_59, Trainable: False\n",
      " Layer 188 : batch_normalization_50, Trainable: False\n",
      " Layer 189 : batch_normalization_53, Trainable: False\n",
      " Layer 190 : batch_normalization_58, Trainable: False\n",
      " Layer 191 : batch_normalization_59, Trainable: False\n",
      " Layer 192 : activation_50, Trainable: False\n",
      " Layer 193 : activation_53, Trainable: False\n",
      " Layer 194 : activation_58, Trainable: False\n",
      " Layer 195 : activation_59, Trainable: False\n",
      " Layer 196 : mixed6, Trainable: False\n",
      " Layer 197 : conv2d_64, Trainable: False\n",
      " Layer 198 : batch_normalization_64, Trainable: False\n",
      " Layer 199 : activation_64, Trainable: False\n",
      " Layer 200 : conv2d_65, Trainable: False\n",
      " Layer 201 : batch_normalization_65, Trainable: False\n",
      " Layer 202 : activation_65, Trainable: False\n",
      " Layer 203 : conv2d_61, Trainable: False\n",
      " Layer 204 : conv2d_66, Trainable: False\n",
      " Layer 205 : batch_normalization_61, Trainable: False\n",
      " Layer 206 : batch_normalization_66, Trainable: False\n",
      " Layer 207 : activation_61, Trainable: False\n",
      " Layer 208 : activation_66, Trainable: False\n",
      " Layer 209 : conv2d_62, Trainable: False\n",
      " Layer 210 : conv2d_67, Trainable: False\n",
      " Layer 211 : batch_normalization_62, Trainable: False\n",
      " Layer 212 : batch_normalization_67, Trainable: False\n",
      " Layer 213 : activation_62, Trainable: False\n",
      " Layer 214 : activation_67, Trainable: False\n",
      " Layer 215 : average_pooling2d_6, Trainable: False\n",
      " Layer 216 : conv2d_60, Trainable: False\n",
      " Layer 217 : conv2d_63, Trainable: False\n",
      " Layer 218 : conv2d_68, Trainable: False\n",
      " Layer 219 : conv2d_69, Trainable: False\n",
      " Layer 220 : batch_normalization_60, Trainable: False\n",
      " Layer 221 : batch_normalization_63, Trainable: False\n",
      " Layer 222 : batch_normalization_68, Trainable: False\n",
      " Layer 223 : batch_normalization_69, Trainable: False\n",
      " Layer 224 : activation_60, Trainable: False\n",
      " Layer 225 : activation_63, Trainable: False\n",
      " Layer 226 : activation_68, Trainable: False\n",
      " Layer 227 : activation_69, Trainable: False\n",
      " Layer 228 : mixed7, Trainable: False\n",
      " Layer 229 : conv2d_72, Trainable: False\n",
      " Layer 230 : batch_normalization_72, Trainable: False\n",
      " Layer 231 : activation_72, Trainable: False\n",
      " Layer 232 : conv2d_73, Trainable: False\n",
      " Layer 233 : batch_normalization_73, Trainable: False\n",
      " Layer 234 : activation_73, Trainable: False\n",
      " Layer 235 : conv2d_70, Trainable: False\n",
      " Layer 236 : conv2d_74, Trainable: False\n",
      " Layer 237 : batch_normalization_70, Trainable: False\n",
      " Layer 238 : batch_normalization_74, Trainable: False\n",
      " Layer 239 : activation_70, Trainable: False\n",
      " Layer 240 : activation_74, Trainable: False\n",
      " Layer 241 : conv2d_71, Trainable: False\n",
      " Layer 242 : conv2d_75, Trainable: False\n",
      " Layer 243 : batch_normalization_71, Trainable: False\n",
      " Layer 244 : batch_normalization_75, Trainable: False\n",
      " Layer 245 : activation_71, Trainable: False\n",
      " Layer 246 : activation_75, Trainable: False\n",
      " Layer 247 : max_pooling2d_3, Trainable: False\n",
      " Layer 248 : mixed8, Trainable: False\n",
      " Layer 249 : conv2d_80, Trainable: False\n",
      " Layer 250 : batch_normalization_80, Trainable: False\n",
      " Layer 251 : activation_80, Trainable: False\n",
      " Layer 252 : conv2d_77, Trainable: False\n",
      " Layer 253 : conv2d_81, Trainable: False\n",
      " Layer 254 : batch_normalization_77, Trainable: False\n",
      " Layer 255 : batch_normalization_81, Trainable: False\n",
      " Layer 256 : activation_77, Trainable: False\n",
      " Layer 257 : activation_81, Trainable: False\n",
      " Layer 258 : conv2d_78, Trainable: False\n",
      " Layer 259 : conv2d_79, Trainable: False\n",
      " Layer 260 : conv2d_82, Trainable: False\n",
      " Layer 261 : conv2d_83, Trainable: False\n",
      " Layer 262 : average_pooling2d_7, Trainable: False\n",
      " Layer 263 : conv2d_76, Trainable: False\n",
      " Layer 264 : batch_normalization_78, Trainable: False\n",
      " Layer 265 : batch_normalization_79, Trainable: False\n",
      " Layer 266 : batch_normalization_82, Trainable: False\n",
      " Layer 267 : batch_normalization_83, Trainable: False\n",
      " Layer 268 : conv2d_84, Trainable: False\n",
      " Layer 269 : batch_normalization_76, Trainable: False\n",
      " Layer 270 : activation_78, Trainable: False\n",
      " Layer 271 : activation_79, Trainable: True\n",
      " Layer 272 : activation_82, Trainable: True\n",
      " Layer 273 : activation_83, Trainable: True\n",
      " Layer 274 : batch_normalization_84, Trainable: True\n",
      " Layer 275 : activation_76, Trainable: True\n",
      " Layer 276 : mixed9_0, Trainable: True\n",
      " Layer 277 : concatenate, Trainable: True\n",
      " Layer 278 : activation_84, Trainable: True\n",
      " Layer 279 : mixed9, Trainable: True\n",
      " Layer 280 : conv2d_89, Trainable: True\n",
      " Layer 281 : batch_normalization_89, Trainable: True\n",
      " Layer 282 : activation_89, Trainable: True\n",
      " Layer 283 : conv2d_86, Trainable: True\n",
      " Layer 284 : conv2d_90, Trainable: True\n",
      " Layer 285 : batch_normalization_86, Trainable: True\n",
      " Layer 286 : batch_normalization_90, Trainable: True\n",
      " Layer 287 : activation_86, Trainable: True\n",
      " Layer 288 : activation_90, Trainable: True\n",
      " Layer 289 : conv2d_87, Trainable: True\n",
      " Layer 290 : conv2d_88, Trainable: True\n",
      " Layer 291 : conv2d_91, Trainable: True\n",
      " Layer 292 : conv2d_92, Trainable: True\n",
      " Layer 293 : average_pooling2d_8, Trainable: True\n",
      " Layer 294 : conv2d_85, Trainable: True\n",
      " Layer 295 : batch_normalization_87, Trainable: True\n",
      " Layer 296 : batch_normalization_88, Trainable: True\n",
      " Layer 297 : batch_normalization_91, Trainable: True\n",
      " Layer 298 : batch_normalization_92, Trainable: True\n",
      " Layer 299 : conv2d_93, Trainable: True\n",
      " Layer 300 : batch_normalization_85, Trainable: True\n",
      " Layer 301 : activation_87, Trainable: True\n",
      " Layer 302 : activation_88, Trainable: True\n",
      " Layer 303 : activation_91, Trainable: True\n",
      " Layer 304 : activation_92, Trainable: True\n",
      " Layer 305 : batch_normalization_93, Trainable: True\n",
      " Layer 306 : activation_85, Trainable: True\n",
      " Layer 307 : mixed9_1, Trainable: True\n",
      " Layer 308 : concatenate_1, Trainable: True\n",
      " Layer 309 : activation_93, Trainable: True\n",
      " Layer 310 : mixed10, Trainable: True\n"
     ]
    }
   ],
   "source": [
    "#Zamrozenie wszystkich warstw\n",
    "for layer in base_model.layers:\n",
    "    layer.trainable = False\n",
    "\n",
    "i = 40\n",
    "\n",
    "# Odmrazanie ostatnich i warstw\n",
    "for layer in base_model.layers[-i:]:\n",
    "    layer.trainable = True\n",
    "\n",
    "#Sprawdzenie statusu warstw\n",
    "for i, layer in enumerate(base_model.layers):\n",
    "    print(f' Layer {i} : {layer.name}, Trainable: {layer.trainable}')"
   ]
  },
  {
   "cell_type": "code",
   "execution_count": null,
   "id": "45d4f81a-9b2e-4d9e-9148-b361a5a9c343",
   "metadata": {},
   "outputs": [],
   "source": []
  },
  {
   "cell_type": "markdown",
   "id": "c8795ea1-32af-4eb8-83ca-04c591e5e72f",
   "metadata": {},
   "source": [
    "### Budowa Modelu \n",
    "Buduje model Sequential do którego dołacze model bazowy\n"
   ]
  },
  {
   "cell_type": "code",
   "execution_count": 32,
   "id": "a83ada51-8d78-4961-8b68-550c70fea596",
   "metadata": {},
   "outputs": [],
   "source": [
    "\n",
    "model = Sequential([\n",
    "    base_model,\n",
    "    Flatten(),\n",
    "    Dense(128, activation='relu'),\n",
    "    Dropout(0.2),\n",
    "    Dense(num_classes, activation='softmax')\n",
    "])\n",
    "\n",
    "optimizer = Adam(0.001)\n",
    "\n",
    "model.compile(loss='categorical_crossentropy', optimizer=optimizer, metrics=['accuracy'])\n"
   ]
  },
  {
   "cell_type": "markdown",
   "id": "6ee93fe6-bf3e-4d2b-a3a6-3c882d36c8fe",
   "metadata": {},
   "source": [
    "Model kompiluje z  optymalizatorem Adam, ustawiajac tempo ucznie 0,001 z parametrem  decay= 0.0005 oraz funkcja strat"
   ]
  },
  {
   "cell_type": "markdown",
   "id": "8413c102-94f4-418a-bcbe-8242ff09b24c",
   "metadata": {},
   "source": [
    "### Konfiguracja szkolenia"
   ]
  },
  {
   "cell_type": "code",
   "execution_count": 33,
   "id": "22eb453c-8f3a-4a69-b3c5-f0459f3eafcf",
   "metadata": {},
   "outputs": [],
   "source": [
    "callbacks = [\n",
    "    PlotLossesKeras(),\n",
    "    EarlyStopping(monitor='val_loss', patience=5, verbose=1),\n",
    "    \n",
    "    ModelCheckpoint(filepath= r'..\\models\\emotion_model_InceptionV3_model_{epoch:02d}_{val_loss:.2f}.keras', \n",
    "                    monitor='val_loss', save_best_only=True, mode='min' , verbose=1),\n",
    "    ReduceLROnPlateau( monitor='val_loss', factor=0.1, patience=10, verbose=1, mode='auto', min_lr=1e-6 ) \n",
    "]\n"
   ]
  },
  {
   "cell_type": "markdown",
   "id": "53716e96-c4fe-4bb8-b855-e48524ce891a",
   "metadata": {},
   "source": [
    "- PlotLossesKeras zwraca z kazda epoką wykres strat i dokładnoscina dla zbioru treningowego i walidacyjnego w czasie trenowania\n",
    "- EarlyStopping zatrzymuje trenowanie, gdy val_loss nie poprawia sie poprzez 5 epok\n",
    "- ModelCheckpoint zapisuje najlepsza wersje modelu na podstawie epoki i val_loss\n",
    "- ReduceLROPlateau zmniejsza tempo uczenia o wspołczynnik 0,1 gdy val_loss przestaje sie poprawiac przez 10 epok "
   ]
  },
  {
   "cell_type": "markdown",
   "id": "fab4ffd4-c179-4407-a2fe-b7e4366ad402",
   "metadata": {},
   "source": [
    "### Trenowanie modelu na GPU\n",
    "Model bedzie trenowany przez 50 epok na GPU"
   ]
  },
  {
   "cell_type": "code",
   "execution_count": 34,
   "id": "2d4655d5-8633-4dd4-8da1-9a92d338c9e3",
   "metadata": {
    "scrolled": true
   },
   "outputs": [
    {
     "data": {
      "image/png": "[encoded data removed]",
      "text/plain": [
       "<Figure size 1200x800 with 2 Axes>"
      ]
     },
     "metadata": {},
     "output_type": "display_data"
    },
    {
     "name": "stdout",
     "output_type": "stream",
     "text": [
      "accuracy\n",
      "\ttraining         \t (min:    0.436, max:    0.726, cur:    0.726)\n",
      "\tvalidation       \t (min:    0.515, max:    0.572, cur:    0.570)\n",
      "Loss\n",
      "\ttraining         \t (min:    0.678, max:    1.610, cur:    0.678)\n",
      "\tvalidation       \t (min:    1.395, max:    1.610, cur:    1.603)\n",
      "\n",
      "Epoch 7: val_loss did not improve from 1.39454\n",
      "718/718 [==============================] - 46s 64ms/step - loss: 0.6776 - accuracy: 0.7256 - val_loss: 1.6028 - val_accuracy: 0.5698 - lr: 0.0010\n",
      "Epoch 7: early stopping\n"
     ]
    }
   ],
   "source": [
    "\n",
    "with tf.device('/GPU:0'):\n",
    "    history = model.fit(\n",
    "        train_generator,\n",
    "        epochs=50,\n",
    "        callbacks=callbacks,\n",
    "        validation_data=validation_generator\n",
    "    )\n"
   ]
  },
  {
   "cell_type": "code",
   "execution_count": null,
   "id": "d96ee0b0-a61e-41e3-8c3b-1bcccbe762c5",
   "metadata": {},
   "outputs": [],
   "source": []
  },
  {
   "cell_type": "code",
   "execution_count": null,
   "id": "5d8fe2cc-5a5d-4172-a5fd-7c8fb4da0fbe",
   "metadata": {},
   "outputs": [],
   "source": [
    "test_generator = datagen.flow_from_directory(\n",
    "    test_dir,\n",
    "    target_size=(299,299),\n",
    "    batch_size=32,\n",
    "    class_mode='categorical'\n",
    ")\n",
    "\n",
    "loss, accuracy = model.evaluate(test_generator, verbose=1)\n",
    "\n",
    "print(f'Test Loss: {loss}')\n",
    "print(f'Test Accuracy: {accuracy}')"
   ]
  },
  {
   "cell_type": "markdown",
   "id": "245c44f7-d494-4739-9044-56c7f7db14aa",
   "metadata": {},
   "source": [
    "### Podsumowanie\n",
    "\n",
    "Transfer Learning z wykorzystaniem modelu InceptionV3 "
   ]
  },
  {
   "cell_type": "code",
   "execution_count": null,
   "id": "8190d250-272e-417e-9441-ca27e088f857",
   "metadata": {},
   "outputs": [],
   "source": []
  }
 ],
 "metadata": {
  "kernelspec": {
   "display_name": "Python 3.9 (tensorflow)",
   "language": "python",
   "name": "tensorflow"
  },
  "language_info": {
   "codemirror_mode": {
    "name": "ipython",
    "version": 3
   },
   "file_extension": ".py",
   "mimetype": "text/x-python",
   "name": "python",
   "nbconvert_exporter": "python",
   "pygments_lexer": "ipython3",
   "version": "3.9.15"
  }
 },
 "nbformat": 4,
 "nbformat_minor": 5
}
