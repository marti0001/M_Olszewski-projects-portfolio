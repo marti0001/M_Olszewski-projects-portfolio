{
 "cells": [
  {
   "cell_type": "markdown",
   "id": "78067575-9295-49e3-9529-e36e1d3168b2",
   "metadata": {},
   "source": [
    "### InceptionV3\n",
    "\n",
    "To zaawansowana siec konwolucyjna zaprojektowana przez zespół Google w ramch modeli Inception.\n",
    "\n",
    "Jest powszechnie używany w zadaniach z klasyfikacji obrazów i uczeniem transferowym.\n",
    "Składa sie z ponad 40 warstw (konwolucyjnych, poolingowych, i w pełni połączonych)\n",
    "\n",
    "W tradycyjnej sieci konwolucyjnej używamy tylko jednej wilekosci filtra. W Inception każdy blok równolegle przetwarza dane zróznymi filtrami:\n",
    "- 1x1 do redukcji wymiarowosci danych  i uproszczenia obliczen\n",
    "- 3x3 i 5x5 do znalezienia lokalnych cech obrazu na róznych skalach"
   ]
  },
  {
   "cell_type": "markdown",
   "id": "fab6ceab-a4a2-46ca-8dfc-f4ed814cd7e4",
   "metadata": {},
   "source": [
    "##### Zastosowanie Transfer-Learning\n",
    "\n",
    "Uzywajac pretrenowanego modelu InceptionV3\n",
    "- Zaszcz"
   ]
  },
  {
   "cell_type": "code",
   "execution_count": 1,
   "id": "2b04e6ac-e631-4dbf-868f-409ac793517a",
   "metadata": {},
   "outputs": [
    {
     "ename": "ModuleNotFoundError",
     "evalue": "No module named 'pandas'",
     "output_type": "error",
     "traceback": [
      "\u001b[1;31m---------------------------------------------------------------------------\u001b[0m",
      "\u001b[1;31mModuleNotFoundError\u001b[0m                       Traceback (most recent call last)",
      "Cell \u001b[1;32mIn[1], line 2\u001b[0m\n\u001b[0;32m      1\u001b[0m \u001b[38;5;28;01mimport\u001b[39;00m \u001b[38;5;21;01mpickle\u001b[39;00m\n\u001b[1;32m----> 2\u001b[0m \u001b[38;5;28;01mimport\u001b[39;00m \u001b[38;5;21;01mpandas\u001b[39;00m \u001b[38;5;28;01mas\u001b[39;00m \u001b[38;5;21;01mpd\u001b[39;00m\n\u001b[0;32m      3\u001b[0m \u001b[38;5;28;01mimport\u001b[39;00m \u001b[38;5;21;01mnumpy\u001b[39;00m \u001b[38;5;28;01mas\u001b[39;00m \u001b[38;5;21;01mnp\u001b[39;00m\n\u001b[0;32m      5\u001b[0m \u001b[38;5;28;01mimport\u001b[39;00m \u001b[38;5;21;01mtensorflow\u001b[39;00m \u001b[38;5;28;01mas\u001b[39;00m \u001b[38;5;21;01mtf\u001b[39;00m\n",
      "\u001b[1;31mModuleNotFoundError\u001b[0m: No module named 'pandas'"
     ]
    }
   ],
   "source": [
    "import pickle\n",
    "import pandas as pd\n",
    "import numpy as np\n",
    "\n",
    "import tensorflow as tf\n",
    "from tensorflow.keras.utils import to_categorical\n",
    "from tensorflow.keras.callbacks import EarlyStopping, ModelCheckpoint, ReduceLROnPlateau\n",
    "from tensorflow.keras.models import Sequential, load_model\n",
    "from tensorflow.keras.layers import Dense, Dropout, Flatten, Conv2D, MaxPool2D, GlobalAveragePooling2D\n",
    "from tensorflow.keras.optimizers import Adam\n",
    "from tensorflow.keras.preprocessing.image import ImageDataGenerator\n",
    "from tensorflow.keras.applications import  InceptionV3\n",
    "\n",
    "from livelossplot import PlotLossesKeras\n",
    "\n",
    "np.random.seed(42)\n"
   ]
  },
  {
   "cell_type": "markdown",
   "id": "5a3f5001-b2fe-419d-9417-70790ee6a0d8",
   "metadata": {},
   "source": [
    "### Wczytywanie danych "
   ]
  },
  {
   "cell_type": "code",
   "execution_count": null,
   "id": "556622eb-0265-4bc8-8480-6c96980dfcb3",
   "metadata": {},
   "outputs": [],
   "source": [
    "\n",
    "train_dir = r\"..\\input\\train\"\n",
    "test_dir = r\"..\\input\\test\""
   ]
  },
  {
   "cell_type": "markdown",
   "id": "19bfbcd6-4230-4287-b572-0da09f7aa0fa",
   "metadata": {},
   "source": [
    "### Tworzenie generatora danych \n",
    "Generator bedzie skalował wartosci pikseli obrazów do zakresu [0,1] i ustalał podział danych na dane walidacyjne i treningowe"
   ]
  },
  {
   "cell_type": "code",
   "execution_count": null,
   "id": "ecc24a84-68b2-4789-b8d5-d2585e48f8f9",
   "metadata": {},
   "outputs": [],
   "source": [
    "datagen = ImageDataGenerator(rescale=1.0/255.0, validation_split=0.2)\n",
    "\n",
    "train_generator = datagen.flow_from_directory(\n",
    "    train_dir,\n",
    "    target_size=(200,200),\n",
    "    batch_size=32,\n",
    "    class_mode='categorical',\n",
    "    subset='training'\n",
    ")\n",
    "\n",
    "validation_generator = datagen.flow_from_directory(\n",
    "    test_dir,\n",
    "    target_size=(200,200),\n",
    "    batch_size=32,\n",
    "    class_mode='categorical',\n",
    "    subset='validation'\n",
    ")\n",
    "\n",
    "num_classes = len(train_generator.class_indices)\n",
    "print(f\"Number of classes: {num_classes}\")\n"
   ]
  },
  {
   "cell_type": "markdown",
   "id": "fa3032f8-22be-4b12-80e2-7e52cb006a8b",
   "metadata": {},
   "source": [
    "trian_generation i validation_generator , które będa słuzyc do ładowania obrazów w partiach z zachowaniem rozdzielczosci 75x75 pikseli\n",
    "Ładowane sa w partiach po 32 obrazy\n",
    "\n",
    "Rozmiar ten jest dostosowywany do obrazu wymaganego przez model. \n",
    "\n",
    "Model InceptionV3 zaprojektowano do przetwarzania obrazów w formacie RGB(3 kanały) i wymiarach 299x299. W implelentacji Keras umożliwia zmiane rozmiaru obrazu wejsciowego.\n",
    "\n",
    "Wybieram rozmiar 75x75 poniewaz pozwala szybciej tenowac model"
   ]
  },
  {
   "cell_type": "markdown",
   "id": "7b8d8dc2-9f32-460b-b1d0-0abc7e5b12c7",
   "metadata": {},
   "source": [
    "### Wykrywanie liczby klas"
   ]
  },
  {
   "cell_type": "code",
   "execution_count": null,
   "id": "3fc39ce8-baf8-4888-84ac-2b1641d71b10",
   "metadata": {},
   "outputs": [],
   "source": [
    "print(f\"Train class indices: {train_generator.class_indices}\")\n",
    "print(f\"Validation class indices: {validation_generator.class_indices}\")"
   ]
  },
  {
   "cell_type": "markdown",
   "id": "d04e9f38-83b2-445b-853d-23d29055bc4d",
   "metadata": {},
   "source": [
    "### Ładowanie modelu i konfiguracja modelu bazowego\n",
    "Załaduje Model bazowy InceptionV3 bez ostatniej warstwy klasyfikacyjnej (include_top= False) i dostosowany do obrazu wejsciowego"
   ]
  },
  {
   "cell_type": "code",
   "execution_count": null,
   "id": "c6839f17-2594-425c-ad1f-388e25ff6733",
   "metadata": {},
   "outputs": [],
   "source": [
    "base_model = InceptionV3(weights='imagenet', include_top=False, input_shape=(200,200,3))"
   ]
  },
  {
   "cell_type": "markdown",
   "id": "98e807a9-e9e1-4e9f-82e6-c7fca1c167d4",
   "metadata": {},
   "source": [
    "### Proces odmrazania warstw konwolucyjnych\n",
    "\n",
    "- Najpierw zamrazamy wszystie warstwy modelu \n",
    "- Nastepnie okreslamy ilosc warstw które maja byc trenowane\n",
    "- Potem odmrazamy warstwy które maja byc trenowane\n",
    "\n",
    "Aby zachowac wagi wczesniejszych warstw modelu (ich wstepenie wytrenowana wiedze) pozostałem warstwy powinny byc zamrożone"
   ]
  },
  {
   "cell_type": "code",
   "execution_count": null,
   "id": "d9ca8d5a-0baa-4eba-b235-47efe988afd2",
   "metadata": {},
   "outputs": [],
   "source": [
    "#Zamrozenie wszystkich warstw\n",
    "for layer in base_model.layers:\n",
    "    layer.trainable = False\n",
    "\n",
    "i = 30\n",
    "\n",
    "# Odmrazanie ostatnich i warstw\n",
    "for layer in base_model.layers[-i:]:\n",
    "    layer.trainable = True\n",
    "\n",
    "#Sprawdzenie statusu warstw\n",
    "for i, layer in enumerate(base_model.layers):\n",
    "    print(f' Layer {i} : {layer.name}, Trainable: {layer.trainable}')"
   ]
  },
  {
   "cell_type": "code",
   "execution_count": null,
   "id": "45d4f81a-9b2e-4d9e-9148-b361a5a9c343",
   "metadata": {},
   "outputs": [],
   "source": []
  },
  {
   "cell_type": "markdown",
   "id": "c8795ea1-32af-4eb8-83ca-04c591e5e72f",
   "metadata": {},
   "source": [
    "### Budowa Modelu \n",
    "Buduje model Sequential do którego dołacze model bazowy\n"
   ]
  },
  {
   "cell_type": "code",
   "execution_count": null,
   "id": "a83ada51-8d78-4961-8b68-550c70fea596",
   "metadata": {},
   "outputs": [],
   "source": [
    "\n",
    "model = Sequential([\n",
    "    base_model,\n",
    "    Flatten(),\n",
    "    Dense(128, activation='relu'),\n",
    "    Dropout(0.2),\n",
    "    Dense(num_classes, activation='softmax')\n",
    "])\n",
    "\n",
    "optimizer = Adam(0.001)\n",
    "\n",
    "model.compile(loss='categorical_crossentropy', optimizer=optimizer, metrics=['accuracy'])\n"
   ]
  },
  {
   "cell_type": "markdown",
   "id": "6ee93fe6-bf3e-4d2b-a3a6-3c882d36c8fe",
   "metadata": {},
   "source": [
    "Model kompiluje z  optymalizatorem Adam, ustawiajac tempo ucznie 0,001 z parametrem  decay= 0.0005 oraz funkcja strat"
   ]
  },
  {
   "cell_type": "markdown",
   "id": "8413c102-94f4-418a-bcbe-8242ff09b24c",
   "metadata": {},
   "source": [
    "### Konfiguracja szkolenia"
   ]
  },
  {
   "cell_type": "code",
   "execution_count": null,
   "id": "22eb453c-8f3a-4a69-b3c5-f0459f3eafcf",
   "metadata": {},
   "outputs": [],
   "source": [
    "callbacks = [\n",
    "    PlotLossesKeras(),\n",
    "    EarlyStopping(monitor='val_loss', patience=5, verbose=1),\n",
    "    \n",
    "    ModelCheckpoint(filepath= r'..\\models\\emotion_model_InceptionV3_model_{epoch:02d}_{val_loss:.2f}.keras', \n",
    "                    monitor='val_loss', save_best_only=True, mode='min' , verbose=1),\n",
    "    ReduceLROnPlateau( monitor='val_loss', factor=0.1, patience=10, verbose=1, mode='auto', min_lr=1e-6 ) \n",
    "]\n"
   ]
  },
  {
   "cell_type": "markdown",
   "id": "53716e96-c4fe-4bb8-b855-e48524ce891a",
   "metadata": {},
   "source": [
    "- PlotLossesKeras zwraca z kazda epoką wykres strat i dokładnoscina dla zbioru treningowego i walidacyjnego w czasie trenowania\n",
    "- EarlyStopping zatrzymuje trenowanie, gdy val_loss nie poprawia sie poprzez 5 epok\n",
    "- ModelCheckpoint zapisuje najlepsza wersje modelu na podstawie epoki i val_loss\n",
    "- ReduceLROPlateau zmniejsza tempo uczenia o wspołczynnik 0,1 gdy val_loss przestaje sie poprawiac przez 10 epok "
   ]
  },
  {
   "cell_type": "markdown",
   "id": "fab4ffd4-c179-4407-a2fe-b7e4366ad402",
   "metadata": {},
   "source": [
    "### Trenowanie modelu na GPU\n",
    "Model bedzie trenowany przez 50 epok na GPU"
   ]
  },
  {
   "cell_type": "code",
   "execution_count": null,
   "id": "2d4655d5-8633-4dd4-8da1-9a92d338c9e3",
   "metadata": {},
   "outputs": [
    {
     "name": "stdout",
     "output_type": "stream",
     "text": [
      "Epoch 1/50\n"
     ]
    },
    {
     "name": "stderr",
     "output_type": "stream",
     "text": [
      "C:\\programy\\Anaconda3\\Lib\\site-packages\\keras\\src\\trainers\\data_adapters\\py_dataset_adapter.py:121: UserWarning: Your `PyDataset` class should call `super().__init__(**kwargs)` in its constructor. `**kwargs` can include `workers`, `use_multiprocessing`, `max_queue_size`. Do not pass these arguments to `fit()`, as they will be ignored.\n",
      "  self._warn_if_super_not_called()\n"
     ]
    },
    {
     "name": "stdout",
     "output_type": "stream",
     "text": [
      "\u001b[1m561/718\u001b[0m \u001b[32m━━━━━━━━━━━━━━━\u001b[0m\u001b[37m━━━━━\u001b[0m \u001b[1m4:25:07\u001b[0m 101s/step - accuracy: 0.2406 - loss: 4.6838"
     ]
    }
   ],
   "source": [
    "\n",
    "with tf.device('/GPU:0'):\n",
    "    history = model.fit(\n",
    "        train_generator,\n",
    "        epochs=50,\n",
    "        callbacks=callbacks,\n",
    "        validation_data=validation_generator\n",
    "    )\n"
   ]
  },
  {
   "cell_type": "code",
   "execution_count": null,
   "id": "d96ee0b0-a61e-41e3-8c3b-1bcccbe762c5",
   "metadata": {},
   "outputs": [],
   "source": []
  },
  {
   "cell_type": "code",
   "execution_count": 15,
   "id": "5d8fe2cc-5a5d-4172-a5fd-7c8fb4da0fbe",
   "metadata": {},
   "outputs": [
    {
     "name": "stdout",
     "output_type": "stream",
     "text": [
      "Found 7178 images belonging to 7 classes.\n",
      "\u001b[1m225/225\u001b[0m \u001b[32m━━━━━━━━━━━━━━━━━━━━\u001b[0m\u001b[37m\u001b[0m \u001b[1m79s\u001b[0m 346ms/step - accuracy: 0.4763 - loss: 1.4786\n",
      "Test Loss: 1.500395655632019\n",
      "Test Accuracy: 0.47199776768684387\n"
     ]
    }
   ],
   "source": [
    "test_generator = datagen.flow_from_directory(\n",
    "    test_dir,\n",
    "    target_size=(200,200),\n",
    "    batch_size=32,\n",
    "    class_mode='categorical'\n",
    ")\n",
    "\n",
    "loss, accuracy = model.evaluate(test_generator, verbose=1)\n",
    "\n",
    "print(f'Test Loss: {loss}')\n",
    "print(f'Test Accuracy: {accuracy}')"
   ]
  },
  {
   "cell_type": "markdown",
   "id": "245c44f7-d494-4739-9044-56c7f7db14aa",
   "metadata": {},
   "source": [
    "### Podsumowanie\n",
    "\n",
    "Transfer Learning z wykorzystaniem modelu InceptionV3 "
   ]
  },
  {
   "cell_type": "code",
   "execution_count": null,
   "id": "8190d250-272e-417e-9441-ca27e088f857",
   "metadata": {},
   "outputs": [],
   "source": []
  }
 ],
 "metadata": {
  "kernelspec": {
   "display_name": "Python 3 (ipykernel)",
   "language": "python",
   "name": "python3"
  },
  "language_info": {
   "codemirror_mode": {
    "name": "ipython",
    "version": 3
   },
   "file_extension": ".py",
   "mimetype": "text/x-python",
   "name": "python",
   "nbconvert_exporter": "python",
   "pygments_lexer": "ipython3",
   "version": "3.9.15"
  }
 },
 "nbformat": 4,
 "nbformat_minor": 5
}
