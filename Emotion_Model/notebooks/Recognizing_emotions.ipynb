{
 "cells": [
  {
   "cell_type": "code",
   "execution_count": null,
   "id": "68b27f6f-a41c-46c7-9065-41e76a866903",
   "metadata": {},
   "outputs": [],
   "source": [
    "import cv2\n",
    "\n",
    "from tensorflow.keras.models import load_model\n"
   ]
  },
  {
   "cell_type": "markdown",
   "id": "be7308fe-ecc8-47c5-a870-f64a835e39af",
   "metadata": {},
   "source": [
    "### Wczytywanie modelu "
   ]
  },
  {
   "cell_type": "code",
   "execution_count": null,
   "id": "7c97122c-ca9c-4641-91f6-42f5b4d5bc18",
   "metadata": {},
   "outputs": [],
   "source": [
    "model = load_model(\"..\\models\\emotion_model_InceptionV3_model_13_1.14.keras\")"
   ]
  },
  {
   "cell_type": "markdown",
   "id": "7f1b45ac-98b0-447d-a095-d235553ba549",
   "metadata": {},
   "source": [
    "### Rozpoznawanie emocji "
   ]
  },
  {
   "cell_type": "code",
   "execution_count": null,
   "id": "8f3905e7-3085-43cd-8ceb-dddfd3356684",
   "metadata": {},
   "outputs": [],
   "source": [
    "\n",
    "\n",
    "emotion_labels = ['Angry', 'Disgust', 'Fear', 'Happy', 'Sad', 'Surprise', 'Neutral']\n",
    "\n",
    "def predict_emotion(face_image, model):\n",
    "    face_image = cv2.resize(face_image, (75,75))\n",
    "    face_image = cv2.cvtColor(face_image, cv2.COLOR_GRAY2RGB)  \n",
    "    face_image = face_image / 255.0\n",
    "    face_image = np.expand_dims(face_image, 0) \n",
    "    predictions = model.predict(face_image)\n",
    "    return emotion_labels[np.argmax(predictions)]\n",
    "\n",
    "cap = cv2.VideoCapture(0)\n",
    "\n",
    "while True:\n",
    "    ret, frame = cap.read()\n",
    "    if not ret:\n",
    "        break\n",
    "\n",
    "    gray = cv2.cvtColor(frame, cv2.COLOR_BGR2GRAY)\n",
    "    \n",
    "    face_cascade = cv2.CascadeClassifier(cv2.data.haarcascades + 'haarcascade_frontalface_default.xml')\n",
    "    faces = face_cascade.detectMultiScale(gray, scaleFactor=1.3, minNeighbors=5)\n",
    "\n",
    "    for (x, y, w, h) in faces:\n",
    "        face = gray[y:y+h, x:x+w]\n",
    "        emotion = predict_emotion(face, model)\n",
    "        \n",
    "        cv2.rectangle(frame, (x, y), (x+w, y+h), (255, 0, 0), 2)\n",
    "        cv2.putText(frame, emotion, (x, y-10), cv2.FONT_HERSHEY_SIMPLEX, 0.9, (255, 0, 0), 2)\n",
    "\n",
    "    cv2.imshow('Emotion Recognition', frame)\n",
    "    \n",
    "    if cv2.waitKey(1) & 0xFF == ord('q'):\n",
    "        break\n",
    "\n",
    "cap.release()\n",
    "cv2.destroyAllWindows()\n"
   ]
  },
  {
   "cell_type": "code",
   "execution_count": null,
   "id": "5f4259aa-539e-4596-b62d-8d648ff3b41c",
   "metadata": {},
   "outputs": [],
   "source": []
  },
  {
   "cell_type": "code",
   "execution_count": null,
   "id": "5129e8c6-1ee3-44fe-9200-ee7020f9e6ee",
   "metadata": {},
   "outputs": [],
   "source": []
  }
 ],
 "metadata": {
  "kernelspec": {
   "display_name": "Python 3 (ipykernel)",
   "language": "python",
   "name": "python3"
  },
  "language_info": {
   "codemirror_mode": {
    "name": "ipython",
    "version": 3
   },
   "file_extension": ".py",
   "mimetype": "text/x-python",
   "name": "python",
   "nbconvert_exporter": "python",
   "pygments_lexer": "ipython3",
   "version": "3.12.4"
  }
 },
 "nbformat": 4,
 "nbformat_minor": 5
}
