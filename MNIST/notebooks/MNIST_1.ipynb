{
 "cells": [
  {
   "cell_type": "markdown",
   "id": "eastern-webster",
   "metadata": {},
   "source": [
    "## Przeanalizowanie zadania\n",
    "\n",
    "Mam zamiar wytrenowac model ktory bedzie poprawnie klasyfikował ręcznie pisane cyfry od 0 do 9 korzystajac ze zbioru MNIST\n",
    "Wykorzystam do tego siec konwolucyjna która polega na przesuwaniu filtra (jadra konwolucyjnego ) po obrazie i obliczaniu iloczynu skalarnego miedzy filtrem a fragmentami obrazu "
   ]
  },
  {
   "cell_type": "code",
   "execution_count": 1,
   "id": "tamil-start",
   "metadata": {},
   "outputs": [],
   "source": [
    "import numpy as np\n",
    "np.random.seed(0)\n",
    "\n",
    "#Tensorflow\n",
    "import tensorflow.keras as keras\n",
    "from tensorflow.keras.datasets import mnist"
   ]
  },
  {
   "cell_type": "markdown",
   "id": "incredible-rabbit",
   "metadata": {},
   "source": [
    "###  Wczytywanie danych"
   ]
  },
  {
   "cell_type": "code",
   "execution_count": 4,
   "id": "steady-southwest",
   "metadata": {
    "scrolled": true
   },
   "outputs": [
    {
     "name": "stdout",
     "output_type": "stream",
     "text": [
      "(60000, 28, 28) (10000, 28, 28)\n"
     ]
    }
   ],
   "source": [
    "(X_train, y_train), (X_test, y_test) = mnist.load_data()\n",
    "\n",
    "print((X_train.shape), (X_test.shape))"
   ]
  },
  {
   "cell_type": "markdown",
   "id": "bound-buyer",
   "metadata": {},
   "source": [
    "Zbiór danych MINST zawiera 60 000 próbek obrazów (28x28 pikseli) z cyframi recznie pisanymi od 0 do 9 oraz zestaw testowy o wielkosci 10 000 obrazów.\n",
    "\n",
    "Został on podzielony autoatycznie na zestaw treningowy i testowy"
   ]
  },
  {
   "cell_type": "code",
   "execution_count": 7,
   "id": "rotary-viewer",
   "metadata": {},
   "outputs": [
    {
     "data": {
      "image/png": "[encoded data removed]",
      "text/plain": [
       "<Figure size 640x480 with 1 Axes>"
      ]
     },
     "metadata": {},
     "output_type": "display_data"
    }
   ],
   "source": [
    "import matplotlib.pyplot as plt\n",
    "\n",
    "plt.imshow(X_train[1], cmap = 'gray')\n",
    "plt.show()\n"
   ]
  },
  {
   "cell_type": "markdown",
   "id": "charitable-theater",
   "metadata": {},
   "source": [
    "W zbiorze danych MNIST kazdy obraz to macierz o wymiarach 28x28 w której wartosci odpowiadaja odcieniom szarości pikseli obrazu. "
   ]
  },
  {
   "cell_type": "markdown",
   "id": "solid-presentation",
   "metadata": {},
   "source": [
    "#### Normalizacja danych \n",
    "Skaluje wartości z przedziału [0,255] do [0,1]\n",
    "\n",
    "Zmiennnoprzecinkowe liczby pozwalaja na reprezentowanie wartości z wiekszą dokładnoscia, szczególnie w przypadku małych liczb"
   ]
  },
  {
   "cell_type": "code",
   "execution_count": 9,
   "id": "comic-kennedy",
   "metadata": {},
   "outputs": [],
   "source": [
    "X_train = X_train.astype('float32')/255\n",
    "X_test = X_test.astype('float32')/255\n",
    "\n",
    "num_classes = 10\n",
    "img_rows, img_cols = 28,28"
   ]
  },
  {
   "cell_type": "markdown",
   "id": "coral-chosen",
   "metadata": {},
   "source": [
    "Konwersja etykiet na wektory one-hot dla zmiennej docelowej\n",
    "\n"
   ]
  },
  {
   "cell_type": "code",
   "execution_count": 11,
   "id": "threatened-punishment",
   "metadata": {},
   "outputs": [],
   "source": [
    "from tensorflow.keras.utils import to_categorical\n",
    "\n",
    "y_train = to_categorical(y_train,10)\n",
    "y_test = to_categorical(y_test,10)"
   ]
  },
  {
   "cell_type": "markdown",
   "id": "accompanied-sheet",
   "metadata": {},
   "source": [
    "### Budowanie Modelu  sieci konwolucyjnych "
   ]
  },
  {
   "cell_type": "code",
   "execution_count": 13,
   "id": "increasing-feature",
   "metadata": {},
   "outputs": [],
   "source": [
    "from tensorflow.keras.models import Sequential\n",
    "from tensorflow.keras.layers import Conv2D, MaxPooling2D, Flatten, Dense,Dropout, Input\n",
    "\n",
    "model = Sequential([\n",
    "    Input(shape=(img_rows, img_cols, 1)),\n",
    "    Conv2D(32, kernel_size=(3, 3), activation='relu'),\n",
    "    MaxPooling2D(pool_size=(2, 2)),\n",
    "    Dropout(0.25), \n",
    "        \n",
    "    Conv2D(64, kernel_size=(3, 3), activation='relu'),\n",
    "    MaxPooling2D(pool_size=(2, 2)),\n",
    "    Dropout(0.25),\n",
    "    \n",
    "    #spłaszczenie danych i dodanie warstwy w pełni połaczonych\n",
    "    # spłaszczanie danych, aby połączyć warstwy konwolucyjne z fully connected layers\n",
    "    Flatten(), \n",
    "    Dense(1024, activation='relu'),\n",
    "    Dropout(0.5),\n",
    "    Dense(num_classes, activation='softmax')\n",
    "    ])\n"
   ]
  },
  {
   "cell_type": "markdown",
   "id": "accepted-melissa",
   "metadata": {},
   "source": [
    "- Sequential- Tworzy model jako sekwencje warstw\n",
    "- Conv2d jest to warstwa konwolucyjna która ma 32 filtry o rozmiarze 3x3 i funkcje aktywacji ReLU. Parametr input_shape definiuje kształt wejscia (wysokosc, szerokosc, kanały )\n",
    "- Max Pooling2d(pool_size=(2,2)) Zmniejsza rozmiar macierzy, wybierajac maksymalne wartosci z okienek 2x2 co redukuje wymiar i szum \n",
    "- Dropout(0,25) Losowo zeruej 25% jednostek co zapobiega przeuczeniu modelu \n",
    "- Flatten() Spłaszcza dane, przekształcajac macierz z wieloma wymiarami w wektor, który moze byc przetworzony przez warstwy Danse\n",
    "- Dense(1024, activation='relu') warstwa wpełni połaczona z 1024 jednostkami uzywa funkcji relu "
   ]
  },
  {
   "cell_type": "markdown",
   "id": "classified-message",
   "metadata": {},
   "source": [
    "### Kompilacja Modelu\n",
    "\n",
    "Okresle teraz jak model bedzie trenowany.\n",
    "Obejmuje to wybór optymalizatora, funkcji straty i metryk"
   ]
  },
  {
   "cell_type": "code",
   "execution_count": 16,
   "id": "twenty-january",
   "metadata": {},
   "outputs": [
    {
     "name": "stdout",
     "output_type": "stream",
     "text": [
      "Model: \"sequential\"\n",
      "_________________________________________________________________\n",
      " Layer (type)                Output Shape              Param #   \n",
      "=================================================================\n",
      " conv2d (Conv2D)             (None, 26, 26, 32)        320       \n",
      "                                                                 \n",
      " max_pooling2d (MaxPooling2D  (None, 13, 13, 32)       0         \n",
      " )                                                               \n",
      "                                                                 \n",
      " dropout (Dropout)           (None, 13, 13, 32)        0         \n",
      "                                                                 \n",
      " conv2d_1 (Conv2D)           (None, 11, 11, 64)        18496     \n",
      "                                                                 \n",
      " max_pooling2d_1 (MaxPooling  (None, 5, 5, 64)         0         \n",
      " 2D)                                                             \n",
      "                                                                 \n",
      " dropout_1 (Dropout)         (None, 5, 5, 64)          0         \n",
      "                                                                 \n",
      " flatten (Flatten)           (None, 1600)              0         \n",
      "                                                                 \n",
      " dense (Dense)               (None, 1024)              1639424   \n",
      "                                                                 \n",
      " dropout_2 (Dropout)         (None, 1024)              0         \n",
      "                                                                 \n",
      " dense_1 (Dense)             (None, 10)                10250     \n",
      "                                                                 \n",
      "=================================================================\n",
      "Total params: 1,668,490\n",
      "Trainable params: 1,668,490\n",
      "Non-trainable params: 0\n",
      "_________________________________________________________________\n"
     ]
    }
   ],
   "source": [
    "model.compile(loss='categorical_crossentropy', optimizer='adam', metrics=['accuracy'])\n",
    "model.summary()"
   ]
  },
  {
   "cell_type": "markdown",
   "id": "internal-desert",
   "metadata": {},
   "source": [
    "- Optymalizator (Adam)- okresla, jak model bedzie aktualizował swoje wagi w trakcie uczeniu. Adam łaczy zalety optymalizatorów RMSprop i SGD\n",
    "- Funkcja Straty (categorical_crossentropy)- Mierzy róznice miedzy przewidywaniami modelu a rzeczywitymi etykietami \n",
    "- metryki ( accuracy) uzywane do monitorowania skutecznosci  modelu , dokładnosc"
   ]
  },
  {
   "cell_type": "markdown",
   "id": "incorporated-chancellor",
   "metadata": {},
   "source": [
    "### Trenowanie Modelu "
   ]
  },
  {
   "cell_type": "code",
   "execution_count": 19,
   "id": "premier-joseph",
   "metadata": {},
   "outputs": [
    {
     "data": {
      "image/png": "[encoded data removed]",
      "text/plain": [
       "<Figure size 1200x800 with 2 Axes>"
      ]
     },
     "metadata": {},
     "output_type": "display_data"
    },
    {
     "name": "stdout",
     "output_type": "stream",
     "text": [
      "accuracy\n",
      "\taccuracy         \t (min:    0.931, max:    0.996, cur:    0.996)\n",
      "Loss\n",
      "\tloss             \t (min:    0.012, max:    0.222, cur:    0.012)\n",
      "469/469 [==============================] - 1s 3ms/step - loss: 0.0122 - accuracy: 0.9960\n"
     ]
    },
    {
     "data": {
      "text/plain": [
       "<keras.callbacks.History at 0x2060a1198b0>"
      ]
     },
     "execution_count": 19,
     "metadata": {},
     "output_type": "execute_result"
    }
   ],
   "source": [
    "#Biblioteka do wizualizacji trenowanego modelu \n",
    "from livelossplot import PlotLossesKeras \n",
    "\n",
    "model.fit(X_train, y_train,callbacks=[PlotLossesKeras()],batch_size=128, epochs=20, verbose=1)"
   ]
  },
  {
   "cell_type": "markdown",
   "id": "5b3c9d05-714b-4fc9-8e48-97e70df491e6",
   "metadata": {},
   "source": [
    "Funkcja fit wykonuje zadanie dopasowania modelu (trenowania)\n",
    "- X_train,y_train dane treningowe i odpowiadajace im etykiety\n",
    "- batch_size Dane treningowe sa podzielone na partie po 128 próbek które sa przetworzane na raz\n",
    "- epochs liczba pełnych przejść przez cały zriór danych\n",
    "- verbose wyswietla wizualizacje postepu trenowania modelu"
   ]
  },
  {
   "cell_type": "markdown",
   "id": "north-interview",
   "metadata": {},
   "source": [
    "### Ocena Modelu\n",
    "Sprawdze teraz jak dobrze model radzi sobie z danymi testowymi"
   ]
  },
  {
   "cell_type": "code",
   "execution_count": 9,
   "id": "organized-spanking",
   "metadata": {},
   "outputs": [
    {
     "name": "stdout",
     "output_type": "stream",
     "text": [
      "\u001b[1m313/313\u001b[0m \u001b[32m━━━━━━━━━━━━━━━━━━━━\u001b[0m\u001b[37m\u001b[0m \u001b[1m1s\u001b[0m 4ms/step - accuracy: 0.9924 - loss: 0.0315\n",
      "Test loss:  0.02519606053829193\n",
      "Test accuracy:  0.9939000010490417\n"
     ]
    }
   ],
   "source": [
    "score = model.evaluate(X_test,y_test)\n",
    "print('Test loss: ', score[0])\n",
    "print('Test accuracy: ',score[1])"
   ]
  },
  {
   "cell_type": "markdown",
   "id": "sealed-county",
   "metadata": {},
   "source": [
    "- Test loss ( score[0]) strata obliczona na danych testowych czyli jak dobrze model przewiduje \n",
    "- Test accuracy (score[1]) Dokładnosc modelu na danych testowych czyli procent poprawnych klasyfikacji"
   ]
  },
  {
   "cell_type": "markdown",
   "id": "8e647771-fc7c-4c7a-bb13-004b5c08eff6",
   "metadata": {},
   "source": [
    "### Zapisywanie modelu "
   ]
  },
  {
   "cell_type": "code",
   "execution_count": 10,
   "id": "9434f271-090e-42ff-8c80-c806e2f15fe3",
   "metadata": {},
   "outputs": [],
   "source": [
    "model.save('../models/MNIST_model.keras')\n",
    "# Zapisałem model w folderze models w formacie keras który jest zalecany"
   ]
  },
  {
   "cell_type": "markdown",
   "id": "ae2a4d7c-589e-4329-97b4-efd0e16ce5a5",
   "metadata": {},
   "source": [
    "## Wnioski\n",
    "\n",
    "Udało mi sie zbudowac konwolucujna siec neuronową, któa skutecznie klasyfikuje cyfry pisane recznie. Skutecznosc mojego projektu jest na poziomie 99,4% dokładnosci. \n",
    "\n",
    "Moim zdaniem normalizacja danych wejsciowych i konwersja etykiet do formatu one-hot były kluczowe dla poprawnego funkcjonowania modelu i stabilnosci treningu.\n",
    "\n",
    "Projekt ten pokazuje ze konwolucyjne sieci neuronowe sa bardzo efektywne w klasyfikacji obrazów"
   ]
  }
 ],
 "metadata": {
  "kernelspec": {
   "display_name": "Python [conda env:base] *",
   "language": "python",
   "name": "conda-base-py"
  },
  "language_info": {
   "codemirror_mode": {
    "name": "ipython",
    "version": 3
   },
   "file_extension": ".py",
   "mimetype": "text/x-python",
   "name": "python",
   "nbconvert_exporter": "python",
   "pygments_lexer": "ipython3",
   "version": "3.12.3"
  }
 },
 "nbformat": 4,
 "nbformat_minor": 5
}
