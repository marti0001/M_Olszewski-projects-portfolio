{
 "cells": [
  {
   "cell_type": "markdown",
   "id": "8b7587c9-090e-48a1-864f-7c5d9a239380",
   "metadata": {},
   "source": [
    "\n",
    "\n",
    "Moim celem jest zgłoszenie modelu w konkursie Kaggle.\n",
    "Musze przekonwetrowac model "
   ]
  },
  {
   "cell_type": "code",
   "execution_count": 1,
   "id": "508acd1c-0afd-4e9a-8770-22b51100ed61",
   "metadata": {},
   "outputs": [],
   "source": [
    "import pandas as pd\n",
    "import numpy as np\n",
    "from tensorflow.keras.models import load_model"
   ]
  },
  {
   "cell_type": "markdown",
   "id": "e282ad4c-8cfc-4f2e-8227-5c175a4ad2ca",
   "metadata": {},
   "source": [
    "### Wczytywanie modelu "
   ]
  },
  {
   "cell_type": "code",
   "execution_count": 10,
   "id": "9240abc4-e63f-4386-abeb-0336c4c8b814",
   "metadata": {},
   "outputs": [],
   "source": [
    "model = load_model('../models/MNIST_model.keras')"
   ]
  },
  {
   "cell_type": "markdown",
   "id": "31f7f9a7-e32d-437b-ae18-c6f172540b81",
   "metadata": {},
   "source": [
    "### Wczytywanie danych pobranych ze strony Kaggle"
   ]
  },
  {
   "cell_type": "code",
   "execution_count": 11,
   "id": "87666c3a-4d34-4fc2-85d5-3e48ef31e2c6",
   "metadata": {},
   "outputs": [
    {
     "data": {
      "text/plain": [
       "(28000, 784)"
      ]
     },
     "execution_count": 11,
     "metadata": {},
     "output_type": "execute_result"
    }
   ],
   "source": [
    "test_data = pd.read_csv('../input/test.csv').values\n",
    "test_data.shape"
   ]
  },
  {
   "cell_type": "markdown",
   "id": "2e9fc87e-a7f6-4b63-bffc-397b5775e53b",
   "metadata": {},
   "source": [
    "Pobieram wartosci z DataFrame z pliku csv i przekszałcam je do formatu tablicy Numpy\n",
    "Funkcja .values konwertuje obiek Dataframe do formatu NumPy"
   ]
  },
  {
   "cell_type": "code",
   "execution_count": 12,
   "id": "5c446642-d116-4f36-8e02-e999d65fa172",
   "metadata": {},
   "outputs": [],
   "source": [
    "test_data = test_data.reshape(-1,28,28,1)/255"
   ]
  },
  {
   "cell_type": "markdown",
   "id": "1f1be8f5-8c50-4469-b154-f7bf0cefbf1c",
   "metadata": {},
   "source": [
    "Przekształcam kształ danych \n",
    "Kazdy obraz zostanie przekształcony do formatu 28x28 pikseli z jednym kanałem (odcienie szarosci),\n",
    "-1 pozwala automatycznie dopasowac liczbe próbek , zachowując wszystkie próbki danych\n",
    "Dzieląc przez 255 przekształcam zakres wartosci z [0,255] do [0,1]\n"
   ]
  },
  {
   "cell_type": "markdown",
   "id": "35603ec4-06f5-446f-893b-402ee7b04749",
   "metadata": {},
   "source": [
    "### Predykcja danych"
   ]
  },
  {
   "cell_type": "code",
   "execution_count": 13,
   "id": "60f8bf76-e797-4614-8a62-f5acc91e2fc1",
   "metadata": {},
   "outputs": [
    {
     "name": "stdout",
     "output_type": "stream",
     "text": [
      "\u001b[1m875/875\u001b[0m \u001b[32m━━━━━━━━━━━━━━━━━━━━\u001b[0m\u001b[37m\u001b[0m \u001b[1m3s\u001b[0m 4ms/step\n"
     ]
    }
   ],
   "source": [
    "predictions = model.predict(test_data)"
   ]
  },
  {
   "cell_type": "markdown",
   "id": "d669855f-e621-4998-82ed-ec86ecfe933c",
   "metadata": {},
   "source": [
    "Funkcja zwraca macierz o wymiarach (liczba obrazów, liczba klas). Kazdy wiersz tej macierzy zawiera prawdopodobienstwo dla kazdej (0-9)"
   ]
  },
  {
   "cell_type": "code",
   "execution_count": 14,
   "id": "4ffc7ee8-0794-497f-9732-54727120b714",
   "metadata": {},
   "outputs": [],
   "source": [
    "predict_labels = np.argmax(predictions, axis = 1)"
   ]
  },
  {
   "cell_type": "markdown",
   "id": "740c5ac4-c510-4a78-8e1b-991fc98a5f5f",
   "metadata": {},
   "source": [
    "Funkcja argmax wybiera najwiekszy index w wierszu (axis = 1), o najwyzszym prawdopodobienstwu dla kazdego obrazu"
   ]
  },
  {
   "cell_type": "markdown",
   "id": "1259bd58-d1b4-420b-adf7-ab0867e7abf9",
   "metadata": {},
   "source": [
    "### Zapisywanie wyników w ofrmacie wymaganym przez Kaggle"
   ]
  },
  {
   "cell_type": "code",
   "execution_count": 15,
   "id": "6d6907bd-5e00-4061-9ce6-06fd1638c03d",
   "metadata": {},
   "outputs": [],
   "source": [
    "submission = pd.DataFrame({\n",
    "    'ImageId': np.arange(1,len(predict_labels)+1),\n",
    "    'Label': predict_labels\n",
    "})"
   ]
  },
  {
   "cell_type": "code",
   "execution_count": 19,
   "id": "be251d1a-3023-4416-947d-922381de3e57",
   "metadata": {},
   "outputs": [
    {
     "data": {
      "text/html": [
       "<div>\n",
       "<style scoped>\n",
       "    .dataframe tbody tr th:only-of-type {\n",
       "        vertical-align: middle;\n",
       "    }\n",
       "\n",
       "    .dataframe tbody tr th {\n",
       "        vertical-align: top;\n",
       "    }\n",
       "\n",
       "    .dataframe thead th {\n",
       "        text-align: right;\n",
       "    }\n",
       "</style>\n",
       "<table border=\"1\" class=\"dataframe\">\n",
       "  <thead>\n",
       "    <tr style=\"text-align: right;\">\n",
       "      <th></th>\n",
       "      <th>ImageId</th>\n",
       "      <th>Label</th>\n",
       "    </tr>\n",
       "  </thead>\n",
       "  <tbody>\n",
       "    <tr>\n",
       "      <th>7981</th>\n",
       "      <td>7982</td>\n",
       "      <td>3</td>\n",
       "    </tr>\n",
       "    <tr>\n",
       "      <th>17137</th>\n",
       "      <td>17138</td>\n",
       "      <td>9</td>\n",
       "    </tr>\n",
       "    <tr>\n",
       "      <th>3559</th>\n",
       "      <td>3560</td>\n",
       "      <td>7</td>\n",
       "    </tr>\n",
       "    <tr>\n",
       "      <th>15892</th>\n",
       "      <td>15893</td>\n",
       "      <td>4</td>\n",
       "    </tr>\n",
       "    <tr>\n",
       "      <th>7379</th>\n",
       "      <td>7380</td>\n",
       "      <td>1</td>\n",
       "    </tr>\n",
       "  </tbody>\n",
       "</table>\n",
       "</div>"
      ],
      "text/plain": [
       "       ImageId  Label\n",
       "7981      7982      3\n",
       "17137    17138      9\n",
       "3559      3560      7\n",
       "15892    15893      4\n",
       "7379      7380      1"
      ]
     },
     "execution_count": 19,
     "metadata": {},
     "output_type": "execute_result"
    }
   ],
   "source": [
    "submission.sample(5)"
   ]
  },
  {
   "cell_type": "markdown",
   "id": "0fabb54f-14c8-4e2a-ab08-dd50983eb51b",
   "metadata": {},
   "source": [
    "Tworze DataFrame z 2 kolumnami:\n",
    "- ImageId gdzie kazdy obraz jest numerowany od 1\n",
    "- Label która jest przewidywaniem"
   ]
  },
  {
   "cell_type": "code",
   "execution_count": 17,
   "id": "7975b138-7769-4155-97e1-4f99bc6ed774",
   "metadata": {},
   "outputs": [],
   "source": [
    "submission.to_csv('../output/submission.csv', index=False)\n"
   ]
  },
  {
   "cell_type": "markdown",
   "id": "9fee7706-450e-45a0-951b-7578ab6f4502",
   "metadata": {},
   "source": [
    "Zapisuje w pliku csv bez indeksów (index= False) według zalecen na stronie Kaggle. \n",
    "\n",
    "Na Kaggle jest opis jak powinien wygladac plik wyjsciowy"
   ]
  },
  {
   "cell_type": "markdown",
   "id": "702dcb79-5bc7-410e-9e4f-b92b547ecee8",
   "metadata": {},
   "source": [
    "## Wnioski\n",
    "Model zgłosiłem do konkursu na Kaggle, osiągnął on Score: 0.99900 co dało mi 33 miejsce w rankingu"
   ]
  },
  {
   "cell_type": "code",
   "execution_count": null,
   "id": "32cfe4be-84fb-48d7-856c-b68b3ca53f7e",
   "metadata": {},
   "outputs": [],
   "source": []
  }
 ],
 "metadata": {
  "kernelspec": {
   "display_name": "Python 3 (ipykernel)",
   "language": "python",
   "name": "python3"
  },
  "language_info": {
   "codemirror_mode": {
    "name": "ipython",
    "version": 3
   },
   "file_extension": ".py",
   "mimetype": "text/x-python",
   "name": "python",
   "nbconvert_exporter": "python",
   "pygments_lexer": "ipython3",
   "version": "3.12.4"
  }
 },
 "nbformat": 4,
 "nbformat_minor": 5
}
