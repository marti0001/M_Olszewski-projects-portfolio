{
 "cells": [
  {
   "cell_type": "markdown",
   "id": "8b7587c9-090e-48a1-864f-7c5d9a239380",
   "metadata": {},
   "source": [
    "\n",
    "\n",
    "Moim celem jest zgłoszenie modelu w konkursie Kaggle.\n",
    "Musze przekonwetrowac model "
   ]
  },
  {
   "cell_type": "code",
   "execution_count": 9,
   "id": "508acd1c-0afd-4e9a-8770-22b51100ed61",
   "metadata": {},
   "outputs": [],
   "source": [
    "import pandas as pd\n",
    "import numpy as np\n",
    "from tensorflow.keras.models import load_model"
   ]
  },
  {
   "cell_type": "markdown",
   "id": "e282ad4c-8cfc-4f2e-8227-5c175a4ad2ca",
   "metadata": {},
   "source": [
    "### Wczytywanie modelu "
   ]
  },
  {
   "cell_type": "code",
   "execution_count": 10,
   "id": "9240abc4-e63f-4386-abeb-0336c4c8b814",
   "metadata": {},
   "outputs": [],
   "source": [
    "model = load_model('../models/MNIST_model.keras')"
   ]
  },
  {
   "cell_type": "markdown",
   "id": "31f7f9a7-e32d-437b-ae18-c6f172540b81",
   "metadata": {},
   "source": [
    "### Wczytywanie danych pobranych ze strony Kaggle"
   ]
  },
  {
   "cell_type": "code",
   "execution_count": 11,
   "id": "87666c3a-4d34-4fc2-85d5-3e48ef31e2c6",
   "metadata": {},
   "outputs": [
    {
     "data": {
      "text/plain": [
       "(28000, 784)"
      ]
     },
     "execution_count": 11,
     "metadata": {},
     "output_type": "execute_result"
    }
   ],
   "source": [
    "test_data = pd.read_csv('../input/test.csv').values\n",
    "test_data.shape"
   ]
  },
  {
   "cell_type": "markdown",
   "id": "2e9fc87e-a7f6-4b63-bffc-397b5775e53b",
   "metadata": {},
   "source": [
    "Pobieram wartosci z DataFrame z pliku csv i przekszałcam je do formatu tablicy Numpy\n",
    "Funkcja .values konwertuje obiek Dataframe do formatu NumPy"
   ]
  },
  {
   "cell_type": "code",
   "execution_count": 13,
   "id": "5c446642-d116-4f36-8e02-e999d65fa172",
   "metadata": {},
   "outputs": [],
   "source": [
    "test_data = test_data.reshape(-1,28,28,1)/255"
   ]
  },
  {
   "cell_type": "markdown",
   "id": "1f1be8f5-8c50-4469-b154-f7bf0cefbf1c",
   "metadata": {},
   "source": [
    "Przekształcam kształ danych \n",
    "Kazdy obraz zostanie przekształcony do formatu 28x28 pikseli z jednym kanałem (odcienie szarosci),\n",
    "-1 pozwala automatycznie dopasowac liczbe próbek , zachowując wszystkie próbki danych\n",
    "Dzieląc przez 255 przekształcam zakres wartosci z [0,255] do [0,1]\n"
   ]
  },
  {
   "cell_type": "markdown",
   "id": "35603ec4-06f5-446f-893b-402ee7b04749",
   "metadata": {},
   "source": [
    "### Predykcja danych"
   ]
  },
  {
   "cell_type": "code",
   "execution_count": 15,
   "id": "60f8bf76-e797-4614-8a62-f5acc91e2fc1",
   "metadata": {},
   "outputs": [
    {
     "name": "stdout",
     "output_type": "stream",
     "text": [
      "\u001b[1m875/875\u001b[0m \u001b[32m━━━━━━━━━━━━━━━━━━━━\u001b[0m\u001b[37m\u001b[0m \u001b[1m3s\u001b[0m 4ms/step\n"
     ]
    }
   ],
   "source": [
    "predictions = model.predict(test_data)"
   ]
  },
  {
   "cell_type": "markdown",
   "id": "d669855f-e621-4998-82ed-ec86ecfe933c",
   "metadata": {},
   "source": [
    "Funkcja zwraca macierz o wymiarach (liczba obrazów, liczba klas). Kazdy wiersz tej macierzy zawiera prawdopodobienstwo dla kazdej (0-9)"
   ]
  },
  {
   "cell_type": "code",
   "execution_count": 16,
   "id": "4ffc7ee8-0794-497f-9732-54727120b714",
   "metadata": {},
   "outputs": [],
   "source": [
    "predict_labels = np.argmax(predictions, axis = 1)"
   ]
  },
  {
   "cell_type": "markdown",
   "id": "740c5ac4-c510-4a78-8e1b-991fc98a5f5f",
   "metadata": {},
   "source": [
    "Funkcja argmax wybiera najwiekszy index w wierszu (axis = 1), o najwyzszym prawdopodobienstwu dla kazdego obrazu"
   ]
  },
  {
   "cell_type": "code",
   "execution_count": null,
   "id": "1302d078-6498-4535-bdca-b3f2b629cb55",
   "metadata": {},
   "outputs": [],
   "source": [
    "loss,accuracy = model.evaluate("
   ]
  },
  {
   "cell_type": "code",
   "execution_count": null,
   "id": "0ee775cc-7edf-4de1-bbf5-32334c7a03d1",
   "metadata": {},
   "outputs": [],
   "source": []
  },
  {
   "cell_type": "code",
   "execution_count": null,
   "id": "6d6907bd-5e00-4061-9ce6-06fd1638c03d",
   "metadata": {},
   "outputs": [],
   "source": [
    "submission = pd.DataFrame({\n",
    "    'ImageId': np.arange(1,len(predicted_labels)+1),\n",
    "    'Label': predicted_labels"
   ]
  },
  {
   "cell_type": "code",
   "execution_count": null,
   "id": "5e73dc76-5ee1-424c-98ee-f153d5965e34",
   "metadata": {},
   "outputs": [],
   "source": []
  },
  {
   "cell_type": "code",
   "execution_count": null,
   "id": "7975b138-7769-4155-97e1-4f99bc6ed774",
   "metadata": {},
   "outputs": [],
   "source": []
  }
 ],
 "metadata": {
  "kernelspec": {
   "display_name": "Python 3 (ipykernel)",
   "language": "python",
   "name": "python3"
  },
  "language_info": {
   "codemirror_mode": {
    "name": "ipython",
    "version": 3
   },
   "file_extension": ".py",
   "mimetype": "text/x-python",
   "name": "python",
   "nbconvert_exporter": "python",
   "pygments_lexer": "ipython3",
   "version": "3.12.4"
  }
 },
 "nbformat": 4,
 "nbformat_minor": 5
}
