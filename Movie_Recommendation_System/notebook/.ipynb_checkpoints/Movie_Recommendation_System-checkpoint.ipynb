{
 "cells": [
  {
   "cell_type": "markdown",
   "id": "4ea325d7-600c-4205-8cf0-8eb18e858f49",
   "metadata": {},
   "source": [
    "# Movie Recommendation System"
   ]
  },
  {
   "cell_type": "markdown",
   "id": "0c86ae4c-a3a1-4aec-bf66-ca809504e4d4",
   "metadata": {},
   "source": [
    "## Cel projektu"
   ]
  },
  {
   "cell_type": "markdown",
   "id": "263f0df9-a6e7-4382-8d77-8d9f999936fd",
   "metadata": {},
   "source": [
    "- Zbudowanie systemu rekomendacji filmów na podstawie ocen użytkowników.\n",
    "- Wykorzystanie SQL do analizy danych i Python do implementacji modelu rekomendacji."
   ]
  },
  {
   "cell_type": "code",
   "execution_count": 1,
   "id": "9f54bc0a-dc84-4228-ad7b-ebde07849aff",
   "metadata": {},
   "outputs": [],
   "source": [
    "import pandas as pd\n",
    "import numpy as np\n",
    "from sqlalchemy import create_engine\n",
    "import seaborn as sns\n",
    "import matplotlib.pyplot as plt"
   ]
  },
  {
   "cell_type": "code",
   "execution_count": null,
   "id": "ca900eda-164a-4fdf-8640-e434ac612855",
   "metadata": {},
   "outputs": [],
   "source": []
  },
  {
   "cell_type": "markdown",
   "id": "06dddba5-56b1-47e2-af1b-cb4865614ec5",
   "metadata": {},
   "source": [
    "## Wczytywanie danych"
   ]
  },
  {
   "cell_type": "code",
   "execution_count": 5,
   "id": "9d63c849-1762-49d4-aff6-f91db2934086",
   "metadata": {},
   "outputs": [],
   "source": [
    "tmdb_5000_movies = pd.read_csv(\"../input/tmdb_5000_movies.csv\")\n",
    "tmdb_5000_credits = pd.read_csv(\"../input/tmdb_5000_credits.csv\")"
   ]
  },
  {
   "cell_type": "code",
   "execution_count": null,
   "id": "6bb8bbd2-e905-4ce9-a845-7b8f999003cd",
   "metadata": {},
   "outputs": [],
   "source": []
  },
  {
   "cell_type": "markdown",
   "id": "27068639-36a4-49d6-ac63-379f3db82f22",
   "metadata": {},
   "source": [
    "### Analiza struktury danych"
   ]
  },
  {
   "cell_type": "code",
   "execution_count": null,
   "id": "46a6a092-b87c-42b4-bbc4-83c44f032ed9",
   "metadata": {},
   "outputs": [],
   "source": [
    "def info_column(data):\n",
    "    for x in range(len(data.columns)):\n",
    "        column = data.columns[x]\n",
    "        print(f\"***{column}***\")\n",
    "        print(data[column].value_counts())\n",
    "        print(\"__\"*10)\n",
    "        print('')\n",
    "info_column(tmdb_5000_movies)"
   ]
  },
  {
   "cell_type": "markdown",
   "id": "52b4a36e-689a-4975-8be7-8baecc7448c0",
   "metadata": {},
   "source": [
    "#### tmdb_5000_movies"
   ]
  },
  {
   "cell_type": "code",
   "execution_count": 11,
   "id": "b807828d-2bc3-466c-b4fd-1603357b04cb",
   "metadata": {
    "scrolled": true
   },
   "outputs": [
    {
     "name": "stdout",
     "output_type": "stream",
     "text": [
      "<class 'pandas.core.frame.DataFrame'>\n",
      "RangeIndex: 4803 entries, 0 to 4802\n",
      "Data columns (total 20 columns):\n",
      " #   Column                Non-Null Count  Dtype  \n",
      "---  ------                --------------  -----  \n",
      " 0   budget                4803 non-null   int64  \n",
      " 1   genres                4803 non-null   object \n",
      " 2   homepage              1712 non-null   object \n",
      " 3   id                    4803 non-null   int64  \n",
      " 4   keywords              4803 non-null   object \n",
      " 5   original_language     4803 non-null   object \n",
      " 6   original_title        4803 non-null   object \n",
      " 7   overview              4800 non-null   object \n",
      " 8   popularity            4803 non-null   float64\n",
      " 9   production_companies  4803 non-null   object \n",
      " 10  production_countries  4803 non-null   object \n",
      " 11  release_date          4802 non-null   object \n",
      " 12  revenue               4803 non-null   int64  \n",
      " 13  runtime               4801 non-null   float64\n",
      " 14  spoken_languages      4803 non-null   object \n",
      " 15  status                4803 non-null   object \n",
      " 16  tagline               3959 non-null   object \n",
      " 17  title                 4803 non-null   object \n",
      " 18  vote_average          4803 non-null   float64\n",
      " 19  vote_count            4803 non-null   int64  \n",
      "dtypes: float64(3), int64(4), object(13)\n",
      "memory usage: 750.6+ KB\n"
     ]
    }
   ],
   "source": [
    "tmdb_5000_movies.info"
   ]
  },
  {
   "cell_type": "code",
   "execution_count": null,
   "id": "93cab53c-b9f4-4ba9-acae-e93b3ec64227",
   "metadata": {},
   "outputs": [],
   "source": [
    "tmdb_5000_movies.head()"
   ]
  },
  {
   "cell_type": "markdown",
   "id": "f1ff21fe-041a-42e6-961e-8ea978d09fde",
   "metadata": {
    "jp-MarkdownHeadingCollapsed": true
   },
   "source": [
    "##### budget"
   ]
  },
  {
   "cell_type": "code",
   "execution_count": null,
   "id": "52a8042b-1805-4f4f-98c7-51e4bba91143",
   "metadata": {},
   "outputs": [],
   "source": [
    "Wartości nie sa duze wiec zastosuje wartosc INTEGER"
   ]
  },
  {
   "cell_type": "code",
   "execution_count": 13,
   "id": "e8a73331-eef7-481b-b3f6-20f81f7bdb64",
   "metadata": {},
   "outputs": [
    {
     "data": {
      "text/plain": [
       "budget\n",
       "0           1037\n",
       "20000000     144\n",
       "30000000     128\n",
       "25000000     126\n",
       "40000000     123\n",
       "            ... \n",
       "13200000       1\n",
       "14350531       1\n",
       "3100000        1\n",
       "12800000       1\n",
       "9000           1\n",
       "Name: count, Length: 436, dtype: int64"
      ]
     },
     "execution_count": 13,
     "metadata": {},
     "output_type": "execute_result"
    }
   ],
   "source": [
    "tmdb_5000_movies['budget'].value_counts()"
   ]
  },
  {
   "cell_type": "markdown",
   "id": "3890311e-4a57-4286-85a2-573337a0200d",
   "metadata": {},
   "source": [
    "##### genres"
   ]
  },
  {
   "cell_type": "code",
   "execution_count": null,
   "id": "e4ebe50c-00f3-4e24-88c2-77d3eb891203",
   "metadata": {},
   "outputs": [],
   "source": [
    "wartosc jest zapisana w rozszerzeniu JSON dlatego zapisze ja w formacie JSONB"
   ]
  },
  {
   "cell_type": "code",
   "execution_count": 18,
   "id": "c2fe7672-ba0d-4603-a065-5aeeafd21ce8",
   "metadata": {},
   "outputs": [
    {
     "data": {
      "text/plain": [
       "0       [{\"id\": 28, \"name\": \"Action\"}, {\"id\": 12, \"nam...\n",
       "1       [{\"id\": 12, \"name\": \"Adventure\"}, {\"id\": 14, \"...\n",
       "2       [{\"id\": 28, \"name\": \"Action\"}, {\"id\": 12, \"nam...\n",
       "3       [{\"id\": 28, \"name\": \"Action\"}, {\"id\": 80, \"nam...\n",
       "4       [{\"id\": 28, \"name\": \"Action\"}, {\"id\": 12, \"nam...\n",
       "                              ...                        \n",
       "4798    [{\"id\": 28, \"name\": \"Action\"}, {\"id\": 80, \"nam...\n",
       "4799    [{\"id\": 35, \"name\": \"Comedy\"}, {\"id\": 10749, \"...\n",
       "4800    [{\"id\": 35, \"name\": \"Comedy\"}, {\"id\": 18, \"nam...\n",
       "4801                                                   []\n",
       "4802                  [{\"id\": 99, \"name\": \"Documentary\"}]\n",
       "Name: genres, Length: 4803, dtype: object"
      ]
     },
     "execution_count": 18,
     "metadata": {},
     "output_type": "execute_result"
    }
   ],
   "source": [
    "tmdb_5000_movies['genres']"
   ]
  },
  {
   "cell_type": "code",
   "execution_count": 22,
   "id": "d49ce03f-89db-43f5-b60a-047346394db4",
   "metadata": {},
   "outputs": [
    {
     "data": {
      "text/plain": [
       "0"
      ]
     },
     "execution_count": 22,
     "metadata": {},
     "output_type": "execute_result"
    }
   ],
   "source": [
    "tmdb_5000_movies['genres'].isnull().sum()"
   ]
  },
  {
   "cell_type": "markdown",
   "id": "7aa1a613-e17d-4d85-83e5-fe110273c7ff",
   "metadata": {},
   "source": [
    "##### homepage              "
   ]
  },
  {
   "cell_type": "markdown",
   "id": "3ae7cf25-1758-493b-bdf5-21f13e87e72f",
   "metadata": {},
   "source": [
    "Sa to linki do stron filmów zapiszeje jako TEXT i mozliwoscia NULL"
   ]
  },
  {
   "cell_type": "code",
   "execution_count": 20,
   "id": "86549809-43bc-4f07-890b-38a9027dd198",
   "metadata": {},
   "outputs": [
    {
     "data": {
      "text/plain": [
       "0                             http://www.avatarmovie.com/\n",
       "1            http://disney.go.com/disneypictures/pirates/\n",
       "2             http://www.sonypictures.com/movies/spectre/\n",
       "3                      http://www.thedarkknightrises.com/\n",
       "4                    http://movies.disney.com/john-carter\n",
       "                              ...                        \n",
       "4798                                                  NaN\n",
       "4799                                                  NaN\n",
       "4800    http://www.hallmarkchannel.com/signedsealeddel...\n",
       "4801                          http://shanghaicalling.com/\n",
       "4802                                                  NaN\n",
       "Name: homepage, Length: 4803, dtype: object"
      ]
     },
     "execution_count": 20,
     "metadata": {},
     "output_type": "execute_result"
    }
   ],
   "source": [
    "tmdb_5000_movies[\"homepage\"]"
   ]
  },
  {
   "cell_type": "code",
   "execution_count": 24,
   "id": "5bbcc49b-4346-4ec9-8e98-f0b088e80c6d",
   "metadata": {},
   "outputs": [
    {
     "data": {
      "text/plain": [
       "3091"
      ]
     },
     "execution_count": 24,
     "metadata": {},
     "output_type": "execute_result"
    }
   ],
   "source": [
    "tmdb_5000_movies['homepage'].isnull().sum()"
   ]
  },
  {
   "cell_type": "code",
   "execution_count": 32,
   "id": "e5bfde1a-0f75-43ef-b628-09b0e1f4c726",
   "metadata": {},
   "outputs": [
    {
     "data": {
      "text/plain": [
       "homepage\n",
       "http://www.missionimpossible.com/                       4\n",
       "http://www.thehungergames.movie/                        4\n",
       "http://www.kungfupanda.com/                             3\n",
       "http://www.transformersmovie.com/                       3\n",
       "http://www.thehobbit.com/                               3\n",
       "                                                       ..\n",
       "http://www.ridealong.com/                               1\n",
       "http://www.theinternmovie.com/                          1\n",
       "http://www.miramax.com/movie/the-talented-mr-ripley/    1\n",
       "http://www.julieandjulia.com/                           1\n",
       "http://shanghaicalling.com/                             1\n",
       "Name: count, Length: 1691, dtype: int64"
      ]
     },
     "execution_count": 32,
     "metadata": {},
     "output_type": "execute_result"
    }
   ],
   "source": [
    "tmdb_5000_movies['homepage'].value_counts()"
   ]
  },
  {
   "cell_type": "markdown",
   "id": "20a57073-ecaf-40cf-9c2c-697211c3219a",
   "metadata": {
    "jp-MarkdownHeadingCollapsed": true
   },
   "source": [
    "##### id           "
   ]
  },
  {
   "cell_type": "markdown",
   "id": "20d942c8-d43e-49bf-9411-23b01539739d",
   "metadata": {},
   "source": [
    "Kolumna id bedzie kluczem głównym, id INTEGER PRIMARY KEY"
   ]
  },
  {
   "cell_type": "code",
   "execution_count": 58,
   "id": "988a1f24-5d7b-4626-9366-06b4c95736f8",
   "metadata": {},
   "outputs": [
    {
     "data": {
      "text/plain": [
       "0        19995\n",
       "1          285\n",
       "2       206647\n",
       "3        49026\n",
       "4        49529\n",
       "         ...  \n",
       "4798      9367\n",
       "4799     72766\n",
       "4800    231617\n",
       "4801    126186\n",
       "4802     25975\n",
       "Name: id, Length: 4803, dtype: int64"
      ]
     },
     "execution_count": 58,
     "metadata": {},
     "output_type": "execute_result"
    }
   ],
   "source": [
    "tmdb_5000_movies['id']"
   ]
  },
  {
   "cell_type": "code",
   "execution_count": 38,
   "id": "c32c5ca3-be93-4303-8531-325f384853b6",
   "metadata": {},
   "outputs": [
    {
     "data": {
      "text/plain": [
       "id\n",
       "19995     1\n",
       "333355    1\n",
       "71157     1\n",
       "43418     1\n",
       "11588     1\n",
       "         ..\n",
       "13156     1\n",
       "293863    1\n",
       "16871     1\n",
       "307081    1\n",
       "25975     1\n",
       "Name: count, Length: 4803, dtype: int64"
      ]
     },
     "execution_count": 38,
     "metadata": {},
     "output_type": "execute_result"
    }
   ],
   "source": [
    "tmdb_5000_movies['id'].value_counts()"
   ]
  },
  {
   "cell_type": "markdown",
   "id": "36ec0056-ad4e-48d4-9403-c24004a88ccf",
   "metadata": {},
   "source": [
    "##### keywords"
   ]
  },
  {
   "cell_type": "code",
   "execution_count": null,
   "id": "1d3491e1-8023-48a3-a107-99bbf7c610d9",
   "metadata": {},
   "outputs": [],
   "source": [
    "wartosc jest zapisana w rozszerzeniu JSON dlatego zapisze ja w formacie JSONB"
   ]
  },
  {
   "cell_type": "code",
   "execution_count": 146,
   "id": "8dc68280-35cc-4b2b-b5a2-6eb87fa4b119",
   "metadata": {},
   "outputs": [
    {
     "data": {
      "text/plain": [
       "0    [{\"id\": 1463, \"name\": \"culture clash\"}, {\"id\":...\n",
       "1    [{\"id\": 270, \"name\": \"ocean\"}, {\"id\": 726, \"na...\n",
       "2    [{\"id\": 470, \"name\": \"spy\"}, {\"id\": 818, \"name...\n",
       "3    [{\"id\": 849, \"name\": \"dc comics\"}, {\"id\": 853,...\n",
       "4    [{\"id\": 818, \"name\": \"based on novel\"}, {\"id\":...\n",
       "Name: keywords, dtype: object"
      ]
     },
     "execution_count": 146,
     "metadata": {},
     "output_type": "execute_result"
    }
   ],
   "source": [
    "tmdb_5000_movies['keywords'].head()"
   ]
  },
  {
   "cell_type": "code",
   "execution_count": 150,
   "id": "cf00a0a8-077b-4522-9f94-9b77930f3afc",
   "metadata": {},
   "outputs": [
    {
     "data": {
      "text/plain": [
       "0"
      ]
     },
     "execution_count": 150,
     "metadata": {},
     "output_type": "execute_result"
    }
   ],
   "source": [
    "tmdb_5000_movies['keywords'].isnull().sum()"
   ]
  },
  {
   "cell_type": "markdown",
   "id": "69866969-3520-4a7c-8425-b807a7d0bf10",
   "metadata": {
    "jp-MarkdownHeadingCollapsed": true
   },
   "source": [
    "##### original_language             "
   ]
  },
  {
   "cell_type": "markdown",
   "id": "2f76b95a-0ced-4acd-9c1c-3ac7af4c353a",
   "metadata": {},
   "source": [
    "kolumna zawiera skrót jezyka w który jest film, VARCHAR(2)"
   ]
  },
  {
   "cell_type": "code",
   "execution_count": 42,
   "id": "88c7f4e0-e70b-4110-a1ad-ff22cdb02dbd",
   "metadata": {},
   "outputs": [
    {
     "data": {
      "text/plain": [
       "original_language\n",
       "en    4505\n",
       "fr      70\n",
       "es      32\n",
       "zh      27\n",
       "de      27\n",
       "hi      19\n",
       "ja      16\n",
       "it      14\n",
       "cn      12\n",
       "ru      11\n",
       "ko      11\n",
       "pt       9\n",
       "da       7\n",
       "sv       5\n",
       "nl       4\n",
       "fa       4\n",
       "th       3\n",
       "he       3\n",
       "ta       2\n",
       "cs       2\n",
       "ro       2\n",
       "id       2\n",
       "ar       2\n",
       "vi       1\n",
       "sl       1\n",
       "ps       1\n",
       "no       1\n",
       "ky       1\n",
       "hu       1\n",
       "pl       1\n",
       "af       1\n",
       "nb       1\n",
       "tr       1\n",
       "is       1\n",
       "xx       1\n",
       "te       1\n",
       "el       1\n",
       "Name: count, dtype: int64"
      ]
     },
     "execution_count": 42,
     "metadata": {},
     "output_type": "execute_result"
    }
   ],
   "source": [
    "tmdb_5000_movies['original_language'].value_counts()"
   ]
  },
  {
   "cell_type": "code",
   "execution_count": 44,
   "id": "ba27bef5-1a1d-4298-9f9f-349dc313c362",
   "metadata": {},
   "outputs": [
    {
     "data": {
      "text/plain": [
       "0"
      ]
     },
     "execution_count": 44,
     "metadata": {},
     "output_type": "execute_result"
    }
   ],
   "source": [
    "tmdb_5000_movies['original_language'].isnull().sum()"
   ]
  },
  {
   "cell_type": "code",
   "execution_count": 54,
   "id": "f7d20d6b-b281-4d22-baf3-0058dab58116",
   "metadata": {},
   "outputs": [
    {
     "data": {
      "text/html": [
       "<div>\n",
       "<style scoped>\n",
       "    .dataframe tbody tr th:only-of-type {\n",
       "        vertical-align: middle;\n",
       "    }\n",
       "\n",
       "    .dataframe tbody tr th {\n",
       "        vertical-align: top;\n",
       "    }\n",
       "\n",
       "    .dataframe thead th {\n",
       "        text-align: right;\n",
       "    }\n",
       "</style>\n",
       "<table border=\"1\" class=\"dataframe\">\n",
       "  <thead>\n",
       "    <tr style=\"text-align: right;\">\n",
       "      <th></th>\n",
       "      <th>budget</th>\n",
       "      <th>genres</th>\n",
       "      <th>homepage</th>\n",
       "      <th>id</th>\n",
       "      <th>keywords</th>\n",
       "      <th>original_language</th>\n",
       "      <th>original_title</th>\n",
       "      <th>overview</th>\n",
       "      <th>popularity</th>\n",
       "      <th>production_companies</th>\n",
       "      <th>production_countries</th>\n",
       "      <th>release_date</th>\n",
       "      <th>revenue</th>\n",
       "      <th>runtime</th>\n",
       "      <th>spoken_languages</th>\n",
       "      <th>status</th>\n",
       "      <th>tagline</th>\n",
       "      <th>title</th>\n",
       "      <th>vote_average</th>\n",
       "      <th>vote_count</th>\n",
       "    </tr>\n",
       "  </thead>\n",
       "  <tbody>\n",
       "    <tr>\n",
       "      <th>3999</th>\n",
       "      <td>2159280</td>\n",
       "      <td>[{\"id\": 18, \"name\": \"Drama\"}]</td>\n",
       "      <td>NaN</td>\n",
       "      <td>209274</td>\n",
       "      <td>[{\"id\": 745, \"name\": \"nun\"}, {\"id\": 1960, \"nam...</td>\n",
       "      <td>pl</td>\n",
       "      <td>Ida</td>\n",
       "      <td>Poland, 1962. Anna is a novice, an orphan brou...</td>\n",
       "      <td>13.265432</td>\n",
       "      <td>[{\"name\": \"Danish Film Institute\", \"id\": 125},...</td>\n",
       "      <td>[{\"iso_3166_1\": \"DK\", \"name\": \"Denmark\"}, {\"is...</td>\n",
       "      <td>2013-10-25</td>\n",
       "      <td>10700000</td>\n",
       "      <td>80.0</td>\n",
       "      <td>[{\"iso_639_1\": \"pl\", \"name\": \"Polski\"}]</td>\n",
       "      <td>Released</td>\n",
       "      <td>NaN</td>\n",
       "      <td>Ida</td>\n",
       "      <td>7.1</td>\n",
       "      <td>260</td>\n",
       "    </tr>\n",
       "  </tbody>\n",
       "</table>\n",
       "</div>"
      ],
      "text/plain": [
       "       budget                         genres homepage      id  \\\n",
       "3999  2159280  [{\"id\": 18, \"name\": \"Drama\"}]      NaN  209274   \n",
       "\n",
       "                                               keywords original_language  \\\n",
       "3999  [{\"id\": 745, \"name\": \"nun\"}, {\"id\": 1960, \"nam...                pl   \n",
       "\n",
       "     original_title                                           overview  \\\n",
       "3999            Ida  Poland, 1962. Anna is a novice, an orphan brou...   \n",
       "\n",
       "      popularity                               production_companies  \\\n",
       "3999   13.265432  [{\"name\": \"Danish Film Institute\", \"id\": 125},...   \n",
       "\n",
       "                                   production_countries release_date  \\\n",
       "3999  [{\"iso_3166_1\": \"DK\", \"name\": \"Denmark\"}, {\"is...   2013-10-25   \n",
       "\n",
       "       revenue  runtime                         spoken_languages    status  \\\n",
       "3999  10700000     80.0  [{\"iso_639_1\": \"pl\", \"name\": \"Polski\"}]  Released   \n",
       "\n",
       "     tagline title  vote_average  vote_count  \n",
       "3999     NaN   Ida           7.1         260  "
      ]
     },
     "execution_count": 54,
     "metadata": {},
     "output_type": "execute_result"
    }
   ],
   "source": [
    "tmdb_5000_movies[tmdb_5000_movies['original_language'] == 'pl']"
   ]
  },
  {
   "cell_type": "markdown",
   "id": "3b9b225e-d8d9-40f8-b51d-3cddadf1d777",
   "metadata": {
    "jp-MarkdownHeadingCollapsed": true
   },
   "source": [
    "##### original_title          "
   ]
  },
  {
   "cell_type": "markdown",
   "id": "eebd5cfa-87a4-4f4a-8cd5-3b7485dbe6a1",
   "metadata": {},
   "source": [
    "jest to kolumna z nazwą filmu, zapiszeje jako TEXT poniwaz ma rózna długość"
   ]
  },
  {
   "cell_type": "code",
   "execution_count": 46,
   "id": "f493f876-f5be-43ca-945a-2bc8b2efe4ef",
   "metadata": {},
   "outputs": [
    {
     "data": {
      "text/plain": [
       "0                                         Avatar\n",
       "1       Pirates of the Caribbean: At World's End\n",
       "2                                        Spectre\n",
       "3                          The Dark Knight Rises\n",
       "4                                    John Carter\n",
       "                          ...                   \n",
       "4798                                 El Mariachi\n",
       "4799                                   Newlyweds\n",
       "4800                   Signed, Sealed, Delivered\n",
       "4801                            Shanghai Calling\n",
       "4802                           My Date with Drew\n",
       "Name: original_title, Length: 4803, dtype: object"
      ]
     },
     "execution_count": 46,
     "metadata": {},
     "output_type": "execute_result"
    }
   ],
   "source": [
    "tmdb_5000_movies['original_title']"
   ]
  },
  {
   "cell_type": "code",
   "execution_count": 48,
   "id": "52eff39d-04ba-4195-abb8-88196c9968f8",
   "metadata": {},
   "outputs": [
    {
     "data": {
      "text/plain": [
       "0"
      ]
     },
     "execution_count": 48,
     "metadata": {},
     "output_type": "execute_result"
    }
   ],
   "source": [
    "tmdb_5000_movies['original_title'].isnull().sum()"
   ]
  },
  {
   "cell_type": "markdown",
   "id": "90354a92-03c2-420d-894f-f19909ad3a58",
   "metadata": {
    "jp-MarkdownHeadingCollapsed": true
   },
   "source": [
    "##### popularity                          "
   ]
  },
  {
   "cell_type": "markdown",
   "id": "6a85759a-bcbb-4f65-ada0-a32418cd3a15",
   "metadata": {},
   "source": [
    "kolumna zawiera liczby zmienno przecinkowe, zastosuje typ danych FLOAT"
   ]
  },
  {
   "cell_type": "code",
   "execution_count": 52,
   "id": "a9e30a7b-1914-4117-a818-80e2dae45b90",
   "metadata": {},
   "outputs": [
    {
     "data": {
      "text/plain": [
       "0    150.437577\n",
       "1    139.082615\n",
       "2    107.376788\n",
       "3    112.312950\n",
       "4     43.926995\n",
       "Name: popularity, dtype: float64"
      ]
     },
     "execution_count": 52,
     "metadata": {},
     "output_type": "execute_result"
    }
   ],
   "source": [
    "tmdb_5000_movies['popularity'].head()"
   ]
  },
  {
   "cell_type": "code",
   "execution_count": 60,
   "id": "400709af-fa37-4b92-8414-5df16e55e4bc",
   "metadata": {},
   "outputs": [
    {
     "data": {
      "text/plain": [
       "0"
      ]
     },
     "execution_count": 60,
     "metadata": {},
     "output_type": "execute_result"
    }
   ],
   "source": [
    "tmdb_5000_movies['popularity'].isnull().sum()"
   ]
  },
  {
   "cell_type": "markdown",
   "id": "5f598f89-d3c4-438f-a3ea-74bc58065b15",
   "metadata": {
    "jp-MarkdownHeadingCollapsed": true
   },
   "source": [
    "##### production_companies                "
   ]
  },
  {
   "cell_type": "markdown",
   "id": "b2bbf4f0-a4e1-463a-8b98-4fd6838405df",
   "metadata": {},
   "source": [
    "kolumna jest napisana w formacie JSON "
   ]
  },
  {
   "cell_type": "code",
   "execution_count": 62,
   "id": "474abe4a-4f97-4f98-a95d-e8404728182c",
   "metadata": {},
   "outputs": [
    {
     "data": {
      "text/plain": [
       "0    [{\"name\": \"Ingenious Film Partners\", \"id\": 289...\n",
       "1    [{\"name\": \"Walt Disney Pictures\", \"id\": 2}, {\"...\n",
       "2    [{\"name\": \"Columbia Pictures\", \"id\": 5}, {\"nam...\n",
       "3    [{\"name\": \"Legendary Pictures\", \"id\": 923}, {\"...\n",
       "4          [{\"name\": \"Walt Disney Pictures\", \"id\": 2}]\n",
       "Name: production_companies, dtype: object"
      ]
     },
     "execution_count": 62,
     "metadata": {},
     "output_type": "execute_result"
    }
   ],
   "source": [
    "tmdb_5000_movies['production_companies'].head()"
   ]
  },
  {
   "cell_type": "code",
   "execution_count": 64,
   "id": "5a328b99-ddbb-479a-9be8-e88088f67870",
   "metadata": {},
   "outputs": [
    {
     "data": {
      "text/plain": [
       "0"
      ]
     },
     "execution_count": 64,
     "metadata": {},
     "output_type": "execute_result"
    }
   ],
   "source": [
    "tmdb_5000_movies['production_companies'].isnull().sum()"
   ]
  },
  {
   "cell_type": "markdown",
   "id": "8fcd0f81-8240-46ab-a174-bafc8808ec19",
   "metadata": {
    "jp-MarkdownHeadingCollapsed": true
   },
   "source": [
    "##### production_countries                "
   ]
  },
  {
   "cell_type": "markdown",
   "id": "795c79d3-de65-4f2a-9d84-48d2b4961da6",
   "metadata": {},
   "source": [
    "kolumna jest napisana w formacie JSON zastosuje typ danych JSONB"
   ]
  },
  {
   "cell_type": "code",
   "execution_count": 66,
   "id": "40923c74-4549-46ba-af7c-ac9c93c706b1",
   "metadata": {},
   "outputs": [
    {
     "data": {
      "text/plain": [
       "0    [{\"iso_3166_1\": \"US\", \"name\": \"United States o...\n",
       "1    [{\"iso_3166_1\": \"US\", \"name\": \"United States o...\n",
       "2    [{\"iso_3166_1\": \"GB\", \"name\": \"United Kingdom\"...\n",
       "3    [{\"iso_3166_1\": \"US\", \"name\": \"United States o...\n",
       "4    [{\"iso_3166_1\": \"US\", \"name\": \"United States o...\n",
       "Name: production_countries, dtype: object"
      ]
     },
     "execution_count": 66,
     "metadata": {},
     "output_type": "execute_result"
    }
   ],
   "source": [
    "tmdb_5000_movies['production_countries'].head()"
   ]
  },
  {
   "cell_type": "markdown",
   "id": "c6048fda-e124-41c5-a391-d36872d5aed0",
   "metadata": {
    "jp-MarkdownHeadingCollapsed": true
   },
   "source": [
    "##### release_date                        "
   ]
  },
  {
   "cell_type": "markdown",
   "id": "244e2e4f-d288-4293-9db3-3a3e281c28cb",
   "metadata": {},
   "source": [
    "kolumna jest zapisane jako data zastosuje typ danych DATA poniewaz dane zapisane sa w formacie YYYY-MM-DD "
   ]
  },
  {
   "cell_type": "code",
   "execution_count": 68,
   "id": "efd737c8-ff37-49b7-b173-37f884d339c0",
   "metadata": {},
   "outputs": [
    {
     "data": {
      "text/plain": [
       "0    2009-12-10\n",
       "1    2007-05-19\n",
       "2    2015-10-26\n",
       "3    2012-07-16\n",
       "4    2012-03-07\n",
       "Name: release_date, dtype: object"
      ]
     },
     "execution_count": 68,
     "metadata": {},
     "output_type": "execute_result"
    }
   ],
   "source": [
    "tmdb_5000_movies['release_date'].head()"
   ]
  },
  {
   "cell_type": "markdown",
   "id": "4a6f3d2e-2624-4023-8122-00228a32dfc9",
   "metadata": {
    "jp-MarkdownHeadingCollapsed": true
   },
   "source": [
    "##### revenue                             "
   ]
  },
  {
   "cell_type": "markdown",
   "id": "e6021cac-952d-425b-9362-e0f56946007a",
   "metadata": {},
   "source": [
    "Są to duze liczbycałkowite zastosuje typ danych BIGINT"
   ]
  },
  {
   "cell_type": "code",
   "execution_count": 70,
   "id": "58f10e9f-16b9-4059-8180-4481b979243d",
   "metadata": {},
   "outputs": [
    {
     "data": {
      "text/plain": [
       "0    2787965087\n",
       "1     961000000\n",
       "2     880674609\n",
       "3    1084939099\n",
       "4     284139100\n",
       "Name: revenue, dtype: int64"
      ]
     },
     "execution_count": 70,
     "metadata": {},
     "output_type": "execute_result"
    }
   ],
   "source": [
    "tmdb_5000_movies['revenue'].head()"
   ]
  },
  {
   "cell_type": "code",
   "execution_count": 72,
   "id": "e9b7b158-9b00-4c28-a169-b888403b26e1",
   "metadata": {},
   "outputs": [
    {
     "data": {
      "text/plain": [
       "0"
      ]
     },
     "execution_count": 72,
     "metadata": {},
     "output_type": "execute_result"
    }
   ],
   "source": [
    "tmdb_5000_movies['revenue'].isnull().sum()"
   ]
  },
  {
   "cell_type": "markdown",
   "id": "036b7963-b7f7-43f5-b0c7-25d1f0b4296d",
   "metadata": {
    "jp-MarkdownHeadingCollapsed": true
   },
   "source": [
    "##### runtime                             "
   ]
  },
  {
   "cell_type": "markdown",
   "id": "2c208156-1b6b-4a90-9bf3-61060b229706",
   "metadata": {},
   "source": [
    "zastosuje typ danych FLOAT z mozliwoscia pustych miejsc NULL"
   ]
  },
  {
   "cell_type": "code",
   "execution_count": 76,
   "id": "b19e69e6-1537-4886-a8ee-89c6839104f9",
   "metadata": {},
   "outputs": [
    {
     "data": {
      "text/plain": [
       "0    162.0\n",
       "1    169.0\n",
       "2    148.0\n",
       "3    165.0\n",
       "4    132.0\n",
       "Name: runtime, dtype: float64"
      ]
     },
     "execution_count": 76,
     "metadata": {},
     "output_type": "execute_result"
    }
   ],
   "source": [
    "tmdb_5000_movies['runtime'].head()"
   ]
  },
  {
   "cell_type": "code",
   "execution_count": 78,
   "id": "0c142070-f1f8-45d5-a6ea-6a2d79e5aa0c",
   "metadata": {},
   "outputs": [
    {
     "data": {
      "text/plain": [
       "338.0"
      ]
     },
     "execution_count": 78,
     "metadata": {},
     "output_type": "execute_result"
    }
   ],
   "source": [
    "tmdb_5000_movies['runtime'].max()"
   ]
  },
  {
   "cell_type": "code",
   "execution_count": 80,
   "id": "deb6a5c2-22aa-41a8-b7db-b923025cdf31",
   "metadata": {},
   "outputs": [
    {
     "data": {
      "text/plain": [
       "2"
      ]
     },
     "execution_count": 80,
     "metadata": {},
     "output_type": "execute_result"
    }
   ],
   "source": [
    "tmdb_5000_movies['runtime'].isnull().sum()"
   ]
  },
  {
   "cell_type": "markdown",
   "id": "d6390f0f-75d7-449d-9a6d-743ef0a805d3",
   "metadata": {
    "jp-MarkdownHeadingCollapsed": true
   },
   "source": [
    "##### spoken_languages                    "
   ]
  },
  {
   "cell_type": "code",
   "execution_count": null,
   "id": "9a8d6df7-5d07-4e85-ac10-bf7e27676615",
   "metadata": {},
   "outputs": [],
   "source": [
    "kolumna jest zapisana w formacie JSON, zastosuje typ danych JSONB"
   ]
  },
  {
   "cell_type": "code",
   "execution_count": 82,
   "id": "6516ffab-0024-4660-8fab-a0ec604b20c2",
   "metadata": {},
   "outputs": [
    {
     "data": {
      "text/plain": [
       "0    [{\"iso_639_1\": \"en\", \"name\": \"English\"}, {\"iso...\n",
       "1             [{\"iso_639_1\": \"en\", \"name\": \"English\"}]\n",
       "2    [{\"iso_639_1\": \"fr\", \"name\": \"Fran\\u00e7ais\"},...\n",
       "3             [{\"iso_639_1\": \"en\", \"name\": \"English\"}]\n",
       "4             [{\"iso_639_1\": \"en\", \"name\": \"English\"}]\n",
       "Name: spoken_languages, dtype: object"
      ]
     },
     "execution_count": 82,
     "metadata": {},
     "output_type": "execute_result"
    }
   ],
   "source": [
    "tmdb_5000_movies['spoken_languages'].head()"
   ]
  },
  {
   "cell_type": "code",
   "execution_count": 84,
   "id": "71076ceb-9506-4a51-a3e9-34d0b26fe7a0",
   "metadata": {},
   "outputs": [
    {
     "data": {
      "text/plain": [
       "0"
      ]
     },
     "execution_count": 84,
     "metadata": {},
     "output_type": "execute_result"
    }
   ],
   "source": [
    "tmdb_5000_movies['spoken_languages'].isnull().sum()"
   ]
  },
  {
   "cell_type": "markdown",
   "id": "00e2925b-bf35-4994-b8c4-b1e388210cdb",
   "metadata": {
    "jp-MarkdownHeadingCollapsed": true
   },
   "source": [
    "##### status              "
   ]
  },
  {
   "cell_type": "markdown",
   "id": "971ff794-3385-4918-a22b-fbc8fb4fe9e9",
   "metadata": {},
   "source": [
    "zastosuje typ danych tekst z maksymalnym limite znaków VARCHAR(20)"
   ]
  },
  {
   "cell_type": "code",
   "execution_count": 88,
   "id": "99ac0c95-2dca-4cbe-8a27-b0d9d5c4c9cb",
   "metadata": {},
   "outputs": [
    {
     "data": {
      "text/plain": [
       "0    Released\n",
       "1    Released\n",
       "2    Released\n",
       "3    Released\n",
       "4    Released\n",
       "Name: status, dtype: object"
      ]
     },
     "execution_count": 88,
     "metadata": {},
     "output_type": "execute_result"
    }
   ],
   "source": [
    "tmdb_5000_movies['status'].head()"
   ]
  },
  {
   "cell_type": "code",
   "execution_count": 90,
   "id": "d8481f4d-c1bd-4340-8c73-75b6e7b0bcb9",
   "metadata": {},
   "outputs": [
    {
     "data": {
      "text/plain": [
       "status\n",
       "Released           4795\n",
       "Rumored               5\n",
       "Post Production       3\n",
       "Name: count, dtype: int64"
      ]
     },
     "execution_count": 90,
     "metadata": {},
     "output_type": "execute_result"
    }
   ],
   "source": [
    "tmdb_5000_movies['status'].value_counts()"
   ]
  },
  {
   "cell_type": "code",
   "execution_count": 92,
   "id": "edc19751-ecb9-4f1e-a08d-17997c2353f1",
   "metadata": {},
   "outputs": [
    {
     "data": {
      "text/plain": [
       "0"
      ]
     },
     "execution_count": 92,
     "metadata": {},
     "output_type": "execute_result"
    }
   ],
   "source": [
    "tmdb_5000_movies['status'].isnull().sum()"
   ]
  },
  {
   "cell_type": "markdown",
   "id": "e8f542d3-30f7-40a0-bd81-b7705f1cd975",
   "metadata": {
    "jp-MarkdownHeadingCollapsed": true
   },
   "source": [
    "##### tagline                                   "
   ]
  },
  {
   "cell_type": "code",
   "execution_count": null,
   "id": "0643b5e0-8538-4b68-b35e-4fbffa930062",
   "metadata": {},
   "outputs": [],
   "source": [
    "kolumna to tekst, zastosuje typ danych TEXT "
   ]
  },
  {
   "cell_type": "code",
   "execution_count": 104,
   "id": "c83e98ae-a0f1-442e-a4ac-efa395206abe",
   "metadata": {},
   "outputs": [
    {
     "data": {
      "text/plain": [
       "0                       Enter the World of Pandora.\n",
       "1    At the end of the world, the adventure begins.\n",
       "2                             A Plan No One Escapes\n",
       "3                                   The Legend Ends\n",
       "4              Lost in our world, found in another.\n",
       "Name: tagline, dtype: object"
      ]
     },
     "execution_count": 104,
     "metadata": {},
     "output_type": "execute_result"
    }
   ],
   "source": [
    "tmdb_5000_movies['tagline'].head()"
   ]
  },
  {
   "cell_type": "markdown",
   "id": "010b60ad-22ca-4c03-be07-d8db9f8f3a04",
   "metadata": {
    "jp-MarkdownHeadingCollapsed": true
   },
   "source": [
    "##### title                                  "
   ]
  },
  {
   "cell_type": "code",
   "execution_count": 100,
   "id": "58feda0d-5026-4d20-8706-f2756aa6385a",
   "metadata": {},
   "outputs": [
    {
     "data": {
      "text/plain": [
       "0    Released\n",
       "1    Released\n",
       "2    Released\n",
       "3    Released\n",
       "4    Released\n",
       "Name: status, dtype: object"
      ]
     },
     "execution_count": 100,
     "metadata": {},
     "output_type": "execute_result"
    }
   ],
   "source": [
    "tmdb_5000_movies['status'].head()"
   ]
  },
  {
   "cell_type": "code",
   "execution_count": 102,
   "id": "09ffed71-516d-4ec3-8d06-dec68d20428e",
   "metadata": {},
   "outputs": [
    {
     "data": {
      "text/plain": [
       "0"
      ]
     },
     "execution_count": 102,
     "metadata": {},
     "output_type": "execute_result"
    }
   ],
   "source": [
    "tmdb_5000_movies['status'].isnull().sum()"
   ]
  },
  {
   "cell_type": "markdown",
   "id": "a3a6eef5-ba81-4081-8055-48ba46ee2d16",
   "metadata": {
    "jp-MarkdownHeadingCollapsed": true
   },
   "source": [
    "##### vote_average              "
   ]
  },
  {
   "cell_type": "code",
   "execution_count": null,
   "id": "b9b30568-413d-4fea-b95a-8bc461728660",
   "metadata": {},
   "outputs": [],
   "source": [
    "koumna zawiera liczby zmienno przecinkowe  zastosuje typ danych FLOAT"
   ]
  },
  {
   "cell_type": "code",
   "execution_count": 106,
   "id": "da5edc88-973f-409f-a46d-356cfe1c9a8a",
   "metadata": {},
   "outputs": [
    {
     "data": {
      "text/plain": [
       "0    7.2\n",
       "1    6.9\n",
       "2    6.3\n",
       "3    7.6\n",
       "4    6.1\n",
       "Name: vote_average, dtype: float64"
      ]
     },
     "execution_count": 106,
     "metadata": {},
     "output_type": "execute_result"
    }
   ],
   "source": [
    "tmdb_5000_movies['vote_average'].head()"
   ]
  },
  {
   "cell_type": "code",
   "execution_count": 108,
   "id": "276fc985-7700-483b-bcbf-1a4ae897a655",
   "metadata": {},
   "outputs": [
    {
     "data": {
      "text/plain": [
       "0"
      ]
     },
     "execution_count": 108,
     "metadata": {},
     "output_type": "execute_result"
    }
   ],
   "source": [
    "tmdb_5000_movies['vote_average'].isnull().sum()"
   ]
  },
  {
   "cell_type": "markdown",
   "id": "d374662f-de8b-4ef5-b91a-84362bb4ab63",
   "metadata": {
    "jp-MarkdownHeadingCollapsed": true
   },
   "source": [
    "##### vote_count                          "
   ]
  },
  {
   "cell_type": "code",
   "execution_count": 112,
   "id": "d90764ce-675a-4de2-8d76-2366dc176c6b",
   "metadata": {},
   "outputs": [
    {
     "data": {
      "text/plain": [
       "0    11800\n",
       "1     4500\n",
       "2     4466\n",
       "3     9106\n",
       "4     2124\n",
       "Name: vote_count, dtype: int64"
      ]
     },
     "execution_count": 112,
     "metadata": {},
     "output_type": "execute_result"
    }
   ],
   "source": [
    "tmdb_5000_movies['vote_count'].head()"
   ]
  },
  {
   "cell_type": "code",
   "execution_count": 114,
   "id": "57ef53a2-3eea-4387-b901-ce91b373e0d0",
   "metadata": {},
   "outputs": [
    {
     "data": {
      "text/plain": [
       "0"
      ]
     },
     "execution_count": 114,
     "metadata": {},
     "output_type": "execute_result"
    }
   ],
   "source": [
    "tmdb_5000_movies['vote_count'].isnull().sum()"
   ]
  },
  {
   "cell_type": "markdown",
   "id": "d00712fd-c1fd-4d44-8d59-92f89de7870d",
   "metadata": {},
   "source": [
    "#### tmdb_5000_credits"
   ]
  },
  {
   "cell_type": "code",
   "execution_count": 118,
   "id": "c8dfea7c-bb88-4ff8-9242-ac01316f771c",
   "metadata": {},
   "outputs": [
    {
     "name": "stdout",
     "output_type": "stream",
     "text": [
      "<class 'pandas.core.frame.DataFrame'>\n",
      "RangeIndex: 4803 entries, 0 to 4802\n",
      "Data columns (total 4 columns):\n",
      " #   Column    Non-Null Count  Dtype \n",
      "---  ------    --------------  ----- \n",
      " 0   movie_id  4803 non-null   int64 \n",
      " 1   title     4803 non-null   object\n",
      " 2   cast      4803 non-null   object\n",
      " 3   crew      4803 non-null   object\n",
      "dtypes: int64(1), object(3)\n",
      "memory usage: 150.2+ KB\n"
     ]
    }
   ],
   "source": [
    "tmdb_5000_credits.info()"
   ]
  },
  {
   "cell_type": "markdown",
   "id": "9df28059-bcfe-46b9-bc7b-c93d126c2a22",
   "metadata": {
    "jp-MarkdownHeadingCollapsed": true
   },
   "source": [
    "##### movie_id                          "
   ]
  },
  {
   "cell_type": "markdown",
   "id": "10710efc-c419-49d7-b976-a4a8683d7656",
   "metadata": {},
   "source": [
    "kolumna która bedzie zawiera klucz obcy i bedzie połaczona z kolumna id"
   ]
  },
  {
   "cell_type": "code",
   "execution_count": 120,
   "id": "fd118fa9-90ea-4265-9c25-13d9e640c9eb",
   "metadata": {},
   "outputs": [
    {
     "data": {
      "text/plain": [
       "0     19995\n",
       "1       285\n",
       "2    206647\n",
       "3     49026\n",
       "4     49529\n",
       "Name: movie_id, dtype: int64"
      ]
     },
     "execution_count": 120,
     "metadata": {},
     "output_type": "execute_result"
    }
   ],
   "source": [
    "tmdb_5000_credits['movie_id'].head()"
   ]
  },
  {
   "cell_type": "code",
   "execution_count": 124,
   "id": "46b8ffb0-b02f-4aa3-8200-3cba30a98007",
   "metadata": {},
   "outputs": [
    {
     "data": {
      "text/plain": [
       "movie_id\n",
       "19995     1\n",
       "333355    1\n",
       "71157     1\n",
       "43418     1\n",
       "11588     1\n",
       "         ..\n",
       "13156     1\n",
       "293863    1\n",
       "16871     1\n",
       "307081    1\n",
       "25975     1\n",
       "Name: count, Length: 4803, dtype: int64"
      ]
     },
     "execution_count": 124,
     "metadata": {},
     "output_type": "execute_result"
    }
   ],
   "source": [
    "tmdb_5000_credits['movie_id'].value_counts()"
   ]
  },
  {
   "cell_type": "code",
   "execution_count": 122,
   "id": "3bdc1710-6482-4859-a27b-449860344d3f",
   "metadata": {},
   "outputs": [
    {
     "data": {
      "text/plain": [
       "0"
      ]
     },
     "execution_count": 122,
     "metadata": {},
     "output_type": "execute_result"
    }
   ],
   "source": [
    "tmdb_5000_credits['movie_id'].isnull().sum()"
   ]
  },
  {
   "cell_type": "markdown",
   "id": "bf843f98-20e3-4daf-b254-103735902f52",
   "metadata": {
    "jp-MarkdownHeadingCollapsed": true
   },
   "source": [
    "##### title                             "
   ]
  },
  {
   "cell_type": "code",
   "execution_count": null,
   "id": "51900fd0-cca8-4957-a049-82a29d3b3dd0",
   "metadata": {},
   "outputs": [],
   "source": [
    "Kolumna jest tytułem o zmiennej długosci zatos"
   ]
  },
  {
   "cell_type": "code",
   "execution_count": 126,
   "id": "723e98c3-5607-435e-8911-270404dc6e1e",
   "metadata": {},
   "outputs": [
    {
     "data": {
      "text/plain": [
       "0                                      Avatar\n",
       "1    Pirates of the Caribbean: At World's End\n",
       "2                                     Spectre\n",
       "3                       The Dark Knight Rises\n",
       "4                                 John Carter\n",
       "Name: title, dtype: object"
      ]
     },
     "execution_count": 126,
     "metadata": {},
     "output_type": "execute_result"
    }
   ],
   "source": [
    "tmdb_5000_credits['title'].head()"
   ]
  },
  {
   "cell_type": "code",
   "execution_count": 128,
   "id": "23acf740-33d7-4ed9-b7e3-3c218244b7d0",
   "metadata": {},
   "outputs": [
    {
     "data": {
      "text/plain": [
       "0"
      ]
     },
     "execution_count": 128,
     "metadata": {},
     "output_type": "execute_result"
    }
   ],
   "source": [
    "tmdb_5000_credits['title'].isnull().sum()"
   ]
  },
  {
   "cell_type": "markdown",
   "id": "ae594a7f-6364-48c2-ac92-4996b82db8f9",
   "metadata": {
    "jp-MarkdownHeadingCollapsed": true
   },
   "source": [
    "##### cast                                   "
   ]
  },
  {
   "cell_type": "markdown",
   "id": "3422b172-10b7-4faf-9b60-90b0721350d0",
   "metadata": {},
   "source": [
    "kolumna jest zapisana w formacie JSON, zastosuje typ danych JSONB"
   ]
  },
  {
   "cell_type": "code",
   "execution_count": 130,
   "id": "c1f99c3c-852e-47ba-8580-51711295c0e0",
   "metadata": {},
   "outputs": [
    {
     "data": {
      "text/plain": [
       "0    [{\"cast_id\": 242, \"character\": \"Jake Sully\", \"...\n",
       "1    [{\"cast_id\": 4, \"character\": \"Captain Jack Spa...\n",
       "2    [{\"cast_id\": 1, \"character\": \"James Bond\", \"cr...\n",
       "3    [{\"cast_id\": 2, \"character\": \"Bruce Wayne / Ba...\n",
       "4    [{\"cast_id\": 5, \"character\": \"John Carter\", \"c...\n",
       "Name: cast, dtype: object"
      ]
     },
     "execution_count": 130,
     "metadata": {},
     "output_type": "execute_result"
    }
   ],
   "source": [
    "tmdb_5000_credits['cast'].head()"
   ]
  },
  {
   "cell_type": "code",
   "execution_count": 134,
   "id": "e2197ff6-39c5-4bf1-9c87-a5d0e6ba749c",
   "metadata": {},
   "outputs": [
    {
     "data": {
      "text/plain": [
       "0"
      ]
     },
     "execution_count": 134,
     "metadata": {},
     "output_type": "execute_result"
    }
   ],
   "source": [
    "tmdb_5000_credits['cast'].isnull().sum()"
   ]
  },
  {
   "cell_type": "markdown",
   "id": "c1fc99df-4200-4fac-99de-eecbdb836fc0",
   "metadata": {},
   "source": [
    "##### crew           "
   ]
  },
  {
   "cell_type": "markdown",
   "id": "b8fae988-6954-4f54-ae68-82d14e59656e",
   "metadata": {},
   "source": [
    "kolumna jest zapisana w formacie JSON, zastosuje typ danych JSONB"
   ]
  },
  {
   "cell_type": "code",
   "execution_count": 132,
   "id": "8f83729f-19bf-4b62-88ac-651db0453311",
   "metadata": {},
   "outputs": [
    {
     "data": {
      "text/plain": [
       "0    [{\"credit_id\": \"52fe48009251416c750aca23\", \"de...\n",
       "1    [{\"credit_id\": \"52fe4232c3a36847f800b579\", \"de...\n",
       "2    [{\"credit_id\": \"54805967c3a36829b5002c41\", \"de...\n",
       "3    [{\"credit_id\": \"52fe4781c3a36847f81398c3\", \"de...\n",
       "4    [{\"credit_id\": \"52fe479ac3a36847f813eaa3\", \"de...\n",
       "Name: crew, dtype: object"
      ]
     },
     "execution_count": 132,
     "metadata": {},
     "output_type": "execute_result"
    }
   ],
   "source": [
    "tmdb_5000_credits['crew'].head()"
   ]
  },
  {
   "cell_type": "code",
   "execution_count": 136,
   "id": "d3671c84-3de8-49c6-9254-d86dbc52d131",
   "metadata": {},
   "outputs": [
    {
     "data": {
      "text/plain": [
       "0"
      ]
     },
     "execution_count": 136,
     "metadata": {},
     "output_type": "execute_result"
    }
   ],
   "source": [
    "tmdb_5000_credits['crew'].isnull().sum()"
   ]
  },
  {
   "cell_type": "markdown",
   "id": "d91d9d86-7610-4d65-a203-7a67c57209d4",
   "metadata": {},
   "source": [
    "### Analiza struktury danych"
   ]
  },
  {
   "cell_type": "code",
   "execution_count": null,
   "id": "0b3cef8c-ac39-48c8-af6e-d348ba5c93df",
   "metadata": {},
   "outputs": [],
   "source": []
  },
  {
   "cell_type": "code",
   "execution_count": null,
   "id": "8622c99d-3466-47d1-97d3-acc0ab7645c5",
   "metadata": {},
   "outputs": [],
   "source": []
  },
  {
   "cell_type": "code",
   "execution_count": null,
   "id": "8f5a472d-8dd9-41ef-8c0c-2a2e0a52afd8",
   "metadata": {},
   "outputs": [],
   "source": []
  },
  {
   "cell_type": "code",
   "execution_count": null,
   "id": "e8e9cd5c-d49c-4397-a2c5-5a70827e66b1",
   "metadata": {},
   "outputs": [],
   "source": []
  },
  {
   "cell_type": "code",
   "execution_count": null,
   "id": "a28c22b2-6b88-4717-9512-e1199847ca10",
   "metadata": {},
   "outputs": [],
   "source": []
  },
  {
   "cell_type": "code",
   "execution_count": null,
   "id": "ca6ba321-bef3-4f7d-ada2-3382d843dfed",
   "metadata": {},
   "outputs": [],
   "source": []
  },
  {
   "cell_type": "code",
   "execution_count": null,
   "id": "f9e36a84-2b53-4879-b9e6-df246c4b62b6",
   "metadata": {},
   "outputs": [],
   "source": []
  }
 ],
 "metadata": {
  "kernelspec": {
   "display_name": "Python 3.9 (tensorflow)",
   "language": "python",
   "name": "tensorflow"
  },
  "language_info": {
   "codemirror_mode": {
    "name": "ipython",
    "version": 3
   },
   "file_extension": ".py",
   "mimetype": "text/x-python",
   "name": "python",
   "nbconvert_exporter": "python",
   "pygments_lexer": "ipython3",
   "version": "3.9.15"
  }
 },
 "nbformat": 4,
 "nbformat_minor": 5
}
