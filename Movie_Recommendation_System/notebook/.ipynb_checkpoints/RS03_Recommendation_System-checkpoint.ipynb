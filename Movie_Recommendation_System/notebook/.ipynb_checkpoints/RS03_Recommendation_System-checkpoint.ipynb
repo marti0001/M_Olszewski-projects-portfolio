{
 "cells": [
  {
   "cell_type": "markdown",
   "id": "4ea325d7-600c-4205-8cf0-8eb18e858f49",
   "metadata": {},
   "source": [
    "# Movie Recommendation System"
   ]
  },
  {
   "cell_type": "markdown",
   "id": "0c86ae4c-a3a1-4aec-bf66-ca809504e4d4",
   "metadata": {},
   "source": [
    "## Cel projektu"
   ]
  },
  {
   "cell_type": "markdown",
   "id": "263f0df9-a6e7-4382-8d77-8d9f999936fd",
   "metadata": {},
   "source": [
    "- Zbudowanie systemu rekomendacji filmów na podstawie ocen użytkowników.\n",
    "- Wykorzystanie SQL do analizy danych i Python do implementacji modelu rekomendacji."
   ]
  },
  {
   "cell_type": "code",
   "execution_count": 3,
   "id": "9f54bc0a-dc84-4228-ad7b-ebde07849aff",
   "metadata": {},
   "outputs": [],
   "source": [
    "import pandas as pd\n",
    "import numpy as np\n",
    "import scipy.stats\n",
    "from sqlalchemy import create_engine\n",
    "import seaborn as sns\n",
    "import matplotlib.pyplot as plt"
   ]
  },
  {
   "cell_type": "markdown",
   "id": "06dddba5-56b1-47e2-af1b-cb4865614ec5",
   "metadata": {},
   "source": [
    "## Wczytywanie danych"
   ]
  },
  {
   "cell_type": "code",
   "execution_count": 6,
   "id": "a2f9c96a-b429-4d9b-a240-2bc237f06188",
   "metadata": {},
   "outputs": [],
   "source": [
    "movies = pd.read_csv(\"../input/movies.csv\")# wyłaczenie trybu oszczedzania pamięci\n",
    "links = pd.read_csv(\"../input/links.csv\")\n",
    "ratings = pd.read_csv(\"../input/ratings.csv\", low_memory=False)\n",
    "tags = pd.read_csv(\"../input/tags.csv\")"
   ]
  },
  {
   "cell_type": "markdown",
   "id": "27068639-36a4-49d6-ac63-379f3db82f22",
   "metadata": {},
   "source": [
    "### Analiza struktury danych"
   ]
  },
  {
   "cell_type": "markdown",
   "id": "134ae09f-95a1-4f18-a3ab-af73e8d0b0aa",
   "metadata": {
    "jp-MarkdownHeadingCollapsed": true
   },
   "source": [
    "#### movies"
   ]
  },
  {
   "cell_type": "code",
   "execution_count": 10,
   "id": "7749d061-54e2-40f7-9098-4e8d63e44d66",
   "metadata": {},
   "outputs": [
    {
     "name": "stdout",
     "output_type": "stream",
     "text": [
      "<class 'pandas.core.frame.DataFrame'>\n",
      "RangeIndex: 87585 entries, 0 to 87584\n",
      "Data columns (total 3 columns):\n",
      " #   Column   Non-Null Count  Dtype \n",
      "---  ------   --------------  ----- \n",
      " 0   movieId  87585 non-null  int64 \n",
      " 1   title    87585 non-null  object\n",
      " 2   genres   87585 non-null  object\n",
      "dtypes: int64(1), object(2)\n",
      "memory usage: 2.0+ MB\n"
     ]
    }
   ],
   "source": [
    "movies.info()"
   ]
  },
  {
   "cell_type": "markdown",
   "id": "ed6234b4-f7c0-4510-809e-d7909c4e28ab",
   "metadata": {
    "jp-MarkdownHeadingCollapsed": true
   },
   "source": [
    "##### movieId"
   ]
  },
  {
   "cell_type": "markdown",
   "id": "acbb73cc-3eb8-4566-9cbe-831975554e6f",
   "metadata": {},
   "source": [
    "movieId- to unikalna liczba dla kazdego filmu, nie ma duplikatów bedzie kluczem podstawowym PRIMARY KEY"
   ]
  },
  {
   "cell_type": "code",
   "execution_count": 27,
   "id": "874a600d-a8a4-46c1-80b2-f41547656c21",
   "metadata": {},
   "outputs": [
    {
     "data": {
      "text/plain": [
       "movieId\n",
       "False    87585\n",
       "Name: count, dtype: int64"
      ]
     },
     "execution_count": 27,
     "metadata": {},
     "output_type": "execute_result"
    }
   ],
   "source": [
    "movies['movieId'].duplicated().value_counts()"
   ]
  },
  {
   "cell_type": "markdown",
   "id": "92e2f981-7bbf-405c-a0b6-6bb117132a2f",
   "metadata": {
    "jp-MarkdownHeadingCollapsed": true
   },
   "source": [
    "##### title"
   ]
  },
  {
   "cell_type": "markdown",
   "id": "883a2b23-29c4-46ce-a523-fce8df5fd102",
   "metadata": {},
   "source": [
    "title- to kolumna z tytułem filmu, zastosuje typ danych TEXT"
   ]
  },
  {
   "cell_type": "code",
   "execution_count": 30,
   "id": "712dcc93-f017-4efa-9892-3226783a159c",
   "metadata": {},
   "outputs": [
    {
     "data": {
      "text/plain": [
       "0                          Toy Story (1995)\n",
       "1                            Jumanji (1995)\n",
       "2                   Grumpier Old Men (1995)\n",
       "3                  Waiting to Exhale (1995)\n",
       "4        Father of the Bride Part II (1995)\n",
       "                        ...                \n",
       "87580             The Monroy Affaire (2022)\n",
       "87581            Shelter in Solitude (2023)\n",
       "87582                           Orca (2023)\n",
       "87583                The Angry Breed (1968)\n",
       "87584             Race to the Summit (2023)\n",
       "Name: title, Length: 87585, dtype: object"
      ]
     },
     "execution_count": 30,
     "metadata": {},
     "output_type": "execute_result"
    }
   ],
   "source": [
    "movies['title']"
   ]
  },
  {
   "cell_type": "markdown",
   "id": "ca07196c-a69d-40f2-98a6-f6545c925d19",
   "metadata": {
    "jp-MarkdownHeadingCollapsed": true
   },
   "source": [
    "##### genres"
   ]
  },
  {
   "cell_type": "markdown",
   "id": "42ecd803-245b-406e-9dab-137363d62102",
   "metadata": {},
   "source": [
    "genres- jest to kolumna z gatunkami, zastosuje typ danych TEXT"
   ]
  },
  {
   "cell_type": "code",
   "execution_count": 32,
   "id": "783ea923-4ce1-4548-b5b6-c40e2b66fc0b",
   "metadata": {},
   "outputs": [
    {
     "data": {
      "text/plain": [
       "0        Adventure|Animation|Children|Comedy|Fantasy\n",
       "1                         Adventure|Children|Fantasy\n",
       "2                                     Comedy|Romance\n",
       "3                               Comedy|Drama|Romance\n",
       "4                                             Comedy\n",
       "                            ...                     \n",
       "87580                                          Drama\n",
       "87581                                   Comedy|Drama\n",
       "87582                                          Drama\n",
       "87583                                          Drama\n",
       "87584                   Action|Adventure|Documentary\n",
       "Name: genres, Length: 87585, dtype: object"
      ]
     },
     "execution_count": 32,
     "metadata": {},
     "output_type": "execute_result"
    }
   ],
   "source": [
    "movies['genres']"
   ]
  },
  {
   "cell_type": "markdown",
   "id": "57c07280-53f1-43d2-ba12-3baefab236d2",
   "metadata": {},
   "source": [
    "#### links"
   ]
  },
  {
   "cell_type": "code",
   "execution_count": 12,
   "id": "4b25deae-b057-4d71-8a08-ae71e5f0551e",
   "metadata": {},
   "outputs": [
    {
     "name": "stdout",
     "output_type": "stream",
     "text": [
      "<class 'pandas.core.frame.DataFrame'>\n",
      "RangeIndex: 87585 entries, 0 to 87584\n",
      "Data columns (total 3 columns):\n",
      " #   Column   Non-Null Count  Dtype  \n",
      "---  ------   --------------  -----  \n",
      " 0   movieId  87585 non-null  int64  \n",
      " 1   imdbId   87585 non-null  int64  \n",
      " 2   tmdbId   87461 non-null  float64\n",
      "dtypes: float64(1), int64(2)\n",
      "memory usage: 2.0 MB\n"
     ]
    }
   ],
   "source": [
    "links.info()"
   ]
  },
  {
   "cell_type": "code",
   "execution_count": 68,
   "id": "4bc69ca9-ea6d-419d-a890-f3438f9b3303",
   "metadata": {},
   "outputs": [
    {
     "data": {
      "text/html": [
       "<div>\n",
       "<style scoped>\n",
       "    .dataframe tbody tr th:only-of-type {\n",
       "        vertical-align: middle;\n",
       "    }\n",
       "\n",
       "    .dataframe tbody tr th {\n",
       "        vertical-align: top;\n",
       "    }\n",
       "\n",
       "    .dataframe thead th {\n",
       "        text-align: right;\n",
       "    }\n",
       "</style>\n",
       "<table border=\"1\" class=\"dataframe\">\n",
       "  <thead>\n",
       "    <tr style=\"text-align: right;\">\n",
       "      <th></th>\n",
       "      <th>movieId</th>\n",
       "      <th>imdbId</th>\n",
       "      <th>tmdbId</th>\n",
       "    </tr>\n",
       "  </thead>\n",
       "  <tbody>\n",
       "    <tr>\n",
       "      <th>21762</th>\n",
       "      <td>112095</td>\n",
       "      <td>66273</td>\n",
       "      <td>163683.0</td>\n",
       "    </tr>\n",
       "  </tbody>\n",
       "</table>\n",
       "</div>"
      ],
      "text/plain": [
       "       movieId  imdbId    tmdbId\n",
       "21762   112095   66273  163683.0"
      ]
     },
     "execution_count": 68,
     "metadata": {},
     "output_type": "execute_result"
    }
   ],
   "source": [
    "links.sample()"
   ]
  },
  {
   "cell_type": "markdown",
   "id": "30a24b93-cc2c-4170-a9b4-0a77ca805046",
   "metadata": {
    "jp-MarkdownHeadingCollapsed": true
   },
   "source": [
    "##### movieId"
   ]
  },
  {
   "cell_type": "code",
   "execution_count": 40,
   "id": "84dda3f8-1c11-41b8-872e-b43b1353b24b",
   "metadata": {},
   "outputs": [
    {
     "data": {
      "text/plain": [
       "16528     87227\n",
       "23587    118528\n",
       "22993    116724\n",
       "86221    287861\n",
       "38100    153340\n",
       "54021    187251\n",
       "65040    211728\n",
       "27237    128476\n",
       "78040    260591\n",
       "69158    222755\n",
       "Name: movieId, dtype: int64"
      ]
     },
     "execution_count": 40,
     "metadata": {},
     "output_type": "execute_result"
    }
   ],
   "source": [
    "links['movieId'].sample(10)"
   ]
  },
  {
   "cell_type": "code",
   "execution_count": 42,
   "id": "915a3ec0-9f38-4a2f-8f33-bcc5e93bd696",
   "metadata": {},
   "outputs": [
    {
     "data": {
      "text/plain": [
       "movieId\n",
       "False    87585\n",
       "Name: count, dtype: int64"
      ]
     },
     "execution_count": 42,
     "metadata": {},
     "output_type": "execute_result"
    }
   ],
   "source": [
    "links['movieId'].duplicated().value_counts()"
   ]
  },
  {
   "cell_type": "code",
   "execution_count": 46,
   "id": "60527801-d92a-466e-85e2-848e6b965423",
   "metadata": {},
   "outputs": [
    {
     "data": {
      "text/plain": [
       "0          114709\n",
       "1          113497\n",
       "2          113228\n",
       "3          114885\n",
       "4          113041\n",
       "           ...   \n",
       "87580    26812510\n",
       "87581    14907358\n",
       "87582    12388280\n",
       "87583       64027\n",
       "87584    28995566\n",
       "Name: imdbId, Length: 87585, dtype: int64"
      ]
     },
     "execution_count": 46,
     "metadata": {},
     "output_type": "execute_result"
    }
   ],
   "source": [
    "links['imdbId']"
   ]
  },
  {
   "cell_type": "markdown",
   "id": "cad56e48-0e1d-476b-a37c-0ca9c563fba7",
   "metadata": {
    "jp-MarkdownHeadingCollapsed": true
   },
   "source": [
    "#### ratings"
   ]
  },
  {
   "cell_type": "code",
   "execution_count": 14,
   "id": "510b4cd0-5e78-417f-a1df-c145dc88e784",
   "metadata": {},
   "outputs": [
    {
     "name": "stdout",
     "output_type": "stream",
     "text": [
      "<class 'pandas.core.frame.DataFrame'>\n",
      "RangeIndex: 32000204 entries, 0 to 32000203\n",
      "Data columns (total 4 columns):\n",
      " #   Column     Dtype  \n",
      "---  ------     -----  \n",
      " 0   userId     int64  \n",
      " 1   movieId    int64  \n",
      " 2   rating     float64\n",
      " 3   timestamp  int64  \n",
      "dtypes: float64(1), int64(3)\n",
      "memory usage: 976.6 MB\n"
     ]
    }
   ],
   "source": [
    "ratings.info()"
   ]
  },
  {
   "cell_type": "markdown",
   "id": "02f6f7fa-547a-485d-9aae-9133c954d370",
   "metadata": {},
   "source": [
    "#### tags"
   ]
  },
  {
   "cell_type": "code",
   "execution_count": 19,
   "id": "0ecfe0a1-7e05-407a-88d0-469d9b040fe4",
   "metadata": {},
   "outputs": [
    {
     "name": "stdout",
     "output_type": "stream",
     "text": [
      "<class 'pandas.core.frame.DataFrame'>\n",
      "RangeIndex: 2000072 entries, 0 to 2000071\n",
      "Data columns (total 4 columns):\n",
      " #   Column     Dtype \n",
      "---  ------     ----- \n",
      " 0   userId     int64 \n",
      " 1   movieId    int64 \n",
      " 2   tag        object\n",
      " 3   timestamp  int64 \n",
      "dtypes: int64(3), object(1)\n",
      "memory usage: 61.0+ MB\n"
     ]
    }
   ],
   "source": [
    "tags.info()"
   ]
  },
  {
   "cell_type": "code",
   "execution_count": 70,
   "id": "5fb2ecc5-0bcd-446d-ba24-1e06b7abb87c",
   "metadata": {},
   "outputs": [
    {
     "data": {
      "text/html": [
       "<div>\n",
       "<style scoped>\n",
       "    .dataframe tbody tr th:only-of-type {\n",
       "        vertical-align: middle;\n",
       "    }\n",
       "\n",
       "    .dataframe tbody tr th {\n",
       "        vertical-align: top;\n",
       "    }\n",
       "\n",
       "    .dataframe thead th {\n",
       "        text-align: right;\n",
       "    }\n",
       "</style>\n",
       "<table border=\"1\" class=\"dataframe\">\n",
       "  <thead>\n",
       "    <tr style=\"text-align: right;\">\n",
       "      <th></th>\n",
       "      <th>movieId</th>\n",
       "      <th>title</th>\n",
       "      <th>genres</th>\n",
       "    </tr>\n",
       "  </thead>\n",
       "  <tbody>\n",
       "    <tr>\n",
       "      <th>21762</th>\n",
       "      <td>112095</td>\n",
       "      <td>R.P.M. (1970)</td>\n",
       "      <td>Drama</td>\n",
       "    </tr>\n",
       "  </tbody>\n",
       "</table>\n",
       "</div>"
      ],
      "text/plain": [
       "       movieId          title genres\n",
       "21762   112095  R.P.M. (1970)  Drama"
      ]
     },
     "execution_count": 70,
     "metadata": {},
     "output_type": "execute_result"
    }
   ],
   "source": [
    "movies[movies['movieId'] == 112095]"
   ]
  },
  {
   "cell_type": "code",
   "execution_count": null,
   "id": "46a6a092-b87c-42b4-bbc4-83c44f032ed9",
   "metadata": {},
   "outputs": [],
   "source": [
    "\n",
    "\n",
    "def info_column(data):\n",
    "    for x in range(len(data.columns)):\n",
    "        column = data.columns[x]\n",
    "        print(f\"***{column}***\")\n",
    "        print(data[column].value_counts())\n",
    "        print(\"__\"*10)\n",
    "        print('')\n",
    "info_column(movies_metadata)"
   ]
  },
  {
   "cell_type": "code",
   "execution_count": 72,
   "id": "93cab53c-b9f4-4ba9-acae-e93b3ec64227",
   "metadata": {},
   "outputs": [
    {
     "data": {
      "text/html": [
       "<div>\n",
       "<style scoped>\n",
       "    .dataframe tbody tr th:only-of-type {\n",
       "        vertical-align: middle;\n",
       "    }\n",
       "\n",
       "    .dataframe tbody tr th {\n",
       "        vertical-align: top;\n",
       "    }\n",
       "\n",
       "    .dataframe thead th {\n",
       "        text-align: right;\n",
       "    }\n",
       "</style>\n",
       "<table border=\"1\" class=\"dataframe\">\n",
       "  <thead>\n",
       "    <tr style=\"text-align: right;\">\n",
       "      <th></th>\n",
       "      <th>movieId</th>\n",
       "      <th>imdbId</th>\n",
       "      <th>tmdbId</th>\n",
       "    </tr>\n",
       "  </thead>\n",
       "  <tbody>\n",
       "    <tr>\n",
       "      <th>21762</th>\n",
       "      <td>112095</td>\n",
       "      <td>66273</td>\n",
       "      <td>163683.0</td>\n",
       "    </tr>\n",
       "  </tbody>\n",
       "</table>\n",
       "</div>"
      ],
      "text/plain": [
       "       movieId  imdbId    tmdbId\n",
       "21762   112095   66273  163683.0"
      ]
     },
     "execution_count": 72,
     "metadata": {},
     "output_type": "execute_result"
    }
   ],
   "source": [
    "links[links['movieId'] == 112095]"
   ]
  },
  {
   "cell_type": "code",
   "execution_count": null,
   "id": "1169a6b9-f0e1-4cfd-8f06-43e6a4b857cb",
   "metadata": {},
   "outputs": [],
   "source": []
  },
  {
   "cell_type": "code",
   "execution_count": null,
   "id": "ee2a5458-9d45-4e89-b7f3-96f7c0bcde4a",
   "metadata": {},
   "outputs": [],
   "source": []
  },
  {
   "cell_type": "code",
   "execution_count": null,
   "id": "c2fe7672-ba0d-4603-a065-5aeeafd21ce8",
   "metadata": {},
   "outputs": [],
   "source": []
  }
 ],
 "metadata": {
  "kernelspec": {
   "display_name": "Python 3.9 (tensorflow)",
   "language": "python",
   "name": "tensorflow"
  },
  "language_info": {
   "codemirror_mode": {
    "name": "ipython",
    "version": 3
   },
   "file_extension": ".py",
   "mimetype": "text/x-python",
   "name": "python",
   "nbconvert_exporter": "python",
   "pygments_lexer": "ipython3",
   "version": "3.9.15"
  }
 },
 "nbformat": 4,
 "nbformat_minor": 5
}
