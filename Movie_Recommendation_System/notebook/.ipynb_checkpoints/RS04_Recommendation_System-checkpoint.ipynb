{
 "cells": [
  {
   "cell_type": "markdown",
   "id": "22f29b65-a6d8-40c4-b9b3-c48ccaa50c73",
   "metadata": {},
   "source": [
    "# System rekomendacji na podstwie uzytkownia z dynamicznym obszarem wyszukiwania"
   ]
  },
  {
   "cell_type": "code",
   "execution_count": 2,
   "id": "d23a7352-aa38-48c6-ba7f-f358365431fa",
   "metadata": {},
   "outputs": [],
   "source": [
    "import pandas as pd\n",
    "import re"
   ]
  },
  {
   "cell_type": "code",
   "execution_count": 3,
   "id": "f6d289a3-321c-418d-95fa-b1efdf72ccd6",
   "metadata": {},
   "outputs": [],
   "source": [
    "movies = pd.read_csv(\"../input/RS04_movies.csv\")\n",
    "ratings = pd.read_csv('../input/RS04_ratings.csv')"
   ]
  },
  {
   "cell_type": "code",
   "execution_count": 4,
   "id": "fa034d5f-2453-43e0-b2cb-1f7cba98f70c",
   "metadata": {},
   "outputs": [
    {
     "name": "stdout",
     "output_type": "stream",
     "text": [
      "(62423, 3)\n",
      "(25000095, 4)\n"
     ]
    }
   ],
   "source": [
    "print(movies.shape)\n",
    "print(ratings.shape)"
   ]
  },
  {
   "cell_type": "markdown",
   "id": "02514eb0-ef2a-4aea-9647-369463f5442d",
   "metadata": {},
   "source": [
    "## Czyszczenie danych"
   ]
  },
  {
   "cell_type": "code",
   "execution_count": 6,
   "id": "6dbd9501-f2d0-4e94-a475-fc8aae273eb9",
   "metadata": {},
   "outputs": [],
   "source": [
    "def clean_title(title):\n",
    "    title = re.sub(\"[^a-zA-Z0-9 ]\", \"\", title) # usuwa wszystkie znaki które nie sa literami, cyframi ani spacjami \n",
    "    return title "
   ]
  },
  {
   "cell_type": "code",
   "execution_count": 7,
   "id": "dfd8825b-2f46-481b-ac2d-23851d6c98d3",
   "metadata": {},
   "outputs": [],
   "source": [
    "movies['clean_title']= movies['title'].apply(clean_title)"
   ]
  },
  {
   "cell_type": "code",
   "execution_count": 8,
   "id": "7c7d936a-ed8b-4e1f-ac3f-f08099996f45",
   "metadata": {},
   "outputs": [
    {
     "data": {
      "text/html": [
       "<div>\n",
       "<style scoped>\n",
       "    .dataframe tbody tr th:only-of-type {\n",
       "        vertical-align: middle;\n",
       "    }\n",
       "\n",
       "    .dataframe tbody tr th {\n",
       "        vertical-align: top;\n",
       "    }\n",
       "\n",
       "    .dataframe thead th {\n",
       "        text-align: right;\n",
       "    }\n",
       "</style>\n",
       "<table border=\"1\" class=\"dataframe\">\n",
       "  <thead>\n",
       "    <tr style=\"text-align: right;\">\n",
       "      <th></th>\n",
       "      <th>movieId</th>\n",
       "      <th>title</th>\n",
       "      <th>genres</th>\n",
       "      <th>clean_title</th>\n",
       "    </tr>\n",
       "  </thead>\n",
       "  <tbody>\n",
       "    <tr>\n",
       "      <th>56340</th>\n",
       "      <td>193954</td>\n",
       "      <td>The Nutcracker and the Four Realms (2018)</td>\n",
       "      <td>Adventure|Children|Fantasy</td>\n",
       "      <td>The Nutcracker and the Four Realms 2018</td>\n",
       "    </tr>\n",
       "    <tr>\n",
       "      <th>43392</th>\n",
       "      <td>165905</td>\n",
       "      <td>Outlaw: Gangster VIP (1968)</td>\n",
       "      <td>Action|Crime|Thriller</td>\n",
       "      <td>Outlaw Gangster VIP 1968</td>\n",
       "    </tr>\n",
       "    <tr>\n",
       "      <th>59263</th>\n",
       "      <td>200468</td>\n",
       "      <td>Astronautas (2003)</td>\n",
       "      <td>Drama</td>\n",
       "      <td>Astronautas 2003</td>\n",
       "    </tr>\n",
       "    <tr>\n",
       "      <th>56242</th>\n",
       "      <td>193743</td>\n",
       "      <td>Sunshine Girl and The Hunt For Black Eyed Kids...</td>\n",
       "      <td>Adventure|Horror|Thriller</td>\n",
       "      <td>Sunshine Girl and The Hunt For Black Eyed Kids...</td>\n",
       "    </tr>\n",
       "    <tr>\n",
       "      <th>32309</th>\n",
       "      <td>140635</td>\n",
       "      <td>Almost Mercy (2015)</td>\n",
       "      <td>Horror</td>\n",
       "      <td>Almost Mercy 2015</td>\n",
       "    </tr>\n",
       "    <tr>\n",
       "      <th>51365</th>\n",
       "      <td>182985</td>\n",
       "      <td>Across the Sea (2014)</td>\n",
       "      <td>Drama</td>\n",
       "      <td>Across the Sea 2014</td>\n",
       "    </tr>\n",
       "    <tr>\n",
       "      <th>37572</th>\n",
       "      <td>152944</td>\n",
       "      <td>Moszkva tér (2001)</td>\n",
       "      <td>(no genres listed)</td>\n",
       "      <td>Moszkva tr 2001</td>\n",
       "    </tr>\n",
       "    <tr>\n",
       "      <th>6735</th>\n",
       "      <td>6858</td>\n",
       "      <td>Knife in the Water (Nóz w wodzie) (1962)</td>\n",
       "      <td>Drama</td>\n",
       "      <td>Knife in the Water Nz w wodzie 1962</td>\n",
       "    </tr>\n",
       "    <tr>\n",
       "      <th>2639</th>\n",
       "      <td>2731</td>\n",
       "      <td>400 Blows, The (Les quatre cents coups) (1959)</td>\n",
       "      <td>Crime|Drama</td>\n",
       "      <td>400 Blows The Les quatre cents coups 1959</td>\n",
       "    </tr>\n",
       "    <tr>\n",
       "      <th>37956</th>\n",
       "      <td>153746</td>\n",
       "      <td>A Night In the Woods (2012)</td>\n",
       "      <td>(no genres listed)</td>\n",
       "      <td>A Night In the Woods 2012</td>\n",
       "    </tr>\n",
       "  </tbody>\n",
       "</table>\n",
       "</div>"
      ],
      "text/plain": [
       "       movieId                                              title  \\\n",
       "56340   193954          The Nutcracker and the Four Realms (2018)   \n",
       "43392   165905                        Outlaw: Gangster VIP (1968)   \n",
       "59263   200468                                 Astronautas (2003)   \n",
       "56242   193743  Sunshine Girl and The Hunt For Black Eyed Kids...   \n",
       "32309   140635                                Almost Mercy (2015)   \n",
       "51365   182985                              Across the Sea (2014)   \n",
       "37572   152944                                 Moszkva tér (2001)   \n",
       "6735      6858           Knife in the Water (Nóz w wodzie) (1962)   \n",
       "2639      2731     400 Blows, The (Les quatre cents coups) (1959)   \n",
       "37956   153746                        A Night In the Woods (2012)   \n",
       "\n",
       "                           genres  \\\n",
       "56340  Adventure|Children|Fantasy   \n",
       "43392       Action|Crime|Thriller   \n",
       "59263                       Drama   \n",
       "56242   Adventure|Horror|Thriller   \n",
       "32309                      Horror   \n",
       "51365                       Drama   \n",
       "37572          (no genres listed)   \n",
       "6735                        Drama   \n",
       "2639                  Crime|Drama   \n",
       "37956          (no genres listed)   \n",
       "\n",
       "                                             clean_title  \n",
       "56340            The Nutcracker and the Four Realms 2018  \n",
       "43392                           Outlaw Gangster VIP 1968  \n",
       "59263                                   Astronautas 2003  \n",
       "56242  Sunshine Girl and The Hunt For Black Eyed Kids...  \n",
       "32309                                  Almost Mercy 2015  \n",
       "51365                                Across the Sea 2014  \n",
       "37572                                    Moszkva tr 2001  \n",
       "6735                 Knife in the Water Nz w wodzie 1962  \n",
       "2639           400 Blows The Les quatre cents coups 1959  \n",
       "37956                          A Night In the Woods 2012  "
      ]
     },
     "execution_count": 8,
     "metadata": {},
     "output_type": "execute_result"
    }
   ],
   "source": [
    "movies.sample(10)"
   ]
  },
  {
   "cell_type": "markdown",
   "id": "41e45e98-5487-4220-b317-a640b96b487e",
   "metadata": {},
   "source": [
    "# Przekształcanie tekstu na macierz liczbową"
   ]
  },
  {
   "cell_type": "markdown",
   "id": "4c19d36d-c5bf-4fa3-b575-0143261b2ea7",
   "metadata": {},
   "source": [
    "TF-IDF to metoda przypisywania wartości liczbowej słowom w dokumencie na podstawie ich istotnosci w korpusie tekstu.\n",
    "Term Frequency (TF) – częstość terminu\n",
    "Inverse Document Frequency (IDF) – rzadkość terminu\n",
    "\n",
    "- Słowa powszechne w korpusie tekstu mają niską wartość TF-IDF\n",
    "- Słowa rzadkie maja wysoką warotść TF-IDF\n",
    "\n",
    "- Unigramy (pojedyncze słowa, np. \"Harry\", \"Potter\")\n",
    "- Bigramy (pary słów, np. \"Harry Potter\", \"Potter i\")"
   ]
  },
  {
   "cell_type": "code",
   "execution_count": 11,
   "id": "acc1101d-276c-499a-82ce-51f4a1932b37",
   "metadata": {},
   "outputs": [],
   "source": [
    "from sklearn.feature_extraction.text import TfidfVectorizer #przekszatałcanie tekstu na macierz liczbową"
   ]
  },
  {
   "cell_type": "code",
   "execution_count": 12,
   "id": "64c9f0b9-d0b8-4976-8113-7129c9c9c715",
   "metadata": {},
   "outputs": [],
   "source": [
    "vectorizer = TfidfVectorizer(ngram_range=(1,2)) #uwzglednia zarówno pojedyncze słowa jak i pary słów\n",
    "\n",
    "tfidf = vectorizer.fit_transform(movies[\"clean_title\"]) # konwertuje kazdy tytuł na wektor TF-IDF"
   ]
  },
  {
   "cell_type": "markdown",
   "id": "cb59783c-5c1c-44cb-9ce5-d5c4b161e0d5",
   "metadata": {},
   "source": [
    "## Wyszukiwanie podobnych tytułów filmów"
   ]
  },
  {
   "cell_type": "markdown",
   "id": "fb76fd34-954c-43f9-8548-3eaf6f793383",
   "metadata": {},
   "source": [
    "Podobieństwo cosinusowe jest miarą podobieństwa między dwoma niezerowymi wektorami zdefiniowanymi w przestrzeni iloczynu wewnętrznego, zawsze należy do przedziału [-1,1]\n",
    "\n",
    "Mierzy, jak podobne są dwa wektory w przestrzeni wektorowej. Wartości wynikają z kąta między wektorami, gdzie:\n",
    "Wartość 1 oznacza pełną zgodność.\n",
    "Wartość 0 oznacza brak podobieństwa.\n",
    "Wartość -1 oznacza całkowite przeciwieństwo."
   ]
  },
  {
   "cell_type": "code",
   "execution_count": 15,
   "id": "4a5bdf1b-0e21-44f8-a1d6-6712c57abb07",
   "metadata": {},
   "outputs": [],
   "source": [
    "from sklearn.metrics.pairwise import cosine_similarity # miara podobienstwa kosinusowego\n",
    "import numpy as np"
   ]
  },
  {
   "cell_type": "code",
   "execution_count": 16,
   "id": "090b593b-660c-4cb0-baba-0e9f453421a8",
   "metadata": {},
   "outputs": [],
   "source": [
    "def search(title):\n",
    "    title = clean_title(title) # uzywanie funkcji oczyszczajacej\n",
    "    query_vec = vectorizer.transform([title]) # zamiana tytułu na wektor TF-IDF\n",
    "    similarity = cosine_similarity(query_vec, tfidf).flatten() # obliczny podobienstwo kosinusowe  zamienia wynik na wektor 1D(liste)\n",
    "    indices = np.argpartition(similarity, -5)[-5:] #znajduje 5 najwyzszych indeksów które odpowiadaja najbardziej podobnym tytułom,tylko oostatnie 5 elementów\n",
    "    results = movies.iloc[indices].iloc[::-1] # wybieramy wiersze na podstawie wcesniej obliczonych indeksów, odwracamy kolejnosc wyników\n",
    "    \n",
    "    return results"
   ]
  },
  {
   "cell_type": "markdown",
   "id": "26e6e42c-916a-4c50-aaa5-96d8f7154783",
   "metadata": {},
   "source": [
    "## Budowanie interaktywnego widgeta"
   ]
  },
  {
   "cell_type": "code",
   "execution_count": 18,
   "id": "9e4dc3d4-f8bc-4fa4-9dcf-b1377068d062",
   "metadata": {},
   "outputs": [],
   "source": [
    "import ipywidgets as widgets # biblioteka do tworzenia interaktywnych elementów \n",
    "from IPython.display import display # funkcja do dynamiczego wyswietlania wyników"
   ]
  },
  {
   "cell_type": "code",
   "execution_count": 19,
   "id": "e6cffc54-302a-434f-93fd-7c72f51bed63",
   "metadata": {},
   "outputs": [
    {
     "data": {
      "application/vnd.jupyter.widget-view+json": {
       "model_id": "9ef1d39179e3419ba94e49ca502e028b",
       "version_major": 2,
       "version_minor": 0
      },
      "text/plain": [
       "Text(value='', description='Movie Title:')"
      ]
     },
     "metadata": {},
     "output_type": "display_data"
    },
    {
     "data": {
      "application/vnd.jupyter.widget-view+json": {
       "model_id": "4784626566014cc2970ff1be478100f2",
       "version_major": 2,
       "version_minor": 0
      },
      "text/plain": [
       "Output()"
      ]
     },
     "metadata": {},
     "output_type": "display_data"
    }
   ],
   "source": [
    "movie_input = widgets.Text( # tworzenie pola tekstowego\n",
    "    value='', # domyslna wartosc pola tekstowego\n",
    "    description='Movie Title:', # opis pala tekstowego\n",
    "    disabled=False\n",
    ")\n",
    "movie_list = widgets.Output() # widget do wyswietlania wyników\n",
    "\n",
    "def on_type(data):\n",
    "    with movie_list: # działanie na liscie movie_list \n",
    "        movie_list.clear_output() # czyszczenie poprzednich wyników\n",
    "        title = data[\"new\"] #\n",
    "        if len(title) > 3: # jesli tekst ma wiecej niz 3 znaki \n",
    "            display(search(title)) # wyswiel wyniki z funkcji\n",
    "\n",
    "movie_input.observe(on_type, names='value')\n",
    "\n",
    "\n",
    "display(movie_input, movie_list) # wyswietla pole tekstowe i dynamiczny obasza w którym wyszukiwane sa filmy"
   ]
  },
  {
   "cell_type": "markdown",
   "id": "b16cb29e-49a1-40ca-b949-de39e67e5df8",
   "metadata": {},
   "source": [
    "## Tworzenie systemu rekomendacji"
   ]
  },
  {
   "cell_type": "code",
   "execution_count": 21,
   "id": "24c934d6-89eb-4c65-97d2-2adad357bfd8",
   "metadata": {},
   "outputs": [
    {
     "data": {
      "text/html": [
       "<div>\n",
       "<style scoped>\n",
       "    .dataframe tbody tr th:only-of-type {\n",
       "        vertical-align: middle;\n",
       "    }\n",
       "\n",
       "    .dataframe tbody tr th {\n",
       "        vertical-align: top;\n",
       "    }\n",
       "\n",
       "    .dataframe thead th {\n",
       "        text-align: right;\n",
       "    }\n",
       "</style>\n",
       "<table border=\"1\" class=\"dataframe\">\n",
       "  <thead>\n",
       "    <tr style=\"text-align: right;\">\n",
       "      <th></th>\n",
       "      <th>movieId</th>\n",
       "      <th>title</th>\n",
       "      <th>genres</th>\n",
       "      <th>clean_title</th>\n",
       "    </tr>\n",
       "  </thead>\n",
       "  <tbody>\n",
       "    <tr>\n",
       "      <th>0</th>\n",
       "      <td>1</td>\n",
       "      <td>Toy Story (1995)</td>\n",
       "      <td>Adventure|Animation|Children|Comedy|Fantasy</td>\n",
       "      <td>Toy Story 1995</td>\n",
       "    </tr>\n",
       "  </tbody>\n",
       "</table>\n",
       "</div>"
      ],
      "text/plain": [
       "   movieId             title                                       genres  \\\n",
       "0        1  Toy Story (1995)  Adventure|Animation|Children|Comedy|Fantasy   \n",
       "\n",
       "      clean_title  \n",
       "0  Toy Story 1995  "
      ]
     },
     "execution_count": 21,
     "metadata": {},
     "output_type": "execute_result"
    }
   ],
   "source": [
    "movie_id = 1 #identyfikator filmu\n",
    "movie = movies[movies[\"movieId\"] == movie_id]\n",
    "movie"
   ]
  },
  {
   "cell_type": "code",
   "execution_count": 22,
   "id": "eca24953-bf21-4d8c-9dd8-05cfb6a62206",
   "metadata": {},
   "outputs": [],
   "source": [
    "similar_users = ratings[(ratings[\"movieId\"] == movie_id) & (ratings[\"rating\"] > 4)][\"userId\"].unique() # wszystkie oceny i ocene wieksza nic 4 i zwracamy liste unikalnych identyfikatorów\n",
    "similar_user_recs = ratings[(ratings[\"userId\"].isin(similar_users)) & (ratings[\"rating\"] > 4)][\"movieId\"] # wybieramy oceny wystawione przez uzytkowników i filmy z ocena wieksze niz 4 i zwracamy liste identyfikatorów"
   ]
  },
  {
   "cell_type": "code",
   "execution_count": 23,
   "id": "2c2454fe-273f-4d7d-aba2-048ac93be8b7",
   "metadata": {},
   "outputs": [
    {
     "data": {
      "text/plain": [
       "5101            1\n",
       "5105           34\n",
       "5111          110\n",
       "5114          150\n",
       "5127          260\n",
       "            ...  \n",
       "24998854    60069\n",
       "24998861    67997\n",
       "24998876    78499\n",
       "24998884    81591\n",
       "24998888    88129\n",
       "Name: movieId, Length: 1358326, dtype: int64"
      ]
     },
     "execution_count": 23,
     "metadata": {},
     "output_type": "execute_result"
    }
   ],
   "source": [
    "similar_user_recs"
   ]
  },
  {
   "cell_type": "code",
   "execution_count": 23,
   "id": "9c41b883-c2cf-47ff-876e-816b84a93c44",
   "metadata": {},
   "outputs": [],
   "source": [
    "similar_user_recs = similar_user_recs.value_counts() / len(similar_users) #zliczamy ile razy kazdy film pojawia sie i dizleimy przez liczbe uzytkowników\n",
    "similar_user_recs = similar_user_recs[similar_user_recs > .10] # zachowujemy tylko te filmy które były wysoko oceniane przez wiecej niz 10% uzytkowników"
   ]
  },
  {
   "cell_type": "code",
   "execution_count": 25,
   "id": "c8505681-b98a-4921-b21b-0e1a70e50623",
   "metadata": {},
   "outputs": [],
   "source": [
    "all_users = ratings[(ratings[\"movieId\"].isin(similar_user_recs.index)) & (ratings[\"rating\"] > 4)] # wszystkie oceny dotyczące tych filmów i oceny wyzsze niz 4\n",
    "all_user_recs = all_users[\"movieId\"].value_counts() / len(all_users[\"userId\"].unique()) # "
   ]
  },
  {
   "cell_type": "code",
   "execution_count": 28,
   "id": "3aac50cf-1cc5-4cc0-af8e-e04d86ca51f1",
   "metadata": {},
   "outputs": [],
   "source": [
    "rec_percentages = pd.concat([similar_user_recs, all_user_recs], axis=1)\n",
    "rec_percentages.columns = [\"similar\", \"all\"]"
   ]
  },
  {
   "cell_type": "code",
   "execution_count": 30,
   "id": "49c85415-db82-4fb2-8da5-f8bf57fd83ca",
   "metadata": {},
   "outputs": [],
   "source": [
    "rec_percentages[\"score\"] = rec_percentages[\"similar\"] / rec_percentages[\"all\"]\n",
    "rec_percentages = rec_percentages.sort_values(\"score\", ascending=False)\n"
   ]
  },
  {
   "cell_type": "code",
   "execution_count": 31,
   "id": "ec9e88f5-f177-4baa-b4aa-61a853a834f3",
   "metadata": {},
   "outputs": [
    {
     "data": {
      "text/html": [
       "<div>\n",
       "<style scoped>\n",
       "    .dataframe tbody tr th:only-of-type {\n",
       "        vertical-align: middle;\n",
       "    }\n",
       "\n",
       "    .dataframe tbody tr th {\n",
       "        vertical-align: top;\n",
       "    }\n",
       "\n",
       "    .dataframe thead th {\n",
       "        text-align: right;\n",
       "    }\n",
       "</style>\n",
       "<table border=\"1\" class=\"dataframe\">\n",
       "  <thead>\n",
       "    <tr style=\"text-align: right;\">\n",
       "      <th></th>\n",
       "      <th>similar</th>\n",
       "      <th>all</th>\n",
       "      <th>score</th>\n",
       "      <th>movieId</th>\n",
       "      <th>title</th>\n",
       "      <th>genres</th>\n",
       "      <th>clean_title</th>\n",
       "    </tr>\n",
       "  </thead>\n",
       "  <tbody>\n",
       "    <tr>\n",
       "      <th>0</th>\n",
       "      <td>1.000000</td>\n",
       "      <td>0.124728</td>\n",
       "      <td>8.017414</td>\n",
       "      <td>1</td>\n",
       "      <td>Toy Story (1995)</td>\n",
       "      <td>Adventure|Animation|Children|Comedy|Fantasy</td>\n",
       "      <td>Toy Story 1995</td>\n",
       "    </tr>\n",
       "    <tr>\n",
       "      <th>3021</th>\n",
       "      <td>0.280648</td>\n",
       "      <td>0.053706</td>\n",
       "      <td>5.225654</td>\n",
       "      <td>3114</td>\n",
       "      <td>Toy Story 2 (1999)</td>\n",
       "      <td>Adventure|Animation|Children|Comedy|Fantasy</td>\n",
       "      <td>Toy Story 2 1999</td>\n",
       "    </tr>\n",
       "    <tr>\n",
       "      <th>2264</th>\n",
       "      <td>0.110539</td>\n",
       "      <td>0.025091</td>\n",
       "      <td>4.405452</td>\n",
       "      <td>2355</td>\n",
       "      <td>Bug's Life, A (1998)</td>\n",
       "      <td>Adventure|Animation|Children|Comedy</td>\n",
       "      <td>Bugs Life A 1998</td>\n",
       "    </tr>\n",
       "    <tr>\n",
       "      <th>14813</th>\n",
       "      <td>0.152960</td>\n",
       "      <td>0.035131</td>\n",
       "      <td>4.354038</td>\n",
       "      <td>78499</td>\n",
       "      <td>Toy Story 3 (2010)</td>\n",
       "      <td>Adventure|Animation|Children|Comedy|Fantasy|IMAX</td>\n",
       "      <td>Toy Story 3 2010</td>\n",
       "    </tr>\n",
       "    <tr>\n",
       "      <th>4780</th>\n",
       "      <td>0.235147</td>\n",
       "      <td>0.070811</td>\n",
       "      <td>3.320783</td>\n",
       "      <td>4886</td>\n",
       "      <td>Monsters, Inc. (2001)</td>\n",
       "      <td>Adventure|Animation|Children|Comedy|Fantasy</td>\n",
       "      <td>Monsters Inc 2001</td>\n",
       "    </tr>\n",
       "    <tr>\n",
       "      <th>580</th>\n",
       "      <td>0.216618</td>\n",
       "      <td>0.067513</td>\n",
       "      <td>3.208539</td>\n",
       "      <td>588</td>\n",
       "      <td>Aladdin (1992)</td>\n",
       "      <td>Adventure|Animation|Children|Comedy|Musical</td>\n",
       "      <td>Aladdin 1992</td>\n",
       "    </tr>\n",
       "    <tr>\n",
       "      <th>6258</th>\n",
       "      <td>0.228139</td>\n",
       "      <td>0.072268</td>\n",
       "      <td>3.156862</td>\n",
       "      <td>6377</td>\n",
       "      <td>Finding Nemo (2003)</td>\n",
       "      <td>Adventure|Animation|Children|Comedy</td>\n",
       "      <td>Finding Nemo 2003</td>\n",
       "    </tr>\n",
       "    <tr>\n",
       "      <th>587</th>\n",
       "      <td>0.179400</td>\n",
       "      <td>0.059977</td>\n",
       "      <td>2.991150</td>\n",
       "      <td>595</td>\n",
       "      <td>Beauty and the Beast (1991)</td>\n",
       "      <td>Animation|Children|Fantasy|Musical|Romance|IMAX</td>\n",
       "      <td>Beauty and the Beast 1991</td>\n",
       "    </tr>\n",
       "    <tr>\n",
       "      <th>8246</th>\n",
       "      <td>0.203504</td>\n",
       "      <td>0.068453</td>\n",
       "      <td>2.972889</td>\n",
       "      <td>8961</td>\n",
       "      <td>Incredibles, The (2004)</td>\n",
       "      <td>Action|Adventure|Animation|Children|Comedy</td>\n",
       "      <td>Incredibles The 2004</td>\n",
       "    </tr>\n",
       "    <tr>\n",
       "      <th>359</th>\n",
       "      <td>0.253411</td>\n",
       "      <td>0.085764</td>\n",
       "      <td>2.954762</td>\n",
       "      <td>364</td>\n",
       "      <td>Lion King, The (1994)</td>\n",
       "      <td>Adventure|Animation|Children|Drama|Musical|IMAX</td>\n",
       "      <td>Lion King The 1994</td>\n",
       "    </tr>\n",
       "  </tbody>\n",
       "</table>\n",
       "</div>"
      ],
      "text/plain": [
       "        similar       all     score  movieId                        title  \\\n",
       "0      1.000000  0.124728  8.017414        1             Toy Story (1995)   \n",
       "3021   0.280648  0.053706  5.225654     3114           Toy Story 2 (1999)   \n",
       "2264   0.110539  0.025091  4.405452     2355         Bug's Life, A (1998)   \n",
       "14813  0.152960  0.035131  4.354038    78499           Toy Story 3 (2010)   \n",
       "4780   0.235147  0.070811  3.320783     4886        Monsters, Inc. (2001)   \n",
       "580    0.216618  0.067513  3.208539      588               Aladdin (1992)   \n",
       "6258   0.228139  0.072268  3.156862     6377          Finding Nemo (2003)   \n",
       "587    0.179400  0.059977  2.991150      595  Beauty and the Beast (1991)   \n",
       "8246   0.203504  0.068453  2.972889     8961      Incredibles, The (2004)   \n",
       "359    0.253411  0.085764  2.954762      364        Lion King, The (1994)   \n",
       "\n",
       "                                                 genres  \\\n",
       "0           Adventure|Animation|Children|Comedy|Fantasy   \n",
       "3021        Adventure|Animation|Children|Comedy|Fantasy   \n",
       "2264                Adventure|Animation|Children|Comedy   \n",
       "14813  Adventure|Animation|Children|Comedy|Fantasy|IMAX   \n",
       "4780        Adventure|Animation|Children|Comedy|Fantasy   \n",
       "580         Adventure|Animation|Children|Comedy|Musical   \n",
       "6258                Adventure|Animation|Children|Comedy   \n",
       "587     Animation|Children|Fantasy|Musical|Romance|IMAX   \n",
       "8246         Action|Adventure|Animation|Children|Comedy   \n",
       "359     Adventure|Animation|Children|Drama|Musical|IMAX   \n",
       "\n",
       "                     clean_title  \n",
       "0                 Toy Story 1995  \n",
       "3021            Toy Story 2 1999  \n",
       "2264            Bugs Life A 1998  \n",
       "14813           Toy Story 3 2010  \n",
       "4780           Monsters Inc 2001  \n",
       "580                 Aladdin 1992  \n",
       "6258           Finding Nemo 2003  \n",
       "587    Beauty and the Beast 1991  \n",
       "8246        Incredibles The 2004  \n",
       "359           Lion King The 1994  "
      ]
     },
     "execution_count": 31,
     "metadata": {},
     "output_type": "execute_result"
    }
   ],
   "source": [
    "rec_percentages.head(10).merge(movies, left_index=True, right_on=\"movieId\")"
   ]
  },
  {
   "cell_type": "code",
   "execution_count": null,
   "id": "628a0a39-8062-4a3d-a572-cb966f8b38ef",
   "metadata": {},
   "outputs": [],
   "source": [
    "# Tworzenie ogólnej funkcji"
   ]
  },
  {
   "cell_type": "code",
   "execution_count": 32,
   "id": "72f9c2bd-1766-4f12-bcde-a1698bdfdb2f",
   "metadata": {},
   "outputs": [],
   "source": [
    "def find_similar_movies(movie_id):\n",
    "    similar_users = ratings[(ratings[\"movieId\"] == movie_id) & (ratings[\"rating\"] > 4)][\"userId\"].unique()\n",
    "    similar_user_recs = ratings[(ratings[\"userId\"].isin(similar_users)) & (ratings[\"rating\"] > 4)][\"movieId\"]\n",
    "    similar_user_recs = similar_user_recs.value_counts() / len(similar_users)\n",
    "\n",
    "    similar_user_recs = similar_user_recs[similar_user_recs > .10]\n",
    "    all_users = ratings[(ratings[\"movieId\"].isin(similar_user_recs.index)) & (ratings[\"rating\"] > 4)]\n",
    "    all_user_recs = all_users[\"movieId\"].value_counts() / len(all_users[\"userId\"].unique())\n",
    "    rec_percentages = pd.concat([similar_user_recs, all_user_recs], axis=1)\n",
    "    rec_percentages.columns = [\"similar\", \"all\"]\n",
    "    \n",
    "    rec_percentages[\"score\"] = rec_percentages[\"similar\"] / rec_percentages[\"all\"]\n",
    "    rec_percentages = rec_percentages.sort_values(\"score\", ascending=False)\n",
    "    return rec_percentages.head(10).merge(movies, left_index=True, right_on=\"movieId\")[[\"score\", \"title\", \"genres\"]]"
   ]
  },
  {
   "cell_type": "code",
   "execution_count": null,
   "id": "a4dcee11-f0cd-46fe-a94c-a4ae1d369503",
   "metadata": {},
   "outputs": [],
   "source": []
  },
  {
   "cell_type": "code",
   "execution_count": 77,
   "id": "398a159d-e290-4ad8-8b5d-67c81afb7fc6",
   "metadata": {},
   "outputs": [
    {
     "data": {
      "application/vnd.jupyter.widget-view+json": {
       "model_id": "4bd084f14ce34a8cb67a311e11d05430",
       "version_major": 2,
       "version_minor": 0
      },
      "text/plain": [
       "Text(value='Toy Story', description='Movie Title:')"
      ]
     },
     "metadata": {},
     "output_type": "display_data"
    },
    {
     "data": {
      "application/vnd.jupyter.widget-view+json": {
       "model_id": "865d385062cd4044af98a51515f13b82",
       "version_major": 2,
       "version_minor": 0
      },
      "text/plain": [
       "Output()"
      ]
     },
     "metadata": {},
     "output_type": "display_data"
    }
   ],
   "source": [
    "movie_name_input = widgets.Text(\n",
    "    value='Toy Story',\n",
    "    description='Movie Title:',\n",
    "    disabled=False\n",
    ")\n",
    "recommendation_list = widgets.Output()\n",
    "\n",
    "def on_type(data):\n",
    "    with recommendation_list:\n",
    "        recommendation_list.clear_output()\n",
    "        title = data[\"new\"]\n",
    "        if len(title) > 4:\n",
    "            results = search(title)\n",
    "            movie_id = results.iloc[0][\"movieId\"]\n",
    "            display(find_similar_movies(movie_id))\n",
    "\n",
    "movie_name_input.observe(on_type, names='value')\n",
    "\n",
    "display(movie_name_input, recommendation_list)"
   ]
  },
  {
   "cell_type": "code",
   "execution_count": null,
   "id": "e4a20375-8a8c-400d-a795-13d4e8156150",
   "metadata": {},
   "outputs": [],
   "source": []
  }
 ],
 "metadata": {
  "kernelspec": {
   "display_name": "Python 3.9 (tensorflow)",
   "language": "python",
   "name": "tensorflow"
  },
  "language_info": {
   "codemirror_mode": {
    "name": "ipython",
    "version": 3
   },
   "file_extension": ".py",
   "mimetype": "text/x-python",
   "name": "python",
   "nbconvert_exporter": "python",
   "pygments_lexer": "ipython3",
   "version": "3.9.15"
  }
 },
 "nbformat": 4,
 "nbformat_minor": 5
}
