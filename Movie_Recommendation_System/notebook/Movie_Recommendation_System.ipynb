{
 "cells": [
  {
   "cell_type": "markdown",
   "id": "4ea325d7-600c-4205-8cf0-8eb18e858f49",
   "metadata": {},
   "source": [
    "# Movie Recommendation System"
   ]
  },
  {
   "cell_type": "markdown",
   "id": "0c86ae4c-a3a1-4aec-bf66-ca809504e4d4",
   "metadata": {},
   "source": [
    "## Cel projektu"
   ]
  },
  {
   "cell_type": "markdown",
   "id": "263f0df9-a6e7-4382-8d77-8d9f999936fd",
   "metadata": {},
   "source": [
    "- Zbudowanie systemu rekomendacji filmów na podstawie ocen użytkowników.\n",
    "- Wykorzystanie SQL do analizy danych i Python do implementacji modelu rekomendacji."
   ]
  },
  {
   "cell_type": "markdown",
   "id": "06dddba5-56b1-47e2-af1b-cb4865614ec5",
   "metadata": {},
   "source": [
    "## Wczytywanie danych"
   ]
  },
  {
   "cell_type": "code",
   "execution_count": 36,
   "id": "9f54bc0a-dc84-4228-ad7b-ebde07849aff",
   "metadata": {},
   "outputs": [],
   "source": [
    "import pandas as pd\n",
    "import numpy as np\n",
    "from sqlalchemy import create_engine\n",
    "import seaborn as sns\n",
    "import matplotlib.pyplot as plt"
   ]
  },
  {
   "cell_type": "code",
   "execution_count": 38,
   "id": "a2f9c96a-b429-4d9b-a240-2bc237f06188",
   "metadata": {},
   "outputs": [],
   "source": [
    "movies_metadata = pd.read_csv(\"../input/movies_metadata.csv\", low_memory=False) # wyłaczenie trybu oszczedzania pamięci\n",
    "credits = pd.read_csv(\"../input/credits.csv\")\n",
    "keywords = pd.read_csv(\"../input/keywords.csv\")\n",
    "links = pd.read_csv(\"../input/links.csv\")\n",
    "links_small = pd.read_csv(\"../input/links_small.csv\")\n",
    "ratings = pd.read_csv(\"../input/ratings.csv\")\n",
    "ratings_small = pd.read_csv(\"../input/ratings_small.csv\")"
   ]
  },
  {
   "cell_type": "markdown",
   "id": "27068639-36a4-49d6-ac63-379f3db82f22",
   "metadata": {},
   "source": [
    "### Analiza struktury danych"
   ]
  },
  {
   "cell_type": "markdown",
   "id": "9c622846-30cf-4553-966e-a5997299012a",
   "metadata": {},
   "source": [
    "- movies_metadata.csv  zawiera informacje o filmach takie jak tytuł, data, premiery, budżet itp.\n",
    "- credits.csv  zawiera informacje o obsadzie i ekipie filmowej\n",
    "- ratings.csv  zawiera oceny filmów wystawione przez użytkowników\n",
    "- keywords.csv  zawiera słowa kluczowe\n",
    "- links.csv  zawiera identyfikatory filmów w róznych bazach danych  (np. IMDb, TMDb)"
   ]
  },
  {
   "cell_type": "markdown",
   "id": "347a3f24-63db-40a6-be35-8359f6b544ad",
   "metadata": {},
   "source": [
    "Format JSON który zastoswałem podczas tworzenia tabeli jest nie poprawny poniewaz w standardach JSON używany jest  podwójny cudzysłów a użyty jest pojedynczy cudzysłów.\n",
    "\n"
   ]
  },
  {
   "cell_type": "code",
   "execution_count": 42,
   "id": "1d4f6075-a3b3-492b-beed-b453e9554663",
   "metadata": {},
   "outputs": [],
   "source": [
    "def fix_json_format(value):\n",
    "    if isinstance(value,str):\n",
    "        value = value.replace(\"'\",'\"')\n",
    "    return value\n",
    "\n",
    "movies_metadata_json = movies_metadata.map(fix_json_format)\n",
    "credits_json = credits.map(fix_json_format)\n",
    "keywords_json = keywords.map(fix_json_format)\n",
    "links_json = links.map(fix_json_format)\n",
    "links_small_json = links_small.map(fix_json_format)\n",
    "ratings_json = ratings.map(fix_json_format)\n",
    "ratings_small_json = ratings_small.map(fix_json_format)\n"
   ]
  },
  {
   "cell_type": "code",
   "execution_count": 43,
   "id": "62e77a4b-ea2a-4b68-9c2d-f4272371eb91",
   "metadata": {},
   "outputs": [],
   "source": [
    "movies_metadata_json.to_csv(\"../input/movies_metadata_json.csv\", index=False)\n",
    "credits_json.to_csv(\"../input/credits_json.csv\", index=False)\n",
    "keywords_json.to_csv(\"../input/keywords_json.csv\", index=False)\n",
    "links_json.to_csv(\"../input/links_json.csv\", index=False)\n",
    "links_small_json.to_csv(\"../input/links_small_json.csv\", index=False)\n",
    "ratings_json.to_csv(\"../input/ratings_json.csv\", index=False)\n",
    "ratings_small_json.to_csv(\"../input/ratings_small_json.csv\", index=False)"
   ]
  },
  {
   "cell_type": "code",
   "execution_count": 44,
   "id": "c1204491-8c30-46f9-ace9-81269bfa9020",
   "metadata": {},
   "outputs": [],
   "source": [
    "movies_metadata_json = pd.read_csv(\"../input/movies_metadata_json.csv\", low_memory=False) # wyłaczenie trybu oszczedzania pamięci\n",
    "credits_json = pd.read_csv(\"../input/credits_json.csv\")\n",
    "keywords_json = pd.read_csv(\"../input/keywords_json.csv\")\n",
    "links_json = pd.read_csv(\"../input/links_json.csv\")\n",
    "links_small_json = pd.read_csv(\"../input/links_small_json.csv\")\n",
    "ratings_json = pd.read_csv(\"../input/ratings_json.csv\")\n",
    "ratings_small_json = pd.read_csv(\"../input/ratings_small_json.csv\")"
   ]
  },
  {
   "cell_type": "code",
   "execution_count": null,
   "id": "06fc189c-7979-492d-b314-6a126c69ecd9",
   "metadata": {},
   "outputs": [],
   "source": []
  },
  {
   "cell_type": "code",
   "execution_count": null,
   "id": "9ac27778-ce42-4844-ab6f-4f7e485dfc48",
   "metadata": {},
   "outputs": [],
   "source": []
  },
  {
   "cell_type": "markdown",
   "id": "23470461-77c2-4faa-9df0-540f4a3fb533",
   "metadata": {},
   "source": [
    "#### movies_metadata"
   ]
  },
  {
   "cell_type": "code",
   "execution_count": 46,
   "id": "65667db0-fbd7-4274-aa2c-3e39f50b959c",
   "metadata": {},
   "outputs": [
    {
     "data": {
      "text/plain": [
       "adult                                                                False\n",
       "belongs_to_collection    {\"id\": 10194, \"name\": \"Toy Story Collection\", ...\n",
       "budget                                                            30000000\n",
       "genres                   [{\"id\": 16, \"name\": \"Animation\"}, {\"id\": 35, \"...\n",
       "homepage                              http://toystory.disney.com/toy-story\n",
       "id                                                                     862\n",
       "imdb_id                                                          tt0114709\n",
       "original_language                                                       en\n",
       "original_title                                                   Toy Story\n",
       "overview                 Led by Woody, Andy\"s toys live happily in his ...\n",
       "popularity                                                       21.946943\n",
       "poster_path                               /rhIRbceoE9lR4veEXuwCC2wARtG.jpg\n",
       "production_companies        [{\"name\": \"Pixar Animation Studios\", \"id\": 3}]\n",
       "production_countries     [{\"iso_3166_1\": \"US\", \"name\": \"United States o...\n",
       "release_date                                                    1995-10-30\n",
       "revenue                                                        373554033.0\n",
       "runtime                                                               81.0\n",
       "spoken_languages                  [{\"iso_639_1\": \"en\", \"name\": \"English\"}]\n",
       "status                                                            Released\n",
       "tagline                                                                NaN\n",
       "title                                                            Toy Story\n",
       "video                                                                False\n",
       "vote_average                                                           7.7\n",
       "vote_count                                                          5415.0\n",
       "Name: 0, dtype: object"
      ]
     },
     "execution_count": 46,
     "metadata": {},
     "output_type": "execute_result"
    }
   ],
   "source": [
    "pd.set_option('display.max_columns',None)\n",
    "pd.set_option('display.max_rows',None)\n",
    "\n",
    "movies_metadata_json.iloc[0]"
   ]
  },
  {
   "cell_type": "code",
   "execution_count": 4,
   "id": "da93da38-4f82-4337-896a-e78a055efc81",
   "metadata": {},
   "outputs": [
    {
     "data": {
      "text/plain": [
       "Index(['adult', 'belongs_to_collection', 'budget', 'genres', 'homepage', 'id',\n",
       "       'imdb_id', 'original_language', 'original_title', 'overview',\n",
       "       'popularity', 'poster_path', 'production_companies',\n",
       "       'production_countries', 'release_date', 'revenue', 'runtime',\n",
       "       'spoken_languages', 'status', 'tagline', 'title', 'video',\n",
       "       'vote_average', 'vote_count'],\n",
       "      dtype='object')"
      ]
     },
     "execution_count": 4,
     "metadata": {},
     "output_type": "execute_result"
    }
   ],
   "source": [
    "movies_metadata.columns"
   ]
  },
  {
   "cell_type": "markdown",
   "id": "6d83d0b1-cf67-4e51-a99b-4cd13a716166",
   "metadata": {},
   "source": [
    "-- Tabela: movies_metadata\n",
    "\n",
    "CREATE TABLE movies_metadata (\n",
    "adult BOOLEAN,\n",
    "belongs_to_collection JSON, \n",
    "budget BIGINT, \n",
    "genres JSON, \n",
    "homepage TEXT, \n",
    "id INTEGER PRIMARY KEY,\n",
    "imdb_id VARCHAR(20), \n",
    "original_language VARCHAR(10), \n",
    "original_title TEXT, \n",
    "overviewt TEXT,\n",
    "popularity FLOAT, \n",
    "poster_path BINARY, \n",
    "production_companies JSON,\n",
    "production_countries JSON, \n",
    "release_date DATE, \n",
    "revenue BIGINT, \n",
    "runtime FLOAT,\n",
    "spoken_languages JSON, \n",
    "status VARCHAR(20), \n",
    "tagline TEXT, \n",
    "title TEXT, \n",
    "video BOOLEAN,\n",
    "vote_average FLOAT, \n",
    "vote_count INTEGER\n",
    ");"
   ]
  },
  {
   "cell_type": "markdown",
   "id": "6095d440-047f-466c-9945-21017829a76d",
   "metadata": {
    "jp-MarkdownHeadingCollapsed": true
   },
   "source": [
    "#### credits"
   ]
  },
  {
   "cell_type": "code",
   "execution_count": 5,
   "id": "a3dbbd0c-396d-4730-a66f-42c5adf0869a",
   "metadata": {},
   "outputs": [
    {
     "data": {
      "text/html": [
       "<div>\n",
       "<style scoped>\n",
       "    .dataframe tbody tr th:only-of-type {\n",
       "        vertical-align: middle;\n",
       "    }\n",
       "\n",
       "    .dataframe tbody tr th {\n",
       "        vertical-align: top;\n",
       "    }\n",
       "\n",
       "    .dataframe thead th {\n",
       "        text-align: right;\n",
       "    }\n",
       "</style>\n",
       "<table border=\"1\" class=\"dataframe\">\n",
       "  <thead>\n",
       "    <tr style=\"text-align: right;\">\n",
       "      <th></th>\n",
       "      <th>cast</th>\n",
       "      <th>crew</th>\n",
       "      <th>id</th>\n",
       "    </tr>\n",
       "  </thead>\n",
       "  <tbody>\n",
       "    <tr>\n",
       "      <th>6410</th>\n",
       "      <td>[{'cast_id': 1, 'character': \"Danny O'Shea\", '...</td>\n",
       "      <td>[{'credit_id': '52fe43f7c3a368484e0083f3', 'de...</td>\n",
       "      <td>20726</td>\n",
       "    </tr>\n",
       "    <tr>\n",
       "      <th>16482</th>\n",
       "      <td>[{'cast_id': 3, 'character': 'Atsushi', 'credi...</td>\n",
       "      <td>[{'credit_id': '58a6b3d192514174420056d1', 'de...</td>\n",
       "      <td>25051</td>\n",
       "    </tr>\n",
       "    <tr>\n",
       "      <th>10849</th>\n",
       "      <td>[{'cast_id': 1, 'character': 'Leprechaun', 'cr...</td>\n",
       "      <td>[{'credit_id': '52fe47cc9251416c750a5dbf', 'de...</td>\n",
       "      <td>19287</td>\n",
       "    </tr>\n",
       "    <tr>\n",
       "      <th>34199</th>\n",
       "      <td>[{'cast_id': 1, 'character': 'Sgt. Michael Ran...</td>\n",
       "      <td>[{'credit_id': '52fe497b9251416c910aeb2f', 'de...</td>\n",
       "      <td>86251</td>\n",
       "    </tr>\n",
       "    <tr>\n",
       "      <th>8909</th>\n",
       "      <td>[{'cast_id': 6, 'character': 'Ashik Kerib', 'c...</td>\n",
       "      <td>[{'credit_id': '52fe49079251416c750bb4e1', 'de...</td>\n",
       "      <td>92663</td>\n",
       "    </tr>\n",
       "  </tbody>\n",
       "</table>\n",
       "</div>"
      ],
      "text/plain": [
       "                                                    cast  \\\n",
       "6410   [{'cast_id': 1, 'character': \"Danny O'Shea\", '...   \n",
       "16482  [{'cast_id': 3, 'character': 'Atsushi', 'credi...   \n",
       "10849  [{'cast_id': 1, 'character': 'Leprechaun', 'cr...   \n",
       "34199  [{'cast_id': 1, 'character': 'Sgt. Michael Ran...   \n",
       "8909   [{'cast_id': 6, 'character': 'Ashik Kerib', 'c...   \n",
       "\n",
       "                                                    crew     id  \n",
       "6410   [{'credit_id': '52fe43f7c3a368484e0083f3', 'de...  20726  \n",
       "16482  [{'credit_id': '58a6b3d192514174420056d1', 'de...  25051  \n",
       "10849  [{'credit_id': '52fe47cc9251416c750a5dbf', 'de...  19287  \n",
       "34199  [{'credit_id': '52fe497b9251416c910aeb2f', 'de...  86251  \n",
       "8909   [{'credit_id': '52fe49079251416c750bb4e1', 'de...  92663  "
      ]
     },
     "execution_count": 5,
     "metadata": {},
     "output_type": "execute_result"
    }
   ],
   "source": [
    "credits.sample(5)"
   ]
  },
  {
   "cell_type": "code",
   "execution_count": 8,
   "id": "93d12000-16fa-4152-9227-4840d934f52f",
   "metadata": {},
   "outputs": [
    {
     "data": {
      "text/plain": [
       "0"
      ]
     },
     "execution_count": 8,
     "metadata": {},
     "output_type": "execute_result"
    }
   ],
   "source": [
    "credits['crew'].isnull().sum()"
   ]
  },
  {
   "cell_type": "code",
   "execution_count": 238,
   "id": "61382a3c-00df-4a61-afcb-8129f8210b01",
   "metadata": {},
   "outputs": [
    {
     "data": {
      "text/html": [
       "<div>\n",
       "<style scoped>\n",
       "    .dataframe tbody tr th:only-of-type {\n",
       "        vertical-align: middle;\n",
       "    }\n",
       "\n",
       "    .dataframe tbody tr th {\n",
       "        vertical-align: top;\n",
       "    }\n",
       "\n",
       "    .dataframe thead th {\n",
       "        text-align: right;\n",
       "    }\n",
       "</style>\n",
       "<table border=\"1\" class=\"dataframe\">\n",
       "  <thead>\n",
       "    <tr style=\"text-align: right;\">\n",
       "      <th></th>\n",
       "      <th>cast</th>\n",
       "      <th>crew</th>\n",
       "      <th>id</th>\n",
       "    </tr>\n",
       "  </thead>\n",
       "  <tbody>\n",
       "    <tr>\n",
       "      <th>0</th>\n",
       "      <td>[{'cast_id': 14, 'character': 'Woody (voice)',...</td>\n",
       "      <td>[{'credit_id': '52fe4284c3a36847f8024f49', 'de...</td>\n",
       "      <td>862</td>\n",
       "    </tr>\n",
       "    <tr>\n",
       "      <th>1</th>\n",
       "      <td>[{'cast_id': 1, 'character': 'Alan Parrish', '...</td>\n",
       "      <td>[{'credit_id': '52fe44bfc3a36847f80a7cd1', 'de...</td>\n",
       "      <td>8844</td>\n",
       "    </tr>\n",
       "    <tr>\n",
       "      <th>2</th>\n",
       "      <td>[{'cast_id': 2, 'character': 'Max Goldman', 'c...</td>\n",
       "      <td>[{'credit_id': '52fe466a9251416c75077a89', 'de...</td>\n",
       "      <td>15602</td>\n",
       "    </tr>\n",
       "    <tr>\n",
       "      <th>3</th>\n",
       "      <td>[{'cast_id': 1, 'character': \"Savannah 'Vannah...</td>\n",
       "      <td>[{'credit_id': '52fe44779251416c91011acb', 'de...</td>\n",
       "      <td>31357</td>\n",
       "    </tr>\n",
       "    <tr>\n",
       "      <th>4</th>\n",
       "      <td>[{'cast_id': 1, 'character': 'George Banks', '...</td>\n",
       "      <td>[{'credit_id': '52fe44959251416c75039ed7', 'de...</td>\n",
       "      <td>11862</td>\n",
       "    </tr>\n",
       "  </tbody>\n",
       "</table>\n",
       "</div>"
      ],
      "text/plain": [
       "                                                cast  \\\n",
       "0  [{'cast_id': 14, 'character': 'Woody (voice)',...   \n",
       "1  [{'cast_id': 1, 'character': 'Alan Parrish', '...   \n",
       "2  [{'cast_id': 2, 'character': 'Max Goldman', 'c...   \n",
       "3  [{'cast_id': 1, 'character': \"Savannah 'Vannah...   \n",
       "4  [{'cast_id': 1, 'character': 'George Banks', '...   \n",
       "\n",
       "                                                crew     id  \n",
       "0  [{'credit_id': '52fe4284c3a36847f8024f49', 'de...    862  \n",
       "1  [{'credit_id': '52fe44bfc3a36847f80a7cd1', 'de...   8844  \n",
       "2  [{'credit_id': '52fe466a9251416c75077a89', 'de...  15602  \n",
       "3  [{'credit_id': '52fe44779251416c91011acb', 'de...  31357  \n",
       "4  [{'credit_id': '52fe44959251416c75039ed7', 'de...  11862  "
      ]
     },
     "metadata": {},
     "output_type": "display_data"
    }
   ],
   "source": [
    "display(credits.head())"
   ]
  },
  {
   "cell_type": "code",
   "execution_count": 38,
   "id": "e07fdabf-b7a5-404b-84df-033a831cad28",
   "metadata": {},
   "outputs": [
    {
     "data": {
      "text/plain": [
       "Index(['cast', 'crew', 'id'], dtype='object')"
      ]
     },
     "execution_count": 38,
     "metadata": {},
     "output_type": "execute_result"
    }
   ],
   "source": [
    "credits.columns"
   ]
  },
  {
   "cell_type": "markdown",
   "id": "bd6fece3-c4fe-4332-a39a-05a45fef5774",
   "metadata": {},
   "source": [
    "-- Tabela: credits\n",
    "CREATE TABLE credits (\n",
    "cast JSON, \n",
    "crew JSON, \n",
    "FOREIGN KEY (id) REFERENCES movies_metadata(id)\n",
    ")"
   ]
  },
  {
   "cell_type": "markdown",
   "id": "2723e6bf-f900-4526-b69c-0825747f7056",
   "metadata": {},
   "source": [
    "#### keywords"
   ]
  },
  {
   "cell_type": "code",
   "execution_count": 60,
   "id": "32645c1b-3b56-4864-afed-04692a34c3f7",
   "metadata": {},
   "outputs": [
    {
     "data": {
      "text/html": [
       "<div>\n",
       "<style scoped>\n",
       "    .dataframe tbody tr th:only-of-type {\n",
       "        vertical-align: middle;\n",
       "    }\n",
       "\n",
       "    .dataframe tbody tr th {\n",
       "        vertical-align: top;\n",
       "    }\n",
       "\n",
       "    .dataframe thead th {\n",
       "        text-align: right;\n",
       "    }\n",
       "</style>\n",
       "<table border=\"1\" class=\"dataframe\">\n",
       "  <thead>\n",
       "    <tr style=\"text-align: right;\">\n",
       "      <th></th>\n",
       "      <th>id</th>\n",
       "      <th>keywords</th>\n",
       "    </tr>\n",
       "  </thead>\n",
       "  <tbody>\n",
       "    <tr>\n",
       "      <th>26456</th>\n",
       "      <td>35986</td>\n",
       "      <td>[{'id': 10291, 'name': 'organized crime'}, {'i...</td>\n",
       "    </tr>\n",
       "  </tbody>\n",
       "</table>\n",
       "</div>"
      ],
      "text/plain": [
       "          id                                           keywords\n",
       "26456  35986  [{'id': 10291, 'name': 'organized crime'}, {'i..."
      ]
     },
     "execution_count": 60,
     "metadata": {},
     "output_type": "execute_result"
    }
   ],
   "source": [
    "keywords.sample()"
   ]
  },
  {
   "cell_type": "code",
   "execution_count": 63,
   "id": "930872a4-f95e-49c4-a2bf-45880da26492",
   "metadata": {},
   "outputs": [
    {
     "data": {
      "text/plain": [
       "Index(['id', 'keywords'], dtype='object')"
      ]
     },
     "execution_count": 63,
     "metadata": {},
     "output_type": "execute_result"
    }
   ],
   "source": [
    "keywords.columns"
   ]
  },
  {
   "cell_type": "markdown",
   "id": "82dd0c83-cdbd-4eae-b85b-7a4902d0052f",
   "metadata": {},
   "source": [
    "-- Tabela: keywords\n",
    "CREATE TABLE keywords (\n",
    "FOREIGN KEY (id) REFERENCES movies_metadata(id)\n",
    "keywords JSON\n",
    ")"
   ]
  },
  {
   "cell_type": "markdown",
   "id": "391b0fd2-00ee-45e4-83c9-3ef8d00373b7",
   "metadata": {},
   "source": [
    "#### links"
   ]
  },
  {
   "cell_type": "code",
   "execution_count": 236,
   "id": "74a5af57-a609-480f-9b1b-088d483786f8",
   "metadata": {},
   "outputs": [
    {
     "data": {
      "text/html": [
       "<div>\n",
       "<style scoped>\n",
       "    .dataframe tbody tr th:only-of-type {\n",
       "        vertical-align: middle;\n",
       "    }\n",
       "\n",
       "    .dataframe tbody tr th {\n",
       "        vertical-align: top;\n",
       "    }\n",
       "\n",
       "    .dataframe thead th {\n",
       "        text-align: right;\n",
       "    }\n",
       "</style>\n",
       "<table border=\"1\" class=\"dataframe\">\n",
       "  <thead>\n",
       "    <tr style=\"text-align: right;\">\n",
       "      <th></th>\n",
       "      <th>movieId</th>\n",
       "      <th>imdbId</th>\n",
       "      <th>tmdbId</th>\n",
       "    </tr>\n",
       "  </thead>\n",
       "  <tbody>\n",
       "    <tr>\n",
       "      <th>31774</th>\n",
       "      <td>138120</td>\n",
       "      <td>1457759</td>\n",
       "      <td>297173.0</td>\n",
       "    </tr>\n",
       "  </tbody>\n",
       "</table>\n",
       "</div>"
      ],
      "text/plain": [
       "       movieId   imdbId    tmdbId\n",
       "31774   138120  1457759  297173.0"
      ]
     },
     "execution_count": 236,
     "metadata": {},
     "output_type": "execute_result"
    }
   ],
   "source": [
    "links.sample()"
   ]
  },
  {
   "cell_type": "code",
   "execution_count": 70,
   "id": "54d3c991-094e-4230-a062-32f55671df37",
   "metadata": {},
   "outputs": [
    {
     "data": {
      "text/plain": [
       "Index(['movieId', 'imdbId', 'tmdbId'], dtype='object')"
      ]
     },
     "execution_count": 70,
     "metadata": {},
     "output_type": "execute_result"
    }
   ],
   "source": [
    "links.columns"
   ]
  },
  {
   "cell_type": "markdown",
   "id": "8d737c57-ef69-4d6e-9348-bd18b12b5bc5",
   "metadata": {},
   "source": [
    "#### ratings"
   ]
  },
  {
   "cell_type": "code",
   "execution_count": 68,
   "id": "76fbdd9d-e985-4787-95e9-da6e5f5ffcea",
   "metadata": {},
   "outputs": [
    {
     "data": {
      "text/html": [
       "<div>\n",
       "<style scoped>\n",
       "    .dataframe tbody tr th:only-of-type {\n",
       "        vertical-align: middle;\n",
       "    }\n",
       "\n",
       "    .dataframe tbody tr th {\n",
       "        vertical-align: top;\n",
       "    }\n",
       "\n",
       "    .dataframe thead th {\n",
       "        text-align: right;\n",
       "    }\n",
       "</style>\n",
       "<table border=\"1\" class=\"dataframe\">\n",
       "  <thead>\n",
       "    <tr style=\"text-align: right;\">\n",
       "      <th></th>\n",
       "      <th>userId</th>\n",
       "      <th>movieId</th>\n",
       "      <th>rating</th>\n",
       "      <th>timestamp</th>\n",
       "    </tr>\n",
       "  </thead>\n",
       "  <tbody>\n",
       "    <tr>\n",
       "      <th>7911066</th>\n",
       "      <td>81533</td>\n",
       "      <td>4446</td>\n",
       "      <td>2.0</td>\n",
       "      <td>1073359461</td>\n",
       "    </tr>\n",
       "  </tbody>\n",
       "</table>\n",
       "</div>"
      ],
      "text/plain": [
       "         userId  movieId  rating   timestamp\n",
       "7911066   81533     4446     2.0  1073359461"
      ]
     },
     "execution_count": 68,
     "metadata": {},
     "output_type": "execute_result"
    }
   ],
   "source": [
    "ratings.sample()"
   ]
  },
  {
   "cell_type": "code",
   "execution_count": 72,
   "id": "e2d1f1f8-6655-44db-aa8c-b0e26b005b62",
   "metadata": {},
   "outputs": [
    {
     "data": {
      "text/plain": [
       "Index(['userId', 'movieId', 'rating', 'timestamp'], dtype='object')"
      ]
     },
     "execution_count": 72,
     "metadata": {},
     "output_type": "execute_result"
    }
   ],
   "source": [
    "ratings.columns"
   ]
  },
  {
   "cell_type": "code",
   "execution_count": null,
   "id": "5c052529-3d89-4be5-a983-c2d7298ec48d",
   "metadata": {},
   "outputs": [],
   "source": []
  }
 ],
 "metadata": {
  "kernelspec": {
   "display_name": "Python 3.9 (tensorflow)",
   "language": "python",
   "name": "tensorflow"
  },
  "language_info": {
   "codemirror_mode": {
    "name": "ipython",
    "version": 3
   },
   "file_extension": ".py",
   "mimetype": "text/x-python",
   "name": "python",
   "nbconvert_exporter": "python",
   "pygments_lexer": "ipython3",
   "version": "3.9.15"
  }
 },
 "nbformat": 4,
 "nbformat_minor": 5
}
